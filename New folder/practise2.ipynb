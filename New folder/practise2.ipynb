{
 "cells": [
  {
   "cell_type": "code",
   "execution_count": null,
   "metadata": {},
   "outputs": [],
   "source": [
    "#practise\n",
    "#l*b\n",
    "l=int(input(\"ente lenght\"))\n",
    "b=int(input(\"ente lenght\"))\n",
    "n=0\n",
    "if  l==b:\n",
    "    print(\"equal\")\n",
    "else:\n",
    "    print(\"not equal\")\n"
   ]
  },
  {
   "cell_type": "code",
   "execution_count": null,
   "metadata": {},
   "outputs": [],
   "source": [
    "val=int(input(\"ente l::\"))\n",
    "val2=int(input(\"ente 2::\"))\n",
    "if val > val2:\n",
    "    print(\"greater no is one\")\n",
    "else:\n",
    "    print(\"greater no is two\")"
   ]
  },
  {
   "cell_type": "code",
   "execution_count": null,
   "metadata": {},
   "outputs": [],
   "source": [
    "qun=int(input(\"enter qun\"))\n",
    "if que*100>1000:\n",
    "    print()"
   ]
  },
  {
   "cell_type": "code",
   "execution_count": null,
   "metadata": {},
   "outputs": [],
   "source": [
    "user=int(input(\"ente marks\"))\n",
    "if user < 25:\n",
    "    print(\"grade f\")\n",
    "elif user<=25 and user >45 :\n",
    "     print(\"grade e\")\n",
    "elif user<=45 and user >50 :\n",
    "    print(\"grade d \")\n",
    "elif user<=50 and user >55 :\n",
    "     print(\"grade d \")\n",
    "elif user<=60and user >90 :\n",
    "    print(\"grade d \")\n",
    "else:\n",
    "     print(\"pass a\")\n"
   ]
  },
  {
   "cell_type": "code",
   "execution_count": null,
   "metadata": {},
   "outputs": [],
   "source": [
    "clas=int(input(\"enter class\"))\n",
    "att=int(input(\"enter attendce\"))\n",
    "marks=(clas/att)*100\n",
    "if marks >=75:\n",
    "    print(\"allowed\")\n",
    "else:\n",
    "    print(\"not allowed\")"
   ]
  },
  {
   "cell_type": "code",
   "execution_count": null,
   "metadata": {},
   "outputs": [],
   "source": [
    "clas=int(input(\"enter class\"))\n",
    "att=int(input(\"enter attendce\"))\n",
    "marks=(clas/att)*100\n",
    "medical=0\n",
    "if medical == 'have':\n",
    "     print(\"allowed\")\n",
    "else:\n",
    "    if marks >=75:\n",
    "        print(\"allowed\")\n",
    "    else:\n",
    "        print(\"not allowed\")"
   ]
  },
  {
   "cell_type": "code",
   "execution_count": null,
   "metadata": {},
   "outputs": [],
   "source": [
    "num=int(input(\"enter no\"))\n",
    "num1=int(input(\"enter no\"))\n",
    "num2=int(input(\"enter no\"))\n",
    " if  num > num:\n",
    "    num == num2  == num3:\n",
    "          print(enter eual\")\n",
    "elif num > num2  and num2 >num3:\n",
    "        print(\" lowergrater \")\n",
    "elif  num <num2 and num2 < num3:\n",
    "        print(\"no lower\")\n",
    "else:\n",
    "     print(\"no\")"
   ]
  },
  {
   "cell_type": "code",
   "execution_count": null,
   "metadata": {},
   "outputs": [],
   "source": [
    " a=\"hello world\"\n",
    "count=0\n",
    "for i in range(len(a)):\n",
    "    if i=='h':\n",
    "        count=count +1\n",
    "        print(count)\n",
    "    \n",
    "    "
   ]
  },
  {
   "cell_type": "code",
   "execution_count": null,
   "metadata": {},
   "outputs": [],
   "source": [
    "year=int(input(\"enter year\"))\n",
    "if year%4==0  and year%100==0 or year%400==0 :\n",
    "     print(\"leap year\") \n",
    "else:\n",
    "    print(\" notleap year\")\n"
   ]
  },
  {
   "cell_type": "code",
   "execution_count": null,
   "metadata": {},
   "outputs": [],
   "source": [
    "age=int(input(\"enter age::\"))\n",
    "sex=input(\"enter year male or female::\")\n",
    "if sex == \"male \" and age>=20  and age>=40:\n",
    "    print (\"work anywherer\")\n",
    "elif  sex == \"male \" and age>=40  and age>=60:\n",
    "     print(\" urban area\")\n",
    "elif sex == \"female\" and age>=20  and age<=60:\n",
    "      print(\"urban area only\")\n",
    "else:\n",
    "    \n",
    "    print('error')"
   ]
  },
  {
   "cell_type": "code",
   "execution_count": null,
   "metadata": {},
   "outputs": [],
   "source": [
    "ch=\"twinkle\"\n",
    "for i in ch:\n",
    "    print(i)\n"
   ]
  },
  {
   "cell_type": "code",
   "execution_count": null,
   "metadata": {},
   "outputs": [],
   "source": [
    "ch=\"twinkle\"\n",
    "count=0\n",
    "for i in ch:\n",
    "    count=count+1\n",
    "print(count)\n"
   ]
  },
  {
   "cell_type": "code",
   "execution_count": null,
   "metadata": {},
   "outputs": [],
   "source": [
    "\n",
    "print (\"r\" in\"tenu\") "
   ]
  },
  {
   "cell_type": "code",
   "execution_count": null,
   "metadata": {},
   "outputs": [],
   "source": [
    "ch=\"hello world\"\n",
    "count=0\n",
    "for i in ch:\n",
    "    count=count+1\n",
    "print(count)\n"
   ]
  },
  {
   "cell_type": "code",
   "execution_count": null,
   "metadata": {},
   "outputs": [],
   "source": [
    "a=\"hello world\"\n",
    "dict={}\n",
    "for i in a:\n",
    "    if i in dict:\n",
    "     dict[i]+=1\n",
    "    else:\n",
    "      dict[i]=1\n",
    "    print(\"a in '{}' is\\n {}\".format(a,str(dict)))"
   ]
  },
  {
   "cell_type": "code",
   "execution_count": null,
   "metadata": {},
   "outputs": [],
   "source": [
    "a=\"hello world tinu\"\n",
    "b=a[0]+\".\"+a[6]+\".\"+a[12:16]\n",
    "print(b)"
   ]
  },
  {
   "cell_type": "code",
   "execution_count": 20,
   "metadata": {},
   "outputs": [
    {
     "name": "stdout",
     "output_type": "stream",
     "text": [
      "l\n",
      "1\n",
      "l\n",
      "2\n",
      "l\n",
      "3\n"
     ]
    }
   ],
   "source": [
    "a=\"hello world tinu\"\n",
    "count=0\n",
    "for i in a:\n",
    "    if i =='l':\n",
    "        count=count+1\n",
    "        print(i)\n",
    "        print(str(count))"
   ]
  },
  {
   "cell_type": "code",
   "execution_count": null,
   "metadata": {},
   "outputs": [],
   "source": []
  },
  {
   "cell_type": "code",
   "execution_count": 22,
   "metadata": {},
   "outputs": [
    {
     "name": "stdout",
     "output_type": "stream",
     "text": [
      "thip is umberlla\n"
     ]
    }
   ],
   "source": [
    "old=\"this is umberlla\"\n",
    "nlist=list(old)\n",
    "nlist[3]=\"p\"\n",
    "pp=\"\".join(nlist)\n",
    "print(pp)"
   ]
  },
  {
   "cell_type": "code",
   "execution_count": 1,
   "metadata": {},
   "outputs": [
    {
     "ename": "SyntaxError",
     "evalue": "invalid syntax (<ipython-input-1-1333a6650a78>, line 5)",
     "output_type": "error",
     "traceback": [
      "\u001b[1;36m  File \u001b[1;32m\"<ipython-input-1-1333a6650a78>\"\u001b[1;36m, line \u001b[1;32m5\u001b[0m\n\u001b[1;33m    b=\u001b[0m\n\u001b[1;37m      ^\u001b[0m\n\u001b[1;31mSyntaxError\u001b[0m\u001b[1;31m:\u001b[0m invalid syntax\n"
     ]
    }
   ],
   "source": [
    "o={\"a\",\"i\",\"e\",\"o\",\"u\"}\n",
    "b=\"latta aditya panchpuri\"\n",
    "for i in b:\n",
    "    if i not in a:\n",
    "        b=\n",
    "        print(b)"
   ]
  },
  {
   "cell_type": "code",
   "execution_count": null,
   "metadata": {},
   "outputs": [],
   "source": []
  }
 ],
 "metadata": {
  "kernelspec": {
   "display_name": "Python 3",
   "language": "python",
   "name": "python3"
  },
  "language_info": {
   "codemirror_mode": {
    "name": "ipython",
    "version": 3
   },
   "file_extension": ".py",
   "mimetype": "text/x-python",
   "name": "python",
   "nbconvert_exporter": "python",
   "pygments_lexer": "ipython3",
   "version": "3.8.5"
  }
 },
 "nbformat": 4,
 "nbformat_minor": 4
}
