{
 "cells": [
  {
   "cell_type": "code",
   "execution_count": 4,
   "metadata": {},
   "outputs": [
    {
     "data": {
      "text/plain": [
       "True"
      ]
     },
     "execution_count": 4,
     "metadata": {},
     "output_type": "execute_result"
    }
   ],
   "source": [
    "#1. Check if a list contains an element\n",
    "li = [1,2,3,'a','b','c']\n",
    "'m' in li"
   ]
  },
  {
   "cell_type": "code",
   "execution_count": 7,
   "metadata": {},
   "outputs": [
    {
     "name": "stdout",
     "output_type": "stream",
     "text": [
      "Snowball the Cat is 1\n",
      "Chewy the Dog is 2\n",
      "Bubbles the Fish is 2\n",
      "Gruff the Goat is 6\n"
     ]
    }
   ],
   "source": [
    "#2. How to iterate over 2+ lists at the same time\n",
    "name = ['Snowball', 'Chewy', 'Bubbles', 'Gruff']\n",
    "animal = ['Cat', 'Dog', 'Fish', 'Goat']\n",
    "age = [1, 2, 2, 6]\n",
    "z = zip(name, animal, age)\n",
    "for name,animal,age in z:\n",
    "    print(\"%s the %s is %s\" % (name, animal, age))"
   ]
  },
  {
   "cell_type": "code",
   "execution_count": null,
   "metadata": {},
   "outputs": [],
   "source": []
  },
  {
   "cell_type": "code",
   "execution_count": null,
   "metadata": {},
   "outputs": [],
   "source": []
  },
  {
   "cell_type": "code",
   "execution_count": null,
   "metadata": {},
   "outputs": [],
   "source": []
  },
  {
   "cell_type": "code",
   "execution_count": 60,
   "metadata": {},
   "outputs": [
    {
     "name": "stdout",
     "output_type": "stream",
     "text": [
      "['w', 'x', 'z']\n"
     ]
    }
   ],
   "source": [
    "#8. What does “del” do?\n",
    "a = ['w', 'x', 'y', 'z']\n",
    "del a[2]\n",
    "print(a)"
   ]
  },
  {
   "cell_type": "code",
   "execution_count": 55,
   "metadata": {},
   "outputs": [
    {
     "data": {
      "text/plain": [
       "'b'"
      ]
     },
     "execution_count": 55,
     "metadata": {},
     "output_type": "execute_result"
    }
   ],
   "source": [
    "#9 What is the difference between “remove” and “pop”?\n",
    "a = ['a', 'a', 'b', 'b', 'c', 'c']\n",
    "a.pop(2)"
   ]
  },
  {
   "cell_type": "code",
   "execution_count": 51,
   "metadata": {},
   "outputs": [
    {
     "name": "stdout",
     "output_type": "stream",
     "text": [
      "['a', 'a', 'b', 'c', 'c']\n"
     ]
    }
   ],
   "source": [
    "#9 What is the difference between “remove” and “pop”?\n",
    "a = ['a', 'a', 'b', 'b', 'c', 'c']\n",
    "a.remove('b')\n",
    "print(a)"
   ]
  },
  {
   "cell_type": "code",
   "execution_count": 49,
   "metadata": {},
   "outputs": [
    {
     "data": {
      "text/plain": [
       "[1, 2, 3]"
      ]
     },
     "execution_count": 49,
     "metadata": {},
     "output_type": "execute_result"
    }
   ],
   "source": [
    "#10. Remove duplicates from a list\n",
    "\n",
    "\n",
    "li = [3, 2, 2, 1, 1, 1]\n",
    "list(set(li))"
   ]
  },
  {
   "cell_type": "code",
   "execution_count": 20,
   "metadata": {},
   "outputs": [
    {
     "data": {
      "text/plain": [
       "2"
      ]
     },
     "execution_count": 20,
     "metadata": {},
     "output_type": "execute_result"
    }
   ],
   "source": [
    "#11. Find the index of the 1st matching element\n",
    "fruit = ['pear', 'orange', 'apple', 'grapefruit', 'apple', 'pear']\n",
    "fruit.index('apple') \n",
    "\n"
   ]
  },
  {
   "cell_type": "code",
   "execution_count": 26,
   "metadata": {},
   "outputs": [
    {
     "name": "stdout",
     "output_type": "stream",
     "text": [
      "1561938582272\n"
     ]
    }
   ],
   "source": [
    "#12. Remove all elements from a list\n",
    "fruit = ['pear', 'orange', 'apple', 'grapefruit', 'apple', 'pear']\n",
    "fruit.clear()\n",
    "print(id(fruit))\n"
   ]
  },
  {
   "cell_type": "code",
   "execution_count": 28,
   "metadata": {},
   "outputs": [
    {
     "name": "stdout",
     "output_type": "stream",
     "text": [
      "['pear', 'orange', 'apple']\n",
      "1561938181696\n"
     ]
    }
   ],
   "source": [
    "#12. Remove all elements from a list\n",
    "fruit = ['pear', 'orange', 'apple']\n",
    "print( fruit )     \n",
    "print( id(fruit) )\n",
    "del fruit[:]"
   ]
  },
  {
   "cell_type": "code",
   "execution_count": 36,
   "metadata": {},
   "outputs": [
    {
     "name": "stdout",
     "output_type": "stream",
     "text": [
      "0: flour\n",
      "1: cheese\n",
      "2: carrots\n"
     ]
    }
   ],
   "source": [
    "#13. Iterate over both the values in a list and their indices\n",
    "\n",
    "\n",
    "grocery_list = ['flour','cheese','carrots']\n",
    "for i,val in enumerate(grocery_list):\n",
    "    print(\"%s: %s\" % (i, val))"
   ]
  },
  {
   "cell_type": "code",
   "execution_count": 33,
   "metadata": {},
   "outputs": [
    {
     "data": {
      "text/plain": [
       "['a', 'b', 'c', 1, 2, 3]"
      ]
     },
     "execution_count": 33,
     "metadata": {},
     "output_type": "execute_result"
    }
   ],
   "source": [
    "#14. How to concatenate two lists\n",
    "\n",
    "\n",
    "\n",
    "one = ['a', 'b', 'c']\n",
    "two = [1, 2, 3]\n",
    "one + two\n",
    "\n"
   ]
  },
  {
   "cell_type": "code",
   "execution_count": 37,
   "metadata": {},
   "outputs": [
    {
     "data": {
      "text/plain": [
       "[1, 26, 51, 101]"
      ]
     },
     "execution_count": 37,
     "metadata": {},
     "output_type": "execute_result"
    }
   ],
   "source": [
    "#15. How to manipulate every element in a list with list comprehension\n",
    "\n",
    "li = [0,25,50,100]\n",
    "[i+1 for i in li] "
   ]
  },
  {
   "cell_type": "code",
   "execution_count": 39,
   "metadata": {},
   "outputs": [
    {
     "data": {
      "text/plain": [
       "2"
      ]
     },
     "execution_count": 39,
     "metadata": {},
     "output_type": "execute_result"
    }
   ],
   "source": [
    "#16. Count the occurrence of a specific object in a list\n",
    "pets = ['dog','cat','fish','fish','cat']\n",
    "pets.count('fish')"
   ]
  },
  {
   "cell_type": "code",
   "execution_count": 43,
   "metadata": {},
   "outputs": [
    {
     "name": "stdout",
     "output_type": "stream",
     "text": [
      "['chuck norris', 'bruce lee', 'sonny chiba']\n",
      "['chuck norris', 'bruce lee']\n"
     ]
    }
   ],
   "source": [
    "#17. How to shallow copy a list?\n",
    "round1 = ['chuck norris', 'bruce lee', 'sonny chiba']\n",
    "round2 = round1.copy()\n",
    "round2.remove('sonny chiba')\n",
    "print(round1)\n",
    "print(round2)"
   ]
  },
  {
   "cell_type": "code",
   "execution_count": 48,
   "metadata": {},
   "outputs": [
    {
     "name": "stdout",
     "output_type": "stream",
     "text": [
      "[['Arnold', 'Sylvester', 'Jean Claude'], ['Buttercup', 'Bubbles', 'Blossom']]\n"
     ]
    }
   ],
   "source": [
    "#19. How to deep copy a list?\n",
    "\n",
    "\n",
    "round1 = [\n",
    "    ['Arnold', 'Sylvester', 'Jean Claude'],\n",
    "    ['Buttercup', 'Bubbles', 'Blossom']\n",
    "]\n",
    "import copy\n",
    "round2 = copy.deepcopy(round1)\n",
    "round2[0][0] = 'Jet Lee'\n",
    "print(round1)\n"
   ]
  },
  {
   "cell_type": "code",
   "execution_count": 61,
   "metadata": {},
   "outputs": [
    {
     "data": {
      "text/plain": [
       "2"
      ]
     },
     "execution_count": 61,
     "metadata": {},
     "output_type": "execute_result"
    }
   ],
   "source": [
    "#22. Return the length of a list\n",
    "li = [[1,2],[3,4,5]]\n",
    "len(li)"
   ]
  },
  {
   "cell_type": "code",
   "execution_count": 63,
   "metadata": {},
   "outputs": [
    {
     "data": {
      "text/plain": [
       "True"
      ]
     },
     "execution_count": 63,
     "metadata": {},
     "output_type": "execute_result"
    }
   ],
   "source": [
    "#24. How to check if an element is not in a list?\n",
    "\n",
    "\n",
    "li = [1,2,3,4]\n",
    "5 not in li \n"
   ]
  },
  {
   "cell_type": "code",
   "execution_count": 69,
   "metadata": {},
   "outputs": [
    {
     "data": {
      "text/plain": [
       "[50, 100, 150, 200, 250]"
      ]
     },
     "execution_count": 69,
     "metadata": {},
     "output_type": "execute_result"
    }
   ],
   "source": [
    "#25. Multiply every element in a list by 5 with the map function\n",
    "def multiply_5(val):\n",
    "    return val * 5\n",
    "a = [10,20,30,40,50]\n",
    "[val for val in map(multiply_5, a)] "
   ]
  },
  {
   "cell_type": "code",
   "execution_count": 70,
   "metadata": {},
   "outputs": [
    {
     "data": {
      "text/plain": [
       "[('a', 1), ('b', 2), ('c', 3)]"
      ]
     },
     "execution_count": 70,
     "metadata": {},
     "output_type": "execute_result"
    }
   ],
   "source": [
    "#26. Combine 2 lists into a list of tuples with the zip function\n",
    "alphabet = ['a', 'b', 'c']\n",
    "integers = [1, 2, 3]\n",
    "list(zip(alphabet, integers))"
   ]
  },
  {
   "cell_type": "code",
   "execution_count": 73,
   "metadata": {},
   "outputs": [
    {
     "name": "stdout",
     "output_type": "stream",
     "text": [
      "['a', 'b', 'HERE', 'c', 'd', 'e']\n"
     ]
    }
   ],
   "source": [
    "#27. Insert a value at a specific index in an existing list\n",
    "\n",
    "\n",
    "li = ['a','b','c','d','e']\n",
    "li.insert(2, 'HERE')\n",
    "print(li)"
   ]
  },
  {
   "cell_type": "code",
   "execution_count": null,
   "metadata": {},
   "outputs": [],
   "source": []
  },
  {
   "cell_type": "code",
   "execution_count": null,
   "metadata": {},
   "outputs": [],
   "source": []
  },
  {
   "cell_type": "code",
   "execution_count": null,
   "metadata": {},
   "outputs": [],
   "source": []
  },
  {
   "cell_type": "code",
   "execution_count": null,
   "metadata": {},
   "outputs": [],
   "source": []
  },
  {
   "cell_type": "code",
   "execution_count": null,
   "metadata": {},
   "outputs": [],
   "source": []
  },
  {
   "cell_type": "code",
   "execution_count": 12,
   "metadata": {},
   "outputs": [],
   "source": [
    "#50. What is the difference between sort and sorted?\n",
    "li = [10,1,9,2,8,3,7,4,6,5]\n",
    "li.sort()"
   ]
  },
  {
   "cell_type": "code",
   "execution_count": 8,
   "metadata": {},
   "outputs": [
    {
     "data": {
      "text/plain": [
       "1"
      ]
     },
     "execution_count": 8,
     "metadata": {},
     "output_type": "execute_result"
    }
   ],
   "source": [
    "#51. Return the minimum value in a list\n",
    "li = [10,1,9,2,8,3,7,4,6,5]\n",
    "min(li)"
   ]
  },
  {
   "cell_type": "code",
   "execution_count": 9,
   "metadata": {},
   "outputs": [
    {
     "data": {
      "text/plain": [
       "10"
      ]
     },
     "execution_count": 9,
     "metadata": {},
     "output_type": "execute_result"
    }
   ],
   "source": [
    "#52. Return the maxmum value in a list\n",
    "li = [10,1,9,2,8,3,7,4,6,5]\n",
    "max(li)"
   ]
  },
  {
   "cell_type": "code",
   "execution_count": 10,
   "metadata": {},
   "outputs": [
    {
     "data": {
      "text/plain": [
       "55"
      ]
     },
     "execution_count": 10,
     "metadata": {},
     "output_type": "execute_result"
    }
   ],
   "source": [
    "#53. Return the sum value in a list\n",
    "li = [10,1,9,2,8,3,7,4,6,5]\n",
    "sum(li)"
   ]
  },
  {
   "cell_type": "code",
   "execution_count": null,
   "metadata": {},
   "outputs": [],
   "source": []
  }
 ],
 "metadata": {
  "kernelspec": {
   "display_name": "Python 3",
   "language": "python",
   "name": "python3"
  },
  "language_info": {
   "codemirror_mode": {
    "name": "ipython",
    "version": 3
   },
   "file_extension": ".py",
   "mimetype": "text/x-python",
   "name": "python",
   "nbconvert_exporter": "python",
   "pygments_lexer": "ipython3",
   "version": "3.8.5"
  }
 },
 "nbformat": 4,
 "nbformat_minor": 4
}
