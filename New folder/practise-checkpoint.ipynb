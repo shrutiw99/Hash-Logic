{
 "cells": [
  {
   "cell_type": "code",
   "execution_count": null,
   "metadata": {},
   "outputs": [],
   "source": [
    "print(\"hello\")"
   ]
  },
  {
   "cell_type": "code",
   "execution_count": null,
   "metadata": {},
   "outputs": [],
   "source": [
    "print('hello')"
   ]
  },
  {
   "cell_type": "code",
   "execution_count": null,
   "metadata": {},
   "outputs": [],
   "source": [
    "print('hello \"hello\"ok')"
   ]
  },
  {
   "cell_type": "code",
   "execution_count": null,
   "metadata": {},
   "outputs": [],
   "source": [
    "print(\"hello new\\\"wolerld\")"
   ]
  },
  {
   "cell_type": "code",
   "execution_count": null,
   "metadata": {},
   "outputs": [],
   "source": [
    "print('i\\'m twinkle')"
   ]
  },
  {
   "cell_type": "code",
   "execution_count": null,
   "metadata": {},
   "outputs": [],
   "source": [
    "print(\"name \\t twinkle\")"
   ]
  },
  {
   "cell_type": "code",
   "execution_count": null,
   "metadata": {},
   "outputs": [],
   "source": [
    "print(\"line1 \\n line2\")"
   ]
  },
  {
   "cell_type": "code",
   "execution_count": null,
   "metadata": {},
   "outputs": [],
   "source": [
    "print(\"backslash\\\\\\\\\")"
   ]
  },
  {
   "cell_type": "code",
   "execution_count": null,
   "metadata": {},
   "outputs": [],
   "source": [
    "print(\"hel\\bllo\")"
   ]
  },
  {
   "cell_type": "code",
   "execution_count": null,
   "metadata": {},
   "outputs": [],
   "source": [
    "print(\"/\\\\/\\\\/\\\\/\\\\/\\\\\\/\\\\\")"
   ]
  },
  {
   "cell_type": "code",
   "execution_count": null,
   "metadata": {},
   "outputs": [],
   "source": [
    "print(\"he is \\t twinkle\")"
   ]
  },
  {
   "cell_type": "code",
   "execution_count": null,
   "metadata": {},
   "outputs": [],
   "source": [
    "print(\"\\\\\" \"\\t\" \"\\\\t\"  \"\\t\" \"\\\\n\" \"\\t\" \"\\\\''\")"
   ]
  },
  {
   "cell_type": "code",
   "execution_count": null,
   "metadata": {},
   "outputs": [],
   "source": [
    "print(r\"linea \\n \\tlineb\")\n"
   ]
  },
  {
   "cell_type": "code",
   "execution_count": null,
   "metadata": {},
   "outputs": [],
   "source": [
    "print(round(2**0.5,4))"
   ]
  },
  {
   "cell_type": "code",
   "execution_count": null,
   "metadata": {},
   "outputs": [],
   "source": [
    "num1=2\n",
    "print(num1)\n",
    "num1=3\n",
    "print(num1)\n",
    "name=\"twinkle\"\n",
    "print(name)\n",
    "name=\"12334567890\"\n",
    "print(\"name\")"
   ]
  },
  {
   "cell_type": "code",
   "execution_count": null,
   "metadata": {},
   "outputs": [],
   "source": [
    "print(\"user_of_then\")\n",
    "print((\"herwuygtrye\"))"
   ]
  },
  {
   "cell_type": "code",
   "execution_count": null,
   "metadata": {},
   "outputs": [],
   "source": [
    "name,age =\"twinkle\", 22\n",
    "print(\"my is \"+name+\"name\" +str(age)+ \"of\" )"
   ]
  },
  {
   "cell_type": "code",
   "execution_count": null,
   "metadata": {},
   "outputs": [],
   "source": [
    "name,age =\"twinkle\", 22\n",
    "print(\"my is \" \" \"+name+ \" \"\"name\" \" \"  +str(age)+ \" \" \"of\" )"
   ]
  },
  {
   "cell_type": "code",
   "execution_count": null,
   "metadata": {},
   "outputs": [],
   "source": [
    "z=\"twinkle  \"\n",
    "y=\"ghusain\"\n",
    "p=z+y\n",
    "print(p)\n"
   ]
  },
  {
   "cell_type": "code",
   "execution_count": null,
   "metadata": {},
   "outputs": [],
   "source": [
    "z=\"hucdh\"\n",
    "y=\"dhghids\"\n",
    "uu=z+y\n",
    "print(uu)\n",
    "print(uu+\"3\")\n",
    "print(uu+str(6))\n",
    "print(uu*3 )"
   ]
  },
  {
   "cell_type": "code",
   "execution_count": null,
   "metadata": {},
   "outputs": [],
   "source": [
    "num1=int(input(\"enter no one:\"))\n",
    "num2=int(input(\"enter two no\"))\n",
    "sum=num1+num2\n",
    "print(\"sum of two no\" ,sum)"
   ]
  },
  {
   "cell_type": "code",
   "execution_count": null,
   "metadata": {},
   "outputs": [],
   "source": [
    "name=\"twinkle\"\n",
    "print(name[5])"
   ]
  },
  {
   "cell_type": "code",
   "execution_count": null,
   "metadata": {},
   "outputs": [],
   "source": [
    "year=int(input(\"enter year\"))\n",
    "if year%4==0  and year%100==0 or year%400==0:\n",
    "     print(\"leap year\")\n",
    "else:\n",
    "    print(\" notleap year\")"
   ]
  },
  {
   "cell_type": "code",
   "execution_count": null,
   "metadata": {},
   "outputs": [],
   "source": [
    "a=0\n",
    "b=1\n",
    "for i in range(1,10):\n",
    "    print(a)\n",
    "    sum=a+b\n",
    "    a=b\n",
    "    b=sum"
   ]
  },
  {
   "cell_type": "code",
   "execution_count": 1,
   "metadata": {},
   "outputs": [
    {
     "name": "stdout",
     "output_type": "stream",
     "text": [
      "0\n",
      "1\n",
      "2\n",
      "3\n",
      "4\n",
      "5\n",
      "6\n"
     ]
    }
   ],
   "source": [
    "count = 0\n",
    "\n",
    "\n",
    "while True:\n",
    "    print(count)\n",
    "    count+=1\n",
    "    if count >=7:\n",
    "         break"
   ]
  },
  {
   "cell_type": "code",
   "execution_count": null,
   "metadata": {},
   "outputs": [],
   "source": [
    "for no in  range(10,100):\n",
    "  if no%2==0:\n",
    "      print(\"no is odd\",no)"
   ]
  },
  {
   "cell_type": "code",
   "execution_count": null,
   "metadata": {},
   "outputs": [],
   "source": [
    "for no in range(10,100):\n",
    " if no%2==0:\n",
    "        print(\"no is odd\",no)\n",
    "else:\n",
    "     print(\"no is even\",no)"
   ]
  },
  {
   "cell_type": "code",
   "execution_count": null,
   "metadata": {},
   "outputs": [],
   "source": [
    "table=int(input(\"enter table no\"))\n",
    "for i in range(1,11):\n",
    "    print(table,'*',i,\"*\",table*i)\n"
   ]
  },
  {
   "cell_type": "code",
   "execution_count": null,
   "metadata": {},
   "outputs": [],
   "source": [
    "for i in range(10):\n",
    "  print(i)"
   ]
  },
  {
   "cell_type": "code",
   "execution_count": 4,
   "metadata": {},
   "outputs": [
    {
     "name": "stdout",
     "output_type": "stream",
     "text": [
      "9\n",
      "8\n",
      "7\n",
      "6\n",
      "5\n",
      "4\n",
      "3\n",
      "3\n",
      "2\n"
     ]
    }
   ],
   "source": [
    "no=[9,8,7,6,5,4,3,3,2]\n",
    "sum =0\n",
    "for i in no:\n",
    "    sum=sum+i\n",
    "    print(i)"
   ]
  },
  {
   "cell_type": "code",
   "execution_count": 6,
   "metadata": {},
   "outputs": [
    {
     "name": "stdout",
     "output_type": "stream",
     "text": [
      "0\n",
      "1\n",
      "2\n",
      "3\n",
      "4\n",
      "5\n",
      "6\n",
      "7\n",
      "8\n"
     ]
    }
   ],
   "source": [
    "no=[9,8,7,6,5,4,3,3,2]\n",
    "for i in range(len(no)):\n",
    "    sum=sum+i\n",
    "    print(i)"
   ]
  },
  {
   "cell_type": "code",
   "execution_count": null,
   "metadata": {},
   "outputs": [],
   "source": [
    "run=('twinkle','34','riya','pooja')\n",
    "for i in run:\n",
    "    print(i,len(i))"
   ]
  },
  {
   "cell_type": "code",
   "execution_count": null,
   "metadata": {},
   "outputs": [],
   "source": [
    "num=7889\n",
    "count=0\n",
    "while num !=0:\n",
    "     num //= 10\n",
    "     count +=1\n",
    "     print(count)"
   ]
  },
  {
   "cell_type": "code",
   "execution_count": null,
   "metadata": {},
   "outputs": [],
   "source": [
    "list=[1,2,3,4,5,6,7,8,9]\n",
    "list.reverse()\n",
    "print(list)"
   ]
  },
  {
   "cell_type": "code",
   "execution_count": null,
   "metadata": {},
   "outputs": [],
   "source": [
    "total=0\n",
    "i=1\n",
    "while i<10:\n",
    "    print(i)\n",
    "    i +=1"
   ]
  },
  {
   "cell_type": "code",
   "execution_count": null,
   "metadata": {},
   "outputs": [],
   "source": [
    "num =6\n",
    "for i in range(1,num):\n",
    "    for j in range(1,num):\n",
    "        print(j,end=' ')\n",
    "        print(\" \")"
   ]
  },
  {
   "cell_type": "code",
   "execution_count": null,
   "metadata": {},
   "outputs": [],
   "source": [
    "list=[12,15,32,42,55,75,122,132,150,180,200]\n",
    "for i in list:\n",
    "    if (i<150):\n",
    "           break\n",
    "    if (i %5==0):\n",
    "        print(i)"
   ]
  },
  {
   "cell_type": "code",
   "execution_count": null,
   "metadata": {},
   "outputs": [],
   "source": [
    "first=0\n",
    "num=int(input(\"enter no\"))\n",
    "for i in range(1,num+1,1):\n",
    "    first+=i  \n",
    "    print(first)"
   ]
  },
  {
   "cell_type": "code",
   "execution_count": null,
   "metadata": {},
   "outputs": [],
   "source": [
    "name=\"twinkle\"\n",
    "print(\"twinkle\"[5])"
   ]
  },
  {
   "cell_type": "code",
   "execution_count": null,
   "metadata": {},
   "outputs": [],
   "source": [
    "print(\"twinkle\"[1:4:3])\n",
    "print(\"twinkle\"[:6:1])\n",
    "print(\"killotg\"[:2:3])"
   ]
  },
  {
   "cell_type": "code",
   "execution_count": null,
   "metadata": {},
   "outputs": [],
   "source": [
    "age =int(input(\"enter no\"))\n",
    "if age <= 37:\n",
    "   print(\"old men\")\n",
    "else:\n",
    " print(\"new men\") \n",
    "print(\"both are pgl\")"
   ]
  },
  {
   "cell_type": "code",
   "execution_count": null,
   "metadata": {},
   "outputs": [],
   "source": [
    "win_no=30\n",
    "num = int(input(\"no 1 to 100 :\"))\n",
    "if num == win_no: \n",
    "  print(\"your win\")\n",
    "else:\n",
    " print(\"your lose\")\n",
    "print(\"missing no\")"
   ]
  },
  {
   "cell_type": "code",
   "execution_count": null,
   "metadata": {},
   "outputs": [],
   "source": [
    "no=int(input(\"passing no\"))\n",
    "if no >= 35:\n",
    "  print(\"you are pass\")\n",
    "else:\n",
    " print(\"you are fail\")\n",
    "    "
   ]
  },
  {
   "cell_type": "code",
   "execution_count": null,
   "metadata": {},
   "outputs": [],
   "source": [
    "name=  \"twinkle\"\n",
    "dots=\"..........\"\n",
    "\n",
    "print(name+dots)\n",
    "print(name.rstrip()+dots)\n"
   ]
  },
  {
   "cell_type": "code",
   "execution_count": null,
   "metadata": {},
   "outputs": [],
   "source": [
    "ap=input(\"ennter a allphabate\")\n",
    "         \n",
    "if (ap =='a' or  ap=='i'or ap=='e' or ap=='o'or ap=='u'):\n",
    "  print(\"its  a vowel\")\n",
    "else:\n",
    " print(\"constant\")"
   ]
  },
  {
   "cell_type": "code",
   "execution_count": 7,
   "metadata": {},
   "outputs": [
    {
     "name": "stdout",
     "output_type": "stream",
     "text": [
      "|enter ascci value :h\n",
      "ascii valueh of 104\n"
     ]
    }
   ],
   "source": [
    "ascii=input(\"|enter ascci value :\")\n",
    "print(\"ascii value\" +ascii+ \" of\" ,ord(ascii))\n"
   ]
  },
  {
   "cell_type": "code",
   "execution_count": 8,
   "metadata": {},
   "outputs": [
    {
     "name": "stdout",
     "output_type": "stream",
     "text": [
      "valusea\n",
      "97\n"
     ]
    }
   ],
   "source": [
    "a=input(\"valuse\")\n",
    "print(ord(a))"
   ]
  },
  {
   "cell_type": "code",
   "execution_count": null,
   "metadata": {},
   "outputs": [],
   "source": []
  },
  {
   "cell_type": "code",
   "execution_count": 9,
   "metadata": {},
   "outputs": [
    {
     "name": "stdout",
     "output_type": "stream",
     "text": [
      "11.0\n"
     ]
    }
   ],
   "source": [
    "num1=int(5)\n",
    "num2=float(6)\n",
    "print(num1+num2)"
   ]
  },
  {
   "cell_type": "code",
   "execution_count": null,
   "metadata": {},
   "outputs": [],
   "source": [
    "name,age= \"twinkle\" , \"23\"\n",
    "print(\"hello\" +name+ \"or \" +age )\n",
    "a=b=d=5\n",
    "print(a+b+d)"
   ]
  },
  {
   "cell_type": "code",
   "execution_count": null,
   "metadata": {},
   "outputs": [],
   "source": [
    "list=['tinu' , 56 ,'neha',98.50]\n",
    "chotilist= [67 ,'tinu']\n",
    "print(list)\n",
    "print(list + chotilist)\n",
    "print(list[2:4])\n",
    "print(list * 3)"
   ]
  },
  {
   "cell_type": "code",
   "execution_count": null,
   "metadata": {},
   "outputs": [],
   "source": [
    "tuple=(94,78,68,8,9,78,9)\n",
    "list=[94,68,8,9,78,9]\n",
    "tuple=300\n",
    "list.extend([('785')])\n",
    "list.append('kiran')\n",
    "list.insert(0,\"main\")\n",
    "print(list)\n",
    "print(tuple)"
   ]
  },
  {
   "cell_type": "code",
   "execution_count": null,
   "metadata": {},
   "outputs": [],
   "source": [
    "\n",
    "tuple=()\n",
    "tuple1=(2,3,4)\n",
    "tuple2=('gdjc','hgfej')\n",
    "tuple3=(tuple1,tuple2)\n",
    "print(tuple3)\n",
    "print(tuple)\n",
    "print(tuple1)\n",
    "print(tuple2)\n",
    "tuple=('dance')\n",
    "if  tuple >=5:\n",
    "    print('tuples with loops')\n",
    "for i in range(int(tuple)):\n",
    "    tuple1=(tuple2,)\n",
    "    print(tuple2)"
   ]
  },
  {
   "cell_type": "code",
   "execution_count": null,
   "metadata": {},
   "outputs": [],
   "source": [
    "list=[]\n",
    "print(list)\n",
    "list=['pgl',47,678.90,'riya']\n",
    "print(list)\n",
    "list.append('pooja')\n",
    "list.extend('yashika')\n",
    "list.insert(2,'pihu')\n",
    "print('list update',list)\n",
    "\n"
   ]
  },
  {
   "cell_type": "code",
   "execution_count": null,
   "metadata": {},
   "outputs": [],
   "source": [
    "for i in range(1,100,2):\n",
    " print(\"enter no\",i)\n",
    "for n in range (2,101,2):\n",
    " print(\"enter no\",n)\n",
    "    "
   ]
  },
  {
   "cell_type": "code",
   "execution_count": null,
   "metadata": {},
   "outputs": [],
   "source": [
    "for i in range(-10,0,1):\n",
    "    print(i)"
   ]
  },
  {
   "cell_type": "code",
   "execution_count": null,
   "metadata": {},
   "outputs": [],
   "source": [
    "for i in range(5):\n",
    "    print(i)\n",
    "else:\n",
    "    print(\"done\")"
   ]
  },
  {
   "cell_type": "code",
   "execution_count": null,
   "metadata": {},
   "outputs": [],
   "source": [
    "list=[10,20,30,40,50,60,70,80,90,100]\n",
    "for i in list[1::2]:\n",
    "      print(i)"
   ]
  },
  {
   "cell_type": "code",
   "execution_count": null,
   "metadata": {},
   "outputs": [],
   "source": [
    "dict={}\n",
    "dict['one']=\"this is one\"\n",
    "this_dict={'code':\"7837\" , 'name':'kiran','year':789} \n",
    "print(this_dict)\n",
    "print(this_dict['code'])\n",
    "print(len(this_dict))\n",
    "print(type(this_dict))"
   ]
  },
  {
   "cell_type": "code",
   "execution_count": null,
   "metadata": {},
   "outputs": [],
   "source": [
    "num=6\n",
    "for i in range(1,num+1):\n",
    "    print(i*i*i)"
   ]
  },
  {
   "cell_type": "code",
   "execution_count": null,
   "metadata": {},
   "outputs": [],
   "source": [
    "fab=int(input(\"enter series:\"))\n",
    "num1=1\n",
    "num2=2\n",
    "count=0\n",
    "if fab <=0:\n",
    " print(\"geater series\")\n",
    "elif fab==1:\n",
    " print(\"it is fab seress upto\",fab,\":\")\n",
    " print(num1)\n",
    "else:\n",
    " print(\"fabonic series\")\n",
    "while count <fab:\n",
    "    temp=num1+num2\n",
    "    num1=num2\n",
    "    count+=1\n"
   ]
  },
  {
   "cell_type": "code",
   "execution_count": null,
   "metadata": {},
   "outputs": [],
   "source": [
    "num=5\n",
    "first=2\n",
    "sum=0\n",
    "for i in range(0,num):\n",
    "    print(first,end=\" \")\n",
    "    sum += first\n",
    "    first = (first *10) + 2\n",
    "print (sum)\n",
    "    \n",
    "    "
   ]
  },
  {
   "cell_type": "code",
   "execution_count": null,
   "metadata": {},
   "outputs": [],
   "source": [
    "tuple=(94,78,68,8,9,78,9)\n",
    "list=[94,68,8,9,78,9]\n",
    "tuple=300\n",
    "list.extend([('785')])\n",
    "list.append('kiran')\n",
    "list.insert(0,\"main\")\n",
    "\n",
    "print(list)\n"
   ]
  },
  {
   "cell_type": "code",
   "execution_count": null,
   "metadata": {},
   "outputs": [],
   "source": [
    "list=[12,15,32,42,55,75,122,132,150,180,200]\n",
    "for i in list:\n",
    "    if (i>150):\n",
    "        break\n",
    "    if (i % 5 == 0):\n",
    "        print(i)"
   ]
  },
  {
   "cell_type": "code",
   "execution_count": null,
   "metadata": {},
   "outputs": [],
   "source": [
    "first=0\n",
    "num=int(input(\"enter no\"))\n",
    "for i in range(1,num+1,1):\n",
    "    first+=i  \n",
    "    print(first)"
   ]
  },
  {
   "cell_type": "code",
   "execution_count": null,
   "metadata": {},
   "outputs": [],
   "source": [
    "age=int(input(\"age\"))\n",
    "if age == 0 or  age <0:\n",
    "    print(\"invalid\")\n",
    "elif 0<age<10:\n",
    "    print(\"free\")\n",
    "elif 11<age<60:\n",
    "        print(\"250\")\n",
    "else:\n",
    "    print(\"200\")"
   ]
  },
  {
   "cell_type": "code",
   "execution_count": null,
   "metadata": {},
   "outputs": [],
   "source": [
    "num1=232\n",
    "num2=876\n",
    "sum=num1 - num2\n",
    "print(\"sum of two no :\",num1,num2, sum)"
   ]
  },
  {
   "cell_type": "code",
   "execution_count": null,
   "metadata": {},
   "outputs": [],
   "source": [
    "num=6\n",
    "for i in range(1,num):\n",
    "    for j in range(1,i+1):\n",
    "        print(j,end='')\n",
    "    print(\" \")"
   ]
  },
  {
   "cell_type": "code",
   "execution_count": null,
   "metadata": {},
   "outputs": [],
   "source": [
    "num=5\n",
    "for i in range(0,num+1):\n",
    "    for j in range(num-i,0,-1):\n",
    "        print(j,end='')\n",
    "    print(\" \")    "
   ]
  },
  {
   "cell_type": "code",
   "execution_count": null,
   "metadata": {},
   "outputs": [],
   "source": [
    "first=0\n",
    "num=int(input(\"enter no\"))\n",
    "for i in range(1,num+1,1):\n",
    "    first+=i  \n",
    "    print(first)"
   ]
  },
  {
   "cell_type": "code",
   "execution_count": null,
   "metadata": {},
   "outputs": [],
   "source": [
    "list=[12,15,32,42,55,75,122,132,150,180,200]\n",
    "for i in list:\n",
    "    if (i>150):\n",
    "        break\n",
    "    if (i % 5 == 0):\n",
    "        print(i)"
   ]
  },
  {
   "cell_type": "code",
   "execution_count": null,
   "metadata": {},
   "outputs": [],
   "source": [
    " num=75869\n",
    "count=0\n",
    "while num != 0:\n",
    "     num //= 10\n",
    "     count += 1\n",
    "     print(count)"
   ]
  },
  {
   "cell_type": "code",
   "execution_count": null,
   "metadata": {},
   "outputs": [],
   "source": [
    "age=input(\"enter your age:\")\n",
    "age=int(age)\n",
    "if age>=20:\n",
    " print(\"you are above 20\")\n",
    "else:\n",
    "     print(\"your age is less than20\")\n",
    "print(\"your are eleigeable to this gae\")"
   ]
  },
  {
   "cell_type": "code",
   "execution_count": null,
   "metadata": {},
   "outputs": [],
   "source": [
    "age=input(\"enter your age\")\n",
    "age=int(age)\n",
    "if age >=20:\n",
    "    print(\"line a\")\n",
    "    print(\"you are above 20\")\n",
    "    print(\"you are eligiabl5e to this gae\")\n",
    "else:\n",
    "    print(\"sorrey you cant play\")"
   ]
  },
  {
   "cell_type": "code",
   "execution_count": null,
   "metadata": {},
   "outputs": [],
   "source": [
    "num=int(input(\"enter no\"))\n",
    "print(\"num\")\n",
    "if num ==0:\n",
    "    \n",
    "    print(\"no is odd\")\n",
    "else:\n",
    "    print(\"no is even\")"
   ]
  },
  {
   "cell_type": "code",
   "execution_count": null,
   "metadata": {},
   "outputs": [],
   "source": [
    "lenght =int(input(\"enter lenght\"))\n",
    "breath=int(input(\"enter breath\"))\n",
    "if  lenght  == breath:\n",
    "     print(\"equal hai \") \n",
    "else:\n",
    "     print(\"nahi hai\")"
   ]
  },
  {
   "cell_type": "code",
   "execution_count": null,
   "metadata": {},
   "outputs": [],
   "source": [
    "value1 =int(input(\"enter lenght\"))\n",
    "value2 =int(input(\"enter lenght\"))\n",
    "if  value1 > value2:\n",
    "    print(\"greater\")\n",
    "else:\n",
    "           print(\"lower\")\n",
    "            "
   ]
  },
  {
   "cell_type": "code",
   "execution_count": null,
   "metadata": {},
   "outputs": [],
   "source": [
    "qu=int(input(\"price\"))\n",
    "d=qu*100//0.10\n",
    "if qu<=10:\n",
    "     print(\"discount\")\n",
    "else:\n",
    "    print(\"nahi hai\")\n"
   ]
  },
  {
   "cell_type": "code",
   "execution_count": null,
   "metadata": {},
   "outputs": [],
   "source": [
    "ite=int(input(\"enter no\"))\n",
    "ks=100\n",
    "av=ite*100//ks\n",
    "if ite >80 :\n",
    "     print(\"garde a\")\n",
    "elif ite >=60 and ite <=70:\n",
    "     print(\"grade b\")\n",
    "elif ite >70 and ite <=80:\n",
    "     print(\"grade c\")\n",
    "else:\n",
    "    print(\"enter sab fail hai\")"
   ]
  },
  {
   "cell_type": "code",
   "execution_count": null,
   "metadata": {},
   "outputs": [],
   "source": [
    "num=int(input(\"enter no\"))\n",
    "num2=int(input(\"enter\"))\n",
    "num3=int(input(\"\"))\n",
    "if num ==num2 and num2 == num3:\n",
    "     print(\"equal\")\n",
    "if num2 >= num :\n",
    "     print( \"grater\")\n",
    "else:\n",
    "     print(\"less\")      \n",
    "if num3 <=num2:\n",
    "     print(\"num\")\n",
    "else:\n",
    "      print(\"enter sab fail hai\")"
   ]
  },
  {
   "cell_type": "code",
   "execution_count": null,
   "metadata": {},
   "outputs": [],
   "source": [
    "name=\"s h u r t i\"\n",
    "for i in name:\n",
    "\n",
    "        print(i)\n",
    "    "
   ]
  },
  {
   "cell_type": "code",
   "execution_count": null,
   "metadata": {},
   "outputs": [],
   "source": [
    "name=\"refrigeter\"\n",
    "count=0\n",
    "for i in name:\n",
    "    count=count+1\n",
    "print(count)"
   ]
  },
  {
   "cell_type": "code",
   "execution_count": null,
   "metadata": {},
   "outputs": [],
   "source": [
    "print (\"e\" in \"unbrella\")"
   ]
  },
  {
   "cell_type": "code",
   "execution_count": null,
   "metadata": {},
   "outputs": [],
   "source": [
    "print (\"orange\" in \"orange jucie\")"
   ]
  },
  {
   "cell_type": "code",
   "execution_count": null,
   "metadata": {},
   "outputs": [],
   "source": [
    "a=\"this is ornage juice\"\n",
    "print (\"orange\" in a.split())"
   ]
  },
  {
   "cell_type": "code",
   "execution_count": null,
   "metadata": {},
   "outputs": [],
   "source": [
    " a=\"hello world\"\n",
    "for i in range(len(a)):\n",
    "    if a[i]=='o':\n",
    "          print(i)\n",
    "    "
   ]
  },
  {
   "cell_type": "code",
   "execution_count": null,
   "metadata": {},
   "outputs": [],
   "source": [
    " a=\"hello world\"\n",
    "for i in range(len(a)):\n",
    "    if i=='h':\n",
    "        count=count +1\n",
    "        print(a)\n",
    "    \n",
    "    "
   ]
  },
  {
   "cell_type": "code",
   "execution_count": null,
   "metadata": {},
   "outputs": [],
   "source": [
    "i=0\n",
    "while i<=5:\n",
    "    print(i)\n",
    "    i+=1"
   ]
  },
  {
   "cell_type": "code",
   "execution_count": null,
   "metadata": {},
   "outputs": [],
   "source": [
    "n=5\n",
    "for i in range(1,n):\n",
    "    for j in range(1,i+1):\n",
    "        print(j,end='')\n",
    "    print(\"\")"
   ]
  },
  {
   "cell_type": "code",
   "execution_count": 12,
   "metadata": {},
   "outputs": [
    {
     "name": "stdout",
     "output_type": "stream",
     "text": [
      "5 1 5\n",
      "5 2 10\n",
      "5 3 15\n",
      "5 4 20\n",
      "5 5 25\n",
      "5 6 30\n",
      "5 7 35\n",
      "5 8 40\n",
      "5 9 45\n"
     ]
    }
   ],
   "source": [
    "p=5\n",
    "for i in range(1,10,1):\n",
    "       n =p *i\n",
    "       print(p,i,n)"
   ]
  },
  {
   "cell_type": "code",
   "execution_count": null,
   "metadata": {},
   "outputs": [],
   "source": [
    "n-input(\"\")\n",
    "if n<0:\n",
    "    print()\n",
    "    e"
   ]
  },
  {
   "cell_type": "code",
   "execution_count": 13,
   "metadata": {},
   "outputs": [
    {
     "name": "stdout",
     "output_type": "stream",
     "text": [
      "1\n",
      "2\n",
      "3\n",
      "4\n",
      "5\n",
      "6\n",
      "7\n",
      "8\n",
      "9\n"
     ]
    }
   ],
   "source": [
    "#range\n",
    "for i in range(1,10):\n",
    "    print(i)"
   ]
  },
  {
   "cell_type": "code",
   "execution_count": 20,
   "metadata": {},
   "outputs": [
    {
     "ename": "SyntaxError",
     "evalue": "unexpected EOF while parsing (<ipython-input-20-2e3f97b49041>, line 6)",
     "output_type": "error",
     "traceback": [
      "\u001b[1;36m  File \u001b[1;32m\"<ipython-input-20-2e3f97b49041>\"\u001b[1;36m, line \u001b[1;32m6\u001b[0m\n\u001b[1;33m    \u001b[0m\n\u001b[1;37m    ^\u001b[0m\n\u001b[1;31mSyntaxError\u001b[0m\u001b[1;31m:\u001b[0m unexpected EOF while parsing\n"
     ]
    }
   ],
   "source": [
    "w=[1,2,3,4,4,5,6,7,30,8,9,6]\n",
    "a=[i for i in w if isinstance(i,int)]\n",
    "b=[]\n",
    "c=[]\n",
    "if i in w:\n",
    "    "
   ]
  },
  {
   "cell_type": "code",
   "execution_count": 22,
   "metadata": {},
   "outputs": [
    {
     "name": "stdout",
     "output_type": "stream",
     "text": [
      "14 1 14\n",
      "14 2 28\n",
      "14 3 42\n",
      "14 4 56\n",
      "14 5 70\n",
      "14 6 84\n",
      "14 7 98\n",
      "14 8 112\n",
      "14 9 126\n",
      "14 10 140\n"
     ]
    }
   ],
   "source": [
    "#print table\n",
    "n=14\n",
    "for i in range(1,11):\n",
    "   print(n,i,n*i)"
   ]
  },
  {
   "cell_type": "code",
   "execution_count": null,
   "metadata": {},
   "outputs": [],
   "source": [
    "#1. Check if a list contains an element"
   ]
  }
 ],
 "metadata": {
  "kernelspec": {
   "display_name": "Python 3",
   "language": "python",
   "name": "python3"
  },
  "language_info": {
   "codemirror_mode": {
    "name": "ipython",
    "version": 3
   },
   "file_extension": ".py",
   "mimetype": "text/x-python",
   "name": "python",
   "nbconvert_exporter": "python",
   "pygments_lexer": "ipython3",
   "version": "3.8.5"
  }
 },
 "nbformat": 4,
 "nbformat_minor": 4
}
