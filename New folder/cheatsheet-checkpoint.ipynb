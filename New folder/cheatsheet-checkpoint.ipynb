{
 "cells": [
  {
   "cell_type": "code",
   "execution_count": null,
   "metadata": {},
   "outputs": [],
   "source": [
    "#cheat sheet work\n",
    "n=2 + 3 * 6\n",
    "print(n) \n"
   ]
  },
  {
   "cell_type": "code",
   "execution_count": null,
   "metadata": {},
   "outputs": [],
   "source": [
    "n= (2 + 3) * 6\n",
    "print(n) "
   ]
  },
  {
   "cell_type": "code",
   "execution_count": null,
   "metadata": {},
   "outputs": [],
   "source": [
    " 2 ** 8"
   ]
  },
  {
   "cell_type": "code",
   "execution_count": null,
   "metadata": {},
   "outputs": [],
   "source": [
    "#String Concatenation and Replication\n",
    "n='Alice' 'Bob'\n",
    "print(n)"
   ]
  },
  {
   "cell_type": "code",
   "execution_count": null,
   "metadata": {},
   "outputs": [],
   "source": [
    "a = 1\n",
    "print('Hello world!', a)"
   ]
  },
  {
   "cell_type": "code",
   "execution_count": null,
   "metadata": {},
   "outputs": [],
   "source": [
    " a = [1, 2, 3]\n",
    "if a:\n",
    "    print(\"the list is not empty!\"\"\")\n",
    "else:\n",
    "    print(a)"
   ]
  },
  {
   "cell_type": "code",
   "execution_count": null,
   "metadata": {},
   "outputs": [],
   "source": [
    "a= 40 == 42\n",
    "b = 'hello'=='hello'\n",
    "c='dog' != 'cat'\n",
    "print(a)\n",
    "print(b)\n",
    "print(c)"
   ]
  },
  {
   "cell_type": "code",
   "execution_count": null,
   "metadata": {},
   "outputs": [],
   "source": [
    "#Boolean evaluation\n",
    "\n",
    "#Never use == or != operator to evaluate boolean operation. Use the is or is not operators, or use implicit boolean evaluation.\n",
    "#YES (even if they are valid Python):\n",
    "True is True\n",
    "True is not False\n",
    "a=2 + 2 == 4 and not 2 + 2 == 5 and 2 * 2 == 2 + 2\n",
    "print(a)"
   ]
  },
  {
   "cell_type": "code",
   "execution_count": null,
   "metadata": {},
   "outputs": [],
   "source": [
    "#if else\n",
    "name= 'Bob'\n",
    "if name == 'Alice':\n",
    "    print('Hi, Alice.')\n",
    "else:\n",
    "    print('Hello, stranger.')"
   ]
  },
  {
   "cell_type": "code",
   "execution_count": null,
   "metadata": {},
   "outputs": [],
   "source": [
    "#if eleif \n",
    "name = 'alice'\n",
    "age = 2\n",
    "if name == 'Alice':\n",
    "    print('Hi, Alice.')\n",
    "elif age < 12:\n",
    "    print('You are not Alice, kiddo.')"
   ]
  },
  {
   "cell_type": "code",
   "execution_count": null,
   "metadata": {},
   "outputs": [],
   "source": [
    "#if elif and else\n",
    "name = 'Bob'\n",
    "age = 30\n",
    "if name == 'Alice':\n",
    "    print('Hi, Alice.')\n",
    "elif age < 12:\n",
    "    print('You are not Alice, kiddo.')\n",
    "else:\n",
    "    print('You are neither Alice\\n nor a little kid.')"
   ]
  },
  {
   "cell_type": "code",
   "execution_count": null,
   "metadata": {},
   "outputs": [],
   "source": [
    "#while loop\n",
    "a = 0\n",
    "while a< 6:\n",
    "    print('Hello, world.')\n",
    "    spam = spam + 1"
   ]
  },
  {
   "cell_type": "code",
   "execution_count": null,
   "metadata": {},
   "outputs": [],
   "source": [
    "#for loop\n",
    "spam = 0\n",
    "i=3\n",
    "for i in range(1,11):\n",
    "    print('table.',i,i*i)\n",
    "    i+=1\n",
    "    spam=spam+1"
   ]
  },
  {
   "cell_type": "code",
   "execution_count": null,
   "metadata": {},
   "outputs": [],
   "source": [
    "while True:\n",
    "    print('Please type your name.')\n",
    "    name = input()\n",
    "    \n",
    "    if name == 'your name':\n",
    "        break\n",
    "print('Thank you!')"
   ]
  },
  {
   "cell_type": "code",
   "execution_count": 20,
   "metadata": {},
   "outputs": [
    {
     "name": "stdout",
     "output_type": "stream",
     "text": [
      "(square1of)\n",
      "1\n",
      "(square4of)\n",
      "4\n",
      "(square9of)\n",
      "27\n",
      "(square16of)\n",
      "256\n"
     ]
    }
   ],
   "source": [
    "#for loop range\n",
    "p=1\n",
    "i=9\n",
    "c=[]\n",
    "for i in range(1,5):\n",
    "    \n",
    "    c=i**i\n",
    "    print('(square{}of)'.format(str(i*i)))\n",
    "    print(c)"
   ]
  },
  {
   "cell_type": "code",
   "execution_count": 21,
   "metadata": {},
   "outputs": [
    {
     "name": "stdout",
     "output_type": "stream",
     "text": [
      "5\n",
      "4\n",
      "3\n",
      "2\n",
      "1\n",
      "0\n"
     ]
    }
   ],
   "source": [
    "#step in for \n",
    "for i in range(5, -1, -1):\n",
    "    print(i)\n"
   ]
  },
  {
   "cell_type": "code",
   "execution_count": 22,
   "metadata": {},
   "outputs": [
    {
     "name": "stdout",
     "output_type": "stream",
     "text": [
      "5\n",
      "4\n",
      "3\n",
      "2\n"
     ]
    }
   ],
   "source": [
    "#step in for \n",
    "for i in range(5, 1, -1):\n",
    "    print(i)\n"
   ]
  },
  {
   "cell_type": "code",
   "execution_count": 29,
   "metadata": {},
   "outputs": [
    {
     "name": "stdout",
     "output_type": "stream",
     "text": [
      "HelloWorld\n"
     ]
    }
   ],
   "source": [
    "print('Hello', end='')\n",
    "print('World')"
   ]
  },
  {
   "cell_type": "code",
   "execution_count": 32,
   "metadata": {},
   "outputs": [
    {
     "name": "stdout",
     "output_type": "stream",
     "text": [
      "HelloWorld\n",
      "HelloWorld\n",
      "HelloWorld\n",
      "HelloWorld\n"
     ]
    }
   ],
   "source": [
    "for i in range (1,5):\n",
    "    print('Hello', end='')\n",
    "    print('World')"
   ]
  },
  {
   "cell_type": "code",
   "execution_count": 2,
   "metadata": {},
   "outputs": [
    {
     "data": {
      "text/plain": [
       "3"
      ]
     },
     "execution_count": 2,
     "metadata": {},
     "output_type": "execute_result"
    }
   ],
   "source": [
    "#len\n",
    "spam = ['cat', 'dog', 'moose']\n",
    "len(spam)"
   ]
  },
  {
   "cell_type": "code",
   "execution_count": 5,
   "metadata": {},
   "outputs": [
    {
     "name": "stdout",
     "output_type": "stream",
     "text": [
      "['cat', 'aardvark', 'aardvark', 12345]\n"
     ]
    }
   ],
   "source": [
    "\n",
    "\n",
    "spam[-1] = 12345\n",
    "\n",
    "spam\n",
    "['cat', 'aardvark', 'aardvark', 12345]\n",
    "print(spam)"
   ]
  },
  {
   "cell_type": "code",
   "execution_count": 6,
   "metadata": {},
   "outputs": [
    {
     "data": {
      "text/plain": [
       "['cat', 'aardvark', 'aardvark', 'elephant']"
      ]
     },
     "execution_count": 6,
     "metadata": {},
     "output_type": "execute_result"
    }
   ],
   "source": [
    "#swaping\n",
    "spam = ['cat', 'bat', 'rat', 'elephant']\n",
    "spam[1] = 'aardvark'\n",
    "    \n",
    "spam\n",
    "['cat', 'aardvark', 'rat', 'elephant']\n",
    "\n",
    "spam[2] = spam[1]\n",
    "\n",
    "spam\n",
    "['cat', 'aardvark', 'aardvark', 'elephant']"
   ]
  },
  {
   "cell_type": "code",
   "execution_count": 7,
   "metadata": {},
   "outputs": [
    {
     "data": {
      "text/plain": [
       "[1, 2, 3, 'A', 'B', 'C']"
      ]
     },
     "execution_count": 7,
     "metadata": {},
     "output_type": "execute_result"
    }
   ],
   "source": [
    "#concat\n",
    "[1, 2, 3] + ['A', 'B', 'C']\n",
    "[1, 2, 3, 'A', 'B', 'C']"
   ]
  },
  {
   "cell_type": "code",
   "execution_count": 11,
   "metadata": {},
   "outputs": [
    {
     "name": "stdout",
     "output_type": "stream",
     "text": [
      "['cat', 'aardvark', 'elephant']\n"
     ]
    }
   ],
   "source": [
    "#del\n",
    "spam = ['cat', 'bat', 'rat', 'elephant']\n",
    "spam[1] = 'aardvark'\n",
    "del spam[2]\n",
    "print(spam)"
   ]
  },
  {
   "cell_type": "code",
   "execution_count": 36,
   "metadata": {},
   "outputs": [
    {
     "name": "stdout",
     "output_type": "stream",
     "text": [
      "Index pens in supplies is \n",
      "Index staplers in supplies is \n",
      "Index flame-throwers in supplies is \n",
      "Index binders in supplies is \n"
     ]
    }
   ],
   "source": [
    "#Using for Loops with Lists\n",
    "p=0\n",
    "p = ['pens', 'staplers', 'flame-throwers', 'binders']\n",
    "for i in upplies:\n",
    "    p=+1\n",
    "    print('Index {} in supplies  '.format(str(i)))"
   ]
  },
  {
   "cell_type": "code",
   "execution_count": 37,
   "metadata": {},
   "outputs": [
    {
     "name": "stdout",
     "output_type": "stream",
     "text": [
      "Pete is 6 years old\n",
      "John is 23 years old\n",
      "Elizabeth is 44 years old\n"
     ]
    }
   ],
   "source": [
    "name = ['Pete', 'John', 'Elizabeth']\n",
    "age = [6, 23, 44]\n",
    "for n, a in zip(name, age):\n",
    "    print('{} is {} years old'.format(n, a))"
   ]
  },
  {
   "cell_type": "code",
   "execution_count": 39,
   "metadata": {},
   "outputs": [
    {
     "name": "stdout",
     "output_type": "stream",
     "text": [
      "yes\n"
     ]
    }
   ],
   "source": [
    "\n",
    "#The in and not in Operators\n",
    "if 'howdy' in ['hello', 'hi', 'howdy', 'heyas']:\n",
    "    print(\"yes\")\n",
    "else:\n",
    "    print(\"not\")"
   ]
  },
  {
   "cell_type": "code",
   "execution_count": 46,
   "metadata": {},
   "outputs": [
    {
     "data": {
      "text/plain": [
       "1"
      ]
     },
     "execution_count": 46,
     "metadata": {},
     "output_type": "execute_result"
    }
   ],
   "source": [
    "#Finding a Value in a List with the index() Method\n",
    "spam = ['Zophie', 'Pooka', 'Fat-tail', 'Pooka']\n",
    "spam.index('Pooka')"
   ]
  },
  {
   "cell_type": "code",
   "execution_count": 48,
   "metadata": {},
   "outputs": [
    {
     "name": "stdout",
     "output_type": "stream",
     "text": [
      "['cat', 'dog', 'bat', 'moose']\n"
     ]
    }
   ],
   "source": [
    "#Adding Values to Lists with the append()\n",
    "spam = ['cat', 'dog', 'bat']\n",
    "spam.append('moose')\n",
    "print(spam)"
   ]
  },
  {
   "cell_type": "code",
   "execution_count": 50,
   "metadata": {},
   "outputs": [
    {
     "name": "stdout",
     "output_type": "stream",
     "text": [
      "['cat', 'chicken', 'dog', 'bat']\n"
     ]
    }
   ],
   "source": [
    "#Adding Values to Lists with the insert() Methods\n",
    "spam = ['cat', 'dog', 'bat']\n",
    "spam.insert(1, 'chicken')\n",
    "print(spam)"
   ]
  },
  {
   "cell_type": "code",
   "execution_count": 52,
   "metadata": {},
   "outputs": [
    {
     "name": "stdout",
     "output_type": "stream",
     "text": [
      "[-7, 1, 2, 3.14, 5]\n"
     ]
    }
   ],
   "source": [
    "#Sorting the Values in a List with the sort() Method\n",
    "spam = [2, 5, 3.14, 1, -7]\n",
    "spam.sort()\n",
    "print(spam)"
   ]
  },
  {
   "cell_type": "code",
   "execution_count": 53,
   "metadata": {},
   "outputs": [
    {
     "name": "stdout",
     "output_type": "stream",
     "text": [
      "[5, 3.14, 2, 1, -7]\n"
     ]
    }
   ],
   "source": [
    "#Sorting the Values in a List with the sort() Method\n",
    "spam = [2, 5, 3.14, 1, -7]\n",
    "\n",
    "spam.sort(reverse=True)\n",
    "print(spam)"
   ]
  },
  {
   "cell_type": "code",
   "execution_count": null,
   "metadata": {},
   "outputs": [],
   "source": []
  },
  {
   "cell_type": "code",
   "execution_count": null,
   "metadata": {},
   "outputs": [],
   "source": []
  },
  {
   "cell_type": "code",
   "execution_count": null,
   "metadata": {},
   "outputs": [],
   "source": []
  },
  {
   "cell_type": "code",
   "execution_count": null,
   "metadata": {},
   "outputs": [],
   "source": []
  },
  {
   "cell_type": "code",
   "execution_count": null,
   "metadata": {},
   "outputs": [],
   "source": []
  },
  {
   "cell_type": "code",
   "execution_count": null,
   "metadata": {},
   "outputs": [],
   "source": [
    "\n"
   ]
  }
 ],
 "metadata": {
  "kernelspec": {
   "display_name": "Python 3",
   "language": "python",
   "name": "python3"
  },
  "language_info": {
   "codemirror_mode": {
    "name": "ipython",
    "version": 3
   },
   "file_extension": ".py",
   "mimetype": "text/x-python",
   "name": "python",
   "nbconvert_exporter": "python",
   "pygments_lexer": "ipython3",
   "version": "3.8.5"
  }
 },
 "nbformat": 4,
 "nbformat_minor": 4
}
