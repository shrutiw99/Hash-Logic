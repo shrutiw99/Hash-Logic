{
 "cells": [
  {
   "cell_type": "code",
   "execution_count": null,
   "metadata": {},
   "outputs": [],
   "source": [
    "l=int(input(\"Enter the length \"))\n",
    "b=int(input(\"Enter the breadth \"))\n",
    "\n",
    "if(l==b):\n",
    "    print(\"Its a square\")\n",
    "else:\n",
    "    print(\"not a square\")\n"
   ]
  },
  {
   "cell_type": "code",
   "execution_count": null,
   "metadata": {},
   "outputs": [],
   "source": [
    "a=int(input(\"Enter the length \"))\n",
    "b=int(input(\"Enter the breadth \"))\n",
    "\n",
    "if(a>b):\n",
    "    print(\"a is greater than b\")\n",
    "elif(a==b):\n",
    "    print(\"both are equal\")\n",
    "else:\n",
    "    print(\"b is greater than a \")"
   ]
  },
  {
   "cell_type": "code",
   "execution_count": null,
   "metadata": {},
   "outputs": [],
   "source": [
    "n=int(input(\"Enter the quantity \"))\n",
    "p=n*100\n",
    "if(p>1000):\n",
    "    print(\"Discount is 10% \")\n",
    "    d=(10*p)//100\n",
    "    p=p-d\n",
    "    print(f\"price is {p} \")\n",
    "else:\n",
    "   print(f\"price is {p} \")"
   ]
  },
  {
   "cell_type": "code",
   "execution_count": null,
   "metadata": {},
   "outputs": [],
   "source": [
    "salary=int(input(\"Enter the salary \"))\n",
    "service=int(input(\"Enter the years of service \"))\n",
    "if(service>5):\n",
    "    print(\"You will be given 5% bonus \")\n",
    "    bonus=(5*salary)//100\n",
    "    salary=salary+bonus\n",
    "    print(f\"Your salary is {salary} \")\n",
    "else:\n",
    "    print(f\"your salary is {salary} \")"
   ]
  },
  {
   "cell_type": "code",
   "execution_count": null,
   "metadata": {},
   "outputs": [],
   "source": [
    "n=int(input(\"Enter your marks : \"))\n",
    "print(\"Your Grade is : \")\n",
    "if (n<25):\n",
    "   print(\"F\")\n",
    "if(25<=n<=45):\n",
    "   print(\"E\")\n",
    "if(45<n<=50):\n",
    "   print(\"D\")\n",
    "if(50<n<=60):\n",
    "   print(\"C\")\n",
    "if(60<n<=80):\n",
    "   print(\"B\")\n",
    "if(n>80):\n",
    "   print(\"A\")"
   ]
  },
  {
   "cell_type": "code",
   "execution_count": null,
   "metadata": {},
   "outputs": [],
   "source": []
  },
  {
   "cell_type": "code",
   "execution_count": 10,
   "metadata": {},
   "outputs": [
    {
     "name": "stdout",
     "output_type": "stream",
     "text": [
      "Enter your age 10\n",
      "Enter your age 10\n",
      "Enter your age 20\n",
      "c is oldest and a and b is equal\n"
     ]
    }
   ],
   "source": [
    "a=int(input(\"Enter your age \"))\n",
    "b=int(input(\"Enter your age \"))\n",
    "c=int(input(\"Enter your age \"))\n",
    "if a==b==c:\n",
    "    print(\"all are equal\")\n",
    "elif (a>=b) and (a>=c):\n",
    "    if(b==a):\n",
    "        print(\"b and a is older than c\")\n",
    "    elif(c==a):\n",
    "        print(\"c and a is older than b\")\n",
    "    elif(b==c):\n",
    "        print(\"A is oldest b and c is equal\")\n",
    "    elif (b>c):\n",
    "        print(\"C is youngest and A is oldest\")\n",
    "    else:\n",
    "        print(\"B is youngest and A is oldest\")\n",
    "elif (b>a) and (b>c):\n",
    "    if(a==c):\n",
    "        print(\"B is oldest and a and c is equal\")\n",
    "    elif (b>c):\n",
    "        print(\"C is youngest and B is oldest\")\n",
    "    else:\n",
    "        print(\"A is youngest and B is oldest\")\n",
    "if (c>=b) and (c>a):    \n",
    "    if(b==c):\n",
    "        print(\"b and c is older than a\")\n",
    "    elif(a==b):\n",
    "         print(\"c is oldest and a and b is equal\")\n",
    "    elif (b>a):\n",
    "        print(\"A is youngest and C is oldest\")\n",
    "    else:\n",
    "        print(\"B is youngest and C is oldest\")\n",
    "\n"
   ]
  },
  {
   "cell_type": "code",
   "execution_count": 12,
   "metadata": {},
   "outputs": [
    {
     "name": "stdout",
     "output_type": "stream",
     "text": [
      "Enter the number -1\n",
      "1\n"
     ]
    }
   ],
   "source": [
    "n=int(input(\"Enter the number \"))\n",
    "if n>0:\n",
    "    print(n)\n",
    "else:\n",
    "    print(n*-1)"
   ]
  },
  {
   "cell_type": "markdown",
   "metadata": {},
   "source": []
  },
  {
   "cell_type": "code",
   "execution_count": null,
   "metadata": {},
   "outputs": [],
   "source": [
    "n=int(input(\"Enter the year :\"))\n",
    "if(n%4==0) and (n%100!=0) or (n%400==0):\n",
    "    print(\"leap year\")\n",
    "else:\n",
    "    print(\"not a leap year\")"
   ]
  },
  {
   "cell_type": "code",
   "execution_count": 19,
   "metadata": {},
   "outputs": [
    {
     "name": "stdout",
     "output_type": "stream",
     "text": [
      "Enter your age : 34\n",
      "Enter your Gender for male type'M' , and for female type 'F' : F\n",
      "Enter your marital status for yes type 'Y' ,and for no type 'N' :  F\n",
      "Only work in urban areas\n"
     ]
    }
   ],
   "source": [
    "age=int(input(\"Enter your age : \"))\n",
    "gender=input(\"Enter your Gender for male type'M' , and for female type 'F' : \")\n",
    "status=input(\"Enter your marital status for yes type 'Y' ,and for no type 'N' :  \")\n",
    "if (gender=='F'):\n",
    "    print(\"Only work in urban areas\")\n",
    "elif (gender=='M') and (20<age<=40):\n",
    "    print(\"Work from anywhere\")\n",
    "elif (gender=='M') and (40<age<=60):\n",
    "    print(\"Only work in urban areas\")\n",
    "else:\n",
    "    print(\"Error\")"
   ]
  },
  {
   "cell_type": "code",
   "execution_count": 31,
   "metadata": {},
   "outputs": [
    {
     "name": "stdout",
     "output_type": "stream",
     "text": [
      "Enter any number : 1234\n",
      "4321\n"
     ]
    }
   ],
   "source": [
    "n=int(input(\"Enter any number : \"))\n",
    "rev=0\n",
    "if(n>0):\n",
    "     rem=n%10\n",
    "     rev=(rev*10)+rem\n",
    "     n=n//10     \n",
    "if(n>0):\n",
    "     rem=n%10\n",
    "     rev=(rev*10)+rem\n",
    "     n=n//10  \n",
    "if(n>0):\n",
    "     rem=n%10\n",
    "     rev=(rev*10)+rem\n",
    "     n=n//10   \n",
    "if(n>0):\n",
    "     rem=n%10\n",
    "     rev=(rev*10)+rem\n",
    "     n=n//10\n",
    "     print(rev)\n",
    "else:\n",
    "    print(\"only positive\")\n",
    "    \n",
    "        "
   ]
  },
  {
   "cell_type": "code",
   "execution_count": null,
   "metadata": {},
   "outputs": [],
   "source": [
    "first,second,third=input(\"Enter your age \").split(\",\")\n",
    "if first >= second and first >= third:\n",
    "  print (\"Oldest is\",first)\n",
    "elif second >= first and second >= third:\n",
    "  print (\"Oldest is\",second)\n",
    "elif third >= first and third >= second:\n",
    "  print (\"Oldest is\",third)\n",
    "else:\n",
    "  print (\"All are equal\")"
   ]
  },
  {
   "cell_type": "code",
   "execution_count": 18,
   "metadata": {},
   "outputs": [
    {
     "name": "stdout",
     "output_type": "stream",
     "text": [
      "Enter the number of classes 100\n",
      "Enter the classes attended 45\n",
      "Do you have a medical condition for yes type 'Y' and for no type 'N' Y\n",
      " allowed\n"
     ]
    }
   ],
   "source": [
    "a=int(input(\"Enter the number of classes \"))\n",
    "b=int(input(\"Enter the classes attended \"))\n",
    "p=(b/a)*100\n",
    "if b>a:\n",
    "    print(\"Check your values : \")\n",
    "elif (p<75):\n",
    "    medical=input(\"Do you have a medical condition for yes type 'Y' and for no type 'N' \")\n",
    "    if medical==\"Y\":\n",
    "     print(\" allowed\")\n",
    "    else:\n",
    "     print(\"not allowed\")\n",
    "    \n",
    "else:\n",
    "    print(\" allowed \")\n"
   ]
  },
  {
   "cell_type": "code",
   "execution_count": 36,
   "metadata": {},
   "outputs": [
    {
     "name": "stdout",
     "output_type": "stream",
     "text": [
      "Enter any number : -345\n",
      "only positive\n"
     ]
    }
   ],
   "source": [
    "n=int(input(\"Enter any number : \"))\n",
    "rev=0\n",
    "if(n>0):\n",
    "    while(n!=0):\n",
    "     rem=n%10\n",
    "     rev=(rev*10)+rem\n",
    "     n=n//10\n",
    "    print(rev)\n",
    "else:\n",
    "    print(\"only positive\")"
   ]
  },
  {
   "cell_type": "code",
   "execution_count": null,
   "metadata": {},
   "outputs": [],
   "source": []
  }
 ],
 "metadata": {
  "kernelspec": {
   "display_name": "Python 3",
   "language": "python",
   "name": "python3"
  },
  "language_info": {
   "codemirror_mode": {
    "name": "ipython",
    "version": 3
   },
   "file_extension": ".py",
   "mimetype": "text/x-python",
   "name": "python",
   "nbconvert_exporter": "python",
   "pygments_lexer": "ipython3",
   "version": "3.8.5"
  }
 },
 "nbformat": 4,
 "nbformat_minor": 4
}
