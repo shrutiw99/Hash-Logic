{
 "cells": [
  {
   "cell_type": "code",
   "execution_count": null,
   "metadata": {},
   "outputs": [],
   "source": [
    "name=\"                     Kulbir                 \"\n",
    "dots=\"..............................................\"\n",
    "print(name+dots)\n",
    "print(name.lstrip()+dots)\n",
    "print(name.rstrip()+dots)\n",
    "print(name.strip()+dots)\n",
    "print(name.replace(\" \",\"\")+dots)\n",
    "\n"
   ]
  },
  {
   "cell_type": "code",
   "execution_count": null,
   "metadata": {},
   "outputs": [],
   "source": [
    "name,char=input(\"user name and character \").split(\",\")\n",
    "print(len(name))\n",
    "print(name.lower())\n",
    "print(name.upper())\n",
    "print(name.count(\"e\"))\n",
    "print(name.title())#first letter to capital"
   ]
  },
  {
   "cell_type": "code",
   "execution_count": null,
   "metadata": {},
   "outputs": [],
   "source": [
    "a = \"          Hello,    World!            \" #removes spaces from beginning and end\n",
    "print(a.strip())\n",
    "a = \"Hello, World!\"\n",
    "print(a.replace(\"H\", \"J\")) #replace h with j\n",
    "a = \"Hello, World!\"\n",
    "print(a.split(\",\")) # returns ['Hello', ' World!']\n",
    "#This example erases one character (backspace):\n",
    "txt = \"Hello \\bWorld!\"\n",
    "print(txt) \n"
   ]
  },
  {
   "cell_type": "code",
   "execution_count": null,
   "metadata": {},
   "outputs": [],
   "source": [
    "itemno = 567\n",
    "price = 49.95\n",
    "quantity = 3\n",
    "\n",
    "print(\"I want {} pieces of item {} for {} dollars\".format(quantity,itemno,price))"
   ]
  },
  {
   "cell_type": "code",
   "execution_count": null,
   "metadata": {},
   "outputs": [],
   "source": [
    "# {2} for price {1} for item no and {0} for quantity\n",
    "quantity = 3\n",
    "itemno = 567\n",
    "price = 49.95\n",
    "\n",
    "print(\"I want to pay {2} dollars for {0} pieces of item {1}.\".format(quantity, itemno, price))"
   ]
  },
  {
   "cell_type": "code",
   "execution_count": null,
   "metadata": {},
   "outputs": [],
   "source": [
    "#replace left with right\n",
    "\n",
    "txt = \"Hello World!\\rneha\"\n",
    "print(txt) \n"
   ]
  },
  {
   "cell_type": "code",
   "execution_count": 2,
   "metadata": {},
   "outputs": [
    {
     "name": "stdout",
     "output_type": "stream",
     "text": [
      "    geeks for geeks    \n",
      "geeks for geeks\n",
      "for\n",
      "    geeks for geeks    \n",
      "geeks for geeks    \n",
      "    geeks for geeks\n"
     ]
    }
   ],
   "source": [
    "string = \"\"\"    geeks for geeks    \"\"\" \n",
    "  \n",
    "# prints the string without stripping \n",
    "print(string)  \n",
    "  \n",
    "# prints the string by removing leading and trailing whitespaces \n",
    "print(string.strip())    \n",
    "  \n",
    "# prints the string by removing geeks \n",
    "print(string.strip(' geeks')) \n",
    "\n",
    "str2=\"ek\"\n",
    "print(string.strip(str2))\n",
    "print(string.lstrip())\n",
    "print(string.rstrip())\n",
    "\n",
    "\n"
   ]
  },
  {
   "cell_type": "code",
   "execution_count": 7,
   "metadata": {},
   "outputs": [
    {
     "name": "stdout",
     "output_type": "stream",
     "text": [
      "geeks for geeks\n",
      "geeks for geeks\n"
     ]
    }
   ],
   "source": [
    "# Python Program to demonstrate use of strip() method  \n",
    "  \n",
    "str1 = 'geeks for geeks'\n",
    "# Print the string without striping. \n",
    "print(str1) \n",
    "  \n",
    "# String whose set of characters are to be \n",
    "# remove from original string at both its ends. \n",
    "str2 = 'ekf'\n",
    "  \n",
    "# Print string after striping str2 from str1 at both its end. \n",
    "print(str1.strip(str2)) "
   ]
  },
  {
   "cell_type": "code",
   "execution_count": 1,
   "metadata": {},
   "outputs": [
    {
     "name": "stdout",
     "output_type": "stream",
     "text": [
      "cat 3\n",
      "words 5\n",
      "integration 11\n"
     ]
    }
   ],
   "source": [
    "words=[\"cat\",\"words\",\"integration\"]\n",
    "for w in words:\n",
    "    print(w,len(w))\n",
    "    \n"
   ]
  },
  {
   "cell_type": "code",
   "execution_count": 3,
   "metadata": {},
   "outputs": [
    {
     "name": "stdout",
     "output_type": "stream",
     "text": [
      "enter a number and should be greate than two number89\n",
      "sum is 17\n"
     ]
    }
   ],
   "source": [
    "a=int(input(\"enter a number and should be greate than two number\"))\n",
    "\n",
    "s=0 #garbage value take if s is not intitialised\n",
    "while a>0:\n",
    " r=a%10\n",
    " s=s+r\n",
    " a=a//10\n",
    "\n",
    "print(\"sum is\",s)"
   ]
  },
  {
   "cell_type": "code",
   "execution_count": null,
   "metadata": {},
   "outputs": [],
   "source": [
    "a=int(input(\"enter the number whose table you want to print\"))\n",
    "\n",
    "for i in range(1,11):\n",
    "    s=a*i\n",
    "    print(a,'*',i,'=',s)\n",
    "  "
   ]
  },
  {
   "cell_type": "code",
   "execution_count": null,
   "metadata": {},
   "outputs": [],
   "source": []
  }
 ],
 "metadata": {
  "kernelspec": {
   "display_name": "Python 3",
   "language": "python",
   "name": "python3"
  },
  "language_info": {
   "codemirror_mode": {
    "name": "ipython",
    "version": 3
   },
   "file_extension": ".py",
   "mimetype": "text/x-python",
   "name": "python",
   "nbconvert_exporter": "python",
   "pygments_lexer": "ipython3",
   "version": "3.8.5"
  }
 },
 "nbformat": 4,
 "nbformat_minor": 4
}
