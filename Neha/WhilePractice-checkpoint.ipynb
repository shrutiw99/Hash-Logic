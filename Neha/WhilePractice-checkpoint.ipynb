{
 "cells": [
  {
   "cell_type": "code",
   "execution_count": 8,
   "metadata": {},
   "outputs": [
    {
     "name": "stdout",
     "output_type": "stream",
     "text": [
      "*\n",
      "**\n",
      "***\n",
      "****\n",
      "*****\n"
     ]
    }
   ],
   "source": [
    "a = 5\n",
    "b = 1\n",
    "while a>0:\n",
    "    while b<=5:\n",
    "        print(\"*\"*b)\n",
    "        b = b+1\n",
    "        a = a-1"
   ]
  },
  {
   "cell_type": "code",
   "execution_count": 2,
   "metadata": {},
   "outputs": [
    {
     "name": "stdout",
     "output_type": "stream",
     "text": [
      "Enter the number : 1\n",
      "Enter the number : 2\n",
      "Enter the number : 3\n",
      "Enter the number : 4\n",
      "Enter the number : 5\n",
      "Enter the number : 6\n",
      "Enter the number : 7\n",
      "Enter the number : 8\n",
      "Enter the number : 9\n",
      "Enter the number : 9\n",
      "5.4\n"
     ]
    }
   ],
   "source": [
    "#Take 10 integers from keyboard using loop and print their average value on the screen.\n",
    "sum=0\n",
    "average=0\n",
    "a=10\n",
    "while a>0:\n",
    "   b= int(input(\"Enter the number : \"))\n",
    "   sum=sum+b\n",
    "   average=sum/10\n",
    "   a=a-1\n",
    "print(average)\n",
    "sum = 0\n",
    "\n"
   ]
  },
  {
   "cell_type": "markdown",
   "metadata": {},
   "source": []
  },
  {
   "cell_type": "code",
   "execution_count": 4,
   "metadata": {},
   "outputs": [
    {
     "ename": "IndentationError",
     "evalue": "unindent does not match any outer indentation level (<tokenize>, line 9)",
     "output_type": "error",
     "traceback": [
      "\u001b[1;36m  File \u001b[1;32m\"<tokenize>\"\u001b[1;36m, line \u001b[1;32m9\u001b[0m\n\u001b[1;33m    ***\u001b[0m\n\u001b[1;37m    ^\u001b[0m\n\u001b[1;31mIndentationError\u001b[0m\u001b[1;31m:\u001b[0m unindent does not match any outer indentation level\n"
     ]
    }
   ],
   "source": [
    "Print the following patterns using loop :\n",
    "a.\n",
    "*\n",
    "**\n",
    "***\n",
    "****\n",
    "b.\n",
    "   *  \n",
    " *** \n",
    "*****\n",
    " *** \n",
    "   *  \n",
    "c.\n",
    "1010101\n",
    " 10101 \n",
    "  101  \n",
    "   1   "
   ]
  },
  {
   "cell_type": "code",
   "execution_count": 12,
   "metadata": {},
   "outputs": [
    {
     "name": "stdout",
     "output_type": "stream",
     "text": [
      "*\n",
      "**\n",
      "***\n",
      "****\n"
     ]
    }
   ],
   "source": [
    "#a.\n",
    "#*\n",
    "#**\n",
    "#***\n",
    "#****\n",
    "a=4\n",
    "b=1\n",
    "while a>0:\n",
    "    while b<=4:\n",
    "        print(\"*\"*b)\n",
    "        b=b+1\n",
    "        a=a-1\n"
   ]
  },
  {
   "cell_type": "code",
   "execution_count": 16,
   "metadata": {},
   "outputs": [
    {
     "name": "stdout",
     "output_type": "stream",
     "text": [
      "* \n",
      "* * \n",
      "* * * \n",
      "* * * * \n",
      "* * * * * \n"
     ]
    }
   ],
   "source": [
    "#b.\n",
    "#   *  \n",
    "#  *** \n",
    "# *****\n",
    "#  *** \n",
    " #  *  \n",
    "    \n",
    "a=5\n",
    "b=1\n",
    "while a>0:\n",
    "    while b<=5:\n",
    "        print(\"* \"*b)\n",
    "        b=b+1\n",
    "        a=a-1\n"
   ]
  },
  {
   "cell_type": "code",
   "execution_count": null,
   "metadata": {},
   "outputs": [],
   "source": []
  }
 ],
 "metadata": {
  "kernelspec": {
   "display_name": "Python 3",
   "language": "python",
   "name": "python3"
  },
  "language_info": {
   "codemirror_mode": {
    "name": "ipython",
    "version": 3
   },
   "file_extension": ".py",
   "mimetype": "text/x-python",
   "name": "python",
   "nbconvert_exporter": "python",
   "pygments_lexer": "ipython3",
   "version": "3.8.5"
  }
 },
 "nbformat": 4,
 "nbformat_minor": 4
}
