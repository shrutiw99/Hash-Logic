{
 "cells": [
  {
   "cell_type": "code",
   "execution_count": 2,
   "metadata": {},
   "outputs": [
    {
     "name": "stdout",
     "output_type": "stream",
     "text": [
      "version\n",
      "3.8.5 (default, Sep  3 2020, 21:29:08) [MSC v.1916 64 bit (AMD64)]\n"
     ]
    }
   ],
   "source": [
    "import sys\n",
    "print(\"version\")\n",
    "print (sys.version)"
   ]
  },
  {
   "cell_type": "code",
   "execution_count": 3,
   "metadata": {},
   "outputs": [
    {
     "name": "stdout",
     "output_type": "stream",
     "text": [
      "Current date and time is  2021-03-24 10:23:22.827561\n"
     ]
    }
   ],
   "source": [
    "import datetime\n",
    "date_time=datetime.datetime.now()\n",
    "print(\"Current date and time is \",date_time)"
   ]
  },
  {
   "cell_type": "code",
   "execution_count": 4,
   "metadata": {},
   "outputs": [
    {
     "name": "stdout",
     "output_type": "stream",
     "text": [
      "Enter the name : neha sharma\n",
      "amrahs ahen\n"
     ]
    }
   ],
   "source": [
    "a=input(\"Enter the full name : \")\n",
    "print(a[::-1])"
   ]
  },
  {
   "cell_type": "code",
   "execution_count": null,
   "metadata": {},
   "outputs": [],
   "source": []
  },
  {
   "cell_type": "code",
   "execution_count": 70,
   "metadata": {},
   "outputs": [
    {
     "name": "stdout",
     "output_type": "stream",
     "text": [
      "Enter the string : neha is is\n",
      "is neha is is\n"
     ]
    }
   ],
   "source": [
    "a=input(\"Enter the string : \")\n",
    "if a[0]==\"i\" and a[1]==\"s\":\n",
    "    print(a)\n",
    "else:\n",
    "    print(\"is \"+a)"
   ]
  },
  {
   "cell_type": "code",
   "execution_count": 71,
   "metadata": {},
   "outputs": [
    {
     "name": "stdout",
     "output_type": "stream",
     "text": [
      "enter the first number 5\n",
      "enter the second number 10\n",
      "hcf 5\n",
      "lcm 10\n"
     ]
    }
   ],
   "source": [
    "x=int(input(\"enter the first number \"))\n",
    "y=int(input(\"enter the second number \"))\n",
    "z=x*y\n",
    "if x>y:\n",
    "    s=y\n",
    "else:\n",
    "    s=x\n",
    "for i in range(1,s+1):\n",
    "  if(x%i==0)and(y%i==0):\n",
    "     h=i\n",
    "print(\"hcf\",h)\n",
    "l=z//h\n",
    "print(\"lcm\",l)"
   ]
  },
  {
   "cell_type": "code",
   "execution_count": 75,
   "metadata": {},
   "outputs": [
    {
     "name": "stdout",
     "output_type": "stream",
     "text": [
      "enter the first number 6\n",
      "enter the second number 9\n",
      "enter the third number 3\n",
      "3 6 9\n"
     ]
    }
   ],
   "source": [
    "a=int(input(\"enter the first number \"))\n",
    "b=int(input(\"enter the second number \"))\n",
    "c=int(input(\"enter the third number \"))\n",
    "\n",
    "m=max(a,b,c)\n",
    "z=min(a,b,c)\n",
    "middle=(a+b+c)-z-m\n",
    "print(z,middle,m)\n",
    "\n"
   ]
  },
  {
   "cell_type": "code",
   "execution_count": 21,
   "metadata": {},
   "outputs": [
    {
     "name": "stdout",
     "output_type": "stream",
     "text": [
      "Enter the charatcer : A\n",
      "The ascii vale of A is  65\n"
     ]
    }
   ],
   "source": [
    "character=input(\"Enter the charatcer : \")\n",
    "print(f\"The ascii vale of {character} is \",ord(character))"
   ]
  },
  {
   "cell_type": "code",
   "execution_count": 67,
   "metadata": {},
   "outputs": [
    {
     "name": "stdout",
     "output_type": "stream",
     "text": [
      "Enter the number : 5\n",
      "615\n"
     ]
    }
   ],
   "source": [
    "n=int(input(\"Enter the number : \"))\n",
    "s=(n+((n*10)+n)+((n*100)+(n*10)+n))\n",
    "print(s)"
   ]
  },
  {
   "cell_type": "code",
   "execution_count": null,
   "metadata": {},
   "outputs": [],
   "source": []
  },
  {
   "cell_type": "code",
   "execution_count": null,
   "metadata": {},
   "outputs": [],
   "source": []
  }
 ],
 "metadata": {
  "kernelspec": {
   "display_name": "Python 3",
   "language": "python",
   "name": "python3"
  },
  "language_info": {
   "codemirror_mode": {
    "name": "ipython",
    "version": 3
   },
   "file_extension": ".py",
   "mimetype": "text/x-python",
   "name": "python",
   "nbconvert_exporter": "python",
   "pygments_lexer": "ipython3",
   "version": "3.8.5"
  }
 },
 "nbformat": 4,
 "nbformat_minor": 4
}
