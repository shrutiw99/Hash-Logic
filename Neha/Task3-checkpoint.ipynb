{
 "cells": [
  {
   "cell_type": "code",
   "execution_count": 9,
   "metadata": {},
   "outputs": [
    {
     "name": "stdout",
     "output_type": "stream",
     "text": [
      "Your name lhjdbs\n",
      "Your age 2\n",
      "you can't\n"
     ]
    }
   ],
   "source": [
    "name=input(\"Your name \")\n",
    "age=int(input(\"Your age \"))\n",
    "if (age>=10) and (name[0]=='s' or name[0]=='S'):\n",
    "    \n",
    "  print(\"you can watch\")\n",
    "else:\n",
    "    print(\"you can't\")"
   ]
  },
  {
   "cell_type": "code",
   "execution_count": 12,
   "metadata": {},
   "outputs": [
    {
     "name": "stdout",
     "output_type": "stream",
     "text": [
      "enter price9000\n",
      "give 10% discount\n",
      "8100\n"
     ]
    }
   ],
   "source": [
    "n=int(input(\"enter price\"))\n",
    "amount=0\n",
    "if n<1000:\n",
    "    print(\"give 5% discount\")\n",
    "    discount=(5*n)//100\n",
    "    amount=n-discount\n",
    "    print(amount)\n",
    "else:\n",
    "    print(\"give 10% discount\")\n",
    "    discount=(10*n)//100\n",
    "    amount=n-discount\n",
    "    print(amount)\n"
   ]
  },
  {
   "cell_type": "code",
   "execution_count": 16,
   "metadata": {},
   "outputs": [
    {
     "name": "stdout",
     "output_type": "stream",
     "text": [
      "enter number5\n",
      "not divisible by both\n"
     ]
    }
   ],
   "source": [
    "n=int(input(\"enter number\"))\n",
    "if n%2==0:\n",
    "  if n%3==0:\n",
    "    print(\"divisible by both 2 and 3\")\n",
    "  else:\n",
    "    print(\"divisible by 2 but not by 3\")\n",
    "    \n",
    "else:\n",
    "    if n%3==0 and n%2!=0:\n",
    "        print(\"divisible by 3 but not by 2\")\n",
    "    else:\n",
    "        print(\"not divisible by both\")"
   ]
  },
  {
   "cell_type": "code",
   "execution_count": null,
   "metadata": {},
   "outputs": [],
   "source": []
  },
  {
   "cell_type": "code",
   "execution_count": null,
   "metadata": {},
   "outputs": [],
   "source": []
  }
 ],
 "metadata": {
  "kernelspec": {
   "display_name": "Python 3",
   "language": "python",
   "name": "python3"
  },
  "language_info": {
   "codemirror_mode": {
    "name": "ipython",
    "version": 3
   },
   "file_extension": ".py",
   "mimetype": "text/x-python",
   "name": "python",
   "nbconvert_exporter": "python",
   "pygments_lexer": "ipython3",
   "version": "3.8.5"
  }
 },
 "nbformat": 4,
 "nbformat_minor": 4
}
