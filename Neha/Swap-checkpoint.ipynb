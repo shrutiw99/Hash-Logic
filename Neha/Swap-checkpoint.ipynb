{
 "cells": [
  {
   "cell_type": "code",
   "execution_count": 3,
   "metadata": {},
   "outputs": [
    {
     "name": "stdout",
     "output_type": "stream",
     "text": [
      "enter first number: 2\n",
      "enter second number: 3\n",
      "before swapping :  2 3\n",
      "after swapping :  3 2\n"
     ]
    }
   ],
   "source": [
    "a=int(input(\"enter first number: \"))\n",
    "b=int(input(\"enter second number: \"))\n",
    "\n",
    "print(\"before swapping : \",a,b)\n",
    "\n",
    "a,b=b,a\n",
    "print(\"after swapping : \",a,b)"
   ]
  },
  {
   "cell_type": "code",
   "execution_count": 5,
   "metadata": {},
   "outputs": [
    {
     "name": "stdout",
     "output_type": "stream",
     "text": [
      "enter first number: 2\n",
      "enter second number: 3\n",
      "before swapping :  2 3\n",
      "after swapping :  3 2\n"
     ]
    }
   ],
   "source": [
    "a=int(input(\"enter first number: \"))\n",
    "b=int(input(\"enter second number: \"))\n",
    "print(\"before swapping : \",a,b)\n",
    "\n",
    "a=a+b\n",
    "b=a-b\n",
    "a=a-b\n",
    "\n",
    "print(\"after swapping : \",a,b)"
   ]
  },
  {
   "cell_type": "code",
   "execution_count": 8,
   "metadata": {},
   "outputs": [
    {
     "name": "stdout",
     "output_type": "stream",
     "text": [
      "enter first number: 3\n",
      "enter second number: 2\n",
      "before swapping :  3 2\n",
      "after swapping :  2 3\n"
     ]
    }
   ],
   "source": [
    "a=int(input(\"enter first number: \"))\n",
    "b=int(input(\"enter second number: \"))\n",
    "print(\"before swapping : \",a,b)\n",
    "\n",
    "a=a*b\n",
    "b=a//b\n",
    "a=a//b\n",
    "\n",
    "print(\"after swapping : \",a,b)"
   ]
  },
  {
   "cell_type": "code",
   "execution_count": 9,
   "metadata": {},
   "outputs": [
    {
     "name": "stdout",
     "output_type": "stream",
     "text": [
      "enter first number: 2\n",
      "enter second number: 3\n",
      "before swapping :  2 3\n",
      "after swapping :  3 2\n"
     ]
    }
   ],
   "source": [
    "a=int(input(\"enter first number: \"))\n",
    "b=int(input(\"enter second number: \"))\n",
    "print(\"before swapping : \",a,b)\n",
    "\n",
    "a=a^b\n",
    "b=a^b\n",
    "a=a^b\n",
    "\n",
    "print(\"after swapping : \",a,b)"
   ]
  },
  {
   "cell_type": "code",
   "execution_count": null,
   "metadata": {},
   "outputs": [],
   "source": []
  }
 ],
 "metadata": {
  "kernelspec": {
   "display_name": "Python 3",
   "language": "python",
   "name": "python3"
  },
  "language_info": {
   "codemirror_mode": {
    "name": "ipython",
    "version": 3
   },
   "file_extension": ".py",
   "mimetype": "text/x-python",
   "name": "python",
   "nbconvert_exporter": "python",
   "pygments_lexer": "ipython3",
   "version": "3.8.5"
  }
 },
 "nbformat": 4,
 "nbformat_minor": 4
}
