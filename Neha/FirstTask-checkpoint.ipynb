{
 "cells": [
  {
   "cell_type": "code",
   "execution_count": 2,
   "metadata": {},
   "outputs": [
    {
     "name": "stdout",
     "output_type": "stream",
     "text": [
      "hello \"world\"\n"
     ]
    }
   ],
   "source": [
    "print(\"hello \\\"world\\\"\")"
   ]
  },
  {
   "cell_type": "code",
   "execution_count": 3,
   "metadata": {},
   "outputs": [
    {
     "name": "stdout",
     "output_type": "stream",
     "text": [
      "I am neha\n"
     ]
    }
   ],
   "source": [
    "print(\"I am neha\")"
   ]
  },
  {
   "cell_type": "code",
   "execution_count": 4,
   "metadata": {},
   "outputs": [
    {
     "name": "stdout",
     "output_type": "stream",
     "text": [
      "I 'am' neha\n"
     ]
    }
   ],
   "source": [
    "print(\"I 'am' neha\")"
   ]
  },
  {
   "cell_type": "code",
   "execution_count": 6,
   "metadata": {},
   "outputs": [
    {
     "name": "stdout",
     "output_type": "stream",
     "text": [
      "I 'am' neha\n"
     ]
    }
   ],
   "source": [
    "print(\"I \\'am\\' neha\")"
   ]
  },
  {
   "cell_type": "code",
   "execution_count": 7,
   "metadata": {},
   "outputs": [
    {
     "name": "stdout",
     "output_type": "stream",
     "text": [
      "this is \\\\ double backslash\n"
     ]
    }
   ],
   "source": [
    "print(\"this is \\\\\\\\ double backslash\")"
   ]
  },
  {
   "cell_type": "code",
   "execution_count": 8,
   "metadata": {},
   "outputs": [
    {
     "name": "stdout",
     "output_type": "stream",
     "text": [
      "these are /\\/\\/\\/\\ mountains\n"
     ]
    }
   ],
   "source": [
    "print(\"these are /\\\\/\\\\/\\\\/\\\\ mountains\")"
   ]
  },
  {
   "cell_type": "code",
   "execution_count": 10,
   "metadata": {},
   "outputs": [
    {
     "name": "stdout",
     "output_type": "stream",
     "text": [
      "he is \t awesome\n"
     ]
    }
   ],
   "source": [
    "print(\"he is \\t awesome\")"
   ]
  },
  {
   "cell_type": "code",
   "execution_count": 20,
   "metadata": {},
   "outputs": [
    {
     "name": "stdout",
     "output_type": "stream",
     "text": [
      "\\\"\\n\\t\\'\n"
     ]
    }
   ],
   "source": [
    "print(\"\\\\\\\"\\\\n\\\\t\\\\'\")"
   ]
  },
  {
   "cell_type": "code",
   "execution_count": 19,
   "metadata": {},
   "outputs": [
    {
     "name": "stdout",
     "output_type": "stream",
     "text": [
      "\\\"\\n\\t\\'\n"
     ]
    }
   ],
   "source": [
    "print(\"\\\\\\\"\\\\n\\\\t\\\\'\")"
   ]
  },
  {
   "cell_type": "code",
   "execution_count": 21,
   "metadata": {},
   "outputs": [
    {
     "name": "stdout",
     "output_type": "stream",
     "text": [
      "\\\"\\n\\t\\'\n"
     ]
    }
   ],
   "source": [
    "print(r\"\\\"\\n\\t\\'\")"
   ]
  },
  {
   "cell_type": "code",
   "execution_count": 36,
   "metadata": {},
   "outputs": [
    {
     "name": "stdout",
     "output_type": "stream",
     "text": [
      "Enter your first name Nehw\n",
      "Enter your last name shar\n",
      "Nehw shar\n",
      "Nehw 5\n",
      "Nehw5\n"
     ]
    }
   ],
   "source": [
    "First=input(\"Enter your first name \")\n",
    "Last=input(\"Enter your last name \")\n",
    "full_name=print(First+\" \"+Last)\n",
    "print(First +\" 5\")\n",
    "print(First + str(5))"
   ]
  },
  {
   "cell_type": "code",
   "execution_count": 1,
   "metadata": {},
   "outputs": [
    {
     "name": "stdout",
     "output_type": "stream",
     "text": [
      "Enter your first number4\n",
      "Enter your second number5\n",
      "Sum is  9\n",
      "enter your first and second number3,5\n",
      "numbers are  8\n"
     ]
    }
   ],
   "source": [
    "num1=int(input(\"Enter your first number\"))\n",
    "num2=int(input(\"Enter your second number\"))\n",
    "sum=num1+num2\n",
    "print(\"Sum is \",sum)\n",
    "a,b=input(\"enter your first and second number\").split(\",\")\n",
    "sum = int(a)+int(b)\n",
    "print(\"numbers are \",sum)\n"
   ]
  },
  {
   "cell_type": "code",
   "execution_count": null,
   "metadata": {},
   "outputs": [],
   "source": [
    "a,b=int(input(\"enter your first\"))"
   ]
  },
  {
   "cell_type": "markdown",
   "metadata": {},
   "source": [
    "##### "
   ]
  },
  {
   "cell_type": "code",
   "execution_count": null,
   "metadata": {},
   "outputs": [],
   "source": []
  }
 ],
 "metadata": {
  "kernelspec": {
   "display_name": "Python 3",
   "language": "python",
   "name": "python3"
  },
  "language_info": {
   "codemirror_mode": {
    "name": "ipython",
    "version": 3
   },
   "file_extension": ".py",
   "mimetype": "text/x-python",
   "name": "python",
   "nbconvert_exporter": "python",
   "pygments_lexer": "ipython3",
   "version": "3.8.5"
  }
 },
 "nbformat": 4,
 "nbformat_minor": 4
}
