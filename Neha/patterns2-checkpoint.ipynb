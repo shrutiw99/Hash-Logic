{
 "cells": [
  {
   "cell_type": "code",
   "execution_count": 4,
   "metadata": {},
   "outputs": [
    {
     "name": "stdout",
     "output_type": "stream",
     "text": [
      "enter number of rows 5\n",
      "55555 \n",
      "44444 \n",
      "33333 \n",
      "22222 \n",
      "11111 \n"
     ]
    }
   ],
   "source": [
    "n=int(input(\"enter number of rows \"))\n",
    "for i in range(n,0,-1):\n",
    "    for j in range(0,n):\n",
    "        print(i, end=\"\")\n",
    "    print(\" \")"
   ]
  },
  {
   "cell_type": "code",
   "execution_count": 6,
   "metadata": {},
   "outputs": [
    {
     "name": "stdout",
     "output_type": "stream",
     "text": [
      "enter number of rows 5\n",
      "54321 \n",
      "54321 \n",
      "54321 \n",
      "54321 \n",
      "54321 \n"
     ]
    }
   ],
   "source": [
    "n=int(input(\"enter number of rows \"))\n",
    "for i in range(0,n):\n",
    "    for j in range(n,0,-1):\n",
    "        print(j, end=\"\")\n",
    "    print(\" \")"
   ]
  },
  {
   "cell_type": "code",
   "execution_count": 9,
   "metadata": {},
   "outputs": [
    {
     "name": "stdout",
     "output_type": "stream",
     "text": [
      "enter number of rows 5\n",
      "A \n",
      "B C \n",
      "D E F \n",
      "G H I J \n",
      "K L M N O \n"
     ]
    }
   ],
   "source": [
    "n=input(\"enter number of rows \")\n",
    "\n",
    "    \n",
    "asciiValue = 65    \n",
    "for i in range(0, 5):  \n",
    "    for j in range(0, i + 1):  \n",
    "       \n",
    "        alphabate = chr(asciiValue)  \n",
    "        print(alphabate, end=' ')  \n",
    "        asciiValue += 1  \n",
    "    print()  "
   ]
  },
  {
   "cell_type": "code",
   "execution_count": 27,
   "metadata": {},
   "outputs": [
    {
     "name": "stdout",
     "output_type": "stream",
     "text": [
      "enter number of rows 6\n",
      "          *  \n",
      "        * *  \n",
      "      * * *  \n",
      "    * * * *  \n",
      "  * * * * *  \n",
      "* * * * * *  \n"
     ]
    }
   ],
   "source": [
    "totalrows=int(input(\"enter number of rows \"))\n",
    "for rows in range(1,totalrows+1):\n",
    "    for j in range(1,(totalrows-rows)+1):\n",
    "      print(\" \",end=\" \")\n",
    "    for k in range(1,rows+1):\n",
    "      print(\"*\",end=\" \")\n",
    "    \n",
    "    print(\" \")   \n",
    "    "
   ]
  },
  {
   "cell_type": "code",
   "execution_count": 24,
   "metadata": {},
   "outputs": [
    {
     "name": "stdout",
     "output_type": "stream",
     "text": [
      "enter number of rows 5\n",
      "        *   \n",
      "      *  *   \n",
      "    *  *  *   \n",
      "  *  *  *  *   \n",
      "*  *  *  *  *   \n"
     ]
    }
   ],
   "source": [
    "n=int(input(\"enter number of rows \"))\n",
    "for i in range(1,n+1):\n",
    "    for j in range(1,(n-i)+1):\n",
    "      print(\" \",end=\" \")\n",
    "    for k in range(1,i+1):\n",
    "      print(\"* \",end=\" \")\n",
    "    \n",
    "    print(\" \")   \n",
    "    "
   ]
  },
  {
   "cell_type": "code",
   "execution_count": 25,
   "metadata": {},
   "outputs": [
    {
     "name": "stdout",
     "output_type": "stream",
     "text": [
      "enter number of rows 4\n",
      "* \n",
      "** \n",
      "*** \n",
      "**** \n"
     ]
    }
   ],
   "source": [
    "n=int(input(\"enter number of rows \"))\n",
    "for i in range(n):\n",
    "    for j in range(n):\n",
    "        if (j<=i):\n",
    "         print(\"*\", end=\"\")\n",
    "    print(\" \")\n",
    "    \n",
    "    "
   ]
  },
  {
   "cell_type": "code",
   "execution_count": 45,
   "metadata": {},
   "outputs": [
    {
     "name": "stdout",
     "output_type": "stream",
     "text": [
      "enter number of rows 6\n",
      "****** \n",
      "***** \n",
      "**** \n",
      "*** \n",
      "** \n",
      "* \n"
     ]
    }
   ],
   "source": [
    "n=int(input(\"enter number of rows \"))\n",
    "for i in range(0,n):\n",
    "    for j in range(n,i,-1):\n",
    "        if (i<=j):\n",
    "         print(\"*\", end=\"\")\n",
    "    print(\" \")"
   ]
  },
  {
   "cell_type": "code",
   "execution_count": 48,
   "metadata": {},
   "outputs": [
    {
     "name": "stdout",
     "output_type": "stream",
     "text": [
      "enter number of rows 5\n",
      "*  \n",
      "* *  \n",
      "* * *  \n",
      "* * * *  \n",
      "* * * * *  \n"
     ]
    }
   ],
   "source": [
    "n=int(input(\"enter number of rows \"))\n",
    "for i in range(n):\n",
    "    for j in range(n):\n",
    "        if (j<=i):\n",
    "         print(\"* \", end=\"\")\n",
    "    print(\" \")\n",
    "    \n",
    "    \n"
   ]
  },
  {
   "cell_type": "code",
   "execution_count": null,
   "metadata": {},
   "outputs": [],
   "source": [
    "n=int(input(\"enter number of rows \"))\n",
    "for i in range(n):\n",
    "    for j in range(n):\n",
    "        print(\"*\", end=\"\")\n",
    "    print(\" \")\n",
    "    \n",
    "    \n"
   ]
  },
  {
   "cell_type": "code",
   "execution_count": null,
   "metadata": {},
   "outputs": [],
   "source": [
    "n=int(input(\"enter number of rows \"))\n",
    "for i in range(1,n+1):\n",
    "    for j in range(1,n+1):\n",
    "        print(j, end=\"\")\n",
    "    print(\" \")"
   ]
  },
  {
   "cell_type": "code",
   "execution_count": null,
   "metadata": {},
   "outputs": [],
   "source": [
    "n=int(input(\"enter number of rows \"))\n",
    "for i in range(1,n+1):\n",
    "    for j in range(1,n+1):\n",
    "        print(i, end=\"\")\n",
    "    print(\" \")\n",
    "    "
   ]
  }
 ],
 "metadata": {
  "kernelspec": {
   "display_name": "Python 3",
   "language": "python",
   "name": "python3"
  },
  "language_info": {
   "codemirror_mode": {
    "name": "ipython",
    "version": 3
   },
   "file_extension": ".py",
   "mimetype": "text/x-python",
   "name": "python",
   "nbconvert_exporter": "python",
   "pygments_lexer": "ipython3",
   "version": "3.8.5"
  }
 },
 "nbformat": 4,
 "nbformat_minor": 4
}
