{
 "cells": [
  {
   "cell_type": "code",
   "execution_count": 3,
   "metadata": {},
   "outputs": [
    {
     "name": "stdout",
     "output_type": "stream",
     "text": [
      "a\n",
      "2\n",
      "v\n",
      "6\n",
      "2\n",
      "9\n",
      "0\n",
      "4\n"
     ]
    }
   ],
   "source": [
    "list=['a',2,'v',6,2,9,0,4]\n",
    "for i in list:\n",
    "    print (i)"
   ]
  },
  {
   "cell_type": "code",
   "execution_count": 17,
   "metadata": {},
   "outputs": [
    {
     "name": "stdout",
     "output_type": "stream",
     "text": [
      "Enter the list size 4\n",
      "1\n",
      "2\n",
      "3\n",
      "4\n",
      "[1, 2, 3, 4]\n",
      "Enter the number 2\n",
      "[1, 3, 4]\n"
     ]
    }
   ],
   "source": [
    "a=int(input(\"Enter the list size \"))\n",
    "list=[]\n",
    "for i in range(0,a):   \n",
    "    item=int(input())\n",
    "    list.append(item)\n",
    "print(list)\n",
    "\n",
    "b=int(input(\"Enter the number \"))\n",
    "for j in list:\n",
    "    if(b==j):\n",
    "        list.remove(b)\n",
    "print(list)"
   ]
  },
  {
   "cell_type": "markdown",
   "metadata": {},
   "source": []
  },
  {
   "cell_type": "code",
   "execution_count": 29,
   "metadata": {},
   "outputs": [
    {
     "name": "stdout",
     "output_type": "stream",
     "text": [
      "Enter the string neha astha\n",
      "['neha', 'astha']\n",
      "n\n",
      "e\n",
      "h\n",
      "a\n",
      " \n",
      "a\n",
      "s\n",
      "t\n",
      "h\n",
      "a\n"
     ]
    }
   ],
   "source": [
    "a=input(\"Enter the string \")\n",
    "i=a.split(\" \")\n",
    "print(i)\n"
   ]
  },
  {
   "cell_type": "code",
   "execution_count": 18,
   "metadata": {},
   "outputs": [
    {
     "name": "stdout",
     "output_type": "stream",
     "text": [
      "[12, 24, 36, 48, 60, 72, 84, 96, 108, 120]\n",
      "[14, 28, 42, 56, 70, 84, 98, 112, 126, 140]\n"
     ]
    }
   ],
   "source": [
    "t1=[]\n",
    "t2=[]\n",
    "n=1\n",
    "for i in range(1,121):\n",
    "    if i%12==0:\n",
    "      t1.append(i)\n",
    "print(t1)\n",
    "\n",
    "for j in t1:\n",
    "    j=j+2*n\n",
    "   \n",
    "    t2.append(j)\n",
    "    n=n+1\n",
    "print(t2)"
   ]
  },
  {
   "cell_type": "code",
   "execution_count": 49,
   "metadata": {},
   "outputs": [
    {
     "name": "stdout",
     "output_type": "stream",
     "text": [
      "[1, 4, 9, 16, 25, 36, 49, 64, 81, 100]\n"
     ]
    }
   ],
   "source": [
    "list1=[1,2,3,4,5,6,7,8,9,10]\n",
    "list2=[]\n",
    "for i in list1:\n",
    "    i=i*i\n",
    "    list2.append(i)\n",
    "print(list2)"
   ]
  },
  {
   "cell_type": "code",
   "execution_count": 12,
   "metadata": {},
   "outputs": [
    {
     "name": "stdout",
     "output_type": "stream",
     "text": [
      "even numbers  [2, 4, 6, 8, 10, 12, 14, 16, 18, 20, 22, 24, 26, 28, 30, 32, 34, 36, 38, 40, 42, 44, 46, 48, 50, 52, 54, 56, 58, 60, 62, 64, 66, 68, 70, 72, 74, 76, 78, 80, 82, 84, 86, 88, 90, 92, 94, 96, 98, 100]\n",
      "odd numbers  [1, 3, 5, 7, 9, 11, 13, 15, 17, 19, 21, 23, 25, 27, 29, 31, 33, 35, 37, 39, 41, 43, 45, 47, 49, 51, 53, 55, 57, 59, 61, 63, 65, 67, 69, 71, 73, 75, 77, 79, 81, 83, 85, 87, 89, 91, 93, 95, 97, 99]\n",
      "numbers divisible by 4  [4, 8, 12, 16, 20, 24, 28, 32, 36, 40, 44, 48, 52, 56, 60, 64, 68, 72, 76, 80, 84, 88, 92, 96, 100]\n",
      "numbers divisible by 6  [6, 12, 18, 24, 30, 36, 42, 48, 54, 60, 66, 72, 78, 84, 90, 96]\n",
      "numbers divisible by 8  [8, 16, 24, 32, 40, 48, 56, 64, 72, 80, 88, 96]\n",
      "numbers divisible by 10  [10, 20, 30, 40, 50, 60, 70, 80, 90, 100]\n",
      "numbers divisible by 3  [3, 9, 15, 21, 27, 33, 39, 45, 51, 57, 63, 69, 75, 81, 87, 93, 99]\n",
      "numbers divisible by 5  [5, 15, 25, 35, 45, 55, 65, 75, 85, 95]\n",
      "numbers divisible by 7  [7, 21, 35, 49, 63, 77, 91]\n",
      "numbers divisible by 9  [9, 27, 45, 63, 81, 99]\n"
     ]
    }
   ],
   "source": [
    "list1=[]\n",
    "list2=[]\n",
    "list4=[]\n",
    "list6=[]\n",
    "list8=[]\n",
    "list10=[]\n",
    "list3=[]\n",
    "list5=[]\n",
    "list7=[]\n",
    "list9=[]\n",
    "for i in range(1,101):\n",
    "    if(i%2==0):\n",
    "     list1.append(i)\n",
    "    else:\n",
    "     list2.append(i)\n",
    "\n",
    "print(\"even numbers \",list1)\n",
    "print(\"odd numbers \" ,list2)\n",
    "\n",
    "for i in list1:\n",
    "    if(i%4==0):\n",
    "        list4.append(i)\n",
    "    if(i%6==0):\n",
    "        list6.append(i)\n",
    "    if(i%8==0):\n",
    "        list8.append(i)\n",
    "    if(i%10==0):\n",
    "        list10.append(i)\n",
    "for i in list2 or list1:\n",
    "    if(i%3==0):\n",
    "        list3.append(i)\n",
    "    if(i%5==0):\n",
    "        list5.append(i)\n",
    "    if(i%7==0):\n",
    "        list7.append(i)\n",
    "    if(i%9==0):\n",
    "        list9.append(i)\n",
    "print(\"numbers divisible by 4 \",list4)\n",
    "print(\"numbers divisible by 6 \",list6)\n",
    "print(\"numbers divisible by 8 \",list8)\n",
    "print(\"numbers divisible by 10 \",list10)\n",
    "print(\"numbers divisible by 3 \",list3)\n",
    "print(\"numbers divisible by 5 \",list5)\n",
    "print(\"numbers divisible by 7 \",list7)\n",
    "print(\"numbers divisible by 9 \",list9)\n",
    " "
   ]
  },
  {
   "cell_type": "code",
   "execution_count": 9,
   "metadata": {},
   "outputs": [
    {
     "name": "stdout",
     "output_type": "stream",
     "text": [
      "[9, 7, 8, 0, 8]\n",
      "[0.3, 0.34]\n",
      "['n', 'neha']\n"
     ]
    }
   ],
   "source": [
    "l=[9,0.3,\"n\",7,8,0,8,0.34,'neha']\n",
    "l1=[]\n",
    "l2=[]\n",
    "l3=[]\n",
    "for x in l:\n",
    "    if type(x)==int :\n",
    "        l1.append(x)\n",
    "    if type(x)==float :\n",
    "        l2.append(x)\n",
    "    if type(x)==str :\n",
    "        l3.append(x)\n",
    "print(l1)\n",
    "print(l2)\n",
    "print(l3)    \n",
    "\n"
   ]
  },
  {
   "cell_type": "code",
   "execution_count": 34,
   "metadata": {},
   "outputs": [
    {
     "ename": "IndexError",
     "evalue": "list index out of range",
     "output_type": "error",
     "traceback": [
      "\u001b[1;31m---------------------------------------------------------------------------\u001b[0m",
      "\u001b[1;31mIndexError\u001b[0m                                Traceback (most recent call last)",
      "\u001b[1;32m<ipython-input-34-101e9e6eeb6c>\u001b[0m in \u001b[0;36m<module>\u001b[1;34m\u001b[0m\n\u001b[0;32m      6\u001b[0m \u001b[1;32mfor\u001b[0m \u001b[0mi\u001b[0m \u001b[1;32min\u001b[0m \u001b[0mrange\u001b[0m\u001b[1;33m(\u001b[0m\u001b[1;36m0\u001b[0m\u001b[1;33m,\u001b[0m\u001b[1;36m3\u001b[0m\u001b[1;33m)\u001b[0m\u001b[1;33m:\u001b[0m\u001b[1;33m\u001b[0m\u001b[1;33m\u001b[0m\u001b[0m\n\u001b[0;32m      7\u001b[0m     \u001b[1;32mfor\u001b[0m \u001b[0mj\u001b[0m \u001b[1;32min\u001b[0m \u001b[0mrange\u001b[0m\u001b[1;33m(\u001b[0m\u001b[1;36m0\u001b[0m\u001b[1;33m,\u001b[0m\u001b[1;36m3\u001b[0m\u001b[1;33m)\u001b[0m\u001b[1;33m:\u001b[0m\u001b[1;33m\u001b[0m\u001b[1;33m\u001b[0m\u001b[0m\n\u001b[1;32m----> 8\u001b[1;33m        \u001b[0mb\u001b[0m\u001b[1;33m[\u001b[0m\u001b[0mj\u001b[0m\u001b[1;33m]\u001b[0m\u001b[1;33m[\u001b[0m\u001b[0mi\u001b[0m\u001b[1;33m]\u001b[0m\u001b[1;33m=\u001b[0m\u001b[0ma\u001b[0m\u001b[1;33m[\u001b[0m\u001b[0mi\u001b[0m\u001b[1;33m]\u001b[0m\u001b[1;33m[\u001b[0m\u001b[0mj\u001b[0m\u001b[1;33m]\u001b[0m\u001b[1;33m\u001b[0m\u001b[1;33m\u001b[0m\u001b[0m\n\u001b[0m\u001b[0;32m      9\u001b[0m \u001b[1;32mfor\u001b[0m \u001b[0mi\u001b[0m \u001b[1;32min\u001b[0m \u001b[0mrange\u001b[0m\u001b[1;33m(\u001b[0m\u001b[1;36m0\u001b[0m\u001b[1;33m,\u001b[0m\u001b[1;36m3\u001b[0m\u001b[1;33m)\u001b[0m\u001b[1;33m:\u001b[0m\u001b[1;33m\u001b[0m\u001b[1;33m\u001b[0m\u001b[0m\n\u001b[0;32m     10\u001b[0m     \u001b[1;32mfor\u001b[0m \u001b[0mj\u001b[0m \u001b[1;32min\u001b[0m \u001b[0mrange\u001b[0m\u001b[1;33m(\u001b[0m\u001b[1;36m0\u001b[0m\u001b[1;33m,\u001b[0m\u001b[1;36m3\u001b[0m\u001b[1;33m)\u001b[0m\u001b[1;33m:\u001b[0m\u001b[1;33m\u001b[0m\u001b[1;33m\u001b[0m\u001b[0m\n",
      "\u001b[1;31mIndexError\u001b[0m: list index out of range"
     ]
    }
   ],
   "source": [
    "\n",
    "\n",
    "    "
   ]
  },
  {
   "cell_type": "code",
   "execution_count": null,
   "metadata": {},
   "outputs": [],
   "source": [
    "for(c = 0; c < n; c++) // to iterate the rows\n",
    "        for(d = 0; d < n; d++) //to iterate the columns\n",
    "            b[d][c] = a[c][d];\n",
    "\n",
    "    // printing the original matrix\n",
    "    printf(\"\\n\\nThe original matrix is: \\n\\n\");\n",
    "    for(c = 0; c < n; c++)   // to iterate the rows\n",
    "    {\n",
    "        for(d = 0; d < n; d++)   // to iterate the columns\n",
    "        {\n",
    "            printf(\"%d\\t\", a[c][d]);\n",
    "        }\n",
    "    printf(\"\\n\");\n",
    "    }\n",
    "\n",
    "    // printing the transpose of the entered matrix\n",
    "    printf(\"\\n\\nThe Transpose matrix is: \\n\\n\");\n",
    "    for(c = 0; c < n; c++) // to iterate the rows\n",
    "    {\n",
    "        for(d = 0; d < n; d++)   // to iterate the columns\n",
    "        {\n",
    "            printf(\"%d\\t\", b[c][d]);\n",
    "        }\n",
    "        printf(\"\\n\");\n",
    "    }"
   ]
  },
  {
   "cell_type": "code",
   "execution_count": null,
   "metadata": {},
   "outputs": [],
   "source": []
  }
 ],
 "metadata": {
  "kernelspec": {
   "display_name": "Python 3",
   "language": "python",
   "name": "python3"
  },
  "language_info": {
   "codemirror_mode": {
    "name": "ipython",
    "version": 3
   },
   "file_extension": ".py",
   "mimetype": "text/x-python",
   "name": "python",
   "nbconvert_exporter": "python",
   "pygments_lexer": "ipython3",
   "version": "3.8.5"
  }
 },
 "nbformat": 4,
 "nbformat_minor": 4
}
