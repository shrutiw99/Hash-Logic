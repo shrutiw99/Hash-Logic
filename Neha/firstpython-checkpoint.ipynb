{
 "cells": [
  {
   "cell_type": "code",
   "execution_count": 3,
   "metadata": {},
   "outputs": [
    {
     "name": "stdout",
     "output_type": "stream",
     "text": [
      "1213\n",
      "neha\n",
      "hello\n"
     ]
    }
   ],
   "source": [
    "ne_ha =1213 #for variable name we use _ only as a special character\n",
    "print(ne_ha)\n",
    "ne_ha= \"neha\"\n",
    "print(ne_ha)\n",
    "neha5=\"hello\" #double or single quotes for string\n",
    "print(neha5)\n"
   ]
  },
  {
   "cell_type": "code",
   "execution_count": 5,
   "metadata": {},
   "outputs": [
    {
     "name": "stdout",
     "output_type": "stream",
     "text": [
      "hello 'world'\n",
      "hello \"world\"\n"
     ]
    }
   ],
   "source": [
    "#string\n",
    "print(\"hello 'world'\")\n",
    "print('hello \"world\"')\n"
   ]
  },
  {
   "cell_type": "code",
   "execution_count": 12,
   "metadata": {},
   "outputs": [
    {
     "name": "stdout",
     "output_type": "stream",
     "text": [
      "shruti wadhwa\b\n",
      "hello\"world\n",
      "backslash\\\n",
      "backslash\\\\\n",
      " line a \n",
      " line b \n",
      "\n"
     ]
    }
   ],
   "source": [
    "#escape\n",
    "print(\"shruti wadhwa\\b\")\n",
    "print(\"hello\\\"world\")\n",
    "print(\"backslash\\\\\")\n",
    "print(\"backslash\\\\\\\\\") \n",
    "print (\" line a \\n line b \\n\")\n"
   ]
  },
  {
   "cell_type": "code",
   "execution_count": 10,
   "metadata": {},
   "outputs": [
    {
     "name": "stdout",
     "output_type": "stream",
     "text": [
      "line a \\n line b\n",
      "line B \\t line b\n"
     ]
    }
   ],
   "source": [
    "print(\"line a \\\\n line b\")\n",
    "print(\"line B \\\\t line b\")"
   ]
  },
  {
   "cell_type": "code",
   "execution_count": null,
   "metadata": {},
   "outputs": [],
   "source": []
  },
  {
   "cell_type": "code",
   "execution_count": 11,
   "metadata": {},
   "outputs": [
    {
     "name": "stdout",
     "output_type": "stream",
     "text": [
      "line \\n line b\n"
     ]
    }
   ],
   "source": [
    "#raw string:  shows at it is\n",
    "\n",
    "print(r\"line \\n line b\")"
   ]
  },
  {
   "cell_type": "code",
   "execution_count": 15,
   "metadata": {},
   "outputs": [
    {
     "name": "stdout",
     "output_type": "stream",
     "text": [
      "😆\n",
      "😀\n",
      "🤣\n"
     ]
    }
   ],
   "source": [
    "#to print emoji\n",
    "\n",
    "# grinning squinting face \n",
    "print(\"\\U0001F606\") \n",
    "# grinning face \n",
    "print(\"\\U0001f600\")\n",
    "# u : unicode that is unique number or character for any character F: hexadecimal\n",
    "# rolling on the floor laughing \n",
    "print(\"\\U0001F923\") \n",
    "  \n"
   ]
  },
  {
   "cell_type": "code",
   "execution_count": 18,
   "metadata": {},
   "outputs": [
    {
     "name": "stdout",
     "output_type": "stream",
     "text": [
      "0.5\n",
      "0.42857142857142855\n",
      "0\n",
      "0\n",
      "32\n",
      "1.4142\n"
     ]
    }
   ],
   "source": [
    "#float division output\n",
    "print(2/4)\n",
    "print(3/7)\n",
    "\n",
    "#int division output\n",
    "print(2//4)\n",
    "print(3//7)\n",
    "\n",
    "#exponent\n",
    "\n",
    "print(2**5)\n",
    "\n",
    "#round : upto 4 places\n",
    "print(round(2**0.5,4))"
   ]
  },
  {
   "cell_type": "code",
   "execution_count": 33,
   "metadata": {},
   "outputs": [
    {
     "ename": "SyntaxError",
     "evalue": "invalid syntax (<ipython-input-33-b7b2dfd77fa3>, line 11)",
     "output_type": "error",
     "traceback": [
      "\u001b[1;36m  File \u001b[1;32m\"<ipython-input-33-b7b2dfd77fa3>\"\u001b[1;36m, line \u001b[1;32m11\u001b[0m\n\u001b[1;33m    print (first+\"\" +*6)\u001b[0m\n\u001b[1;37m                     ^\u001b[0m\n\u001b[1;31mSyntaxError\u001b[0m\u001b[1;31m:\u001b[0m invalid syntax\n"
     ]
    }
   ],
   "source": [
    "#string caonactenate\n",
    "first=\"neha\"\n",
    "second=\"sharma\"\n",
    "full=first+\"\"+second\n",
    "print (full)\n",
    "#string can\"t concatebnate with number\n",
    "#print(first +5) error\n",
    "print (first +\"5\")\n",
    "print(first+str(5))\n",
    "print (first *6)\n",
    "\n",
    "print (\"first \"*6)\n",
    "\n"
   ]
  },
  {
   "cell_type": "code",
   "execution_count": 30,
   "metadata": {},
   "outputs": [
    {
     "name": "stdout",
     "output_type": "stream",
     "text": [
      "type your nameneha\n",
      "hello neha\n"
     ]
    }
   ],
   "source": [
    "#input\n",
    "\n",
    "name=input(\"type your name\")\n",
    "print(\"hello \" + name)"
   ]
  },
  {
   "cell_type": "code",
   "execution_count": 39,
   "metadata": {},
   "outputs": [
    {
     "name": "stdout",
     "output_type": "stream",
     "text": [
      "Enter you first number 4\n",
      "Enter your second number 4\n",
      "Sum of your number is  8\n",
      "Enter you first number 4\n",
      "Enter your second number 4\n",
      "total is8\n"
     ]
    }
   ],
   "source": [
    "#to change into int type casting\n",
    "a=int(input(\"Enter you first number \"))\n",
    "b=int(input(\"Enter your second number \"))\n",
    "sum=int((a+b))\n",
    "print(\"Sum of your number is \" ,sum)\n",
    "\n",
    "c=int(input(\"Enter you first number \"))\n",
    "d=int(input(\"Enter your second number \"))\n",
    "total=c+d\n",
    "print(\"total is\" +str(total))"
   ]
  },
  {
   "cell_type": "code",
   "execution_count": 40,
   "metadata": {},
   "outputs": [
    {
     "name": "stdout",
     "output_type": "stream",
     "text": [
      "16.0\n"
     ]
    }
   ],
   "source": [
    "number1=float(\"8\")\n",
    "number2=float(\"8\")\n",
    "print(number1+number2)"
   ]
  },
  {
   "cell_type": "code",
   "execution_count": 42,
   "metadata": {},
   "outputs": [
    {
     "name": "stdout",
     "output_type": "stream",
     "text": [
      "hello neha your age is 9\n",
      "8\n"
     ]
    }
   ],
   "source": [
    "name,age=\"neha\",\"9\"\n",
    "print(\"hello \"+name+\" your age is \"+age)\n",
    "\n",
    "a=b=c=d=2\n",
    "print(a+b+c+d)"
   ]
  },
  {
   "cell_type": "code",
   "execution_count": 49,
   "metadata": {},
   "outputs": [
    {
     "name": "stdout",
     "output_type": "stream",
     "text": [
      "enter your name,age and height is67 56 45\n",
      "67\n",
      "56\n",
      "45\n"
     ]
    }
   ],
   "source": [
    "# to split the input\n",
    "name,age,height= input(\"enter your name,age and height is\").split()\n",
    "print(name)\n",
    "print(age)\n",
    "print(height)\n"
   ]
  },
  {
   "cell_type": "code",
   "execution_count": null,
   "metadata": {},
   "outputs": [],
   "source": [
    "#string formating\n",
    "name =\"Neha\"\n",
    "age=2\n",
    "printf(\"hello {} your age is {}\" .format(name,age))\n",
    "#print(f\"hello {name} your age is {2}\")"
   ]
  },
  {
   "cell_type": "code",
   "execution_count": 7,
   "metadata": {},
   "outputs": [
    {
     "name": "stdout",
     "output_type": "stream",
     "text": [
      "first number4\n",
      "second number4\n",
      "third number4\n",
      "avg is4.0\n",
      "enter your first and second number4,4\n",
      "numbers are  4.0\n"
     ]
    }
   ],
   "source": [
    "a=int(input(\"first number\"))\n",
    "b=int(input(\"second number\"))\n",
    "c=int(input(\"third number\"))\n",
    "avg=(a+b+c)/3\n",
    "print(\"avg is\" +str(avg))\n",
    "a,b=input(\"enter your first and second number\").split(\",\")\n",
    "avg = (int(a)+int(b))/2\n",
    "print(\"numbers are \",avg)\n"
   ]
  },
  {
   "cell_type": "markdown",
   "metadata": {},
   "source": []
  },
  {
   "cell_type": "code",
   "execution_count": null,
   "metadata": {},
   "outputs": [],
   "source": []
  },
  {
   "cell_type": "code",
   "execution_count": null,
   "metadata": {},
   "outputs": [],
   "source": []
  }
 ],
 "metadata": {
  "kernelspec": {
   "display_name": "Python 3",
   "language": "python",
   "name": "python3"
  },
  "language_info": {
   "codemirror_mode": {
    "name": "ipython",
    "version": 3
   },
   "file_extension": ".py",
   "mimetype": "text/x-python",
   "name": "python",
   "nbconvert_exporter": "python",
   "pygments_lexer": "ipython3",
   "version": "3.8.5"
  }
 },
 "nbformat": 4,
 "nbformat_minor": 4
}
