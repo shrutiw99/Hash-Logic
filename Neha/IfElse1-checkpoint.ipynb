{
 "cells": [
  {
   "cell_type": "code",
   "execution_count": 11,
   "metadata": {},
   "outputs": [
    {
     "name": "stdout",
     "output_type": "stream",
     "text": [
      "Guess the correct number: 55\n",
      "Your guess is wrong and you have only two chances left \n",
      "Guess a lower number\n",
      "Guess the correct number: 101\n",
      "Your guess is wrong and you have only one chance left \n",
      "guess a lower number\n",
      "Guess the correct number: 20\n",
      "Congrats!You win\n"
     ]
    }
   ],
   "source": [
    "num1 =20\n",
    "num2=int(input(\"Guess the correct number: \"))\n",
    "#first chance!!!!!!!!!!!\n",
    "if num2 != num1:\n",
    " print(\"Your guess is wrong and you have only two chances left \")\n",
    " if num2>num1:\n",
    "        print(\"Guess a lower number\")\n",
    " else:\n",
    "     print(\"Guess a greater number\")\n",
    "    \n",
    "#second chance !!!!!!!!!\n",
    " num3=int(input(\"Guess the correct number: \"))\n",
    "   \n",
    " if num3!= num1:\n",
    "  print(\"Your guess is wrong and you have only one chance left \")     \n",
    "  \n",
    "  if num3>num1:\n",
    "    print(\"guess a lower number\")\n",
    "  else:\n",
    "    print(\"guess a greater number\")  \n",
    " else :\n",
    "  print(\"Congrats!You win\")     \n",
    "#third chance!!!!!!!!!!!!!!\n",
    " num4=int(input(\"Guess the correct number: \")) \n",
    " if num4==num1:\n",
    "   print(\"Congrats!You win\")\n",
    " else:\n",
    "    print(\"Sorry!you lose\")\n",
    "#!!!!!!!\n",
    "else:\n",
    " print(\"Congrats!You win\")"
   ]
  },
  {
   "cell_type": "code",
   "execution_count": 1,
   "metadata": {},
   "outputs": [
    {
     "name": "stdout",
     "output_type": "stream",
     "text": [
      "Enter any character : h\n",
      "Character is consonant\n"
     ]
    }
   ],
   "source": [
    "ch=input(\"Enter any character : \")\n",
    "if ch=='a' or ch=='e' or ch=='i' or ch=='o' or ch=='u'or ch=='A' or ch=='E' or ch=='I' or ch=='O' or ch=='U' :\n",
    " print(\" Character is vowel\")\n",
    "else:\n",
    " print(\"Character is consonant\")\n"
   ]
  },
  {
   "cell_type": "code",
   "execution_count": 23,
   "metadata": {},
   "outputs": [
    {
     "name": "stdout",
     "output_type": "stream",
     "text": [
      "Enter any character: A\n",
      "The ASCII value of char A is:  65\n"
     ]
    }
   ],
   "source": [
    "ch = input(\"Enter any character whose ASCII value has to be find out: \")\n",
    "\n",
    "print(\"The ASCII value of char \" + ch + \" is: \",ord(ch))"
   ]
  },
  {
   "cell_type": "code",
   "execution_count": 14,
   "metadata": {},
   "outputs": [
    {
     "name": "stdout",
     "output_type": "stream",
     "text": [
      "Enter your first ,second and third number 20,20,20\n",
      "a,b and c are equal\n"
     ]
    }
   ],
   "source": [
    "a,b,c=input(\"Enter your first ,second and third number \").split(\",\")\n",
    "\n",
    "if a==b and b==c:\n",
    "    \n",
    "    print(\"a,b and c are equal\")\n",
    "\n",
    "elif a==b and a>c:\n",
    "  print(\"a and b are equal and greater than c\")\n",
    "elif a==c and a>b:\n",
    "  print(\"a and c are equal and greater than b\")\n",
    "elif b==c and b>a:\n",
    "  print(\"b and c are equal and greater than a\")\n",
    "\n",
    "elif a>b and a>c:\n",
    "  print (\" a is greater\")\n",
    "elif b>c and b>a:\n",
    "  print(\"b is greater\")\n",
    "else:\n",
    "    print(\"c is greater\")"
   ]
  },
  {
   "cell_type": "code",
   "execution_count": 17,
   "metadata": {},
   "outputs": [
    {
     "name": "stdout",
     "output_type": "stream",
     "text": [
      "['abc', 67, 2.34]\n"
     ]
    }
   ],
   "source": [
    " list=['abc',67,2.34,'neha',89]\n",
    "print(list[0:3])"
   ]
  },
  {
   "cell_type": "code",
   "execution_count": 19,
   "metadata": {},
   "outputs": [
    {
     "name": "stdout",
     "output_type": "stream",
     "text": [
      "[]\n",
      "['neha', 67, 90.45, 'tttt']\n"
     ]
    }
   ],
   "source": [
    "list=[]\n",
    "print(list)\n",
    "list=['neha',67,90.45,'tttt']\n",
    "print(list)"
   ]
  },
  {
   "cell_type": "code",
   "execution_count": 44,
   "metadata": {},
   "outputs": [
    {
     "name": "stdout",
     "output_type": "stream",
     "text": [
      "[1, 2, 3, 'neha']\n",
      "[1, 2, 3, 'neha', [555, 124]]\n",
      "[1, 2, 3, 'neha', [555, 124], 234, 'more']\n",
      "[1, 2, 'main', 3, 'neha', [555, 124], 234, 'more']\n",
      "[1, 2, 'main', 3, 'neha', [555, 124], 234, 'more']\n"
     ]
    },
    {
     "ename": "TypeError",
     "evalue": "insert expected 2 arguments, got 0",
     "output_type": "error",
     "traceback": [
      "\u001b[1;31m---------------------------------------------------------------------------\u001b[0m",
      "\u001b[1;31mTypeError\u001b[0m                                 Traceback (most recent call last)",
      "\u001b[1;32m<ipython-input-44-dfd302e30d95>\u001b[0m in \u001b[0;36m<module>\u001b[1;34m\u001b[0m\n\u001b[0;32m     13\u001b[0m \u001b[0mprint\u001b[0m\u001b[1;33m(\u001b[0m\u001b[0mmy_list\u001b[0m\u001b[1;33m)\u001b[0m\u001b[1;33m\u001b[0m\u001b[1;33m\u001b[0m\u001b[0m\n\u001b[0;32m     14\u001b[0m \u001b[1;33m\u001b[0m\u001b[0m\n\u001b[1;32m---> 15\u001b[1;33m \u001b[0mmy_list\u001b[0m\u001b[1;33m.\u001b[0m\u001b[0minsert\u001b[0m\u001b[1;33m(\u001b[0m\u001b[1;33m)\u001b[0m\u001b[1;33m\u001b[0m\u001b[1;33m\u001b[0m\u001b[0m\n\u001b[0m\u001b[0;32m     16\u001b[0m \u001b[0mprint\u001b[0m\u001b[1;33m(\u001b[0m\u001b[0mmy_list\u001b[0m\u001b[1;33m)\u001b[0m\u001b[1;33m\u001b[0m\u001b[1;33m\u001b[0m\u001b[0m\n",
      "\u001b[1;31mTypeError\u001b[0m: insert expected 2 arguments, got 0"
     ]
    }
   ],
   "source": [
    "my_list=[1,2,3,'neha']\n",
    "print(my_list)\n",
    "\n",
    "my_list.append([555,124])\n",
    "print(my_list)\n",
    "\n",
    "my_list.extend([234,'more'])\n",
    "print(my_list)\n",
    "\n",
    "my_list.insert(2,\"main\")\n",
    "print(my_list)\n",
    "\n",
    "print(my_list)\n",
    "\n",
    "my_list.insert()\n",
    "print(my_list)"
   ]
  },
  {
   "cell_type": "code",
   "execution_count": null,
   "metadata": {},
   "outputs": [],
   "source": [
    "a,b,c=input(\"Enter your first ,second and third number \").split(\",\")\n",
    "\n",
    "if a==b and b==c:\n",
    " print(\"a,b and c are equal\")\n",
    "\n",
    "if a>b:\n",
    "    if a==c:\n",
    "        print(\"a and c is equal and greater than b\")\n",
    "    elif a>c:\n",
    "        print(\"a is greatest\")\n",
    "    else:\n",
    "        print(\"c is greatest\")\n",
    "\n",
    "elif b>a:\n",
    "    if b==c:\n",
    "        print(\"b and c is equal and greater than a\")\n",
    "    elif b>c:\n",
    "        print(\"b is greatest\")\n",
    "    else:\n",
    "        print(\"c is greatest\")\n",
    "elif c>a:\n",
    "    if c==b:\n",
    "        print(\" c and b is equal and greater than a\")\n",
    "    elif c>b:\n",
    "        print(\"c is greatest\")\n",
    "    else:\n",
    "        print(\"b is greatest\")\n",
    "else:\n",
    " print(\"a and b is equal and greater than c\")\n",
    "    "
   ]
  },
  {
   "cell_type": "code",
   "execution_count": null,
   "metadata": {},
   "outputs": [],
   "source": [
    "num1,num2,num3=input(\"Enter your first ,second and third number \").split(\",\")\n",
    "\n",
    "if num1=num2=num3:\n",
    "    print(\"All three are equal\")\n",
    "elif num1>num2:\n",
    "    if num1==num3:\n",
    "        print(\"1st and 3rd number are greater\")\n",
    "    elif num1>num3:\n",
    "        print(\"1st number is greatest\")\n",
    "    else:\n",
    "        print(\"3rd number is greatest\")\n",
    "elif num2>num1:\n",
    "    if num2==num3:\n",
    "        print(\"2nd and 3rd number are greatest\")\n",
    "    elif num2>num3:\n",
    "        print(\"2nd number is greatest\")\n",
    "    else:\n",
    "        print(\"3rd number is greatest\")\n",
    "\n",
    "elif num3>num1:\n",
    "    if num3==num2:\n",
    "        print(\"3rd and 2nd number are greater\")\n",
    "    elif num3>num2:\n",
    "        print(\"3rd number is greatest\")\n",
    "    else:\n",
    "        print(\"2nd number is greatest\")\n",
    "        \n",
    "else:\n",
    "    print(\"1st and 2nd number are greater\")"
   ]
  },
  {
   "cell_type": "code",
   "execution_count": null,
   "metadata": {},
   "outputs": [],
   "source": []
  }
 ],
 "metadata": {
  "kernelspec": {
   "display_name": "Python 3",
   "language": "python",
   "name": "python3"
  },
  "language_info": {
   "codemirror_mode": {
    "name": "ipython",
    "version": 3
   },
   "file_extension": ".py",
   "mimetype": "text/x-python",
   "name": "python",
   "nbconvert_exporter": "python",
   "pygments_lexer": "ipython3",
   "version": "3.8.5"
  }
 },
 "nbformat": 4,
 "nbformat_minor": 4
}
