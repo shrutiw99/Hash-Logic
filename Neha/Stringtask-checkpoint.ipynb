{
 "cells": [
  {
   "cell_type": "code",
   "execution_count": null,
   "metadata": {},
   "outputs": [],
   "source": [
    "#Write a program to print every character of a string entered by user in a new line using loop.\n",
    "n=input(\"enter the string \")\n",
    "\n",
    "for x in n:\n",
    "    print(x)\n",
    "    "
   ]
  },
  {
   "cell_type": "code",
   "execution_count": null,
   "metadata": {},
   "outputs": [],
   "source": [
    "#Write a program to find the length of the string \"refrigerator\" without using len function.\n",
    "string=\"refrigerator\"\n",
    "c=0\n",
    "for x in string:\n",
    "    c+=1\n",
    "print(c)\n"
   ]
  },
  {
   "cell_type": "code",
   "execution_count": null,
   "metadata": {},
   "outputs": [],
   "source": [
    "#Write a program to check if the letter 'e' is present in the word 'Umbrella'.\n",
    "string=\"umbrella\"\n",
    "for e in string:\n",
    "    if e =='e':\n",
    "        print(\"yes\")\n"
   ]
  },
  {
   "cell_type": "code",
   "execution_count": null,
   "metadata": {},
   "outputs": [],
   "source": [
    "   "
   ]
  },
  {
   "cell_type": "code",
   "execution_count": null,
   "metadata": {},
   "outputs": [],
   "source": [
    "print('e' in \"umbrella\")"
   ]
  },
  {
   "cell_type": "code",
   "execution_count": null,
   "metadata": {},
   "outputs": [],
   "source": [
    "#Write a program to check if the word 'orange' is present in the \"This is orange juice\".\n",
    "\n",
    "print(\"orange\" in \"This is orange juice\")"
   ]
  },
  {
   "cell_type": "code",
   "execution_count": 1,
   "metadata": {},
   "outputs": [
    {
     "name": "stdout",
     "output_type": "stream",
     "text": [
      "True\n"
     ]
    }
   ],
   "source": [
    "a=\"this is orange juice\"\n",
    "print (\"orange\" in a.split())"
   ]
  },
  {
   "cell_type": "code",
   "execution_count": 65,
   "metadata": {},
   "outputs": [
    {
     "name": "stdout",
     "output_type": "stream",
     "text": [
      "4\n",
      "7\n",
      "5\n"
     ]
    }
   ],
   "source": [
    "#Write a program to find the first and the last occurence of the letter\n",
    "#'o' and character ',' in \"Hello, World\".\n",
    "\n",
    "a=\"Hello,World\"\n",
    "\n",
    "for e in range(len(a)):\n",
    "    if a[e] ==\"o\":\n",
    "        print(e)\n",
    "for e in range(len(a)):\n",
    "    if a[e] ==\",\":\n",
    "        print(e)\n",
    "        \n",
    "        \n",
    "       \n",
    "       \n",
    "        \n",
    "        "
   ]
  },
  {
   "cell_type": "code",
   "execution_count": null,
   "metadata": {},
   "outputs": [],
   "source": []
  },
  {
   "cell_type": "code",
   "execution_count": null,
   "metadata": {},
   "outputs": [],
   "source": [
    "\n",
    "    \n",
    " "
   ]
  },
  {
   "cell_type": "code",
   "execution_count": 2,
   "metadata": {},
   "outputs": [
    {
     "name": "stdout",
     "output_type": "stream",
     "text": [
      "frequency in Hello,World is {'H': 1, 'e': 1, 'l': 3, 'o': 2, ',': 1, 'W': 1, 'r': 1, 'd': 1}\n"
     ]
    }
   ],
   "source": [
    "a=\"Hello,World\"\n",
    "freq={} #dictionary\n",
    "for i in a:\n",
    "    if i in freq:\n",
    "        freq[i]+=1\n",
    "    else:\n",
    "        freq[i]=1\n",
    "        \n",
    "print(f\"frequency in {a} is {freq}\")\n",
    "        "
   ]
  },
  {
   "cell_type": "code",
   "execution_count": 3,
   "metadata": {},
   "outputs": [
    {
     "name": "stdout",
     "output_type": "stream",
     "text": [
      "N. Sharma\n"
     ]
    }
   ],
   "source": [
    "#Write a program that takes your full name as input and displays the abbreviations of the\n",
    "#first and middle names except the last name which is displayed as it is. \n",
    "#For example, if your name is Robert Brett Roser, then the output should be R.B.Roser.\n",
    "\n",
    "a = \"Neha Sharma\"\n",
    "a = a.split()\n",
    "b = a[0][0]+\". \"+a[1]\n",
    "print (b)\n",
    "    "
   ]
  },
  {
   "cell_type": "code",
   "execution_count": 9,
   "metadata": {},
   "outputs": [
    {
     "data": {
      "text/plain": [
       "5"
      ]
     },
     "execution_count": 9,
     "metadata": {},
     "output_type": "execute_result"
    }
   ],
   "source": [
    "#Write the string after the first occurrence of ',' and the string after the last occurrence of ','\n",
    "#in the string \"Hello, Good, Morning\". World\".\n",
    "\n",
    "\n",
    "a=\"Hello, Good, Morning World\"\n",
    "\n",
    "a=a.split()\n",
    "b=a[1][0]+a[1][1]+a[1][2]+a[1][3]+\" \"+a[2]\n",
    "print(b)\n",
    "        "
   ]
  },
  {
   "cell_type": "code",
   "execution_count": null,
   "metadata": {},
   "outputs": [],
   "source": [
    "\n"
   ]
  },
  {
   "cell_type": "code",
   "execution_count": null,
   "metadata": {},
   "outputs": [],
   "source": []
  },
  {
   "cell_type": "code",
   "execution_count": 7,
   "metadata": {},
   "outputs": [
    {
     "name": "stdout",
     "output_type": "stream",
     "text": [
      "1\n",
      " The count of e:  1\n",
      "The count is: 2\n"
     ]
    }
   ],
   "source": [
    "#Check the occurrence of the letter 'e' and the word 'is' in the sentence \"This is umbrella\".\n",
    "f=0\n",
    "\n",
    "a=\"This is umbrella\"\n",
    "for x in range(len(a)):\n",
    "    if a[x]==\"e\":\n",
    "        f=f+1\n",
    "print(f)\n",
    "\n",
    "sub=\"e\"\n",
    "c=a.count(sub)\n",
    "print(\" The count of e: \",c)\n",
    "substring = \"is\"\n",
    "\n",
    "count = a.count(substring)\n",
    "\n",
    "\n",
    "print(\"The count is:\", count)\n",
    "\n"
   ]
  },
  {
   "cell_type": "code",
   "execution_count": 63,
   "metadata": {},
   "outputs": [
    {
     "name": "stdout",
     "output_type": "stream",
     "text": [
      "enter the string : austraila 1234 89 ruhi ruthds\n",
      "no. of white spaces :  4\n",
      "no. of digits :  6\n",
      "no. of vowels:  8\n",
      "no. of consonents:  11\n"
     ]
    }
   ],
   "source": [
    "#Write a program to find the number of vowels, consonents, digits and white space characters\n",
    "#in a string.\n",
    "\n",
    "a=input(\"enter the string : \")\n",
    "list=['a','e','i','o','u','A','E','I','O','U',]\n",
    "list1=['0','1','2','3','4','5','6','7','8','9']\n",
    "v=0\n",
    "b=0\n",
    "w=0\n",
    "d=0\n",
    "for x in range(len(a)):\n",
    "     if a[x]==\" \":\n",
    "       w=w+1\n",
    "print(\"no. of white spaces : \",w)\n",
    "for x in a:\n",
    "    if x in list1:\n",
    "       d=d+1\n",
    "print(\"no. of digits : \",d)\n",
    "for x in a:\n",
    "    if x in list:\n",
    "       v=v+1\n",
    "    else:\n",
    "        b=b+1\n",
    "        c=b-(w+d)\n",
    "           \n",
    "print(\"no. of vowels: \",v)\n",
    "print(\"no. of consonents: \",c)\n"
   ]
  },
  {
   "cell_type": "code",
   "execution_count": 4,
   "metadata": {},
   "outputs": [
    {
     "name": "stdout",
     "output_type": "stream",
     "text": [
      "enter the string : neha345\n"
     ]
    },
    {
     "data": {
      "text/plain": [
       "True"
      ]
     },
     "execution_count": 4,
     "metadata": {},
     "output_type": "execute_result"
    }
   ],
   "source": [
    "\n",
    "a=input(\"enter the string : \")\n",
    "\n",
    "v=0\n",
    "b=0\n",
    "w=0\n",
    "d=0\n",
    "        \n",
    "a.isalnum()\n",
    "\n",
    "\n"
   ]
  },
  {
   "cell_type": "code",
   "execution_count": 8,
   "metadata": {},
   "outputs": [
    {
     "name": "stdout",
     "output_type": "stream",
     "text": [
      "eo ae a oo a\n"
     ]
    }
   ],
   "source": [
    "#Write a program to make a new string with all the consonents deleted from \n",
    "#the string \"Hello, have a good day\".\n",
    "\n",
    "\n",
    "a = ['a','e','i','o','u','A','E','I','O','U',' ']    \n",
    "b = \"Hello, have a good day\"\n",
    "c = \"\"                          \n",
    "for i in b:                             \n",
    "    if i not in a:                                 \n",
    "        continue               \n",
    "    else:                 \n",
    "        c=c+i      \n",
    "print(c)\n"
   ]
  },
  {
   "cell_type": "code",
   "execution_count": 136,
   "metadata": {},
   "outputs": [
    {
     "name": "stdout",
     "output_type": "stream",
     "text": [
      "umbrella\n",
      "is\n"
     ]
    }
   ],
   "source": [
    "#Write a program to find out the largest and smallest word in the string \"This is an umbrella\".\n",
    " \n",
    "a=\"This is an umbrella\"\n",
    "\n",
    "a=a.split()\n",
    "\n",
    "maxx = a[0]\n",
    "min = a[0]\n",
    "max_len = len(a[0])\n",
    "min_len = len(a[0])\n",
    "for i in a:\n",
    "  if len(i)>max_len:\n",
    "    max_len = len(i)\n",
    "    maxx = i\n",
    "print(maxx)\n",
    "for i in a:\n",
    "  if len(i)<min_len:\n",
    "    min_len = len(i)\n",
    "    min = i\n",
    "    print(min)\n"
   ]
  },
  {
   "cell_type": "code",
   "execution_count": 137,
   "metadata": {},
   "outputs": [
    {
     "name": "stdout",
     "output_type": "stream",
     "text": [
      "new string : axbycz\n"
     ]
    }
   ],
   "source": [
    "s1=\"abc\"\n",
    "s2=\"xyz\"\n",
    "m=\"\"\n",
    "i=0\n",
    "while i<len(s1):\n",
    "    for j in s2[::1]:\n",
    "        m=m+s1[i]+j\n",
    "        i=i+1\n",
    "    print(\"new string :\",m)\n",
    "    "
   ]
  },
  {
   "cell_type": "code",
   "execution_count": 21,
   "metadata": {},
   "outputs": [
    {
     "name": "stdout",
     "output_type": "stream",
     "text": [
      "new string : azbycx\n"
     ]
    }
   ],
   "source": [
    "s1=\"abc\"\n",
    "s2=\"xyz\"\n",
    "m=\"\"\n",
    "i=0\n",
    "while i<len(s1):\n",
    "    for j in s2[::-1]:\n",
    "        m=m+s1[i]+j\n",
    "        i=i+1\n",
    "    print(\"new string :\",m)\n",
    "    "
   ]
  },
  {
   "cell_type": "code",
   "execution_count": 90,
   "metadata": {},
   "outputs": [
    {
     "name": "stdout",
     "output_type": "stream",
     "text": [
      "input a string: nehasharm\n",
      "new string:  ash\n"
     ]
    }
   ],
   "source": [
    "a=input(\"input a string: \")\n",
    "b=len(a)\n",
    "m=len(a)//2\n",
    "c=\"\"\n",
    "if b<=7 and  b%2!=0 :\n",
    "    print(\"string should be more than seven\")\n",
    "if b%2==0:\n",
    "    print(\"string should be of odd length\")\n",
    "\n",
    "if b>7 and b%2!=0 :\n",
    " for x in range(m-1,m+2):\n",
    "     c=c+a[x]\n",
    " print(\"new string: \",c)\n"
   ]
  },
  {
   "cell_type": "code",
   "execution_count": null,
   "metadata": {},
   "outputs": [],
   "source": [
    "\n"
   ]
  },
  {
   "cell_type": "code",
   "execution_count": 88,
   "metadata": {},
   "outputs": [
    {
     "name": "stdout",
     "output_type": "stream",
     "text": [
      "h\n",
      "nesharmaha\n"
     ]
    }
   ],
   "source": [
    "#appending s2 in the middle of s1\n",
    "s1=\"neha\"\n",
    "s2=\"sharma\"\n",
    "s=\"\"\n",
    "\n",
    "b=len(s1)//2\n",
    "print(s1[b])\n",
    "s=s1[:b:]+s2+s1[b:]\n",
    "print(s)\n"
   ]
  },
  {
   "cell_type": "code",
   "execution_count": 100,
   "metadata": {},
   "outputs": [
    {
     "name": "stdout",
     "output_type": "stream",
     "text": [
      "enter first string neha\n",
      "enter second string sharma\n",
      "nshraa\n"
     ]
    }
   ],
   "source": [
    "#return a new string made of the first,middle and last character each input string\n",
    "\n",
    "s1=input(\"enter first string \")\n",
    "s2=input(\"enter second string \")\n",
    "s=\"\"\n",
    "b=len(s1)//2\n",
    "c=len(s2)//2\n",
    "s=s1[0:1]+s2[0:1]+s1[b:b+1]+s2[c:c+1]+s1[len(s1)-1]+s2[len(s2)-1]\n",
    "print(s)"
   ]
  },
  {
   "cell_type": "code",
   "execution_count": 111,
   "metadata": {},
   "outputs": [
    {
     "name": "stdout",
     "output_type": "stream",
     "text": [
      "Enter a string NehShaRma\n",
      "ehhamaNSR\n"
     ]
    }
   ],
   "source": [
    "#lower case come first\n",
    "\n",
    "s=input(\"Enter a string \")\n",
    "l=[]\n",
    "u=[]\n",
    "for x in s:\n",
    "    if x.islower():\n",
    "        l.append(x)\n",
    "    else:\n",
    "        u.append(x)\n",
    "s1=\"\".join(l+u)\n",
    "print(s1)\n",
    "\n",
    "\n",
    "\n"
   ]
  },
  {
   "cell_type": "code",
   "execution_count": 126,
   "metadata": {},
   "outputs": [
    {
     "name": "stdout",
     "output_type": "stream",
     "text": [
      "new list  ['Emma', 'Jon', 'kelly', None, 'Eric']\n"
     ]
    }
   ],
   "source": [
    "#remove empty string from a list of strings\n",
    "\n",
    "str_list=[\"Emma\",\"Jon\",\"\",\"kelly\",None,\"Eric\",\"\"]\n",
    "\n",
    "while(\"\" in str_list):\n",
    "    str_list.remove(\"\")\n",
    "print(\"new list \",str_list)\n",
    "#str_list = list(filter(None, str_list)) "
   ]
  },
  {
   "cell_type": "code",
   "execution_count": 119,
   "metadata": {},
   "outputs": [
    {
     "name": "stdout",
     "output_type": "stream",
     "text": [
      "['Emma', 'is', 'a', 'data', 'scientist']\n",
      "Emma\n",
      "is\n",
      "a\n",
      "data\n",
      "scientist\n"
     ]
    }
   ],
   "source": [
    "s1=\"Emma-is-a-data-scientist\"\n",
    "s1=s1.split(\"-\")\n",
    "print(s1)\n",
    "for x in s1:\n",
    "    print(x)\n",
    "\n",
    "\n"
   ]
  },
  {
   "cell_type": "code",
   "execution_count": 125,
   "metadata": {},
   "outputs": [
    {
     "name": "stdout",
     "output_type": "stream",
     "text": [
      "43\n"
     ]
    }
   ],
   "source": [
    "#last position of a substring \"emma \" in given string\n",
    "\n",
    "str1=\"Emma is a data scientist who knows python. Emma works at google\"\n",
    "\n",
    "e=str1.rfind(\"Emma\")\n",
    "print(e)\n",
    "\n",
    "\n",
    "     "
   ]
  },
  {
   "cell_type": "code",
   "execution_count": 129,
   "metadata": {},
   "outputs": [
    {
     "name": "stdout",
     "output_type": "stream",
     "text": [
      "['Emma25', 'is', 'Data', 'Scientist50', 'and', 'AI', 'expert']\n",
      "Emma25\n",
      "is\n",
      "Data\n",
      "Scientist50\n",
      "and\n",
      "AI\n",
      "expert\n"
     ]
    }
   ],
   "source": [
    "#find words with alphabets and number\n",
    "\n",
    "str1=\"Emma25 is Data Scientist50 and AI expert \"\n",
    "str1=str1.split()\n",
    "print(str1)\n",
    "for x in str1:\n",
    "    if x.isalnum():\n",
    "        print(x)\n",
    "    \n"
   ]
  },
  {
   "cell_type": "code",
   "execution_count": null,
   "metadata": {},
   "outputs": [],
   "source": []
  }
 ],
 "metadata": {
  "kernelspec": {
   "display_name": "Python 3",
   "language": "python",
   "name": "python3"
  },
  "language_info": {
   "codemirror_mode": {
    "name": "ipython",
    "version": 3
   },
   "file_extension": ".py",
   "mimetype": "text/x-python",
   "name": "python",
   "nbconvert_exporter": "python",
   "pygments_lexer": "ipython3",
   "version": "3.8.5"
  }
 },
 "nbformat": 4,
 "nbformat_minor": 4
}
