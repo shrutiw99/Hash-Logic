{
 "cells": [
  {
   "cell_type": "code",
   "execution_count": 76,
   "metadata": {},
   "outputs": [
    {
     "name": "stdout",
     "output_type": "stream",
     "text": [
      "hello world!\n",
      "abcdefghijklmnopqrstuvwxyz\n"
     ]
    }
   ],
   "source": [
    "import string\n",
    "print (\"hello world!\")\n",
    "if 'abcdefghijklmnopqrstuvwxyz' == string.ascii_lowercase:\n",
    "    print(string.ascii_lowercase)\n",
    "else:\n",
    "    print(\"aloha\")"
   ]
  },
  {
   "cell_type": "code",
   "execution_count": 4,
   "metadata": {},
   "outputs": [
    {
     "name": "stdout",
     "output_type": "stream",
     "text": [
      "enter the number2 32 3\n",
      "the number is  2 32 3\n"
     ]
    }
   ],
   "source": [
    "a,b,c = input(\"enter the number\").split()\n",
    "print(\"the number is \",a,b,c)"
   ]
  },
  {
   "cell_type": "code",
   "execution_count": 5,
   "metadata": {},
   "outputs": [
    {
     "name": "stdout",
     "output_type": "stream",
     "text": [
      "enter the number2 3 3\n",
      "the number is  2 3 3\n"
     ]
    }
   ],
   "source": [
    "a,b,c = input(\"enter the number\").split()\n",
    "print(\"the number is \",a,b,c)"
   ]
  },
  {
   "cell_type": "code",
   "execution_count": 44,
   "metadata": {},
   "outputs": [
    {
     "name": "stdout",
     "output_type": "stream",
     "text": [
      "enter the number20 10 20\n",
      "two or more value's are equal\n",
      "a is greater than b and c\n"
     ]
    }
   ],
   "source": [
    "a,b,c = input(\"enter the number\").split()\n",
    "if a==b or b==c or a==c:\n",
    "    print (\"two or more value's are equal\")\n",
    "    if a>b or a>c:\n",
    "        print(\"a is greater than b and c\")\n",
    "    elif b>c or b>a:\n",
    "        print(\"b is greater than a and c\")\n",
    "    elif c>a or c>b:\n",
    "        print(\"c is greater\")\n",
    "elif a>b and a>c:\n",
    "        print(\"a is greater than b and c\")\n",
    "elif b>c and b>a:\n",
    "        print(\"b is greater than a and c\")\n",
    "elif c>a and c>b:\n",
    "        print(\"c is greater\")"
   ]
  },
  {
   "cell_type": "code",
   "execution_count": 75,
   "metadata": {},
   "outputs": [
    {
     "name": "stdout",
     "output_type": "stream",
     "text": [
      "enter the wordfhad;klfjhsa\n",
      "it start without vowels \n"
     ]
    }
   ],
   "source": [
    "word = input(\"enter the word\")\n",
    "if word[0]== \"a\" or word[0]== \"e\" or word[0]== \"i\" or word[0]== \"o\" or word[0]== \"u\":\n",
    "    print(\"it start with vowels \")\n",
    "else:\n",
    "    print(\"it start without vowels \")"
   ]
  },
  {
   "cell_type": "code",
   "execution_count": 106,
   "metadata": {},
   "outputs": [
    {
     "name": "stdout",
     "output_type": "stream",
     "text": [
      "the answer is 10\n",
      "enter the number between 1 to 1009\n",
      "9\n",
      "your guess is less than the answer and you have  2 chances\n",
      "enter the number between 1 to 10076\n",
      "76\n",
      "your guess is greater than the answer and you have  1 chances\n",
      "enter the number between 1 to 10045\n",
      "45\n",
      "your guess is greater than the answer and you have  0 chances\n"
     ]
    }
   ],
   "source": [
    "import random\n",
    "#word = input(\"enter the number between 1 to 100\")\n",
    "random = random.randint(1,100)\n",
    "print(\"the answer is\",random)\n",
    "count=3\n",
    "\n",
    "for i in range(3):\n",
    "    \n",
    "    word = int(input(\"enter the number between 1 to 100\"))\n",
    "    print(word)\n",
    "    if word<random:\n",
    "        count-=1\n",
    "        print(\"your guess is less than the answer and you have \" ,count,\"chances\")\n",
    "    elif word>random:\n",
    "        count-=1\n",
    "        print(\"your guess is greater than the answer and you have \" ,count,\"chances\")\n",
    "    else:\n",
    "        print(\"your answer is correct\")"
   ]
  },
  {
   "cell_type": "code",
   "execution_count": 1,
   "metadata": {},
   "outputs": [
    {
     "name": "stdout",
     "output_type": "stream",
     "text": [
      "enter the number10 10 10\n",
      "two or more value's are equal\n"
     ]
    }
   ],
   "source": [
    "a,b,c = input(\"enter the number\").split()\n",
    "if a==b or b==c or a==c:\n",
    "    print (\"two or more value's are equal\")\n",
    "    if a>b or a>c:\n",
    "        print(\"a is greater than b and c\")\n",
    "    elif b>c or b>a:\n",
    "        print(\"b is greater than a and c\")\n",
    "    elif c>a or c>b:\n",
    "        print(\"c is greater\")\n",
    "elif a>b and a>c:\n",
    "        print(\"a is greater than b and c\")\n",
    "elif b>c and b>a:\n",
    "        print(\"b is greater than a and c\")\n",
    "elif c>a and c>b:\n",
    "        print(\"c is greater\")"
   ]
  },
  {
   "cell_type": "code",
   "execution_count": 80,
   "metadata": {},
   "outputs": [
    {
     "name": "stdout",
     "output_type": "stream",
     "text": [
      "enter the alphabet for asciifdsj432^^&%$\n",
      "f = 102\n",
      "d = 100\n",
      "s = 115\n",
      "j = 106\n",
      "4  = is not an alphbet... you idiot!!!\n",
      "3  = is not an alphbet... you idiot!!!\n",
      "2  = is not an alphbet... you idiot!!!\n",
      "^  = is not an alphbet... you idiot!!!\n",
      "^  = is not an alphbet... you idiot!!!\n",
      "&  = is not an alphbet... you idiot!!!\n",
      "%  = is not an alphbet... you idiot!!!\n",
      "$  = is not an alphbet... you idiot!!!\n"
     ]
    }
   ],
   "source": [
    "import string\n",
    "word = input(\"enter the alphabet for ascii\")\n",
    "#print(word)\n",
    "for i in range(len(word)):\n",
    "    lower=96\n",
    "    Upper=64\n",
    "    flag = False\n",
    "    #print(lower,Upper)\n",
    "    for j in string.ascii_lowercase:\n",
    "        lower+=1\n",
    "        if word[i]==j:           \n",
    "            print(j, \"=\", lower)\n",
    "            flag = True\n",
    "\n",
    "    for j in string.ascii_uppercase:\n",
    "        Upper+=1\n",
    "        if word[i]==j:\n",
    "            print(j, \"=\", Upper)        \n",
    "            flag = True\n",
    "    if flag == False:\n",
    "            print(word[i],\" = is not an alphbet... you idiot!!!\")"
   ]
  },
  {
   "cell_type": "code",
   "execution_count": null,
   "metadata": {},
   "outputs": [],
   "source": []
  }
 ],
 "metadata": {
  "kernelspec": {
   "display_name": "Python 3",
   "language": "python",
   "name": "python3"
  },
  "language_info": {
   "codemirror_mode": {
    "name": "ipython",
    "version": 3
   },
   "file_extension": ".py",
   "mimetype": "text/x-python",
   "name": "python",
   "nbconvert_exporter": "python",
   "pygments_lexer": "ipython3",
   "version": "3.8.5"
  }
 },
 "nbformat": 4,
 "nbformat_minor": 4
}
