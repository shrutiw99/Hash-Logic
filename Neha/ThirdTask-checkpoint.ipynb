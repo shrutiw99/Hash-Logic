{
 "cells": [
  {
   "cell_type": "code",
   "execution_count": 12,
   "metadata": {},
   "outputs": [
    {
     "name": "stdout",
     "output_type": "stream",
     "text": [
      "h\n",
      "n\n",
      "e\n",
      "a\n",
      "a\n",
      "h\n",
      "e\n",
      "n\n"
     ]
    }
   ],
   "source": [
    "name=\"neha\"\n",
    "print(name[2])\n",
    "print(name[0])\n",
    "print(name[1])\n",
    "print(name[3])\n",
    "print(name[-1])\n",
    "print(name[-2])\n",
    "print(name[-3])\n",
    "print(name[-4])\n"
   ]
  },
  {
   "cell_type": "code",
   "execution_count": 25,
   "metadata": {},
   "outputs": [
    {
     "name": "stdout",
     "output_type": "stream",
     "text": [
      "neh\n",
      "nh\n",
      "tihs\n"
     ]
    }
   ],
   "source": [
    "print(name[0:3])\n",
    "print(name[0:4:2])\n",
    "#print(\"harshit[-1:-5]\") have to specify step in this case necessary\n",
    "print(\"harshit\"[-1:-5:-1])"
   ]
  },
  {
   "cell_type": "code",
   "execution_count": 27,
   "metadata": {},
   "outputs": [
    {
     "name": "stdout",
     "output_type": "stream",
     "text": [
      "Enter your age: 23\n",
      "You are above 20\n",
      "you are absolutely eligible\n",
      "you are eligible\n"
     ]
    }
   ],
   "source": [
    "age=int(input(\"Enter your age: \"))\n",
    "if age>=20:\n",
    " print(\"You are above 20\")\n",
    " print(\"you are absolutely eligible\")\n",
    "    \n",
    "else:\n",
    "   print(\"your age is less than 20\")\n",
    "print(\"you are eligible\")\n"
   ]
  },
  {
   "cell_type": "code",
   "execution_count": 41,
   "metadata": {},
   "outputs": [
    {
     "name": "stdout",
     "output_type": "stream",
     "text": [
      "Enter your number : 0\n",
      "Number is neither nor odd\n"
     ]
    }
   ],
   "source": [
    "#if elif\n",
    "num=int(input(\"Enter your number : \"))\n",
    "\n",
    "if num==0:\n",
    "   print(\"Number is neither nor odd\")\n",
    "elif num%2==0:\n",
    "    print(\"Number is even\")\n",
    "else:\n",
    "    print(\"Number is odd\")\n",
    "    "
   ]
  },
  {
   "cell_type": "code",
   "execution_count": null,
   "metadata": {},
   "outputs": [],
   "source": []
  },
  {
   "cell_type": "code",
   "execution_count": 50,
   "metadata": {},
   "outputs": [
    {
     "name": "stdout",
     "output_type": "stream",
     "text": [
      "Enter your number : 24\n",
      "Number is even\n"
     ]
    }
   ],
   "source": [
    "#nested if\n",
    "\n",
    "num=int(input(\"Enter your number : \"))\n",
    "\n",
    "if num%2==0:  \n",
    "    if num==0:\n",
    "        print(\"Number is neither nor odd\")\n",
    "    else:\n",
    "        print(\"Number is even\")\n",
    "else:\n",
    "    print(\"Number is odd\")"
   ]
  },
  {
   "cell_type": "markdown",
   "metadata": {},
   "source": []
  },
  {
   "cell_type": "code",
   "execution_count": null,
   "metadata": {},
   "outputs": [],
   "source": [
    "a,b,c=input(\"Enter your first ,second and third number \").split(\",\")\n",
    "\n",
    "if a==b and b==c:\n",
    "    print(\"a,b and c are equal\")\n",
    "elif a==b or a==c or b==c:\n",
    "    if a==b:\n",
    "        if a>c and b>c:\n",
    "            print(\" a and b are equal and greater than c\")\n",
    "        else:\n",
    "            print(\"a and b are equal and smaller than c\")\n",
    "    elif a==c:\n",
    "        print(\"a is equal to c\")\n",
    "    else:\n",
    "        print(\"b is equal to c\")\n",
    "\n",
    "elif a>b and a>c:\n",
    "  print (\" a is greater\")\n",
    "elif b>c and b>a:\n",
    "  print(\"b is greater\")\n",
    "else:\n",
    "    print(\"c is greater\")"
   ]
  },
  {
   "cell_type": "code",
   "execution_count": 1,
   "metadata": {},
   "outputs": [
    {
     "ename": "SyntaxError",
     "evalue": "invalid syntax (<ipython-input-1-3a13971e0475>, line 7)",
     "output_type": "error",
     "traceback": [
      "\u001b[1;36m  File \u001b[1;32m\"<ipython-input-1-3a13971e0475>\"\u001b[1;36m, line \u001b[1;32m7\u001b[0m\n\u001b[1;33m    print(\"b is equal to c\")'''S\u001b[0m\n\u001b[1;37m                               ^\u001b[0m\n\u001b[1;31mSyntaxError\u001b[0m\u001b[1;31m:\u001b[0m invalid syntax\n"
     ]
    }
   ],
   "source": [
    "'''elif a==b or a==c or b==c:\n",
    "    if a==b :\n",
    "        print(\"a is equal to b \")\n",
    "    elif a==c:\n",
    "        print(\"a is equal to c\")\n",
    "    else:\n",
    "        print(\"b is equal to c\")'''\n",
    "\n",
    "'''\n",
    "  elif a==b and a>c:\n",
    "  print(\"a and b are equal and greater than c\")\n",
    "elif a==c and a>b:\n",
    "  print(\"a and c are equal and greater than b\")\n",
    "elif b==c and b>a:\n",
    "  print(\"b and c are equal and greater than a\")\n",
    "''' "
   ]
  },
  {
   "cell_type": "code",
   "execution_count": 11,
   "metadata": {},
   "outputs": [
    {
     "name": "stdout",
     "output_type": "stream",
     "text": [
      "Enter your first ,second and third number 3,4,5\n",
      "c is greater\n"
     ]
    }
   ],
   "source": [
    "a,b,c=input(\"Enter your first ,second and third number \").split(\",\")\n",
    "\n",
    "if a==b and b==c:\n",
    "    print(\"a,b and c are equal\")\n",
    "elif a>b and a>c:\n",
    "  print (\" a is greater\")\n",
    "elif b>c and b>a:\n",
    "  print(\"b is greater\")\n",
    "else:\n",
    "    print(\"c is greater\")\n",
    "    "
   ]
  },
  {
   "cell_type": "code",
   "execution_count": null,
   "metadata": {},
   "outputs": [],
   "source": [
    "ch=input(\"Enter any character : \")\n",
    "if ch=='a' or ch=='e' or ch=='i' or ch=='o' or ch=='u':\n",
    " print(\" character is vowel\")\n",
    "else:\n",
    " print(\"character is consonant\")\n"
   ]
  },
  {
   "cell_type": "code",
   "execution_count": 27,
   "metadata": {},
   "outputs": [
    {
     "ename": "AttributeError",
     "evalue": "module 'random' has no attribute 'randit'",
     "output_type": "error",
     "traceback": [
      "\u001b[1;31m---------------------------------------------------------------------------\u001b[0m",
      "\u001b[1;31mAttributeError\u001b[0m                            Traceback (most recent call last)",
      "\u001b[1;32m<ipython-input-27-3721ab3283d0>\u001b[0m in \u001b[0;36m<module>\u001b[1;34m\u001b[0m\n\u001b[0;32m      1\u001b[0m \u001b[1;32mimport\u001b[0m \u001b[0mrandom\u001b[0m\u001b[1;33m\u001b[0m\u001b[1;33m\u001b[0m\u001b[0m\n\u001b[1;32m----> 2\u001b[1;33m \u001b[0mnumber\u001b[0m\u001b[1;33m=\u001b[0m\u001b[0mprint\u001b[0m\u001b[1;33m(\u001b[0m\u001b[0mrandom\u001b[0m\u001b[1;33m.\u001b[0m\u001b[0mrandit\u001b[0m\u001b[1;33m(\u001b[0m\u001b[1;36m0\u001b[0m\u001b[1;33m,\u001b[0m\u001b[1;36m9\u001b[0m\u001b[1;33m)\u001b[0m\u001b[1;33m)\u001b[0m\u001b[1;33m\u001b[0m\u001b[1;33m\u001b[0m\u001b[0m\n\u001b[0m",
      "\u001b[1;31mAttributeError\u001b[0m: module 'random' has no attribute 'randit'"
     ]
    }
   ],
   "source": []
  },
  {
   "cell_type": "code",
   "execution_count": null,
   "metadata": {},
   "outputs": [],
   "source": []
  },
  {
   "cell_type": "code",
   "execution_count": null,
   "metadata": {},
   "outputs": [],
   "source": []
  },
  {
   "cell_type": "code",
   "execution_count": null,
   "metadata": {},
   "outputs": [],
   "source": []
  }
 ],
 "metadata": {
  "kernelspec": {
   "display_name": "Python 3",
   "language": "python",
   "name": "python3"
  },
  "language_info": {
   "codemirror_mode": {
    "name": "ipython",
    "version": 3
   },
   "file_extension": ".py",
   "mimetype": "text/x-python",
   "name": "python",
   "nbconvert_exporter": "python",
   "pygments_lexer": "ipython3",
   "version": "3.8.5"
  }
 },
 "nbformat": 4,
 "nbformat_minor": 4
}
