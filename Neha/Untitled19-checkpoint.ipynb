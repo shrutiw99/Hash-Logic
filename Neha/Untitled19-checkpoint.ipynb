{
 "cells": [
  {
   "cell_type": "code",
   "execution_count": 28,
   "metadata": {},
   "outputs": [
    {
     "name": "stdout",
     "output_type": "stream",
     "text": [
      "          0  \n",
      "        0 1  \n",
      "      0 1 2  \n",
      "    0 1 2 3  \n",
      "  0 1 2 3 4  \n",
      "0 1 2 3 4 5  \n"
     ]
    }
   ],
   "source": [
    "rows=6\n",
    "for i in range(0,rows):\n",
    " for s in range(i,rows-1):\n",
    "    print(\" \",end=\" \")\n",
    " for j in range(0,i+1):\n",
    "       print(j,end=\" \")\n",
    " print(\" \")"
   ]
  },
  {
   "cell_type": "code",
   "execution_count": null,
   "metadata": {},
   "outputs": [],
   "source": []
  },
  {
   "cell_type": "code",
   "execution_count": 13,
   "metadata": {},
   "outputs": [
    {
     "name": "stdout",
     "output_type": "stream",
     "text": [
      "5 4 3 2 1 1 2 3 4 5  \n",
      "5 4 3 2 2 3 4 5  \n",
      "5 4 3 3 4 5  \n",
      "5 4 4 5  \n",
      "5 5  \n"
     ]
    }
   ],
   "source": [
    "rows=5\n",
    "for i in range(0,rows):\n",
    "    for j in range(rows,i,-1):\n",
    "        print(j,end=\" \")\n",
    "    for j in range(i+1,rows+1):\n",
    "        print(j,end=\" \")\n",
    "    print(\" \")"
   ]
  },
  {
   "cell_type": "code",
   "execution_count": 16,
   "metadata": {},
   "outputs": [
    {
     "name": "stdout",
     "output_type": "stream",
     "text": [
      "1  \n",
      "1 2 1  \n",
      "1 2 3 2 1  \n",
      "1 2 3 4 3 2 1  \n",
      "1 2 3 4 5 4 3 2 1  \n"
     ]
    }
   ],
   "source": [
    "rows=5\n",
    "for i in range(1,rows+1):\n",
    "    for j in range(1,i+1):\n",
    "        print(j,end=\" \")\n",
    "    for j in range(i-1,0,-1):\n",
    "        print(j,end=\" \")\n",
    "    print(\" \")"
   ]
  },
  {
   "cell_type": "code",
   "execution_count": 18,
   "metadata": {},
   "outputs": [
    {
     "name": "stdout",
     "output_type": "stream",
     "text": [
      "1 2 3 4 5  \n",
      "2 2 3 4 5  \n",
      "3 3 3 4 5  \n",
      "4 4 4 4 5  \n",
      "5 5 5 5 5  \n"
     ]
    }
   ],
   "source": [
    "rows=5\n",
    "for i in range(1,rows+1):\n",
    "    for j in range(1,i+1):\n",
    "        print(i,end=\" \")\n",
    "    for j in range(i+1,rows+1):\n",
    "        print(j,end=\" \")\n",
    "    \n",
    "    print(\" \")"
   ]
  },
  {
   "cell_type": "code",
   "execution_count": 36,
   "metadata": {},
   "outputs": [
    {
     "name": "stdout",
     "output_type": "stream",
     "text": [
      "1  \n",
      "2 3 4  \n",
      "5 6 7 8 9  \n"
     ]
    }
   ],
   "source": [
    "rows=4\n",
    "n=1\n",
    "a=2\n",
    "for i in range(1,rows):\n",
    "    for j in range(1,a):\n",
    "        print(n,end=\" \")\n",
    "        n=n+1\n",
    "    print(\" \")\n",
    "    a=a+2"
   ]
  },
  {
   "cell_type": "code",
   "execution_count": null,
   "metadata": {},
   "outputs": [],
   "source": []
  },
  {
   "cell_type": "code",
   "execution_count": null,
   "metadata": {},
   "outputs": [],
   "source": []
  }
 ],
 "metadata": {
  "kernelspec": {
   "display_name": "Python 3",
   "language": "python",
   "name": "python3"
  },
  "language_info": {
   "codemirror_mode": {
    "name": "ipython",
    "version": 3
   },
   "file_extension": ".py",
   "mimetype": "text/x-python",
   "name": "python",
   "nbconvert_exporter": "python",
   "pygments_lexer": "ipython3",
   "version": "3.8.5"
  }
 },
 "nbformat": 4,
 "nbformat_minor": 4
}
