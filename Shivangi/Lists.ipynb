{
 "cells": [
  {
   "cell_type": "code",
   "execution_count": 1,
   "metadata": {},
   "outputs": [
    {
     "name": "stdout",
     "output_type": "stream",
     "text": [
      "[0, 1, 4, 9, 16, 25, 36, 49, 64, 81, 100]\n"
     ]
    },
    {
     "data": {
      "text/plain": [
       "list"
      ]
     },
     "execution_count": 1,
     "metadata": {},
     "output_type": "execute_result"
    }
   ],
   "source": [
    "l1=[i**2 for i in range(0,11)]\n",
    "print(l1)\n",
    "type(l1)"
   ]
  },
  {
   "cell_type": "code",
   "execution_count": 2,
   "metadata": {},
   "outputs": [
    {
     "name": "stdout",
     "output_type": "stream",
     "text": [
      "3\n",
      "[7, 9, 11, 13, 15]\n"
     ]
    }
   ],
   "source": [
    "lst1=[1,2,3,4,5]\n",
    "lst2=lst1[-3] #3rd last element\n",
    "print(lst2)\n",
    "\n",
    "A=[1,2,3,4,5]\n",
    "B=[6,7,8,9,10]\n",
    "C=[]\n",
    "for i in range(0,5):\n",
    "    C.append(A[i]+B[i])\n",
    "print(C)"
   ]
  },
  {
   "cell_type": "code",
   "execution_count": 3,
   "metadata": {},
   "outputs": [
    {
     "name": "stdout",
     "output_type": "stream",
     "text": [
      "[6, 8, 10, 12]\n"
     ]
    }
   ],
   "source": [
    "#-----Add corresponding elements of 2 lists\n",
    "A=[1,2,3,4]\n",
    "B=[5,6,7,8]\n",
    "i=0\n",
    "C=[]\n",
    "while i < len(A):\n",
    "    C.append(A[i]+B[i])\n",
    "    i+=1\n",
    "print(C)"
   ]
  },
  {
   "cell_type": "code",
   "execution_count": 4,
   "metadata": {},
   "outputs": [
    {
     "name": "stdout",
     "output_type": "stream",
     "text": [
      "[6, 8, 10, 12]\n"
     ]
    }
   ],
   "source": [
    "A=[1,2,3,4]\n",
    "B=[5,6,7,8,9,10]\n",
    "C=[]\n",
    "for x,y in zip(A,B):\n",
    "    C.append(x+y)\n",
    "print(C)"
   ]
  },
  {
   "cell_type": "code",
   "execution_count": 5,
   "metadata": {},
   "outputs": [
    {
     "name": "stdout",
     "output_type": "stream",
     "text": [
      "[1, 4, 9, 25]\n"
     ]
    }
   ],
   "source": [
    "a=[1,4,9,16,25]\n",
    "a.pop(3)\n",
    "print(a)"
   ]
  },
  {
   "cell_type": "code",
   "execution_count": 30,
   "metadata": {},
   "outputs": [
    {
     "name": "stdout",
     "output_type": "stream",
     "text": [
      "['orange', 'mango', 'apple', 'cherry']\n",
      "['orange', 'mango', 'cherry']\n"
     ]
    }
   ],
   "source": [
    "f=[\"apple\",\"orange\",\"mango\",\"apple\",\"cherry\"]\n",
    "for i in f:\n",
    "    if i==\"apple\":\n",
    "        f.remove(\"apple\")\n",
    "        print(f)"
   ]
  },
  {
   "cell_type": "code",
   "execution_count": 7,
   "metadata": {},
   "outputs": [
    {
     "name": "stdout",
     "output_type": "stream",
     "text": [
      "butter- jam- curd\n"
     ]
    }
   ],
   "source": [
    "a=['butter','jam','curd']\n",
    "s='- '.join(a)\n",
    "print(s)"
   ]
  },
  {
   "cell_type": "code",
   "execution_count": 8,
   "metadata": {},
   "outputs": [
    {
     "name": "stdout",
     "output_type": "stream",
     "text": [
      "'butter', 'jam', 'curd'\n"
     ]
    }
   ],
   "source": [
    "a=['butter','jam','curd']\n",
    "s=str(a).strip('[]')\n",
    "print(s)"
   ]
  },
  {
   "cell_type": "code",
   "execution_count": 12,
   "metadata": {},
   "outputs": [
    {
     "name": "stdout",
     "output_type": "stream",
     "text": [
      "1 11 111\n"
     ]
    }
   ],
   "source": [
    "l=[1,11,111]\n",
    "s=' '.join(str(e) for e in l)\n",
    "print(s)"
   ]
  },
  {
   "cell_type": "code",
   "execution_count": 21,
   "metadata": {},
   "outputs": [
    {
     "name": "stdout",
     "output_type": "stream",
     "text": [
      "[1, 3, 18, 23, 47, 50, 70]\n",
      "[70, 50, 47, 23, 18, 3, 1]\n"
     ]
    }
   ],
   "source": [
    "num=[1,70,23,47,18,50,3]\n",
    "num.sort() #ASCENDING Order\n",
    "print(num)\n",
    "num.sort(reverse=True)    #Descending Order\n",
    "print(num)"
   ]
  },
  {
   "cell_type": "code",
   "execution_count": 35,
   "metadata": {},
   "outputs": [
    {
     "name": "stdout",
     "output_type": "stream",
     "text": [
      "[('Snowball', 'Cat', 1), ('Chewy', 'Dog', 2), ('Bubbles', 'Fish', 4), ('Gruff', 'Goat', 6)]\n"
     ]
    }
   ],
   "source": [
    "#-------Iterate over than 2+ list--------------\n",
    "name = ['Snowball', 'Chewy', 'Bubbles', 'Gruff']\n",
    "animal = ['Cat', 'Dog', 'Fish', 'Goat']\n",
    "age = [1, 2, 4, 6]\n",
    "z = [i for i  in zip(name, animal, age)]\n",
    "print(z)"
   ]
  },
  {
   "cell_type": "code",
   "execution_count": 38,
   "metadata": {},
   "outputs": [
    {
     "data": {
      "text/plain": [
       "[1, 2, 3, 4]"
      ]
     },
     "execution_count": 38,
     "metadata": {},
     "output_type": "execute_result"
    }
   ],
   "source": [
    "#----------Remove Duplicates from List\n",
    "a=[3,2,2,1,3,4]\n",
    "list(set(a))"
   ]
  },
  {
   "cell_type": "code",
   "execution_count": 39,
   "metadata": {},
   "outputs": [
    {
     "data": {
      "text/plain": [
       "2"
      ]
     },
     "execution_count": 39,
     "metadata": {},
     "output_type": "execute_result"
    }
   ],
   "source": [
    "#--------Index of 1st occurence of item in List\n",
    "f=[\"apple\",\"orange\",\"mango\",\"pear\",\"apple\",\"cherry\"]\n",
    "f.index(\"mango\")"
   ]
  },
  {
   "cell_type": "code",
   "execution_count": 43,
   "metadata": {},
   "outputs": [
    {
     "name": "stdout",
     "output_type": "stream",
     "text": [
      "[]\n"
     ]
    }
   ],
   "source": [
    "#-----------Remove all elements from a list\n",
    "l1 = ['Cat', 'Dog', 'Fish', 'Goat']\n",
    "l1.clear()\n",
    "print(l1)"
   ]
  },
  {
   "cell_type": "code",
   "execution_count": 49,
   "metadata": {},
   "outputs": [
    {
     "name": "stdout",
     "output_type": "stream",
     "text": [
      "0 : Cat\n",
      "1 : Dog\n",
      "2 : Fish\n",
      "3 : Goat\n"
     ]
    }
   ],
   "source": [
    "l1 = ['Cat', 'Dog', 'Fish', 'Goat']\n",
    "for i in l1:\n",
    "    print(l1.index(i),\":\",i)"
   ]
  },
  {
   "cell_type": "code",
   "execution_count": 53,
   "metadata": {},
   "outputs": [
    {
     "name": "stdout",
     "output_type": "stream",
     "text": [
      "['butter', 'jam', 'curd', 1, 4, 6]\n"
     ]
    }
   ],
   "source": [
    "#---------concatenate two lists\n",
    "a=['butter','jam','curd']\n",
    "age = [1, 4, 6]\n",
    "print(a+age)"
   ]
  },
  {
   "cell_type": "code",
   "execution_count": 54,
   "metadata": {},
   "outputs": [
    {
     "name": "stdout",
     "output_type": "stream",
     "text": [
      "[1, 2, 5, 10, 17, 26]\n"
     ]
    }
   ],
   "source": [
    "#---------- manipulate every element in a list\n",
    "sq=[0, 1, 4, 9, 16, 25]\n",
    "sq=[i+1 for i in sq]\n",
    "print(sq)"
   ]
  },
  {
   "cell_type": "code",
   "execution_count": 62,
   "metadata": {},
   "outputs": [
    {
     "data": {
      "text/plain": [
       "1"
      ]
     },
     "execution_count": 62,
     "metadata": {},
     "output_type": "execute_result"
    }
   ],
   "source": [
    "#-------count the occurrence of a specific object in a list\n",
    "a=[3,2,2,1,3,4]\n",
    "a.count(4)\n",
    "    "
   ]
  },
  {
   "cell_type": "code",
   "execution_count": 63,
   "metadata": {},
   "outputs": [
    {
     "name": "stdout",
     "output_type": "stream",
     "text": [
      "['Cat', 'Dog', 'Fish', 'Goat']\n",
      "['Cat', 'Dog', 'Goat']\n"
     ]
    }
   ],
   "source": [
    "l1 = ['Cat', 'Dog', 'Fish', 'Goat']\n",
    "#l2= [\"apple\",\"orange\",\"mango\",\"pear\",\"apple\",\"cherry\"]\n",
    "l2=l1.copy()\n",
    "l2.remove('Fish')\n",
    "print(l1)\n",
    "print(l2)"
   ]
  },
  {
   "cell_type": "code",
   "execution_count": 4,
   "metadata": {},
   "outputs": [
    {
     "data": {
      "text/plain": [
       "['cat', 'bat', 'rat']"
      ]
     },
     "execution_count": 4,
     "metadata": {},
     "output_type": "execute_result"
    }
   ],
   "source": [
    "spam = ['cat', 'bat', 'rat', 'elephant']\n",
    "spam[0:-1]"
   ]
  },
  {
   "cell_type": "code",
   "execution_count": 3,
   "metadata": {},
   "outputs": [
    {
     "data": {
      "text/plain": [
       "['a', 'b', 'c']"
      ]
     },
     "execution_count": 3,
     "metadata": {},
     "output_type": "execute_result"
    }
   ],
   "source": [
    "list(\"abc\")"
   ]
  },
  {
   "cell_type": "code",
   "execution_count": 20,
   "metadata": {},
   "outputs": [
    {
     "data": {
      "text/plain": [
       "2"
      ]
     },
     "execution_count": 20,
     "metadata": {},
     "output_type": "execute_result"
    }
   ],
   "source": [
    "l=[1,2,3,2,4,5,3]\n",
    "l.count(2)"
   ]
  }
 ],
 "metadata": {
  "kernelspec": {
   "display_name": "Python 3",
   "language": "python",
   "name": "python3"
  },
  "language_info": {
   "codemirror_mode": {
    "name": "ipython",
    "version": 3
   },
   "file_extension": ".py",
   "mimetype": "text/x-python",
   "name": "python",
   "nbconvert_exporter": "python",
   "pygments_lexer": "ipython3",
   "version": "3.8.5"
  }
 },
 "nbformat": 4,
 "nbformat_minor": 4
}
