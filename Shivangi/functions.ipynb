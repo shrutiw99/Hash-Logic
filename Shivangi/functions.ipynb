{
 "cells": [
  {
   "cell_type": "code",
   "execution_count": 1,
   "metadata": {},
   "outputs": [
    {
     "name": "stdout",
     "output_type": "stream",
     "text": [
      "Enter the length of rectangle:7\n",
      "Enter the breadth of rectangle:3\n",
      "Perimeter of Rectangle is: 20\n",
      "Area of Rectangle is: 21\n"
     ]
    }
   ],
   "source": [
    "#Area & perimeter of rectangle\n",
    "def calc():\n",
    "    l=int(input(\"Enter the length of rectangle:\"))\n",
    "    b=int(input(\"Enter the breadth of rectangle:\"))\n",
    "    print(\"Perimeter of Rectangle is:\",2*(l+b))\n",
    "    print(\"Area of Rectangle is:\",l*b)\n",
    "calc()"
   ]
  },
  {
   "cell_type": "code",
   "execution_count": 3,
   "metadata": {},
   "outputs": [
    {
     "name": "stdout",
     "output_type": "stream",
     "text": [
      "Area of circle is: 153.86\n",
      "Circumference of circle is: 43.96\n"
     ]
    }
   ],
   "source": [
    "#area and circumference of a circle\n",
    "def circle(r):\n",
    "    print(\"Area of circle is:\",3.14*r*r)\n",
    "    print(\"Circumference of circle is:\",2*3.14*r)\n",
    "circle(7)    "
   ]
  },
  {
   "cell_type": "code",
   "execution_count": 4,
   "metadata": {},
   "outputs": [
    {
     "data": {
      "text/plain": [
       "32"
      ]
     },
     "execution_count": 4,
     "metadata": {},
     "output_type": "execute_result"
    }
   ],
   "source": [
    "#calculate power of a number raised to other. E.g.- ab\n",
    "def power(a,b):\n",
    "    return pow(a,b)\n",
    "power(2,5)"
   ]
  },
  {
   "cell_type": "code",
   "execution_count": 6,
   "metadata": {},
   "outputs": [
    {
     "name": "stdout",
     "output_type": "stream",
     "text": [
      "Enter Your Age:9\n",
      "Your age is '9'.You're Not Eligible to vote\n"
     ]
    }
   ],
   "source": [
    "#function to tell user if he/she is able to vote or not\n",
    "def vote(num):\n",
    "    if num>=18:\n",
    "        print(f\"Your age is '{num}'.You're Eligible to vote\")\n",
    "    else:\n",
    "        print(f\"Your age is '{num}'.You're Not Eligible to vote\")\n",
    "age=int(input(\"Enter Your Age:\"))\n",
    "vote(age)"
   ]
  },
  {
   "cell_type": "code",
   "execution_count": 9,
   "metadata": {},
   "outputs": [
    {
     "name": "stdout",
     "output_type": "stream",
     "text": [
      "12 * 1 = 12\n",
      "12 * 2 = 24\n",
      "12 * 3 = 36\n",
      "12 * 4 = 48\n",
      "12 * 5 = 60\n",
      "12 * 6 = 72\n",
      "12 * 7 = 84\n",
      "12 * 8 = 96\n",
      "12 * 9 = 108\n",
      "12 * 10 = 120\n"
     ]
    }
   ],
   "source": [
    "#Print multiplication table of 12 using recursion.\n",
    "def table(num,i):\n",
    "    print (num,\"*\",i,\"=\",num*i)\n",
    "    i=i+1\n",
    "    if i<=10:\n",
    "        table(num,i)\n",
    "table(12,1)"
   ]
  },
  {
   "cell_type": "code",
   "execution_count": 2,
   "metadata": {},
   "outputs": [
    {
     "name": "stdout",
     "output_type": "stream",
     "text": [
      "Perfect Numbers between 1-1000 are:\n",
      "6\n",
      "28\n",
      "496\n"
     ]
    }
   ],
   "source": [
    "#if parameter number is a perfect number\n",
    "def perfect(num):\n",
    "    s=0\n",
    "    for i in range(1,num):\n",
    "        if num%i == 0:\n",
    "            s+=i\n",
    "    if s==num:\n",
    "        return True\n",
    "    else:\n",
    "        return False\n",
    "    \n",
    "print(\"Perfect Numbers between 1-1000 are:\")\n",
    "for i in range(1,1001):\n",
    "    if perfect(i):\n",
    "        print(i)\n",
    "    "
   ]
  },
  {
   "cell_type": "code",
   "execution_count": 3,
   "metadata": {},
   "outputs": [
    {
     "name": "stdout",
     "output_type": "stream",
     "text": [
      "Enter a number for Even/Odd:67\n",
      "'67' is an Odd Number\n"
     ]
    }
   ],
   "source": [
    "#to check if a number is even or not\n",
    "def check(num):\n",
    "    if num%2 == 0:\n",
    "        print(f\"'{num}' is an Even Number\")\n",
    "    else:\n",
    "         print(f\"'{num}' is an Odd Number\")\n",
    "n=int(input(\"Enter a number for Even/Odd:\"))\n",
    "check(n)"
   ]
  },
  {
   "cell_type": "code",
   "execution_count": 8,
   "metadata": {},
   "outputs": [
    {
     "name": "stdout",
     "output_type": "stream",
     "text": [
      "Enter a number to check if Prime:11\n",
      "'11' is a prime number.\n"
     ]
    }
   ],
   "source": [
    "#to check if a number is prime or not\n",
    "def prime(num):\n",
    "    f=0\n",
    "    for i in range(2,(num//2)+1):\n",
    "        if num%i == 0:\n",
    "                f=1\n",
    "                break\n",
    "    if f == 0:\n",
    "        return True\n",
    "    else:\n",
    "        return False\n",
    "        \n",
    "a=int(input(\"Enter a number to check if Prime:\"))\n",
    "if a==1:\n",
    "    print(\"'1' is neither prime nor composite\")\n",
    "elif a<1:\n",
    "    print(\"Invalid Input!!\")\n",
    "else:\n",
    "    if prime(a):\n",
    "        print(f\"'{a}' is a prime number.\") \n",
    "    else:\n",
    "        print(f\"'{a}' is not a prime number.\")"
   ]
  },
  {
   "cell_type": "code",
   "execution_count": 1,
   "metadata": {},
   "outputs": [
    {
     "name": "stdout",
     "output_type": "stream",
     "text": [
      "Enter a number:5\n",
      "{1: 1, 2: 2, 3: 6, 4: 24, 5: 120}\n"
     ]
    }
   ],
   "source": [
    "#store the factorials calculated in a dictionary\n",
    "def fact(num):\n",
    "    f=1\n",
    "    d={}\n",
    "    if num == 0:\n",
    "        d[0]=1\n",
    "    else:\n",
    "        for i in range(1,num+1):\n",
    "            f*= i\n",
    "            d[i]=f  #inserting factorial calculated in dictionary\n",
    "    print(d)\n",
    "n= int(input(\"Enter a number:\"))\n",
    "fact(n)"
   ]
  }
 ],
 "metadata": {
  "kernelspec": {
   "display_name": "Python 3",
   "language": "python",
   "name": "python3"
  },
  "language_info": {
   "codemirror_mode": {
    "name": "ipython",
    "version": 3
   },
   "file_extension": ".py",
   "mimetype": "text/x-python",
   "name": "python",
   "nbconvert_exporter": "python",
   "pygments_lexer": "ipython3",
   "version": "3.8.5"
  }
 },
 "nbformat": 4,
 "nbformat_minor": 4
}
