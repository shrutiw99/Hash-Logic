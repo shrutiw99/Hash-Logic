{
 "cells": [
  {
   "cell_type": "code",
   "execution_count": 1,
   "metadata": {},
   "outputs": [
    {
     "name": "stdout",
     "output_type": "stream",
     "text": [
      "Enter Number1: 5\n",
      "Enter Number2: 5\n",
      "Enter Number3: 5\n",
      "All are Equal Numbers\n",
      "So  5  is maximum\n"
     ]
    }
   ],
   "source": [
    "#------Greatest of 3 numbers------\n",
    "a=int(input(\"Enter Number1: \"))\n",
    "b=int(input(\"Enter Number2: \"))\n",
    "c=int(input(\"Enter Number3: \"))\n",
    "#---------For equality check------\n",
    "if a==b or b==c or a==c:\n",
    "    if a==b and not(b==c):\n",
    "        print(a,\",\",b,\" are equal\")\n",
    "        if a>c:\n",
    "            print(a,\" is greatest\")\n",
    "        else:\n",
    "            print(c,\" is greatest\")\n",
    "    elif b==c and not(a==c):\n",
    "        print(b,\",\",c,\" are equal\")\n",
    "        if b>a:\n",
    "            print(b,\" is greatest\")\n",
    "        else:\n",
    "            print(a,\" is greatest\")\n",
    "    elif a==b==c:\n",
    "        print(\"All are Equal Numbers\")\n",
    "        print(\"So\",a,\"is maximum\")\n",
    "    else:\n",
    "        print(a,\",\",c,\" are equal\")\n",
    "        if c>b:\n",
    "            print(c,\" is greatest\")\n",
    "        else:\n",
    "            print(b,\" is greatest\")\n",
    "#-----For non-equal  numbers--------------\n",
    "else:\n",
    "    if a>c and c>b:\n",
    "        print(a,\" is greatest\")\n",
    "    elif b>c and c>a:\n",
    "        print(b,\" is greatest\")\n",
    "    else:\n",
    "        print(c,\" is greatest\")"
   ]
  },
  {
   "cell_type": "code",
   "execution_count": 1,
   "metadata": {},
   "outputs": [
    {
     "name": "stdout",
     "output_type": "stream",
     "text": [
      "You have 3 chances to guess\n",
      "Guess a number from 1 to 100: 34\n",
      "Wrong Guess!!...Try Again\n",
      "2  attempts left\n",
      "Guess a number from 1 to 100: 67\n",
      "Wrong Guess!!...Try Again\n",
      "1  attempts left\n",
      "Guess a number from 1 to 100: 80\n",
      "Wrong Guess!!...Try Again\n",
      "0  attempts left\n",
      "Winning Number is:  25\n",
      "Better Luck next time....\n"
     ]
    }
   ],
   "source": [
    "#******Guess a number b/w 1-100******\n",
    "g=25\n",
    "count=3\n",
    "print(\"You have\",count,\"chances to guess\")\n",
    "while count>0:\n",
    "    num=int(input(\"Guess a number from 1 to 100: \"))\n",
    "    if num>=1 and num<=100:\n",
    "        if num==g:\n",
    "            print(\"Congrats!!...You Won! \")\n",
    "            break\n",
    "        else:\n",
    "            count=count-1\n",
    "            print(\"Wrong Guess!!...Try Again\")\n",
    "            print(count,\" attempts left\")\n",
    "    else:\n",
    "        print(\"***Invalid Input***\")\n",
    "               \n",
    "else:   #----Exceeding attempts------\n",
    "    print(\"Winning Number is: \",g)\n",
    "    print(\"Better Luck next time....\")"
   ]
  },
  {
   "cell_type": "code",
   "execution_count": 11,
   "metadata": {},
   "outputs": [
    {
     "name": "stdout",
     "output_type": "stream",
     "text": [
      "Enter an alphabet: A\n",
      "A is the entered alphabet\n",
      "ASCII value is:  65\n"
     ]
    }
   ],
   "source": [
    "ch=input(\"Enter an alphabet: \")\n",
    "print(ch,\"is the entered alphabet\")\n",
    "print(\"ASCII value is: \",ord(ch))"
   ]
  },
  {
   "cell_type": "code",
   "execution_count": null,
   "metadata": {},
   "outputs": [],
   "source": [
    "# -----Vowel or Consonant-----\n",
    "a=input(\"Enter an alphabet: \")\n",
    "l=('a','e','i','o','u','A','E','I','O','U')\n",
    "if a in l:\n",
    "    print(a,\"is a Vowel\")"
   ]
  },
  {
   "cell_type": "code",
   "execution_count": 2,
   "metadata": {},
   "outputs": [
    {
     "name": "stdout",
     "output_type": "stream",
     "text": [
      "hellohello\n"
     ]
    }
   ],
   "source": [
    "str=\"hello\"\n",
    "print(str * 2)"
   ]
  },
  {
   "cell_type": "code",
   "execution_count": 2,
   "metadata": {},
   "outputs": [
    {
     "name": "stdout",
     "output_type": "stream",
     "text": [
      "[1, 2, 3]\n",
      "[1, 2, 3, 555]\n",
      "[1, 2, 3, 555, [121, 'more']]\n",
      "[1, 2, 3, 555, [121, 'more'], 786, 'abc']\n",
      "['main', 1, 2, 3, 555, [121, 'more'], 786, 'abc']\n",
      "['main', 1, 2, 3, 555, ['s', 121, 'more'], 786, 'abc']\n",
      "['main', 1, 2, 3, 555, ['s', 'xyz', 'more'], 786, 'abc']\n"
     ]
    }
   ],
   "source": [
    "list1=[1,2,3]\n",
    "print(list1)\n",
    "\n",
    "list1.append(555) #appending 1 element\n",
    "print(list1)\n",
    "list1.append([121,'more']) #appending sub-list\n",
    "print(list1)\n",
    "list1.extend([786,'abc']) #extending the list\n",
    "print(list1)\n",
    "list1.insert(0,'main') #insertion at beginning\n",
    "print(list1)\n",
    "list1[5].insert(0,'s') #insertion within sub-list\n",
    "print(list1)\n",
    "list1[5][1]='xyz'\n",
    "print(list1)"
   ]
  },
  {
   "cell_type": "code",
   "execution_count": 14,
   "metadata": {},
   "outputs": [
    {
     "name": "stdout",
     "output_type": "stream",
     "text": [
      "Enter Number1: 25\n",
      "Enter Number2: 78\n",
      "Intially:-\n",
      " a = 25 \tb = 78\n",
      "After Swapping:-\n",
      " a = 78 \tb = 25\n"
     ]
    }
   ],
   "source": [
    "a=input(\"Enter Number1: \")\n",
    "b=input(\"Enter Number2: \")\n",
    "print(\"Intially:-\\n a =\",a,\"\\tb =\",b)\n",
    "a,b=b,a\n",
    "print(\"After Swapping:-\\n a =\",a,\"\\tb =\",b)"
   ]
  },
  {
   "cell_type": "code",
   "execution_count": 1,
   "metadata": {},
   "outputs": [
    {
     "name": "stdout",
     "output_type": "stream",
     "text": [
      "cat 3\n",
      "window 6\n",
      "milk 4\n"
     ]
    }
   ],
   "source": [
    "words=['cat','window','milk']\n",
    "for w in words:\n",
    "    print(w,len(w))"
   ]
  },
  {
   "cell_type": "code",
   "execution_count": 2,
   "metadata": {},
   "outputs": [
    {
     "name": "stdout",
     "output_type": "stream",
     "text": [
      "0 Mary\n",
      "1 abc\n",
      "2 little\n",
      "3 lamb\n",
      "4 s\n"
     ]
    }
   ],
   "source": [
    "a=['Mary','abc','little','lamb','s']\n",
    "for i in range(len(a)):\n",
    "    print(i,a[i])"
   ]
  },
  {
   "cell_type": "code",
   "execution_count": 3,
   "metadata": {},
   "outputs": [
    {
     "name": "stdout",
     "output_type": "stream",
     "text": [
      "Enter a number:2375\n",
      "Sum of digits: 17\n"
     ]
    }
   ],
   "source": [
    "#********SUM OF DIGITS*********\n",
    "num=int(input(\"Enter a number:\"))\n",
    "s=0\n",
    "while(num>0):\n",
    "    d=num%10\n",
    "    s=s+d\n",
    "    num=num//10\n",
    "print(\"Sum of digits:\",s)"
   ]
  },
  {
   "cell_type": "code",
   "execution_count": 7,
   "metadata": {},
   "outputs": [
    {
     "name": "stdout",
     "output_type": "stream",
     "text": [
      "Enter a number:121\n",
      "121 is a pallindrome number\n"
     ]
    }
   ],
   "source": [
    "#*******PALLINDROME NUMBER******\n",
    "num=int(input(\"Enter a number:\"))\n",
    "org=num\n",
    "rev=0\n",
    "while(num>0):\n",
    "    d=num%10\n",
    "    rev=rev*10+d\n",
    "    num=num//10\n",
    "if rev==org:\n",
    "    print(org,\"is a pallindrome number\")\n",
    "else:\n",
    "    print(org,\"is not a pallindrome number\")"
   ]
  },
  {
   "cell_type": "code",
   "execution_count": 9,
   "metadata": {},
   "outputs": [
    {
     "name": "stdout",
     "output_type": "stream",
     "text": [
      "Enter a number: 153\n",
      "153 is an Armstrong number!\n"
     ]
    }
   ],
   "source": [
    "#******ARMSTRONG NUMBER**********\n",
    "num=int(input(\"Enter a number: \"))\n",
    "org=num\n",
    "s=0\n",
    "while(num>0):\n",
    "    d=num%10\n",
    "    s=s+d*d*d\n",
    "    num=num//10\n",
    "if(s==org):\n",
    "    print(org,\"is an Armstrong number!\")\n",
    "else:\n",
    "    print(org,\"is not an Armstrong number!\")"
   ]
  },
  {
   "cell_type": "code",
   "execution_count": 11,
   "metadata": {},
   "outputs": [
    {
     "name": "stdout",
     "output_type": "stream",
     "text": [
      "Enter a Number: 12\n",
      "12 * 1 = 12\n",
      "12 * 2 = 24\n",
      "12 * 3 = 36\n",
      "12 * 4 = 48\n",
      "12 * 5 = 60\n",
      "12 * 6 = 72\n",
      "12 * 7 = 84\n",
      "12 * 8 = 96\n",
      "12 * 9 = 108\n",
      "12 * 10 = 120\n",
      "***********************\n"
     ]
    }
   ],
   "source": [
    "n=int(input(\"Enter a Number: \"))\n",
    "for i in range(1,11):\n",
    "    print(n,\"*\",i,\"=\",n*i)\n",
    "    i=i+1\n",
    "print(\"***********************\")"
   ]
  },
  {
   "cell_type": "code",
   "execution_count": 15,
   "metadata": {},
   "outputs": [
    {
     "name": "stdout",
     "output_type": "stream",
     "text": [
      "Even Numbers:-\n",
      "\n",
      "2\n",
      "4\n",
      "6\n",
      "8\n"
     ]
    }
   ],
   "source": [
    "print(\"Even Numbers:-\\n\")\n",
    "for i in range(1,10):\n",
    "        if i % 2 == 0:\n",
    "            print(i)"
   ]
  },
  {
   "cell_type": "code",
   "execution_count": 16,
   "metadata": {},
   "outputs": [
    {
     "name": "stdout",
     "output_type": "stream",
     "text": [
      "1\n",
      "3\n",
      "5\n",
      "7\n",
      "9\n"
     ]
    }
   ],
   "source": [
    "#-----Continue Statement-------\n",
    "for x in range(10):\n",
    "    if x % 2 == 0:\n",
    "        continue\n",
    "    print(x)"
   ]
  },
  {
   "cell_type": "code",
   "execution_count": 17,
   "metadata": {},
   "outputs": [
    {
     "name": "stdout",
     "output_type": "stream",
     "text": [
      "0\n"
     ]
    }
   ],
   "source": [
    "#-----Break Statement-------\n",
    "for x in range(10):\n",
    "    if x % 2 == 0:\n",
    "        print(x)\n",
    "        break;"
   ]
  },
  {
   "cell_type": "code",
   "execution_count": 29,
   "metadata": {},
   "outputs": [
    {
     "name": "stdout",
     "output_type": "stream",
     "text": [
      "Enter the No. of Terms: 8\n",
      "0\n",
      "1\n",
      "1\n",
      "2\n",
      "3\n",
      "5\n",
      "8\n",
      "13\n"
     ]
    }
   ],
   "source": [
    "#--------Fibonacci Series--------\n",
    "n=int(input(\"Enter the No. of Terms: \"))\n",
    "t1=0\n",
    "t2=1\n",
    "s=0\n",
    "if n < 0:\n",
    "    print(\"Invalid Input\")\n",
    "else:\n",
    "    for i in range(n):\n",
    "        print(t1)\n",
    "        s=t1+t2\n",
    "        t1=t2\n",
    "        t2=s"
   ]
  },
  {
   "cell_type": "code",
   "execution_count": 6,
   "metadata": {},
   "outputs": [
    {
     "name": "stdout",
     "output_type": "stream",
     "text": [
      "Enter the no. of rows for the Pattern: 5\n",
      "*  \n",
      "\n",
      "*  *  \n",
      "\n",
      "*  *  *  \n",
      "\n",
      "*  *  *  *  \n",
      "\n",
      "*  *  *  *  *  \n",
      "\n"
     ]
    }
   ],
   "source": [
    "#---- * PATTERN PRINTING-------\n",
    "n=int(input(\"Enter the no. of rows for the Pattern: \"))\n",
    "for i in range(0,n):\n",
    "    for j in range(0,i+1):\n",
    "        print(\"* \",end=\" \")\n",
    "    print(\"\\n\")"
   ]
  },
  {
   "cell_type": "code",
   "execution_count": 21,
   "metadata": {},
   "outputs": [
    {
     "name": "stdout",
     "output_type": "stream",
     "text": [
      "Enter a Year: 2020\n",
      "2020 is a Leap Year\n"
     ]
    }
   ],
   "source": [
    "#------------LEAP YEAR------------\n",
    "yr=int(input(\"Enter a Year: \"))\n",
    "if yr % 4 == 0:\n",
    "    if yr % 100 == 0:\n",
    "        if yr % 400 == 0:\n",
    "            print(yr,\"is a Leap Year\")  #leap year if divisible by 4, 100 & 400\n",
    "        else:\n",
    "            print(yr,\"is not a Leap Year\") \n",
    "    else:\n",
    "         print(yr,\"is a Leap Year\") #leap year if divisible by 4 & 100\n",
    "else:\n",
    "    print(yr,\"is not a Leap Year\") "
   ]
  },
  {
   "cell_type": "code",
   "execution_count": 22,
   "metadata": {},
   "outputs": [
    {
     "name": "stdout",
     "output_type": "stream",
     "text": [
      "Enter a Number: 83\n",
      "83 is a Prime Number!\n"
     ]
    }
   ],
   "source": [
    "#--------PRIME NUMBER-------\n",
    "num=int(input(\"Enter a Number: \"))\n",
    "f=0\n",
    "if num > 1:\n",
    "    for i in range(2,int(num/2)+1):\n",
    "        if  num % i == 0:\n",
    "            f=1\n",
    "    if f == 1:\n",
    "        print(num,\"is not a Prime Number!\")\n",
    "    else:\n",
    "        print(num,\"is a Prime Number!\") \n",
    "elif num == 1:\n",
    "    print(\"1 is not a Prime Number\")\n",
    "else:\n",
    "    print(\"Invalid Input \")"
   ]
  },
  {
   "cell_type": "code",
   "execution_count": 13,
   "metadata": {},
   "outputs": [
    {
     "name": "stdout",
     "output_type": "stream",
     "text": [
      "Enter a Number For Factorial: 5\n",
      "Factorial of 5 is: 120\n"
     ]
    }
   ],
   "source": [
    "#--------FACTORIAL OF A NUMBER---------\n",
    "m=int(input(\"Enter a Number For Factorial: \"))\n",
    "fact=1\n",
    "if m == 0 or m == 1:\n",
    "    print(fact)\n",
    "else:\n",
    "    for i in range(1,m+1):\n",
    "        fact *= i\n",
    "    print(f\"Factorial of {m} is: {fact}\")"
   ]
  },
  {
   "cell_type": "code",
   "execution_count": 9,
   "metadata": {},
   "outputs": [
    {
     "name": "stdout",
     "output_type": "stream",
     "text": [
      "1 \n",
      "\n",
      "2 2 \n",
      "\n",
      "3 3 3 \n",
      "\n",
      "4 4 4 4 \n",
      "\n",
      "5 5 5 5 5 \n",
      "\n"
     ]
    }
   ],
   "source": [
    "#---------Pattern Print--------\n",
    "for i in range(1,6):\n",
    "    for j in range(1,i+1):\n",
    "        print(i,end=\" \")\n",
    "    print(\"\\n\")"
   ]
  },
  {
   "cell_type": "code",
   "execution_count": 17,
   "metadata": {},
   "outputs": [
    {
     "name": "stdout",
     "output_type": "stream",
     "text": [
      "0\n",
      "1\n",
      "2\n",
      "3\n",
      "4\n",
      "5\n",
      "6\n",
      "7\n",
      "8\n",
      "9\n",
      "10\n"
     ]
    }
   ],
   "source": [
    "i=0\n",
    "while i in range(0,11):\n",
    "    print(i)\n",
    "    i=i+1"
   ]
  },
  {
   "cell_type": "code",
   "execution_count": 12,
   "metadata": {},
   "outputs": [
    {
     "name": "stdout",
     "output_type": "stream",
     "text": [
      "1 \n",
      "\n",
      "1 2 \n",
      "\n",
      "1 2 3 \n",
      "\n",
      "1 2 3 4 \n",
      "\n",
      "1 2 3 4 5 \n",
      "\n"
     ]
    }
   ],
   "source": [
    "for i in range(1,6):\n",
    "    for j in range(1,i+1):\n",
    "        print(j, end=\" \")\n",
    "    print(\"\\n\")\n",
    "    "
   ]
  },
  {
   "cell_type": "code",
   "execution_count": 19,
   "metadata": {},
   "outputs": [
    {
     "name": "stdout",
     "output_type": "stream",
     "text": [
      "Enter a number: 5\n",
      "Sum of numbers till 5 is: 15\n"
     ]
    }
   ],
   "source": [
    "num=int(input(\"Enter a number: \"))\n",
    "t=0\n",
    "for i in range(0,num+1):\n",
    "    t += i\n",
    "print(f\"Sum of numbers till {num} is: {t}\")"
   ]
  },
  {
   "cell_type": "code",
   "execution_count": 29,
   "metadata": {},
   "outputs": [
    {
     "name": "stdout",
     "output_type": "stream",
     "text": [
      "Divisible By 5 and < 150 are:-\t\n",
      "15\n",
      "55\n",
      "75\n",
      "150\n"
     ]
    }
   ],
   "source": [
    "list1=[12,15,32,42,55,75,122,132,150,180,200]\n",
    "print(\"Divisible By 5 and < 150 are:-\\t\")\n",
    "for i in list1:\n",
    "    if i % 5 == 0:\n",
    "        if i > 150:\n",
    "            break\n",
    "        print(i)"
   ]
  },
  {
   "cell_type": "code",
   "execution_count": 34,
   "metadata": {},
   "outputs": [
    {
     "name": "stdout",
     "output_type": "stream",
     "text": [
      "Enter a number for no of digits: 56712\n",
      "No. of digits in 56712 is: 5\n"
     ]
    }
   ],
   "source": [
    "n=int(input(\"Enter a number for no of digits: \"))\n",
    "org=n\n",
    "s=0\n",
    "while(n!=0):\n",
    "    #d=n%10\n",
    "    s=s+1\n",
    "    n//=10\n",
    "print(f\"No. of digits in {org} is: {s}\")"
   ]
  },
  {
   "cell_type": "code",
   "execution_count": 47,
   "metadata": {},
   "outputs": [
    {
     "name": "stdout",
     "output_type": "stream",
     "text": [
      "5 4 3 2 1 \n",
      "\n",
      "4 3 2 1 \n",
      "\n",
      "3 2 1 \n",
      "\n",
      "2 1 \n",
      "\n",
      "1 \n",
      "\n"
     ]
    }
   ],
   "source": [
    "for i in range(5,0,-1):\n",
    "    for j in range(i,0,-1):\n",
    "        print(j, end=\" \")\n",
    "    print(\"\\n\")"
   ]
  },
  {
   "cell_type": "code",
   "execution_count": 2,
   "metadata": {},
   "outputs": [
    {
     "name": "stdout",
     "output_type": "stream",
     "text": [
      "50\n",
      "40\n",
      "30\n",
      "20\n",
      "10\n"
     ]
    }
   ],
   "source": [
    "l1=[10,20,30,40,50]\n",
    "for i in l1[::-1]:\n",
    "    print(i)"
   ]
  },
  {
   "cell_type": "code",
   "execution_count": 8,
   "metadata": {},
   "outputs": [
    {
     "name": "stdout",
     "output_type": "stream",
     "text": [
      "-10\n",
      "-9\n",
      "-8\n",
      "-7\n",
      "-6\n",
      "-5\n",
      "-4\n",
      "-3\n",
      "-2\n",
      "-1\n"
     ]
    }
   ],
   "source": [
    "for j in range(-10,0,1):\n",
    "    print(j)"
   ]
  },
  {
   "cell_type": "code",
   "execution_count": 12,
   "metadata": {},
   "outputs": [
    {
     "name": "stdout",
     "output_type": "stream",
     "text": [
      "1\n",
      "2\n",
      "3\n",
      "4\n",
      "5\n",
      "6\n",
      "7\n",
      "8\n",
      "9\n",
      "10\n",
      "Done!\n"
     ]
    }
   ],
   "source": [
    "#----DONE msg display after successful execution of loop\n",
    "for i in range(1,11):\n",
    "    print(i)\n",
    "print(\"Done!\")"
   ]
  },
  {
   "cell_type": "code",
   "execution_count": 46,
   "metadata": {},
   "outputs": [
    {
     "name": "stdout",
     "output_type": "stream",
     "text": [
      "1st Number: 2\n",
      "2nd Number: 10\n",
      "Prime Numbers between '2' and '10': \n",
      "2\n",
      "3\n",
      "5\n",
      "7\n"
     ]
    }
   ],
   "source": [
    "#------PRIME NUMBERS within a range of numbers--------\n",
    "n1=int(input(\"1st Number: \"))\n",
    "n2=int(input(\"2nd Number: \"))\n",
    "print(f\"Prime Numbers between \\'{n1}\\' and \\'{n2}\\': \")\n",
    "for i in range(n1,n2+1):\n",
    "    for j in range(2,i):\n",
    "        if i % j == 0:\n",
    "            break\n",
    "    else:\n",
    "        print(i)"
   ]
  },
  {
   "cell_type": "code",
   "execution_count": 48,
   "metadata": {},
   "outputs": [
    {
     "name": "stdout",
     "output_type": "stream",
     "text": [
      "0\n",
      "1\n",
      "1\n",
      "2\n",
      "3\n",
      "5\n",
      "8\n",
      "13\n",
      "21\n",
      "34\n",
      "55\n"
     ]
    }
   ],
   "source": [
    "#--------FIBONAACI SERIES UPTO 10 TERMS---------\n",
    "tot=0\n",
    "t1=0\n",
    "t2=1\n",
    "for n in range(0,11):\n",
    "    print(t1)\n",
    "    tot=t1+t2\n",
    "    t1=t2\n",
    "    t2=tot"
   ]
  },
  {
   "cell_type": "code",
   "execution_count": 50,
   "metadata": {},
   "outputs": [
    {
     "name": "stdout",
     "output_type": "stream",
     "text": [
      "Enter a number for Reversal: 2314\n",
      "The reverse of \"2314\" is: 4132\n"
     ]
    }
   ],
   "source": [
    "num=int(input(\"Enter a number for Reversal: \"))\n",
    "org=num\n",
    "rev=0\n",
    "while(num != 0):\n",
    "    d=num%10\n",
    "    rev=rev*10+d\n",
    "    num//=10\n",
    "print(f\"The reverse of \\\"{org}\\\" is: {rev}\")"
   ]
  },
  {
   "cell_type": "code",
   "execution_count": 4,
   "metadata": {},
   "outputs": [
    {
     "name": "stdout",
     "output_type": "stream",
     "text": [
      "30\n",
      "50\n",
      "70\n",
      "90\n"
     ]
    }
   ],
   "source": [
    "#------display elements of List at even Index positions---------\n",
    "l1=[10,20,30,40,50,60,70,80,90,100]\n",
    "for i in range(1,len(l1)):\n",
    "    if (i % 2) == 0:\n",
    "        print(l1[i])"
   ]
  },
  {
   "cell_type": "code",
   "execution_count": 1,
   "metadata": {},
   "outputs": [
    {
     "name": "stdout",
     "output_type": "stream",
     "text": [
      "Enter a number: 5\n",
      "Current Number is:1 and its Cube is:1\n",
      "Current Number is:2 and its Cube is:8\n",
      "Current Number is:3 and its Cube is:27\n",
      "Current Number is:4 and its Cube is:64\n",
      "Current Number is:5 and its Cube is:125\n"
     ]
    }
   ],
   "source": [
    "#---------CUBE of a Number upto given integer--------\n",
    "num=int(input(\"Enter a number: \"))\n",
    "cube=1\n",
    "i=1\n",
    "while i <= num:\n",
    "    cube=i*i*i\n",
    "    print(f\"Current Number is:{i} and its Cube is:{cube}\")\n",
    "    i=i+1"
   ]
  },
  {
   "cell_type": "code",
   "execution_count": 11,
   "metadata": {},
   "outputs": [
    {
     "name": "stdout",
     "output_type": "stream",
     "text": [
      "\n",
      "\n",
      "* \n",
      "\n",
      "* * \n",
      "\n",
      "* * * \n",
      "\n",
      "* * * * \n",
      "\n",
      "* * * * * \n",
      "\n",
      "* * * * \n",
      "\n",
      "* * * \n",
      "\n",
      "* * \n",
      "\n",
      "* \n",
      "\n",
      "\n",
      "\n"
     ]
    }
   ],
   "source": [
    "for i in range(0,6):\n",
    "    for j in range(0,i):\n",
    "        print(\"*\",end=\" \")\n",
    "    print(\"\\n\")\n",
    "for i in range(5,0,-1):\n",
    "    for j in range(i-1,0,-1):\n",
    "        print(\"*\",end=\" \")\n",
    "    print(\"\\n\")"
   ]
  },
  {
   "cell_type": "code",
   "execution_count": 1,
   "metadata": {},
   "outputs": [
    {
     "name": "stdout",
     "output_type": "stream",
     "text": [
      "Python Version:\n",
      "3.8.5 (default, Sep  3 2020, 21:29:08) [MSC v.1916 64 bit (AMD64)]\n"
     ]
    }
   ],
   "source": [
    "#-------PYTHON VERSION------\n",
    "import sys\n",
    "print(\"Python Version:\")\n",
    "print(sys.version)"
   ]
  },
  {
   "cell_type": "code",
   "execution_count": 10,
   "metadata": {},
   "outputs": [
    {
     "name": "stdout",
     "output_type": "stream",
     "text": [
      "Current Date & Time of system is:\n",
      "2021-03-24 10:33:31.477964\n"
     ]
    }
   ],
   "source": [
    "from datetime import datetime\n",
    "print(\"Current Date & Time of system is:\")\n",
    "dt=datetime.today()\n",
    "print(dt)"
   ]
  },
  {
   "cell_type": "code",
   "execution_count": 15,
   "metadata": {},
   "outputs": [
    {
     "name": "stdout",
     "output_type": "stream",
     "text": [
      "Enter Your First and Last Name:shivangi chawla\n",
      "a l w a h c \n",
      "i g n a v i h s \n"
     ]
    }
   ],
   "source": [
    "#-------First & Last name-----\n",
    "name=input(\"Enter Your First and Last Name:\").split()\n",
    "for i in name[::-1]:\n",
    "    for j in i[::-1]:\n",
    "        print(j,end=\" \")\n",
    "    print(\"\\r\")\n",
    "    "
   ]
  },
  {
   "cell_type": "code",
   "execution_count": null,
   "metadata": {},
   "outputs": [],
   "source": [
    "     "
   ]
  },
  {
   "cell_type": "code",
   "execution_count": 25,
   "metadata": {},
   "outputs": [
    {
     "name": "stdout",
     "output_type": "stream",
     "text": [
      "Enter a number1:10\n",
      "Enter a number2:50\n",
      "Enter a number3:20\n",
      "Sorted integers: 10 20 50\n"
     ]
    }
   ],
   "source": [
    "#------SORTING 3 integers without conditional statements\n",
    "x=int(input(\"Enter a number1:\"))\n",
    "y=int(input(\"Enter a number2:\"))\n",
    "z=int(input(\"Enter a number3:\"))\n",
    "n1=min(x,y,z)\n",
    "n3=max(x,y,z)\n",
    "n2=(x + y + z) - n1 - n3 \n",
    "print(\"Sorted integers:\",n1,n2,n3)"
   ]
  },
  {
   "cell_type": "code",
   "execution_count": 14,
   "metadata": {},
   "outputs": [
    {
     "name": "stdout",
     "output_type": "stream",
     "text": [
      "Enter the number1:8\n",
      "Enter the number2:12\n",
      "HCF of 8 and 12 is: 4\n",
      "LCM of 8 and 12 is: 24\n"
     ]
    }
   ],
   "source": [
    "#------HCF & LCM-----\n",
    "x=int(input(\"Enter the number1:\"))\n",
    "y=int(input(\"Enter the number2:\"))\n",
    "if x>y:\n",
    "    low=y\n",
    "else:\n",
    "    low=x\n",
    "for i in range(1,low+1):\n",
    "    if(x%i == 0) and (y%i == 0):\n",
    "        hcf=i\n",
    "print(\"HCF of\",x,\"and\",y,\"is:\",hcf)\n",
    "lcm= x*y//hcf\n",
    "print(\"LCM of\",x,\"and\",y,\"is:\",lcm)   "
   ]
  },
  {
   "cell_type": "code",
   "execution_count": 17,
   "metadata": {},
   "outputs": [
    {
     "name": "stdout",
     "output_type": "stream",
     "text": [
      "Enter a charcter:a\n",
      "ASCII value of a is:  97\n"
     ]
    }
   ],
   "source": [
    "ch=input(\"Enter a charcter:\")\n",
    "print(\"ASCII value of\",ch,\"is: \",ord(ch))"
   ]
  },
  {
   "cell_type": "code",
   "execution_count": null,
   "metadata": {},
   "outputs": [],
   "source": []
  },
  {
   "cell_type": "code",
   "execution_count": null,
   "metadata": {},
   "outputs": [],
   "source": []
  }
 ],
 "metadata": {
  "kernelspec": {
   "display_name": "Python 3",
   "language": "python",
   "name": "python3"
  },
  "language_info": {
   "codemirror_mode": {
    "name": "ipython",
    "version": 3
   },
   "file_extension": ".py",
   "mimetype": "text/x-python",
   "name": "python",
   "nbconvert_exporter": "python",
   "pygments_lexer": "ipython3",
   "version": "3.8.5"
  }
 },
 "nbformat": 4,
 "nbformat_minor": 4
}
