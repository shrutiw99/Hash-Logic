{
 "cells": [
  {
   "cell_type": "code",
   "execution_count": 3,
   "metadata": {},
   "outputs": [
    {
     "name": "stdout",
     "output_type": "stream",
     "text": [
      "Enter your age:14\n"
     ]
    }
   ],
   "source": [
    "# Decision-making IF and Else Statement.\n",
    "#if condition\n",
    "age=int(input(\"Enter your age:\"))\n",
    "if age<14:\n",
    "    print(\"You can play this game\")\n"
   ]
  },
  {
   "cell_type": "code",
   "execution_count": 41,
   "metadata": {},
   "outputs": [],
   "source": [
    "#pass statement\n",
    "age=18\n",
    "if age>18:\n",
    "    #pass\n",
    "    print(\"hello\")\n",
    "else:\n",
    "# pass statement is use to avoid error of nothing wrtie( unexpected EOF while parsing)\n",
    "    pass   #make a comment to pass to check it's functioning  "
   ]
  },
  {
   "cell_type": "code",
   "execution_count": 42,
   "metadata": {},
   "outputs": [
    {
     "name": "stdout",
     "output_type": "stream",
     "text": [
      "Enter your age: 14\n",
      "Sorry you can't play this game\n"
     ]
    }
   ],
   "source": [
    "#else statement\n",
    "age=int(input(\"Enter your age: \"))\n",
    "if age<14:\n",
    "    print(\"You cna play this game\")\n",
    "else:\n",
    "    print(\"Sorry you can't play this game\")\n",
    "    "
   ]
  },
  {
   "cell_type": "code",
   "execution_count": 196,
   "metadata": {},
   "outputs": [
    {
     "name": "stdout",
     "output_type": "stream",
     "text": [
      "Guess Number in 1 to 100 \n",
      "\n",
      "Your guess number:40\n",
      "Your guess is  low, guess higher than 40 \n",
      " \n",
      "\n",
      "\n",
      "Guess Number in 41 to 100 \n",
      " \n",
      "Your guess number:70\n",
      "Your guess is  high, guess lower than 70 \n",
      " \n",
      "Guess Number in 41 to 69 \n",
      "\n",
      "Your guess number:  45\n",
      "Sorry No Change left, You Looes Game, \"Better Luck Next Time\" \n",
      "\n",
      "The correct Guess is  58\n"
     ]
    }
   ],
   "source": [
    "# Exercise 1\n",
    "# Make a variable, like wiinning_number and assign any number to it.\n",
    "# Ask user to guess a number\n",
    "# if user didn’t guessed correctly then:\n",
    "    # if user guessed lower than actual number then print “too low”\n",
    "    # if user guessed higher than actual number then print “too high”\n",
    "# Program for Guess Number Game\n",
    "\n",
    "import random\n",
    "\n",
    "correctNumber = random.randrange(1,100)\n",
    "# print(correctNumber)\n",
    "start=1\n",
    "end=100\n",
    "\n",
    "print(f\"Guess Number in {start} to {end} \\n\")\n",
    "\n",
    "\n",
    "#First Attempt \n",
    "guess =int(input(\"Your guess number:\"))\n",
    "\n",
    "\n",
    "if guess>end:\n",
    "    print(f\"Please Guess Number in {start} to {end}\")\n",
    "    print(\"\\n\")\n",
    "\n",
    "\n",
    "\n",
    "\n",
    "elif guess==correctNumber:\n",
    "        print(\"Well Done You Win in First Go! \\n\")\n",
    "\n",
    "elif guess < correctNumber:\n",
    "    print(f\"Your guess is  low, guess higher than {guess} \\n \")\n",
    "    print(\"\\n\")\n",
    "    start=guess+1\n",
    "    print(f\"Guess Number in {start} to {end} \\n \")\n",
    "else:\n",
    "    print(f\"Your guess is  high, guess lower than {guess} \\n\")\n",
    "    end=guess-1\n",
    "    print(f\"Guess Number in {start} to {end} \\n\")\n",
    "\n",
    "\n",
    "#Second Attempt\n",
    "guess = int(input(\"Your guess number:\"))\n",
    "\n",
    "\n",
    "\n",
    "if guess == correctNumber:\n",
    "    print(\"Well Done You Win in Second Go! \\n \") \n",
    "\n",
    "elif guess < correctNumber:\n",
    "    print(f\"Your guess is  low, guess higher than {guess} \\n\")\n",
    "    start=guess+1\n",
    "    print(f\"Guess Number in {start} to {end} \\n \")\n",
    "\n",
    "\n",
    "else:\n",
    "    print(f\"Your guess is  high, guess lower than {guess} \\n \")\n",
    "    end=guess-1\n",
    "    print(f\"Guess Number in {start} to {end} \\n\")\n",
    "\n",
    "\n",
    "\n",
    "#Third Attempt   \n",
    "guess = int(input(\"Your guess number:  \"))\n",
    "\n",
    "\n",
    "if guess == correctNumber:\n",
    "    print(\"Well Done You Win in Third Go! \\n \") \n",
    "\n",
    "else:\n",
    "    \n",
    "    print(\"Sorry No Change left, You Looes Game, \\\"Better Luck Next Time\\\" \\n\\nThe correct Guess is \",correctNumber) \n",
    "\n",
    "\n",
    "\n",
    "\n",
    "\n",
    "\n"
   ]
  },
  {
   "cell_type": "code",
   "execution_count": 66,
   "metadata": {},
   "outputs": [
    {
     "name": "stdout",
     "output_type": "stream",
     "text": [
      "Enter Your Namehar\n",
      "Enter Your Age11\n",
      "a\n",
      "Sorry har, you can't watch this moive\n"
     ]
    }
   ],
   "source": [
    "#Exercise 2\n",
    "# WATCH MOVIE\n",
    "# Ask user’s name & age\n",
    "# if user’s name starts with (‘s’ or ‘S’) and age is above 10 then\n",
    "# Print “You can watch movie”\n",
    "# else print “Sorry {name}, you can’t watch this move”\n",
    "name=input(\"Enter Your Name\")\n",
    "age=int(input(\"Enter Your Age\"))\n",
    "\n",
    "#if ('s' in name[0] or 'S' in name[0]) and age>10:\n",
    "    #print(\"You can watch movie\")\n",
    "if (name[0]=='s' or  name[0]=='S') and age>10:\n",
    "    print(\"You can watch movie\")\n",
    "else:\n",
    "    print(f\"Sorry {name}, you can't watch this moive\")"
   ]
  },
  {
   "cell_type": "code",
   "execution_count": 81,
   "metadata": {},
   "outputs": [
    {
     "name": "stdout",
     "output_type": "stream",
     "text": [
      "Enter Your Age: 62\n",
      "Ticket price is Rs. 200\n"
     ]
    }
   ],
   "source": [
    "#if elif else statements\n",
    "#show ticket pricing\n",
    "# 0 to 3 = free\n",
    "# 4 to 10 = 150\n",
    "# 11 to 60 = 250\n",
    "# above 60 = 200\n",
    "#if 0<age==3\n",
    "age=int(input(\"Enter Your Age: \"))\n",
    "if age==0 or age<0:\n",
    "    print(\"Invalid age\")\n",
    "elif age==0 or age<=3:\n",
    "    print(f\"Tikcet Price:Free\")\n",
    "elif age==4 or age<=10:\n",
    "    print(f\"Ticket price is Rs. 150\")\n",
    "elif age==11 or age<=60:\n",
    "    print(f\"Ticket price is Rs. 250\")\n",
    "else: \n",
    "    print(f\"Ticket price is Rs. 200\")\n",
    "\n",
    "\n",
    "    \n"
   ]
  },
  {
   "cell_type": "code",
   "execution_count": 88,
   "metadata": {},
   "outputs": [
    {
     "name": "stdout",
     "output_type": "stream",
     "text": [
      "Enter price10000\n",
      "Your Discount is: 1000.0\n"
     ]
    }
   ],
   "source": [
    "#Exercise \n",
    "#Input a price from user if the price is less than 1000 then give 5% discount else give 10% discount. Finally, print the net payable amount.\n",
    "input_price=int(input(\"Enter price\"))\n",
    "if input_price<1000:\n",
    "    discount=(input_price*5)/100\n",
    "    print(f\"Your Discount is: {discount}\")\n",
    "else:\n",
    "    discount=(input_price*10)/100\n",
    "    print(f\"Your Discount is: {discount}\")"
   ]
  },
  {
   "cell_type": "code",
   "execution_count": 99,
   "metadata": {},
   "outputs": [
    {
     "name": "stdout",
     "output_type": "stream",
     "text": [
      "To check number is divisible by 2 & 3\n",
      "Enter Number6\n",
      "Number 6 is divisible by 2 & 3\n"
     ]
    }
   ],
   "source": [
    "#Exercise\n",
    "#Divisibility test : check if the number is divisible by 2 & 3.\n",
    "#if divisible by both: print (\"Divisible by 3 and 2\")\n",
    "#if divisible by 2 but not by 3: print (\"divisible by 2 not divisible by 3\")\n",
    "#if divisible by 3 but not by 2 : print (\"divisible by 3 not divisible by 2\")\n",
    "#If neither divisible by 2 nor by 3: print  (\"not Divisible by 2 not divisible by 3\")\n",
    "print(\"To check number is divisible by 2 & 3\")\n",
    "number=int(input(\"Enter Number\"))\n",
    "\n",
    "if number%2==0 and number%3==0:\n",
    "    print(f\"Number {number} is divisible by 2 & 3\")\n",
    "elif number%2==0:\n",
    "    print(f\"Number {number} is divisible by 2, not divisible by 3\")\n",
    "elif number%3==0:\n",
    "    print(f\"Number {number} is divisible by 3, not divisible by 2\")\n",
    "else:\n",
    "    print(f\"Number {number} is not divisible by 2 and not not divisible by 3\")\n",
    "    \n"
   ]
  },
  {
   "cell_type": "code",
   "execution_count": 102,
   "metadata": {},
   "outputs": [
    {
     "name": "stdout",
     "output_type": "stream",
     "text": [
      "l is present in Kulbir\n"
     ]
    }
   ],
   "source": [
    "#in  keyword\n",
    "#if with in (is used to check char or number or word present in list or in variable)\n",
    "name=\"Kulbir\"\n",
    "if \"l\" in name:\n",
    "    print(f\"l is present in {name}\")\n",
    "else:\n",
    "    print(\"not present\")\n"
   ]
  },
  {
   "cell_type": "code",
   "execution_count": 105,
   "metadata": {},
   "outputs": [
    {
     "name": "stdout",
     "output_type": "stream",
     "text": [
      "not empty\n"
     ]
    }
   ],
   "source": [
    "#check empty or not\n",
    "#important\n",
    "name=\"abc\"\n",
    "if name:       #true if string is not empty\n",
    "    print (\"not empty\")\n",
    "else:\n",
    "    print(\"String is empty\")\n"
   ]
  },
  {
   "cell_type": "code",
   "execution_count": 109,
   "metadata": {},
   "outputs": [
    {
     "name": "stdout",
     "output_type": "stream",
     "text": [
      "hello world\n",
      "hello world\n",
      "hello world\n",
      "hello world\n",
      "hello world\n",
      "hello world\n",
      "hello world\n",
      "hello world\n",
      "hello world\n",
      "hello world\n"
     ]
    }
   ],
   "source": [
    "#While loop\n",
    "i=1\n",
    "while i<=10:\n",
    "        print(\"hello world\")\n",
    "        i+=1\n"
   ]
  },
  {
   "cell_type": "code",
   "execution_count": null,
   "metadata": {},
   "outputs": [],
   "source": [
    "#The Infinite Loop\n",
    "var = 1\n",
    "while var == 1 :  # This constructs an infinite loop\n",
    "   num = int(input(\"Enter a number  :\"))\n",
    "   print (\"You entered: \", num)\n"
   ]
  },
  {
   "cell_type": "code",
   "execution_count": 116,
   "metadata": {},
   "outputs": [
    {
     "ename": "SyntaxError",
     "evalue": "invalid syntax (<ipython-input-116-366a16748786>, line 8)",
     "output_type": "error",
     "traceback": [
      "\u001b[1;36m  File \u001b[1;32m\"<ipython-input-116-366a16748786>\"\u001b[1;36m, line \u001b[1;32m8\u001b[0m\n\u001b[1;33m    while n>=1:\u001b[0m\n\u001b[1;37m    ^\u001b[0m\n\u001b[1;31mSyntaxError\u001b[0m\u001b[1;31m:\u001b[0m invalid syntax\n"
     ]
    }
   ],
   "source": []
  },
  {
   "cell_type": "code",
   "execution_count": 133,
   "metadata": {},
   "outputs": [
    {
     "name": "stdout",
     "output_type": "stream",
     "text": [
      "To Print Sum of 1 to n natural numbers\n",
      "Enter The Nth Value:2\n",
      "2\n",
      "3\n",
      "Sum of 1 to 2 :3\n"
     ]
    }
   ],
   "source": [
    "#sum of n natural numbers\n",
    "#ask the user for natural number (n)\n",
    "#print sum from 1 to n\n",
    "\n",
    "print(\"To Print Sum of 1 to n natural numbers\")\n",
    "n=int(input(\"Enter The Nth Value:\"))\n",
    "temp=n\n",
    "sum=0\n",
    "while n>=1:\n",
    "    sum+=n\n",
    "    n=n-1\n",
    "    print(sum)\n",
    "print(f\"Sum of 1 to {temp} :{sum}\")\n",
    "\n",
    "\n",
    "\n"
   ]
  },
  {
   "cell_type": "code",
   "execution_count": 136,
   "metadata": {},
   "outputs": [
    {
     "name": "stdout",
     "output_type": "stream",
     "text": [
      "Enter a number containing more than one digit\n",
      "1256\n",
      "Sum of 1256 is:14\n"
     ]
    }
   ],
   "source": [
    "# problem\n",
    "# ask user to input a number containing more than one digit \n",
    "# example - 1256\n",
    "# calculate 1+2+5+6 and print\n",
    "\n",
    "print(\"Enter a number containing more than one digit\")\n",
    "number=int(input())\n",
    "temp=number\n",
    "sum=0\n",
    "while number>0:\n",
    "      reminder=number%10\n",
    "      sum=sum+reminder\n",
    "      number=number//10\n",
    "print(f\"Sum of {temp} is:{sum}\")"
   ]
  },
  {
   "cell_type": "code",
   "execution_count": null,
   "metadata": {},
   "outputs": [],
   "source": [
    "# algorith - (method to solve problem in human language)\n",
    "# ask input in string, i.e don't change string to int\n",
    "# example -\"1256\"\n",
    "# pick string character one by one and change to int\n",
    "# int(example[0])+int(example[1]) .... go upto len(example)\n",
    "print(\"Enter a number containing more than one digit\")\n",
    " number=input()\n",
    "sum=0\n",
    "for i in number:\n",
    "    sum=sum+int(i)\n",
    "print(f\"Sum of {number} is:{sum}\") \n",
    "\n"
   ]
  },
  {
   "cell_type": "code",
   "execution_count": 139,
   "metadata": {},
   "outputs": [
    {
     "name": "stdout",
     "output_type": "stream",
     "text": [
      "Enter a number containing more than one digit\n",
      "1256\n",
      "Sum of 1256 is:14\n"
     ]
    }
   ],
   "source": [
    "# algorith - (method to solve problem in human language)\n",
    "# ask input in string, i.e don't change string to int\n",
    "# example -\"1256\"\n",
    "# pick string character one by one and change to int\n",
    "# int(example[0])+int(example[1]) .... go upto len(example)\n",
    "print(\"Enter a number containing more than one digit\")\n",
    "number=input()\n",
    "sum=0\n",
    "l=len(number)\n",
    "while l>0:\n",
    "    sum=sum+int(number[l-1])\n",
    "    l=l-1\n",
    "print(f\"Sum of {number} is:{sum}\")\n"
   ]
  },
  {
   "cell_type": "code",
   "execution_count": 153,
   "metadata": {},
   "outputs": [
    {
     "name": "stdout",
     "output_type": "stream",
     "text": [
      "shaurya\n",
      "s : 1\n",
      "h : 1\n",
      "a : 2\n",
      "u : 1\n",
      "r : 1\n",
      "y : 1\n"
     ]
    }
   ],
   "source": [
    "#MOST DIFFICULT ONE\n",
    "#ask a user for name\n",
    "    #Example – Shaurya\n",
    "    #print count of each words\n",
    "    #Output:\n",
    "       # S - 1\n",
    "       # H - 1 \n",
    "       # A - 2\n",
    "       # U - 1\n",
    "       # R - 1\n",
    "       # Y - 1\n",
    "name=input()\n",
    "sum=\"\"\n",
    "l=len(number)\n",
    "i=0\n",
    "while i<l:\n",
    "    \n",
    "    if name[i] not in sum:\n",
    "        sum=sum+(name[i])\n",
    "        print(f\"{name[i]} : {name.count(name[i])}\")\n",
    "    i=i+1\n",
    "    \n",
    "\n",
    "\n",
    "\n"
   ]
  },
  {
   "cell_type": "code",
   "execution_count": 155,
   "metadata": {},
   "outputs": [
    {
     "name": "stdout",
     "output_type": "stream",
     "text": [
      "hello World\n",
      "hello World\n",
      "hello World\n",
      "hello World\n",
      "hello World\n",
      "hello World\n",
      "hello World\n",
      "hello World\n",
      "hello World\n",
      "hello World\n"
     ]
    }
   ],
   "source": [
    "# for loop\n",
    "for i in range(10):      #0 to 9 or range(1,11)\n",
    "    print(\"hello World\")\n"
   ]
  },
  {
   "cell_type": "code",
   "execution_count": 157,
   "metadata": {},
   "outputs": [
    {
     "name": "stdout",
     "output_type": "stream",
     "text": [
      "Total of 1 to 10 : 55\n"
     ]
    }
   ],
   "source": [
    "#sum 1 to 10\n",
    "total=0\n",
    "for i in range (1,11):\n",
    "    total+=i\n",
    "print(f\"Total of 1 to 10 : {total}\")\n"
   ]
  },
  {
   "cell_type": "code",
   "execution_count": 160,
   "metadata": {},
   "outputs": [
    {
     "name": "stdout",
     "output_type": "stream",
     "text": [
      "enter a number1234\n",
      "Sum of digit 1234:10\n"
     ]
    }
   ],
   "source": [
    "# sum of digits\n",
    "total=0\n",
    "num=input(\"enter a number\")\n",
    "for i in range(0,len(num)):\n",
    "    total+=int(num[i])\n",
    "print(f\"Sum of digit {num}:{total}\")\n"
   ]
  },
  {
   "cell_type": "code",
   "execution_count": 188,
   "metadata": {},
   "outputs": [
    {
     "name": "stdout",
     "output_type": "stream",
     "text": [
      "shaurya\n",
      "s: 1\n",
      "h: 1\n",
      "a: 2\n",
      "u: 1\n",
      "r: 1\n",
      "y: 1\n"
     ]
    }
   ],
   "source": [
    "#MOST DIFFICULT ONE\n",
    "#ask a user for name\n",
    "    #Example – Shaurya\n",
    "    #print count of each words\n",
    "    #Output:\n",
    "       # S - 1\n",
    "       # H - 1 \n",
    "       # A - 2\n",
    "       # U - 1\n",
    "       # R - 1\n",
    "       # Y - 1\n",
    "name=input()\n",
    "sum=\"\"\n",
    "\n",
    "for i in name:\n",
    "    if i not in sum:\n",
    "        sum=sum+(i)\n",
    "        print(f\"{i}: {name.count(i)}\")\n"
   ]
  },
  {
   "cell_type": "code",
   "execution_count": 165,
   "metadata": {},
   "outputs": [
    {
     "name": "stdout",
     "output_type": "stream",
     "text": [
      "1\n",
      "2\n",
      "3\n",
      "4\n"
     ]
    }
   ],
   "source": [
    "#break and continue\n",
    "# 1 to 10 print\n",
    "for i in range(1,11):\n",
    "    if i==5:\n",
    "        break\n",
    "    print(i)\n",
    "\n"
   ]
  },
  {
   "cell_type": "code",
   "execution_count": 166,
   "metadata": {},
   "outputs": [
    {
     "name": "stdout",
     "output_type": "stream",
     "text": [
      "1\n",
      "2\n",
      "3\n",
      "4\n",
      "6\n",
      "7\n",
      "8\n",
      "9\n",
      "10\n"
     ]
    }
   ],
   "source": [
    "#break and continue\n",
    "# 1 to 10 print, but not 5\n",
    "for i in range(1,11):\n",
    "    if i==5:\n",
    "        continue\n",
    "    print(i)\n",
    " "
   ]
  },
  {
   "cell_type": "code",
   "execution_count": 195,
   "metadata": {},
   "outputs": [
    {
     "name": "stdout",
     "output_type": "stream",
     "text": [
      "Guess a number between 1 and 100:50\n",
      "to high\n",
      "guess again:30\n",
      "too low\n",
      "guess again:40\n",
      "too low\n",
      "guess again:44\n",
      "to high\n",
      "guess again:41\n",
      "too low\n",
      "guess again:42\n",
      "too low\n",
      "guess again:43\n",
      "you win, and you guessed this number in 7 times \n"
     ]
    }
   ],
   "source": [
    "#Guessing gmae by while loop\n",
    "winning_number=43\n",
    "guess=1\n",
    "number=int(input(\"Guess a number between 1 and 100:\"))\n",
    "game_over=False\n",
    "\n",
    "while not game_over:\n",
    "    if number==winning_number:\n",
    "        print(f\"you win, and you guessed this number in {guess} times \")\n",
    "        game_over=True\n",
    "    else:\n",
    "        if number < winning_number:\n",
    "            print(\"too low\")\n",
    "            guess +=1\n",
    "            number=int(input(\"guess again:\"))\n",
    "        else:\n",
    "            print(\"to high\")\n",
    "            guess+=1\n",
    "            number=int(input(\"guess again:\"))\n",
    "        "
   ]
  },
  {
   "cell_type": "code",
   "execution_count": 203,
   "metadata": {},
   "outputs": [
    {
     "name": "stdout",
     "output_type": "stream",
     "text": [
      "1\n",
      "3\n",
      "5\n",
      "7\n",
      "9\n"
     ]
    }
   ],
   "source": [
    "#step argument\n",
    "for i in range(1,11,2):\n",
    "    print(i)\n"
   ]
  },
  {
   "cell_type": "code",
   "execution_count": 200,
   "metadata": {},
   "outputs": [
    {
     "name": "stdout",
     "output_type": "stream",
     "text": [
      "10\n",
      "9\n",
      "8\n",
      "7\n",
      "6\n",
      "5\n",
      "4\n",
      "3\n",
      "2\n",
      "1\n"
     ]
    }
   ],
   "source": [
    "for i in range(10,0,-1):\n",
    "    print(i)\n"
   ]
  },
  {
   "cell_type": "code",
   "execution_count": 204,
   "metadata": {},
   "outputs": [
    {
     "name": "stdout",
     "output_type": "stream",
     "text": [
      "k\n",
      "u\n",
      "l\n",
      "b\n",
      "i\n",
      "r\n"
     ]
    }
   ],
   "source": [
    "name=\"kulbir\"\n",
    "for i in range(len(name)):\n",
    "    print(name[i])\n"
   ]
  },
  {
   "cell_type": "code",
   "execution_count": 205,
   "metadata": {},
   "outputs": [
    {
     "name": "stdout",
     "output_type": "stream",
     "text": [
      "k\n",
      "u\n",
      "l\n",
      "b\n",
      "i\n",
      "r\n"
     ]
    }
   ],
   "source": [
    "for i in name:\n",
    "    print(i)\n"
   ]
  },
  {
   "cell_type": "code",
   "execution_count": 215,
   "metadata": {},
   "outputs": [
    {
     "name": "stdout",
     "output_type": "stream",
     "text": [
      "Enter a number: 12\n",
      "3\n"
     ]
    }
   ],
   "source": [
    "num=input(\"Enter a number: \")\n",
    "total = 0\n",
    "\n",
    "for i in num:\n",
    "    total+=int(i)\n",
    "print(total)\n",
    "\n"
   ]
  },
  {
   "cell_type": "code",
   "execution_count": null,
   "metadata": {},
   "outputs": [],
   "source": []
  },
  {
   "cell_type": "code",
   "execution_count": null,
   "metadata": {},
   "outputs": [],
   "source": []
  }
 ],
 "metadata": {
  "kernelspec": {
   "display_name": "Python 3",
   "language": "python",
   "name": "python3"
  },
  "language_info": {
   "codemirror_mode": {
    "name": "ipython",
    "version": 3
   },
   "file_extension": ".py",
   "mimetype": "text/x-python",
   "name": "python",
   "nbconvert_exporter": "python",
   "pygments_lexer": "ipython3",
   "version": "3.8.5"
  }
 },
 "nbformat": 4,
 "nbformat_minor": 4
}
