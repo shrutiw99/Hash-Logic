{
 "cells": [
  {
   "cell_type": "code",
   "execution_count": 6,
   "metadata": {},
   "outputs": [
    {
     "name": "stdout",
     "output_type": "stream",
     "text": [
      "Enter String helloword\n",
      "9\n",
      "4\n",
      "hel\n",
      "ord\n",
      "low\n"
     ]
    }
   ],
   "source": [
    "#1.Given a string of odd length greater than 7, return a new string made of the middle three characters of a given String\n",
    "#str=input(\"Enter a string greater than 7 with odd length\").\n",
    "str=input(\"Enter String \")\n",
    "#str=\"hellowordld\"\n",
    "l=len(str)\n",
    "print(l)\n",
    "#print(str[0])\n",
    "m=l//2\n",
    "print(m)\n",
    "#m=m-1\n",
    "a=str[0:m-1]\n",
    "print(a)\n",
    "b=str[m+2:l]\n",
    "print(b)\n",
    "if len(a)!=len(b):\n",
    "    print(a, b)\n",
    "else:\n",
    "    print(str[m-1:m+2])\n",
    "\n"
   ]
  },
  {
   "cell_type": "code",
   "execution_count": 1,
   "metadata": {},
   "outputs": [
    {
     "name": "stdout",
     "output_type": "stream",
     "text": [
      "lworld\n"
     ]
    }
   ],
   "source": [
    "#2. Given two strings, s1 and s2, create a new string by appending s2 in the middle of s1\n",
    "str1=\"Helo\"\n",
    "str2=\"world\"\n",
    "l=len(str1)\n",
    "#print(l)\n",
    "m=l//2\n",
    "#print(m)\n",
    "str3=str1[m]+str2\n",
    "print(str3)\n"
   ]
  },
  {
   "cell_type": "code",
   "execution_count": 8,
   "metadata": {},
   "outputs": [
    {
     "name": "stdout",
     "output_type": "stream",
     "text": [
      "4\n",
      "Heworldlo\n"
     ]
    }
   ],
   "source": [
    "#2. Given two strings, s1 and s2, create a new string by appending s2 in the middle of s1\n",
    "str1=\"Helo\"\n",
    "str2=\"world\"\n",
    "l=len(str1)\n",
    "print(l)\n",
    "m=l//2\n",
    "#print(m)\n",
    "str3=str1[0:m]+str2+str1[m:l]\n",
    "print(str3)\n"
   ]
  },
  {
   "cell_type": "code",
   "execution_count": 75,
   "metadata": {},
   "outputs": [
    {
     "name": "stdout",
     "output_type": "stream",
     "text": [
      "Hl2\n",
      "wl4\n",
      "hwll24\n"
     ]
    }
   ],
   "source": [
    "#3.Given two strings, s1, and s2 return a new string made of the first, middle, and last characters each input  string\n",
    "str1=\"Hello12\"\n",
    "str2=\"world34\"\n",
    "\n",
    "l=len(str1)\n",
    "m=l//2\n",
    "a=str1[0]+str1[m]+str1[l-1]\n",
    "print(a)\n",
    "\n",
    "l=len(str2)\n",
    "m=l//2\n",
    "b=str2[0]+str2[m]+str2[l-1]\n",
    "print(b)\n",
    "    \n",
    "\n",
    "#str3=a+b\n",
    "#print(str3)\n",
    "\n",
    "str4=str[0]+str2[0]+str1[m]+str2[m]+str1[l-1]+str2[l-1]\n",
    "print(str4)\n"
   ]
  },
  {
   "cell_type": "code",
   "execution_count": 20,
   "metadata": {},
   "outputs": [
    {
     "name": "stdout",
     "output_type": "stream",
     "text": [
      "New String azbycxdw\n"
     ]
    }
   ],
   "source": []
  },
  {
   "cell_type": "code",
   "execution_count": 24,
   "metadata": {},
   "outputs": [
    {
     "name": "stdout",
     "output_type": "stream",
     "text": [
      "First Stringabc xyz\n",
      "0\n",
      "1\n",
      "2\n",
      "azbycx\n"
     ]
    }
   ],
   "source": []
  },
  {
   "cell_type": "code",
   "execution_count": 74,
   "metadata": {},
   "outputs": [
    {
     "name": "stdout",
     "output_type": "stream",
     "text": [
      "abc\n",
      "x\n"
     ]
    }
   ],
   "source": [
    "\n",
    "\n",
    "\n",
    "\n",
    "\n",
    "\n"
   ]
  },
  {
   "cell_type": "code",
   "execution_count": 58,
   "metadata": {},
   "outputs": [
    {
     "name": "stdout",
     "output_type": "stream",
     "text": [
      "h\n"
     ]
    }
   ],
   "source": []
  },
  {
   "cell_type": "code",
   "execution_count": 89,
   "metadata": {},
   "outputs": [
    {
     "name": "stdout",
     "output_type": "stream",
     "text": [
      "elloorldHW\n"
     ]
    }
   ],
   "source": [
    "#4.Arrange string characters such that lowercase letters should come first\n",
    "str1=\"HelloWorld\"\n",
    "result1=\"\"\n",
    "result2=\"\"\n",
    "final=\"\"\n",
    "for i in str1:\n",
    "    if i>='a' and i <=\"z\":\n",
    "      result1=result1+i\n",
    "    else:\n",
    "        result2=result2+i\n",
    "#print(result1)\n",
    "#print(result2)\n",
    "final=final+result1+result2\n",
    "print(final)"
   ]
  },
  {
   "cell_type": "code",
   "execution_count": 123,
   "metadata": {},
   "outputs": [],
   "source": [
    "#5.Find the last position of a substring “Emma” in a given string,      \n",
    "#str1 = \"Emma is a data scientist who knows Python. Emma works at google.\"\n",
    "\n",
    "str1 = \"Emma is a data scientist who knows Python. Emma works at google.\"\n",
    "str2=str1\n",
    "#print(str2)\n",
    "\n",
    "word=\"Emma\"\n",
    "\n",
    "#index=str1.rfind(\"Emma\")\n",
    "#print(index)\n",
    "for i in range(len(str2)):\n",
    "    if word==str2[i]:\n",
    "        print(f\"{str2[i]} at {i}\")\n"
   ]
  },
  {
   "cell_type": "code",
   "execution_count": 109,
   "metadata": {},
   "outputs": [
    {
     "name": "stdout",
     "output_type": "stream",
     "text": [
      "Emma\n",
      "0\n"
     ]
    },
    {
     "ename": "KeyboardInterrupt",
     "evalue": "",
     "output_type": "error",
     "traceback": [
      "\u001b[1;31m---------------------------------------------------------------------------\u001b[0m",
      "\u001b[1;31mKeyboardInterrupt\u001b[0m                         Traceback (most recent call last)",
      "\u001b[1;32m<ipython-input-109-5f9b408c5dcd>\u001b[0m in \u001b[0;36m<module>\u001b[1;34m\u001b[0m\n\u001b[0;32m     10\u001b[0m \u001b[0mi\u001b[0m\u001b[1;33m=\u001b[0m\u001b[1;36m0\u001b[0m\u001b[1;33m\u001b[0m\u001b[1;33m\u001b[0m\u001b[0m\n\u001b[0;32m     11\u001b[0m \u001b[1;32mwhile\u001b[0m \u001b[0mi\u001b[0m\u001b[1;33m<\u001b[0m \u001b[0mlen\u001b[0m\u001b[1;33m(\u001b[0m\u001b[0mstr2\u001b[0m\u001b[1;33m)\u001b[0m\u001b[1;33m:\u001b[0m\u001b[1;33m\u001b[0m\u001b[1;33m\u001b[0m\u001b[0m\n\u001b[1;32m---> 12\u001b[1;33m     \u001b[1;32mif\u001b[0m \u001b[0mstr2\u001b[0m\u001b[1;33m[\u001b[0m\u001b[0mi\u001b[0m\u001b[1;33m]\u001b[0m\u001b[1;33m==\u001b[0m\u001b[0mword\u001b[0m\u001b[1;33m:\u001b[0m\u001b[1;33m\u001b[0m\u001b[1;33m\u001b[0m\u001b[0m\n\u001b[0m\u001b[0;32m     13\u001b[0m         \u001b[0mprint\u001b[0m\u001b[1;33m(\u001b[0m\u001b[0mstr2\u001b[0m\u001b[1;33m[\u001b[0m\u001b[0mi\u001b[0m\u001b[1;33m]\u001b[0m\u001b[1;33m)\u001b[0m\u001b[1;33m\u001b[0m\u001b[1;33m\u001b[0m\u001b[0m\n\u001b[0;32m     14\u001b[0m         \u001b[0mprint\u001b[0m\u001b[1;33m(\u001b[0m\u001b[0mi\u001b[0m\u001b[1;33m)\u001b[0m\u001b[1;33m\u001b[0m\u001b[1;33m\u001b[0m\u001b[0m\n",
      "\u001b[1;31mKeyboardInterrupt\u001b[0m: "
     ]
    }
   ],
   "source": []
  },
  {
   "cell_type": "code",
   "execution_count": 149,
   "metadata": {},
   "outputs": [
    {
     "name": "stdout",
     "output_type": "stream",
     "text": [
      "Last positon of Emma is:8\n"
     ]
    }
   ],
   "source": [
    "#5.Find the last position of a substring “Emma” in a given string,      \n",
    "#str1 = \"Emma is a data scientist who knows Python. Emma works at google.\"\n",
    "\n",
    "str1 = \"Emma is a data scientist who knows Python. Emma works at google.\"\n",
    "str2=str1.split()\n",
    "#print(str2)\n",
    "\n",
    "word=\"Emma\"\n",
    "\n",
    "\n",
    "#print(word)\n",
    "count=0\n",
    "#index=str1.rfind(\"Emma\")\n",
    "#print(index)\n",
    "for i in range(len(str2)):\n",
    "    #print(i)\n",
    "    if word==str2[i]:\n",
    "        count=i\n",
    "        \n",
    "\n",
    "print(f\"Last positon of Emma is:{count}\")\n",
    "       \n",
    "\n",
    "        \n",
    "        \n",
    "    "
   ]
  },
  {
   "cell_type": "code",
   "execution_count": 163,
   "metadata": {},
   "outputs": [
    {
     "name": "stdout",
     "output_type": "stream",
     "text": [
      "Emma is a data scientist "
     ]
    }
   ],
   "source": [
    "#6. Split a given string on hyphens into several substrings and display each substring,         \n",
    "# str1 = Emma-is-a-data-scientist\n",
    "str1=\"Emma-is-a-data-scientist\"\n",
    "str2=str1.split(\"-\")\n",
    "for i in str2:\n",
    "    print(i,end=\" \")"
   ]
  },
  {
   "cell_type": "code",
   "execution_count": 203,
   "metadata": {},
   "outputs": [
    {
     "name": "stdout",
     "output_type": "stream",
     "text": [
      "Emma Jon Kelly Eric "
     ]
    }
   ],
   "source": [
    "#7.Remove empty strings from a list of strings ,    \n",
    "#str_list = [\"Emma\", \"Jon\", \"\", \"Kelly\", None, \"Eric\", \"\"]\n",
    "str_list = [\"Emma\", \"Jon\", \"\", \"Kelly\", None, \"Eric\", \"\"]\n",
    "count=0\n",
    "for i in str_list:\n",
    "    if i!=\"\" and i!=None:\n",
    "        print(i,end=\" \")\n",
    "    "
   ]
  },
  {
   "cell_type": "code",
   "execution_count": 1,
   "metadata": {},
   "outputs": [
    {
     "name": "stdout",
     "output_type": "stream",
     "text": [
      "7\n",
      "Emma25isDatascientist50andAIExpert"
     ]
    }
   ],
   "source": [
    "#8.Find words with both alphabets and numbers   ,   \n",
    "#str1 = \"Emma25 is Data scientist50 and AI Expert\"\n",
    "str1 = \"Emma25 is Data scientist50 and AI Expert\"\n",
    "str2=str1.split()\n",
    "l=len(str2)\n",
    "print(l)\n",
    "#print(str2)\n",
    "#str3=str2.split()\n",
    "#print(str3)\n",
    "j=0\n",
    "a=0\n",
    "while j<l:\n",
    "    for i in str2[0]:\n",
    "        if i>=\"0\" and i<=\"9\":\n",
    "            if i>='a' and i<='z':\n",
    "                a=a+1\n",
    "        #print(i)\n",
    "    print(str2[j],end=\"\")\n",
    "    #print(j)\n",
    "    j=j+1\n",
    "    \n",
    "#print(str2[j],end=\"\")\n",
    "\n",
    "          \n",
    "        \n"
   ]
  },
  {
   "cell_type": "code",
   "execution_count": 1,
   "metadata": {},
   "outputs": [
    {
     "name": "stdout",
     "output_type": "stream",
     "text": [
      "The original string is : Emma25 is Data scientist50 and AI Expert\n",
      "Displaying words with alphabets and numbers\n",
      "Emma25\n",
      "scientist50\n"
     ]
    }
   ],
   "source": [
    "#8:Find words with both alphabets and numbers\n",
    "#str1 = \"Emma25 is Data scientist50 and AI Expert\"\n",
    "str1 = \"Emma25 is Data scientist50 and AI Expert\"\n",
    "print(\"The original string is : \" + str1)\n",
    "\n",
    "res = []\n",
    "temp = str1.split()\n",
    "for item in temp:\n",
    "    if any(char.isalpha() for char in item) and any(char.isdigit() for char in item):\n",
    "        res.append(item)\n",
    "        \n",
    "print(\"Displaying words with alphabets and numbers\")\n",
    "for i in res:\n",
    "    print(i)\n"
   ]
  },
  {
   "cell_type": "code",
   "execution_count": null,
   "metadata": {},
   "outputs": [],
   "source": []
  }
 ],
 "metadata": {
  "kernelspec": {
   "display_name": "Python 3",
   "language": "python",
   "name": "python3"
  },
  "language_info": {
   "codemirror_mode": {
    "name": "ipython",
    "version": 3
   },
   "file_extension": ".py",
   "mimetype": "text/x-python",
   "name": "python",
   "nbconvert_exporter": "python",
   "pygments_lexer": "ipython3",
   "version": "3.8.5"
  }
 },
 "nbformat": 4,
 "nbformat_minor": 4
}
