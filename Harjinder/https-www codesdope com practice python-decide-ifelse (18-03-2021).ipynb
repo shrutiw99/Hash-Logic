{
 "cells": [
  {
   "cell_type": "code",
   "execution_count": 5,
   "metadata": {},
   "outputs": [
    {
     "name": "stdout",
     "output_type": "stream",
     "text": [
      "Enter lenght 10\n",
      "Enter breadth 20\n",
      "No, it is only Rectangle\n"
     ]
    }
   ],
   "source": [
    "#Practice questions on Decide if/else (https://www.codesdope.com/practice/python-decide-ifelse/).\n",
    "#Level 1\n",
    "#1.Take values of length and breadth of a rectangle from user and check if it is square or not.\n",
    "lenght=input(\"Enter lenght \")\n",
    "breadth = input(\"Enter breadth \")\n",
    "if length == breadth:\n",
    "  print(\"Yes, it is square\")\n",
    "else:\n",
    "  print(\"No, it is only Rectangle\")"
   ]
  },
  {
   "cell_type": "code",
   "execution_count": 10,
   "metadata": {},
   "outputs": [
    {
     "name": "stdout",
     "output_type": "stream",
     "text": [
      "Enter first number 10\n",
      "Enter second number 10\n",
      "Both are equal\n"
     ]
    }
   ],
   "source": [
    "#2.Take two int values from user and print greatest among them.\n",
    "first = input(\"Enter first number \")\n",
    "second = input(\"Enter second number \")\n",
    "if first>second:\n",
    "  print(\"Greatest is\",first)\n",
    "elif second>first:\n",
    "  print(\"Greatest is\",second)\n",
    "else:\n",
    "  print(\"Both are equal\")"
   ]
  },
  {
   "cell_type": "code",
   "execution_count": 14,
   "metadata": {},
   "outputs": [
    {
     "name": "stdout",
     "output_type": "stream",
     "text": [
      "Enter quantity10000\n",
      "Cost is 900000.0\n"
     ]
    }
   ],
   "source": [
    "#3.A shop will give discount of 10% if the cost of purchased quantity is more than 1000.\n",
    "#Ask user for quantity\n",
    "#Suppose, one unit will cost 100.\n",
    "#Judge and print total cost for user.\n",
    "\n",
    "\n",
    "quantity = int(input(\"Enter quantity\"))\n",
    "if quantity*100 > 1000:\n",
    "  print(\"Cost is\",((quantity*100)-(.1*quantity*100)))\n",
    "else:\n",
    "  print(\"Cost is\",quantity*100)\n",
    "\n"
   ]
  },
  {
   "cell_type": "code",
   "execution_count": 16,
   "metadata": {},
   "outputs": [
    {
     "name": "stdout",
     "output_type": "stream",
     "text": [
      "Enter salary10000\n",
      "Enter year of service6\n",
      "Bonus is 500.0\n"
     ]
    }
   ],
   "source": [
    "#4.A company decided to give bonus of 5% to employee if his/her year of service is more than 5 years.\n",
    "#Ask user for their salary and year of service and print the net bonus amount.\n",
    "salary = int(input(\"Enter salary\"))\n",
    "yos = int(input(\"Enter year of service\"))\n",
    "if yos>5:\n",
    "  print(\"Bonus is\",.05*salary)\n",
    "else:\n",
    "  print(\"No bonus\")\n"
   ]
  },
  {
   "cell_type": "code",
   "execution_count": 18,
   "metadata": {},
   "outputs": [
    {
     "name": "stdout",
     "output_type": "stream",
     "text": [
      "Enter marks70\n",
      "B\n"
     ]
    }
   ],
   "source": [
    "#5.A school has following rules for grading system:\n",
    "#a. Below 25 - F\n",
    "#b. 25 to 45 - E\n",
    "#c. 45 to 50 - D\n",
    "#d. 50 to 60 - C\n",
    "#e. 60 to 80 - B\n",
    "#f. Above 80 - A\n",
    "#Ask user to enter marks and print the corresponding grade\n",
    "\n",
    "\n",
    "marks = int(input(\"Enter marks\"))\n",
    "if marks<25:\n",
    "  print(\"F\")\n",
    "elif marks>=25 and marks<45:\n",
    "  print(\"E\")\n",
    "elif marks>=45 and marks<50:\n",
    "  print(\"D\")\n",
    "elif marks>=50 and marks<60:\n",
    "  print(\"C\")\n",
    "elif marks>=60 and marks<80:\n",
    "  print(\"B\")\n",
    "else:\n",
    "  print(\"A\")"
   ]
  },
  {
   "cell_type": "code",
   "execution_count": 27,
   "metadata": {},
   "outputs": [
    {
     "name": "stdout",
     "output_type": "stream",
     "text": [
      "Enter first age 10\n",
      "Enter second age 10\n",
      "third age 10\n",
      "All are equal\n"
     ]
    }
   ],
   "source": [
    "#6.Take input of age of 3 people by user and determine oldest and youngest among them.\n",
    "\n",
    "first = int(input(\"Enter first age \"))\n",
    "second = int(input(\"Enter second age \"))\n",
    "third = int(input(\"third age \"))\n",
    "\n",
    "if first > second and first >third:\n",
    "  print(\"Oldest is first\",first)\n",
    "elif first < second and second == third:\n",
    "    print(f\"Oldest are second {second} and third {third}\")\n",
    "elif second > first and second > third:\n",
    "  print(\"Oldest is second\",second)\n",
    "elif second < first and first == third:\n",
    "    print(f\"Oldest are first {first} and third{third}\")\n",
    "elif third > first and third > second:\n",
    "  print(\"Oldest is third\",third)\n",
    "elif third < first and first == second:\n",
    "    print(f\"Oldest are first {first} and second{second}\")\n",
    "else:\n",
    "  print(\"All are equal\")"
   ]
  },
  {
   "cell_type": "code",
   "execution_count": 33,
   "metadata": {},
   "outputs": [
    {
     "name": "stdout",
     "output_type": "stream",
     "text": [
      "Enter a number-2\n",
      "2\n"
     ]
    }
   ],
   "source": [
    "#7.Write a program to print absolute vlaue of a number entered by user. E.g.-\n",
    "#INPUT: 1        OUTPUT: 1\n",
    "#INPUT: -1        OUTPUT: 1\n",
    "\n",
    "\n",
    "number = int(input(\"Enter a number\"))\n",
    "if number < 0:\n",
    "  print(number*-1)\n",
    "else:\n",
    "  print(number)"
   ]
  },
  {
   "cell_type": "code",
   "execution_count": 37,
   "metadata": {},
   "outputs": [
    {
     "name": "stdout",
     "output_type": "stream",
     "text": [
      "Number of classes held20\n",
      "Number of classes attended15\n",
      "Attendence is 75.0\n",
      "You are allowed to sit in exam\n"
     ]
    }
   ],
   "source": [
    "#8.A student will not be allowed to sit in exam if his/her attendence is less than 75%.\n",
    "#Take following input from user\n",
    "#Number of classes held\n",
    "#Number of classes attended.\n",
    "#And print\n",
    "#percentage of class attended\n",
    "#Is student is allowed to sit in exam or not.\n",
    "\n",
    "noh = int(input(\"Number of classes held\"))\n",
    "noa = int(input(\"Number of classes attended\"))\n",
    "atten = (noa/float(noh))*100\n",
    "print(\"Attendence is\",atten)\n",
    "if atten >= 75:\n",
    "  print(\"You are allowed to sit in exam\")\n",
    "else:\n",
    "  print(\"Sorry, you are not allowed. Attend more classes from next time.\")"
   ]
  },
  {
   "cell_type": "code",
   "execution_count": 42,
   "metadata": {},
   "outputs": [
    {
     "name": "stdout",
     "output_type": "stream",
     "text": [
      "Enter Yes(if You Have Medical) otherwise enter No)y\n",
      "You are allowed\n"
     ]
    }
   ],
   "source": [
    "#9.Modify the above question to allow student to sit if he/she has medical cause. Ask user if he/she has medical cause or not ( 'Y' or 'N' ) and print accordingly.\n",
    "#Hint only\n",
    "#Do it yourself\n",
    "medical_cause=input(\"Enter Yes(if You Have Medical) otherwise enter No)\")\n",
    "if medical_cause == 'Y' or medical_cause == 'y':\n",
    "  print(\"You are allowed\")\n",
    "else:\n",
    "  if atten>=75:\n",
    "    print(\"Allowed\")\n",
    "  else:\n",
    "    print(\"Not allowed\")\n",
    "    "
   ]
  },
  {
   "cell_type": "code",
   "execution_count": 44,
   "metadata": {},
   "outputs": [
    {
     "name": "stdout",
     "output_type": "stream",
     "text": [
      "Enter Number2000\n",
      "2000 is a leap year\n"
     ]
    }
   ],
   "source": [
    "#Practice questions on Decide if/else (https://www.codesdope.com/practice/python-decide-ifelse/)\n",
    "#Level 2\n",
    "\n",
    "#1.Write a program to check if a year is leap year or not.\n",
    "#If a year is divisible by 4 then it is leap year but if the year is century year like 2000, 1900, 2100 then it must be divisible by 400.\n",
    "\n",
    "#Program for Leap to check year  is leap year or not\n",
    "year=int(input(\"Enter Number\"))\n",
    "if((year%4==0)and(year%100!=0))or(year%400==0):\n",
    "    print(f\"{year} is a leap year\")\n",
    "else:\n",
    "    print(f\"{year} is not a leap year\")"
   ]
  },
  {
   "cell_type": "code",
   "execution_count": 45,
   "metadata": {},
   "outputs": [
    {
     "name": "stdout",
     "output_type": "stream",
     "text": [
      "Enter age21\n",
      "SEX? (M or F)M\n",
      "MARRIED? (Y or N)N\n",
      "You can work anywhere\n"
     ]
    }
   ],
   "source": [
    "#2.Ask user to enter age, sex ( M or F ), marital status ( Y or N ) and then using following rules print their place of service.\n",
    "#if employee is female, then she will work only in urban areas.\n",
    "\n",
    "#if employee is a male and age is in between 20 to 40 then he may work in anywhere\n",
    "\n",
    "#if employee is male and age is in between 40 t0 60 then he will work in urban areas only.\n",
    "\n",
    "#And any other input of age should print \"ERROR\".\n",
    "\n",
    "\n",
    "age = int(input(\"Enter age\"))\n",
    "sex = input(\"SEX? (M or F)\")\n",
    "marry = input(\"MARRIED? (Y or N)\")\n",
    "if sex == \"F\" and age>=20 and age<=60:\n",
    "  print(\"Urban areas only\")\n",
    "elif sex == \"M\" and age>=20 and age<=40:\n",
    "  print(\"You can work anywhere\")\n",
    "elif sex == \"M\" and age>40 and age<=60:\n",
    "  print(\"Urban areas only\")\n",
    "else:\n",
    "  print(\"ERROR\")\n"
   ]
  },
  {
   "cell_type": "code",
   "execution_count": null,
   "metadata": {},
   "outputs": [],
   "source": [
    "#3.A 4 digit number is entered through keyboard. Write a program to print a new number with digits reversed as of orignal one. E.g.-\n",
    "#INPUT : 1234        OUTPUT : 4321\n",
    "#INPUT : 5982        OUTPUT : 2895\n",
    "\n",
    "number=int(input(\"Enter number\"))\n",
    "\n",
    "temp_no=int(number)\n",
    "reverse=0\n",
    "reminder=0\n",
    "if temp_no>0:\n",
    "    reminder=temp_no%10\n",
    "    reverse=reverse*10+reminder\n",
    "    temp_no=temp_no//10\n",
    "\n",
    "  \n",
    "\n",
    "if  temp_no>0:\n",
    "    reminder=temp_no%10\n",
    "    reverse=reverse*10+reminder\n",
    "    temp_no=temp_no//10\n",
    "\n",
    "if  temp_no>0:\n",
    "    reminder=temp_no%10\n",
    "    reverse=reverse*10+reminder\n",
    "    temp_no=temp_no//10\n",
    "\n",
    "if  temp_no>0:\n",
    "    reminder=temp_no%10\n",
    "    reverse=reverse*10+reminder\n",
    "    temp_no=temp_no//10\n",
    "    \n",
    "print(reverse)\n"
   ]
  }
 ],
 "metadata": {
  "kernelspec": {
   "display_name": "Python 3",
   "language": "python",
   "name": "python3"
  },
  "language_info": {
   "codemirror_mode": {
    "name": "ipython",
    "version": 3
   },
   "file_extension": ".py",
   "mimetype": "text/x-python",
   "name": "python",
   "nbconvert_exporter": "python",
   "pygments_lexer": "ipython3",
   "version": "3.8.5"
  }
 },
 "nbformat": 4,
 "nbformat_minor": 4
}
