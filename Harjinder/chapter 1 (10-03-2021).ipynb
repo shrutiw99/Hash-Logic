{
 "cells": [
  {
   "cell_type": "code",
   "execution_count": 1,
   "metadata": {},
   "outputs": [
    {
     "name": "stdout",
     "output_type": "stream",
     "text": [
      "Hello \"new\" world\n",
      "I'm Harjinder\n",
      "line A\n",
      "line B\n",
      "Name\tHarjinder\n",
      "This is backslah \\\n",
      "hell\blo\n",
      "Line A \\n Line B\n",
      "\\\" \\' \n",
      "this is \\\\ double backslash\n",
      "these are /\\/\\/\\/\\ mountains\n",
      "he is\tawesome\n",
      "\\\"\\n\\t\\'\n",
      "Line A \\n Line B\n",
      "\\\" \\n\\t\\'\n",
      "😃\n",
      "5\n",
      "1.4142\n",
      "20.0\n",
      "2\n",
      "4\n",
      "Harjinder\n",
      "123\n",
      "Hello Harjinder your age is  27\n",
      "Hello Harjinder Your age is 27\n",
      "Hello Harjinder your age is 27\n"
     ]
    }
   ],
   "source": [
    "# print() function with Escape sequences\n",
    "print(\"Hello \\\"new\\\" world\")\n",
    "print('I\\'m Harjinder')\n",
    "print('line A\\nline B')\n",
    "print(\"Name\\tHarjinder\")\n",
    "print(\"This is backslah \\\\\")\n",
    "print(\"hell\\blo\")\n",
    "print(\"Line A \\\\n Line B\")\n",
    "print(\"\\\\\\\" \\\\\\' \")\n",
    "\n",
    "#-># is used to comment python code, code with # ignored by python interpreter, shortcut- ctrl+/(after selecting line to comment)\n",
    "\n",
    "#Exercise 1\n",
    "print(\"this is \\\\\\\\ double backslash\")\n",
    "print(\"these are /\\\\/\\\\/\\\\/\\\\ mountains\")\n",
    "print(\"he is\\tawesome\")\n",
    "print(\"\\\\\\\"\\\\n\\\\t\\\\\\'\")\n",
    "\n",
    "#Raw String\n",
    "print(r\"Line A \\n Line B\")\n",
    "print(r\"\\\" \\n\\t\\'\")\n",
    "\n",
    "#print Emoji\n",
    "print(\"\\U0001F603\")\n",
    "\n",
    "#Python as a calculator\n",
    "print(2+3)\n",
    "print(round(2**0.5,4))\n",
    "print(2**3/2*6-4*(3-4/2))\n",
    "\n",
    "\n",
    "#Variables\n",
    "\n",
    "num1=2\n",
    "print(num1)\n",
    "num1=4\n",
    "print(num1)\n",
    "name=\"Harjinder\"\n",
    "print(name)\n",
    "name=123\n",
    "print(name)\n",
    "\n",
    "#Variable Rulee\n",
    "#Variable name can't start with number\n",
    "#Variables name can start from letters or _(underscore)\n",
    "#no space symbols are allowed in variable name\n",
    "\n",
    "#More about Variables:\n",
    "#Declare two varibles in one line\n",
    "name,age=\"Harjinder\",27\n",
    "print(\"Hello \"+name+\" your age is \",age)\n",
    "print(\"Hello\",name+\" Your age is\",age)\n",
    "print(f\"Hello {name} your age is {age}\")\n",
    "\n",
    "\n",
    "\n",
    "      \n",
    "    \n"
   ]
  },
  {
   "cell_type": "code",
   "execution_count": null,
   "metadata": {},
   "outputs": [],
   "source": []
  },
  {
   "cell_type": "code",
   "execution_count": null,
   "metadata": {},
   "outputs": [],
   "source": []
  }
 ],
 "metadata": {
  "kernelspec": {
   "display_name": "Python 3",
   "language": "python",
   "name": "python3"
  },
  "language_info": {
   "codemirror_mode": {
    "name": "ipython",
    "version": 3
   },
   "file_extension": ".py",
   "mimetype": "text/x-python",
   "name": "python",
   "nbconvert_exporter": "python",
   "pygments_lexer": "ipython3",
   "version": "3.8.5"
  }
 },
 "nbformat": 4,
 "nbformat_minor": 4
}
