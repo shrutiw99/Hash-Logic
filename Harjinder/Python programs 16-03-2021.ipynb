{
 "cells": [
  {
   "cell_type": "code",
   "execution_count": 11,
   "metadata": {},
   "outputs": [
    {
     "name": "stdout",
     "output_type": "stream",
     "text": [
      "Enter A Number:1234\n",
      "Sum of Number(1234)=10\n"
     ]
    }
   ],
   "source": [
    "# Program for find sum of numbers (1234=1+2+3+4)\n",
    "\n",
    "number=int(input(\"Enter A Number:\"))\n",
    "temp=number\n",
    "sum=0\n",
    "while number>0:\n",
    "    reminder=number%10\n",
    "    sum=sum+reminder\n",
    "    number=number//10\n",
    "    \n",
    "    \n",
    "    \n",
    "print(f\"Sum of Number({temp})={sum}\")"
   ]
  },
  {
   "cell_type": "code",
   "execution_count": 132,
   "metadata": {},
   "outputs": [
    {
     "name": "stdout",
     "output_type": "stream",
     "text": [
      "Enter A Number:23\n",
      "2\n",
      "3\n",
      "Sum of Number(23)=5\n"
     ]
    }
   ],
   "source": [
    "# Program for find sum of numbers (1234=1+2+3+4)\n",
    "\n",
    "number=int(input(\"Enter A Number:\"))\n",
    "\n",
    "sum=0\n",
    "for i in str(number):\n",
    "    print(i)\n",
    "    sum=sum+int(i)\n",
    "    \n",
    "    \n",
    "    \n",
    "print(f\"Sum of Number({number})={sum}\")"
   ]
  },
  {
   "cell_type": "code",
   "execution_count": 130,
   "metadata": {},
   "outputs": [],
   "source": [
    "# Program for find sum of numbers (1234=1+2+3+4)\n",
    "\n"
   ]
  },
  {
   "cell_type": "code",
   "execution_count": 133,
   "metadata": {},
   "outputs": [
    {
     "name": "stdout",
     "output_type": "stream",
     "text": [
      "Enter A Number:123\n"
     ]
    },
    {
     "ename": "TypeError",
     "evalue": "'int' object is not iterable",
     "output_type": "error",
     "traceback": [
      "\u001b[1;31m---------------------------------------------------------------------------\u001b[0m",
      "\u001b[1;31mTypeError\u001b[0m                                 Traceback (most recent call last)",
      "\u001b[1;32m<ipython-input-133-d6ebe42c200c>\u001b[0m in \u001b[0;36m<module>\u001b[1;34m\u001b[0m\n\u001b[0;32m      4\u001b[0m \u001b[0mtemp\u001b[0m\u001b[1;33m=\u001b[0m\u001b[0mnumber\u001b[0m\u001b[1;33m\u001b[0m\u001b[1;33m\u001b[0m\u001b[0m\n\u001b[0;32m      5\u001b[0m \u001b[0msum\u001b[0m\u001b[1;33m=\u001b[0m\u001b[1;36m0\u001b[0m\u001b[1;33m\u001b[0m\u001b[1;33m\u001b[0m\u001b[0m\n\u001b[1;32m----> 6\u001b[1;33m \u001b[1;32mfor\u001b[0m \u001b[0mi\u001b[0m \u001b[1;32min\u001b[0m \u001b[0mnumber\u001b[0m\u001b[1;33m:\u001b[0m\u001b[1;33m\u001b[0m\u001b[1;33m\u001b[0m\u001b[0m\n\u001b[0m\u001b[0;32m      7\u001b[0m     \u001b[0msum\u001b[0m\u001b[1;33m=\u001b[0m\u001b[0msum\u001b[0m\u001b[1;33m+\u001b[0m\u001b[0mi\u001b[0m\u001b[1;33m\u001b[0m\u001b[1;33m\u001b[0m\u001b[0m\n\u001b[0;32m      8\u001b[0m \u001b[1;33m\u001b[0m\u001b[0m\n",
      "\u001b[1;31mTypeError\u001b[0m: 'int' object is not iterable"
     ]
    }
   ],
   "source": [
    "# Program for find sum of numbers (1234=1+2+3+4).\n",
    "\n",
    "number=int(input(\"Enter A Number:\"))\n",
    "temp=number\n",
    "sum=0\n",
    "for i in number:\n",
    "    sum=sum+i\n",
    "    \n",
    "print(f\"Sum of Number({temp})={sum}\")"
   ]
  },
  {
   "cell_type": "code",
   "execution_count": 98,
   "metadata": {},
   "outputs": [
    {
     "name": "stdout",
     "output_type": "stream",
     "text": [
      "Enter number121\n",
      "3\n",
      "121 is a palindrom number\n"
     ]
    }
   ],
   "source": [
    "# Program to check number is Palindrome or not\n",
    "number=input(\"Enter number\")\n",
    "\n",
    "length=len(number)\n",
    "# print(length)\n",
    "sum=''\n",
    "for i in str(number[-1:-length-1:-1]):\n",
    "    \n",
    "    sum=sum+i\n",
    "    \n",
    "if(number==sum):\n",
    "    print(f\"{number} is a palindrom number\")\n",
    "else:\n",
    "    print(f\"{number} is not a palindrom number\")\n",
    "    \n",
    "\n",
    "\n",
    "\n",
    "        \n",
    "\n",
    "\n"
   ]
  },
  {
   "cell_type": "code",
   "execution_count": 97,
   "metadata": {},
   "outputs": [
    {
     "name": "stdout",
     "output_type": "stream",
     "text": [
      "['3', '2', '1']\n"
     ]
    }
   ],
   "source": [
    "number=['1','2','3']\n",
    "print(number[-1:-4:-1])"
   ]
  },
  {
   "cell_type": "code",
   "execution_count": 103,
   "metadata": {},
   "outputs": [
    {
     "name": "stdout",
     "output_type": "stream",
     "text": [
      "Enter Number:123\n",
      "123 is not a palindrome number\n"
     ]
    }
   ],
   "source": [
    "# Program to check number is Palindrome or not\n",
    "number=int(input(\"Enter Number:\"))\n",
    "temp=number\n",
    "reverse=0\n",
    "\n",
    "while (number>0):\n",
    "    reminder=number%10\n",
    "    reverse=reverse*10+reminder\n",
    "    number=number//10\n",
    "\n",
    "if(temp==reverse):\n",
    "    print(f\"{temp} is a palindrom number\")\n",
    "    \n",
    "else:\n",
    "    print(f\"{temp} is not a palindrome number\")\n"
   ]
  },
  {
   "cell_type": "code",
   "execution_count": 119,
   "metadata": {},
   "outputs": [
    {
     "name": "stdout",
     "output_type": "stream",
     "text": [
      "Start Number->:1\n",
      "End Number---->:2\n",
      "1*1=1\n",
      "1*2=2\n",
      "1*3=3\n",
      "1*4=4\n",
      "1*5=5\n",
      "1*6=6\n",
      "1*7=7\n",
      "1*8=8\n",
      "1*9=9\n",
      "1*10=10\n",
      "\n",
      "\n",
      "2*1=2\n",
      "2*2=4\n",
      "2*3=6\n",
      "2*4=8\n",
      "2*5=10\n",
      "2*6=12\n",
      "2*7=14\n",
      "2*8=16\n",
      "2*9=18\n",
      "2*10=20\n",
      "\n",
      "\n"
     ]
    }
   ],
   "source": [
    "# program for making table\n",
    "start=int(input(\"Start Number->:\"))\n",
    "end=int(input(\"End Number---->:\"))\n",
    "# number=int(input(\"Enter Number\"))\n",
    "\n",
    "while  start<=end:\n",
    "    for i in range(1,11):\n",
    "        print(f\"{start}*{i}={start*i}\")\n",
    "    print(\"\\n\")\n",
    "    start=start+1"
   ]
  },
  {
   "cell_type": "code",
   "execution_count": 122,
   "metadata": {},
   "outputs": [
    {
     "name": "stdout",
     "output_type": "stream",
     "text": [
      "Fibonacci Series\n",
      "0\n",
      "1\n",
      "1\n",
      "2\n",
      "3\n",
      "5\n",
      "8\n",
      "13\n",
      "21\n"
     ]
    }
   ],
   "source": [
    "#Program to print Fibonacci Series->0,1,1,1,2,3,5,8,13,21\n",
    "a=0\n",
    "b=1\n",
    "c=0\n",
    "print(\"Fibonacci Series\")\n",
    "print(a)\n",
    "print(b)\n",
    "\n",
    "\n",
    "for i in range(1,8):\n",
    "    c=a+b\n",
    "    a=b\n",
    "    b=c\n",
    "    print(c)\n"
   ]
  },
  {
   "cell_type": "code",
   "execution_count": 127,
   "metadata": {},
   "outputs": [
    {
     "name": "stdout",
     "output_type": "stream",
     "text": [
      "Start Number->:2\n",
      "2\n",
      "4\n",
      "6\n",
      "8\n",
      "10\n"
     ]
    }
   ],
   "source": [
    "start=int(input(\"Start Number->:\"))\n",
    "# end=int(input(\"End Number---->:\"))\n",
    "# number=int(input(\"Enter Number\"))\n",
    "\n",
    "if start==0:\n",
    "    print(f\"{start} is neith even or odd, it is a whole number\")\n",
    "else:\n",
    "    while  start<=10:\n",
    "        if(start%2==0):\n",
    "            print(start)\n",
    "            start=start+2\n",
    "        else:\n",
    "            print(start)\n",
    "            start=start+1"
   ]
  },
  {
   "cell_type": "code",
   "execution_count": null,
   "metadata": {},
   "outputs": [],
   "source": []
  }
 ],
 "metadata": {
  "kernelspec": {
   "display_name": "Python 3",
   "language": "python",
   "name": "python3"
  },
  "language_info": {
   "codemirror_mode": {
    "name": "ipython",
    "version": 3
   },
   "file_extension": ".py",
   "mimetype": "text/x-python",
   "name": "python",
   "nbconvert_exporter": "python",
   "pygments_lexer": "ipython3",
   "version": "3.8.5"
  }
 },
 "nbformat": 4,
 "nbformat_minor": 4
}
