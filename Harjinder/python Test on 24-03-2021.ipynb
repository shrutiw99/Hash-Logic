{
 "cells": [
  {
   "cell_type": "code",
   "execution_count": 1,
   "metadata": {},
   "outputs": [
    {
     "name": "stdout",
     "output_type": "stream",
     "text": [
      "Python Version:3.8.5 (default, Sep  3 2020, 21:29:08) [MSC v.1916 64 bit (AMD64)]\n"
     ]
    }
   ],
   "source": [
    "#Test on 24-03-3021.\n",
    "#1.question\n",
    "import sys\n",
    "print(f\"Python Version:{sys.version}\")\n"
   ]
  },
  {
   "cell_type": "code",
   "execution_count": 3,
   "metadata": {},
   "outputs": [
    {
     "name": "stdout",
     "output_type": "stream",
     "text": [
      "Enter first nameharjinder\n",
      "Enter last namesingh\n",
      "hgnis rednijrah\n"
     ]
    }
   ],
   "source": [
    "#2.question\n",
    "first_name=input(\"Enter first name\")\n",
    "last_name=input(\"Enter last name\")\n",
    "name=first_name[::-1]\n",
    "last=last_name[::-1]\n",
    "print(last,name)\n"
   ]
  },
  {
   "cell_type": "code",
   "execution_count": 4,
   "metadata": {},
   "outputs": [
    {
     "name": "stdout",
     "output_type": "stream",
     "text": [
      "current date time is 2021-03-31 16:29:15.859678\n"
     ]
    }
   ],
   "source": [
    "#3.question\n",
    "import datetime\n",
    "print(f\"current date time is {datetime.datetime.now()}\")\n"
   ]
  },
  {
   "cell_type": "code",
   "execution_count": 5,
   "metadata": {},
   "outputs": [
    {
     "name": "stdout",
     "output_type": "stream",
     "text": [
      "Enter Number2\n",
      "sum of2+22+222: 246\n"
     ]
    }
   ],
   "source": [
    "# 4.question\n",
    "number=input(\"Enter Number\") \n",
    "n=number\n",
    "nn=number+number\n",
    "nnn=number+number+number\n",
    "print(f\"sum of{n}+{nn}+{nnn}: {int(n)+int(nn)+int(nnn)}\")\n",
    "\n"
   ]
  },
  {
   "cell_type": "code",
   "execution_count": 9,
   "metadata": {},
   "outputs": [
    {
     "name": "stdout",
     "output_type": "stream",
     "text": [
      "Enter String: haris\n",
      "is haris\n"
     ]
    }
   ],
   "source": [
    "#5.question\n",
    "\n",
    "str=input(\"Enter String: \")\n",
    "if \"is\" in str[0:2]:\n",
    "    print(str)\n",
    "else:\n",
    "    print(\"is \"+str)\n"
   ]
  },
  {
   "cell_type": "code",
   "execution_count": 12,
   "metadata": {},
   "outputs": [
    {
     "name": "stdout",
     "output_type": "stream",
     "text": [
      "Enter X Value 4\n",
      "Enter Y Value 6\n",
      "HCF of 4,6 is 2\n",
      "LCM of 4,6 is 12\n"
     ]
    }
   ],
   "source": [
    "#6.question\n",
    "x=int(input(\"Enter X Value \"))\n",
    "y=int(input(\"Enter Y Value \"))\n",
    "smaller=0\n",
    "if x>y:\n",
    "    smaller=y\n",
    "else:\n",
    "    smaller=x\n",
    "for i in range(1,smaller+1):\n",
    "    if(x%i==0) and (y%i==0):\n",
    "        hcf=i\n",
    "print(f\"HCF of {x},{y} is {hcf}\")\n",
    "product=x*y\n",
    "lcm=product//hcf\n",
    "print(f\"LCM of {x},{y} is {lcm}\")\n"
   ]
  },
  {
   "cell_type": "code",
   "execution_count": 13,
   "metadata": {},
   "outputs": [
    {
     "name": "stdout",
     "output_type": "stream",
     "text": [
      "1 Number 10\n",
      "2 Number 20\n",
      "3 Number 30\n",
      "Number Enter by user: 10,20,30\n",
      "Numbers in sorted order:10,20,30\n"
     ]
    }
   ],
   "source": [
    "# 7.question\n",
    "\n",
    "num1=int(input(\"1 Number \"))\n",
    "num2=int(input(\"2 Number \"))\n",
    "num3=int(input(\"3 Number \"))\n",
    "\n",
    "n1=min(num1,num2,num3)\n",
    "n3=max(num1,num2,num3)\n",
    "n2=(num1+num2+num3)-n1-n3\n",
    "\n",
    "print(f\"Number Enter by user: {num1},{num2},{num3}\")\n",
    "print(f\"Numbers in sorted order:{n1},{n2},{n3}\")\n"
   ]
  },
  {
   "cell_type": "code",
   "execution_count": 14,
   "metadata": {},
   "outputs": [
    {
     "name": "stdout",
     "output_type": "stream",
     "text": [
      "a\n",
      "ASSCI Value of :a is 97\n"
     ]
    }
   ],
   "source": [
    "# 8.question\n",
    "character=input()\n",
    "result=ord(character)\n",
    "print(f\"ASSCI Value of :{character} is {result}\")\n"
   ]
  },
  {
   "cell_type": "code",
   "execution_count": null,
   "metadata": {},
   "outputs": [],
   "source": []
  }
 ],
 "metadata": {
  "kernelspec": {
   "display_name": "Python 3",
   "language": "python",
   "name": "python3"
  },
  "language_info": {
   "codemirror_mode": {
    "name": "ipython",
    "version": 3
   },
   "file_extension": ".py",
   "mimetype": "text/x-python",
   "name": "python",
   "nbconvert_exporter": "python",
   "pygments_lexer": "ipython3",
   "version": "3.8.5"
  }
 },
 "nbformat": 4,
 "nbformat_minor": 4
}
