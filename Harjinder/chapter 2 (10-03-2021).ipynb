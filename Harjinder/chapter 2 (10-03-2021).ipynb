{
 "cells": [
  {
   "cell_type": "code",
   "execution_count": 25,
   "metadata": {},
   "outputs": [
    {
     "name": "stdout",
     "output_type": "stream",
     "text": [
      "HarjinderSingh\n",
      "Harjinder3\n",
      "Harjinder3\n",
      "HarjinderHarjinderHarjinder\n",
      "Enter your nameHarjinder\n",
      "HelloHarjinder\n",
      "What's your age?27\n",
      "Your age is27\n",
      "Enter 1st number.10\n",
      "Enter 2nd number.20\n",
      "Sum of10&20is:1020\n",
      "enter your name and age: Harjinder 27\n",
      "Name : Harjinder\n",
      "Age : 27\n",
      "Harjinder 27\n",
      "enter your name and age: harjinder\n"
     ]
    },
    {
     "ename": "ValueError",
     "evalue": "not enough values to unpack (expected 2, got 1)",
     "output_type": "error",
     "traceback": [
      "\u001b[1;31m---------------------------------------------------------------------------\u001b[0m",
      "\u001b[1;31mValueError\u001b[0m                                Traceback (most recent call last)",
      "\u001b[1;32m<ipython-input-25-1b4c0a1d4208>\u001b[0m in \u001b[0;36m<module>\u001b[1;34m\u001b[0m\n\u001b[0;32m     34\u001b[0m \u001b[0mname\u001b[0m \u001b[1;33m,\u001b[0m \u001b[0mage\u001b[0m \u001b[1;33m=\u001b[0m \u001b[0minput\u001b[0m \u001b[1;33m(\u001b[0m\u001b[1;34m\"Name : \"\u001b[0m\u001b[1;33m)\u001b[0m \u001b[1;33m,\u001b[0m \u001b[0minput\u001b[0m \u001b[1;33m(\u001b[0m\u001b[1;34m\"Age : \"\u001b[0m\u001b[1;33m)\u001b[0m\u001b[1;33m\u001b[0m\u001b[1;33m\u001b[0m\u001b[0m\n\u001b[0;32m     35\u001b[0m \u001b[0mprint\u001b[0m \u001b[1;33m(\u001b[0m\u001b[0mname\u001b[0m \u001b[1;33m,\u001b[0m \u001b[0mage\u001b[0m\u001b[1;33m)\u001b[0m \u001b[1;31m# to print multiple variables at once\u001b[0m\u001b[1;33m\u001b[0m\u001b[1;33m\u001b[0m\u001b[0m\n\u001b[1;32m---> 36\u001b[1;33m \u001b[0mname\u001b[0m\u001b[1;33m,\u001b[0m \u001b[0mage\u001b[0m  \u001b[1;33m=\u001b[0m \u001b[0minput\u001b[0m\u001b[1;33m(\u001b[0m\u001b[1;34m\"enter your name and age: \"\u001b[0m\u001b[1;33m)\u001b[0m\u001b[1;33m.\u001b[0m\u001b[0msplit\u001b[0m\u001b[1;33m(\u001b[0m\u001b[1;34m\",\"\u001b[0m\u001b[1;33m)\u001b[0m\u001b[1;33m\u001b[0m\u001b[1;33m\u001b[0m\u001b[0m\n\u001b[0m\u001b[0;32m     37\u001b[0m \u001b[1;33m\u001b[0m\u001b[0m\n\u001b[0;32m     38\u001b[0m \u001b[1;33m\u001b[0m\u001b[0m\n",
      "\u001b[1;31mValueError\u001b[0m: not enough values to unpack (expected 2, got 1)"
     ]
    }
   ],
   "source": [
    "# String Concatenation\n",
    "first_name=\"Harjinder\"\n",
    "last_name=\"Singh\"\n",
    "full_name=first_name+last_name\n",
    "\n",
    "print(full_name)\n",
    "# print(first_name+3)   error->can only concatenate str (not \"int\") to str\n",
    "\n",
    "print(first_name+\"3\")\n",
    "print(first_name+str(3))\n",
    "print(first_name*3)\n",
    "\n",
    " #User Input\n",
    "#Takes Input form user\n",
    "name=input(\"Enter your name\") #input function only takes string as input\n",
    "print(\"Hello\"+name)\n",
    "age=input(\"What's your age?\")\n",
    "print(\"Your age is\"+age)\n",
    "\n",
    "#int & str function\n",
    "#program to input two numbers from user and print their sum\n",
    "\n",
    "number_one=input(\"Enter 1st number.\")\n",
    "number_two=input(\"Enter 2nd number.\")\n",
    "sum=number_one+number_two\n",
    "print(\"Sum of\"+number_one+\"&\"+number_two+ \"is:\"+sum)\n",
    "\n",
    "#str func\t4 ”4”\n",
    "#int func\t“4”  4\n",
    "#float func\t4  4.0\n",
    "\n",
    "# Multiple Inputs\n",
    "name, age  = input(\"enter your name and age: \").split() #string method\n",
    "name , age = input (\"Name : \") , input (\"Age : \") \n",
    "print (name , age) # to print multiple variables at once\n",
    "name, age  = input(\"enter your name and age: \").split(\",\") \n",
    "\n",
    "# String Formatting\n",
    "#python3\n",
    "print(\"Hello {} your age is {}\".format(name, age))\n",
    "#need not to check values are string or integer\n",
    "#python3.6\n",
    "print(f\"Hello {name} your age is {age}\")\n",
    "print(f\"Hello {name} your age is {age+5}\")\n",
    "\n",
    "\n",
    "\n"
   ]
  },
  {
   "cell_type": "code",
   "execution_count": 24,
   "metadata": {},
   "outputs": [
    {
     "name": "stdout",
     "output_type": "stream",
     "text": [
      "Hello dsf your age is sdf\n",
      "Hello dsf your age is sdf\n"
     ]
    },
    {
     "ename": "TypeError",
     "evalue": "can only concatenate str (not \"int\") to str",
     "output_type": "error",
     "traceback": [
      "\u001b[1;31m---------------------------------------------------------------------------\u001b[0m",
      "\u001b[1;31mTypeError\u001b[0m                                 Traceback (most recent call last)",
      "\u001b[1;32m<ipython-input-24-28a5ee90ad86>\u001b[0m in \u001b[0;36m<module>\u001b[1;34m\u001b[0m\n\u001b[0;32m      5\u001b[0m \u001b[1;31m#python3.6\u001b[0m\u001b[1;33m\u001b[0m\u001b[1;33m\u001b[0m\u001b[1;33m\u001b[0m\u001b[0m\n\u001b[0;32m      6\u001b[0m \u001b[0mprint\u001b[0m\u001b[1;33m(\u001b[0m\u001b[1;34mf\"Hello {name} your age is {age}\"\u001b[0m\u001b[1;33m)\u001b[0m\u001b[1;33m\u001b[0m\u001b[1;33m\u001b[0m\u001b[0m\n\u001b[1;32m----> 7\u001b[1;33m \u001b[0mprint\u001b[0m\u001b[1;33m(\u001b[0m\u001b[1;34mf\"Hello {name} your age is {age+5}\"\u001b[0m\u001b[1;33m)\u001b[0m\u001b[1;33m\u001b[0m\u001b[1;33m\u001b[0m\u001b[0m\n\u001b[0m",
      "\u001b[1;31mTypeError\u001b[0m: can only concatenate str (not \"int\") to str"
     ]
    }
   ],
   "source": [
    "\n",
    "# String Formatting\n",
    "#python3\n",
    "print(\"Hello {} your age is {}\".format(name, age))\n",
    "#need not to check values are string or integer\n",
    "#python3.6\n",
    "print(f\"Hello {name} your age is {age}\")\n",
    "print(f\"Hello {name} your age is {age+5}\")"
   ]
  },
  {
   "cell_type": "code",
   "execution_count": 30,
   "metadata": {},
   "outputs": [
    {
     "name": "stdout",
     "output_type": "stream",
     "text": [
      "enter three numbers comma separated:1,2,3\n",
      "average of three numbers : 2.0\n"
     ]
    }
   ],
   "source": [
    "#Exercise1\n",
    "num1,num2,num3 = input(\"enter three numbers comma separated:\").split(\",\")\n",
    "print(f\"average of three numbers : {(int(num1) + int(num2) + int(num3)) / 3}\")\n"
   ]
  },
  {
   "cell_type": "code",
   "execution_count": 34,
   "metadata": {},
   "outputs": [
    {
     "name": "stdout",
     "output_type": "stream",
     "text": [
      "o\n",
      "t\n"
     ]
    }
   ],
   "source": [
    "# String Indexing\n",
    "language = \"python\"\n",
    "# Forward indexing  Backward Indexing\n",
    "print(language[4])\n",
    "print(language[-4])"
   ]
  },
  {
   "cell_type": "code",
   "execution_count": 43,
   "metadata": {},
   "outputs": [
    {
     "ename": "SyntaxError",
     "evalue": "unexpected EOF while parsing (<ipython-input-43-225583f1819f>, line 6)",
     "output_type": "error",
     "traceback": [
      "\u001b[1;36m  File \u001b[1;32m\"<ipython-input-43-225583f1819f>\"\u001b[1;36m, line \u001b[1;32m6\u001b[0m\n\u001b[1;33m    print(\"harshit\"[-1:-1]\u001b[0m\n\u001b[1;37m                          ^\u001b[0m\n\u001b[1;31mSyntaxError\u001b[0m\u001b[1;31m:\u001b[0m unexpected EOF while parsing\n"
     ]
    }
   ],
   "source": [
    "# String Slicing\n",
    "lang =\"Python\"\n",
    "print(lang[0:2])\n",
    "print(\"Harshit\"[0:5:2])\n",
    "print(\"Harshit\"[5::-1])\n",
    "# print(\"harshit\"[-1::-1]"
   ]
  },
  {
   "cell_type": "code",
   "execution_count": 47,
   "metadata": {},
   "outputs": [
    {
     "name": "stdout",
     "output_type": "stream",
     "text": [
      "enter your name :harjinder\n",
      "reverse of your name is rednijrah\n",
      "Reverse of your name is rednijrah\n"
     ]
    }
   ],
   "source": [
    "# Exercise 2\n",
    "\n",
    "name=input(\"enter your name :\" )\n",
    "reverse=name[-1::-1]\n",
    "print(f\"reverse of your name is {reverse}\") \n",
    "print(f\"Reverse of your name is {name[-1::-1]}\")\n"
   ]
  },
  {
   "cell_type": "code",
   "execution_count": 25,
   "metadata": {},
   "outputs": [
    {
     "name": "stdout",
     "output_type": "stream",
     "text": [
      "14\n",
      "shaurya khosla\n",
      "SHAURYA KHOSLA\n",
      "Shaurya Khosla\n",
      "3\n"
     ]
    }
   ],
   "source": [
    "# String Methods\n",
    "name = \"ShAuRyA kHOSLA\"\n",
    "#1.\tlen() function\n",
    "print(len(name))\n",
    "#2.\tlower() method\n",
    "print(name.lower())\n",
    "#3.\tupper() method\n",
    "print(name.upper())\n",
    "#4.\ttitle() method\n",
    "print(name.title())\n",
    "#5.\tcount() method\n",
    "print(name.count('A'))\n"
   ]
  },
  {
   "cell_type": "code",
   "execution_count": 39,
   "metadata": {},
   "outputs": [
    {
     "name": "stdout",
     "output_type": "stream",
     "text": [
      "enter coma separated name and character:hh,h\n",
      "length of your name is 2\n",
      "character count:2\n"
     ]
    }
   ],
   "source": [
    "#Exercise3\n",
    "#take  two comma separated inputs from user\n",
    "# 1.) User's name, exmaple-\"Harshit\"\n",
    "# 2.)a single character , \"H\"\n",
    "\n",
    "# output - 2 print lines\n",
    "# 1.) user's name length\n",
    "# 2.) count the character that user inputed (bons: case insensitive count)\n",
    "\n",
    "name,char=input(\"enter coma separated name and character:\").split(\",\")\n",
    "print(f\"length of your name is {len(name)}\")\n",
    "print(f\"character count:{name.lower().count(char.lower())}\")"
   ]
  },
  {
   "cell_type": "code",
   "execution_count": 43,
   "metadata": {},
   "outputs": [
    {
     "name": "stdout",
     "output_type": "stream",
     "text": [
      "                     Kulbir                 ..............................................\n",
      "Kulbir                 ..............................................\n",
      "                     Kulbir..............................................\n",
      "Kulbir..............................................\n",
      "Kulbir..............................................\n",
      "he was good in tennwas\n",
      "he was good in tennis\n"
     ]
    },
    {
     "ename": "AttributeError",
     "evalue": "'str' object has no attribute 'centre'",
     "output_type": "error",
     "traceback": [
      "\u001b[1;31m---------------------------------------------------------------------------\u001b[0m",
      "\u001b[1;31mAttributeError\u001b[0m                            Traceback (most recent call last)",
      "\u001b[1;32m<ipython-input-43-0e3a5c7146a0>\u001b[0m in \u001b[0;36m<module>\u001b[1;34m\u001b[0m\n\u001b[0;32m     11\u001b[0m \u001b[0mprint\u001b[0m\u001b[1;33m(\u001b[0m\u001b[0mstring\u001b[0m\u001b[1;33m.\u001b[0m\u001b[0mreplace\u001b[0m\u001b[1;33m(\u001b[0m\u001b[1;34m\"is\"\u001b[0m\u001b[1;33m,\u001b[0m\u001b[1;34m\"was\"\u001b[0m\u001b[1;33m,\u001b[0m\u001b[1;36m1\u001b[0m\u001b[1;33m)\u001b[0m\u001b[1;33m)\u001b[0m\u001b[1;33m\u001b[0m\u001b[1;33m\u001b[0m\u001b[0m\n\u001b[0;32m     12\u001b[0m \u001b[1;31m#print(string.find(\"is\",startindex))\u001b[0m\u001b[1;33m\u001b[0m\u001b[1;33m\u001b[0m\u001b[1;33m\u001b[0m\u001b[0m\n\u001b[1;32m---> 13\u001b[1;33m \u001b[0mprint\u001b[0m\u001b[1;33m(\u001b[0m\u001b[0mstring\u001b[0m\u001b[1;33m.\u001b[0m\u001b[0mcentre\u001b[0m\u001b[1;33m(\u001b[0m\u001b[1;36m8\u001b[0m\u001b[1;33m,\u001b[0m\u001b[1;34m\"*\"\u001b[0m\u001b[1;33m)\u001b[0m\u001b[1;33m)\u001b[0m\u001b[1;33m\u001b[0m\u001b[1;33m\u001b[0m\u001b[0m\n\u001b[0m\u001b[0;32m     14\u001b[0m \u001b[1;33m\u001b[0m\u001b[0m\n\u001b[0;32m     15\u001b[0m \u001b[1;33m\u001b[0m\u001b[0m\n",
      "\u001b[1;31mAttributeError\u001b[0m: 'str' object has no attribute 'centre'"
     ]
    }
   ],
   "source": [
    "#strip method\n",
    "name=\"                     Kulbir                 \"\n",
    "dots=\"..............................................\"\n",
    "print(name+dots)\n",
    "print(name.lstrip()+dots)\n",
    "print(name.rstrip()+dots)\n",
    "print(name.strip()+dots)\n",
    "print(name.replace(\" \",\"\")+dots)\n",
    "\n",
    "#string=\"he is good in tennis\"\n",
    "#print(string.replace(\"is\",\"was\"))\n",
    "#print(string.replace(\"is\",\"was\",1))\n",
    "#print(string.find(\"is\",startindex))\n",
    "#print(string.centre(8,\"*\"))\n",
    "\n",
    "\n",
    "\n"
   ]
  },
  {
   "cell_type": "code",
   "execution_count": null,
   "metadata": {},
   "outputs": [],
   "source": []
  }
 ],
 "metadata": {
  "kernelspec": {
   "display_name": "Python 3",
   "language": "python",
   "name": "python3"
  },
  "language_info": {
   "codemirror_mode": {
    "name": "ipython",
    "version": 3
   },
   "file_extension": ".py",
   "mimetype": "text/x-python",
   "name": "python",
   "nbconvert_exporter": "python",
   "pygments_lexer": "ipython3",
   "version": "3.8.5"
  }
 },
 "nbformat": 4,
 "nbformat_minor": 4
}
