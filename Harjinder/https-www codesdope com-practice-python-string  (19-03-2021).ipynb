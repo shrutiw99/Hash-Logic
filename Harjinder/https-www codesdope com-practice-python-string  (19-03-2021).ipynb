{
 "cells": [
  {
   "cell_type": "code",
   "execution_count": 1,
   "metadata": {},
   "outputs": [
    {
     "name": "stdout",
     "output_type": "stream",
     "text": [
      "harjinder\n",
      "h\n",
      "a\n",
      "r\n",
      "j\n",
      "i\n",
      "n\n",
      "d\n",
      "e\n",
      "r\n"
     ]
    }
   ],
   "source": [
    "#Practice questions on Python Strings - https://www.codesdope.com/practice/python-string/\n",
    "#Level 1\n",
    "# 1.write program to print every character of a string enter by user in a new line using loop..\n",
    "name=input()\n",
    "l=len(name)\n",
    "for i in name[0:l]:\n",
    "    print(i)\n"
   ]
  },
  {
   "cell_type": "code",
   "execution_count": 2,
   "metadata": {},
   "outputs": [
    {
     "name": "stdout",
     "output_type": "stream",
     "text": [
      "12\n"
     ]
    }
   ],
   "source": [
    "#2Write a program to find the length of the string \"refrigerator\" without using len function.\n",
    "ref=\"refrigerator\"\n",
    "count=0\n",
    "for i in ref:\n",
    "    count=count+1\n",
    "print(count)\n"
   ]
  },
  {
   "cell_type": "code",
   "execution_count": 4,
   "metadata": {},
   "outputs": [
    {
     "name": "stdout",
     "output_type": "stream",
     "text": [
      "yes 'e' is present in Umbrella\n"
     ]
    }
   ],
   "source": [
    "#3.Write a program to check if the letter 'e' is present in the word 'Umbrella'.\n",
    "name='Umbrella'\n",
    "\n",
    "if 'e' in name:\n",
    "    print(\"yes \\'e\\' is present in\",name)\n"
   ]
  },
  {
   "cell_type": "code",
   "execution_count": 5,
   "metadata": {},
   "outputs": [
    {
     "name": "stdout",
     "output_type": "stream",
     "text": [
      "yes  orange is present in line \"This is orange juice\" \n"
     ]
    }
   ],
   "source": [
    "#4.Write a program to check if the word 'orange' is present in the \"This is orange juice\".\n",
    "a = \"This is orange juice\"\n",
    "b='orange'\n",
    "if b in a.split():\n",
    "    print(f\"yes  {b} is present in line \\\"{a}\\\" \")\n",
    "\n"
   ]
  },
  {
   "cell_type": "code",
   "execution_count": 6,
   "metadata": {},
   "outputs": [
    {
     "name": "stdout",
     "output_type": "stream",
     "text": [
      "12\n",
      "o is present at 4 place\n",
      "O is present at 8 place\n"
     ]
    }
   ],
   "source": [
    "#Write a program to find the first and the last occurence of the letter 'o' and character ',' in \"Hello, World\".\n",
    "name=\"Hello, WOrld\"\n",
    "l=len(name)\n",
    "b='o'\n",
    "a='O'\n",
    "print(l)\n",
    "for i in range(l):\n",
    "        if b==name[i] or a==name[i]:\n",
    "         print(f\"{name[i]} is present at {i} place\")\n"
   ]
  },
  {
   "cell_type": "code",
   "execution_count": 7,
   "metadata": {},
   "outputs": [],
   "source": [
    "#6.Write the string after the first occurrence of ',' and the string after the last occurrence of ',' in the string \"Hello, Good, Morning\". World\"."
   ]
  },
  {
   "cell_type": "code",
   "execution_count": 8,
   "metadata": {},
   "outputs": [
    {
     "name": "stdout",
     "output_type": "stream",
     "text": [
      "Enter Name Robit Ram Rao\n",
      "R. R. Rao\n"
     ]
    }
   ],
   "source": [
    "#7.Write a program that takes your full name as input and displays the abbreviations of the first and middle names except the last name which is displayed as it is. For example, if your name is Robert Brett Roser, then the output should be R.B.Roser.\n",
    "a =input(\"Enter Name \")\n",
    "a = a.split()\n",
    "b = a[0][0]+\". \"+a[1][0]+\". \"+a[2]\n",
    "print(b)\n"
   ]
  },
  {
   "cell_type": "code",
   "execution_count": 9,
   "metadata": {},
   "outputs": [
    {
     "name": "stdout",
     "output_type": "stream",
     "text": [
      "yes 'e' and 'is' are present in line This is umbrella\n"
     ]
    }
   ],
   "source": [
    "#8.Check the occurrence of the letter 'e' and the word 'is' in the sentence \"This is umbrella\".\n",
    "name=\"This is umbrella\"\n",
    "a='e'\n",
    "b='is'\n",
    "#if a and b in name:\n",
    "if a in name:\n",
    "    if b in name:\n",
    "        print(f\"yes \\'{a}\\' and \\'{b}\\' are present in line {name}\")\n"
   ]
  },
  {
   "cell_type": "code",
   "execution_count": 10,
   "metadata": {},
   "outputs": [
    {
     "name": "stdout",
     "output_type": "stream",
     "text": [
      "harjinder\n",
      "Vowels:3, Constants:6, Digits:0, spaces:0\n"
     ]
    }
   ],
   "source": [
    "#9.Write a program to find the number of vowels, consonents, digits and white space characters in a string.\n",
    "str=input()\n",
    "a=['a','e','i', 'o','u']\n",
    "#b=['0','1', '2','3', '4','5', '6','7', '8','9']\n",
    "c=0\n",
    "v=0\n",
    "d=0\n",
    "s=0\n",
    "for i in str:\n",
    "    if i=='a' or i=='e' or i=='i' or i=='o' or i=='u':\n",
    "        v=v+1\n",
    "    elif i>='a' and i<='z':\n",
    "        c=c+1\n",
    "    elif i>='0' and i<='9':\n",
    "        d=d+1\n",
    "    elif (i ==' '):\n",
    "        s=s+1\n",
    "\n",
    "\n",
    "\n",
    "    \n",
    "print(f\"Vowels:{v}, Constants:{c}, Digits:{d}, spaces:{s}\")\n"
   ]
  },
  {
   "cell_type": "code",
   "execution_count": 14,
   "metadata": {},
   "outputs": [
    {
     "name": "stdout",
     "output_type": "stream",
     "text": [
      "harjinder\n",
      "a i e "
     ]
    }
   ],
   "source": [
    "#10.Write a program to make a new string with all the consonents deleted from the string \"Hello, have a good day\".\n",
    "str=input() \n",
    "vowels= ['a','e','i','o','u']\n",
    "for char in str:\n",
    "    if char in vowels:\n",
    "        print(char,end=\" \")\n"
   ]
  },
  {
   "cell_type": "code",
   "execution_count": 32,
   "metadata": {},
   "outputs": [
    {
     "name": "stdout",
     "output_type": "stream",
     "text": [
      "smallest word:is\n",
      "smallest word:an\n",
      "largest word:umbrella\n"
     ]
    }
   ],
   "source": [
    "#Practice questions on Python Strings - https://www.codesdope.com/practice/python-string/\n",
    "#Level 2\n",
    "#1.Write a program to find out the largest and smallest word in the string \"This is an umbrella\".\n",
    "a = \"This is an umbrella\"\n",
    "a = a.split()\n",
    "max_length=len(a[0])\n",
    "for i in a[0:len(a)]:\n",
    "    if len(i)>max_length:\n",
    "        max_length=len(i)\n",
    "        maxx==i\n",
    "        print(f\"largest word:{maxx}\")\n",
    "\n",
    "\n",
    "    if len(i)<max_length:\n",
    "        min=len(i)\n",
    "        min=i\n",
    "        print(f\"smallest word:{min}\")\n",
    "\n",
    "        "
   ]
  },
  {
   "cell_type": "code",
   "execution_count": 40,
   "metadata": {},
   "outputs": [
    {
     "name": "stdout",
     "output_type": "stream",
     "text": [
      "121\n",
      "String is Palindrome String\n"
     ]
    }
   ],
   "source": [
    "#Practice questions on Python Strings - https://www.codesdope.com/practice/python-string/\n",
    "#Level 2\n",
    "# 2.Write a program to check if a given string is a Palindrome.\n",
    "#  A palindrome reads same from front and back e.g.- aba, ccaacc, mom, etc.\n",
    "\n",
    "\n",
    "a = input()\n",
    "#a[:] will give the whole string\n",
    "#print(a[:])\n",
    "#a[::-1] -1 is step. It will reverse the string\n",
    "#print(a[::-1])\n",
    "\n",
    "\n",
    "if a == a[::-1]:\n",
    "    print(\"String is Palindrome String\")\n"
   ]
  },
  {
   "cell_type": "code",
   "execution_count": 47,
   "metadata": {},
   "outputs": [
    {
     "name": "stdout",
     "output_type": "stream",
     "text": [
      "['aastha', 'ajay', 'bilal', 'harjinder', 'himanshu', 'karan', 'neha', 'nitish', 'twinkle']\n"
     ]
    }
   ],
   "source": [
    "#Practice questions on Python Strings - https://www.codesdope.com/practice/python-string/\n",
    "#Level 2\n",
    "#3.Write down the names of 10 of your friends in a list and then sort those in alphabetically ascending order.\n",
    "\n",
    "a=['harjinder','himanshu','aastha','bilal','nitish','neha','karan','ajay','twinkle']\n",
    "a.sort()\n",
    "print(a)\n",
    "\n"
   ]
  },
  {
   "cell_type": "code",
   "execution_count": 49,
   "metadata": {},
   "outputs": [
    {
     "name": "stdout",
     "output_type": "stream",
     "text": [
      "['This', 'is', 'lion', 'in', 'cage']\n",
      "This is lion in cage\n"
     ]
    }
   ],
   "source": [
    "#Practice questions on Python Strings - https://www.codesdope.com/practice/python-string/\n",
    "#Level 2\n",
    "#4.Write a program to make a new string with the word \"the\" deleted in the sentence \"This is the lion in the cage\".\n",
    " \n",
    "a = \"This is the lion in the cage\"\n",
    "a = a.split()\n",
    "for i in a:\n",
    "  if i == \"the\":\n",
    "    #a.index(i) will give the index of i in a\n",
    "    del(a[a.index(i)])\n",
    "print(a)\n",
    "print(\" \".join(a))"
   ]
  },
  {
   "cell_type": "code",
   "execution_count": 4,
   "metadata": {},
   "outputs": [],
   "source": [
    "#4.Write a program to make a new string with the word \"the\" deleted in the sentence \"This is the lion in the cage\".\n"
   ]
  },
  {
   "cell_type": "code",
   "execution_count": 5,
   "metadata": {},
   "outputs": [
    {
     "name": "stdout",
     "output_type": "stream",
     "text": [
      "Heoolo\n"
     ]
    }
   ],
   "source": []
  },
  {
   "cell_type": "code",
   "execution_count": null,
   "metadata": {},
   "outputs": [],
   "source": []
  }
 ],
 "metadata": {
  "kernelspec": {
   "display_name": "Python 3",
   "language": "python",
   "name": "python3"
  },
  "language_info": {
   "codemirror_mode": {
    "name": "ipython",
    "version": 3
   },
   "file_extension": ".py",
   "mimetype": "text/x-python",
   "name": "python",
   "nbconvert_exporter": "python",
   "pygments_lexer": "ipython3",
   "version": "3.8.5"
  }
 },
 "nbformat": 4,
 "nbformat_minor": 4
}
