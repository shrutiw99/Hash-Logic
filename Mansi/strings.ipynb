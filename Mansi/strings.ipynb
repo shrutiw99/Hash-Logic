{
 "cells": [
  {
   "cell_type": "code",
   "execution_count": 15,
   "metadata": {},
   "outputs": [
    {
     "name": "stdout",
     "output_type": "stream",
     "text": [
      " enter namemansi\n",
      "m\n",
      "a\n",
      "n\n",
      "s\n",
      "i\n"
     ]
    }
   ],
   "source": [
    "name=input(\" enter name\")\n",
    "for i in name:\n",
    "    print(i)\n",
    "\n",
    "    "
   ]
  },
  {
   "cell_type": "code",
   "execution_count": 16,
   "metadata": {},
   "outputs": [
    {
     "name": "stdout",
     "output_type": "stream",
     "text": [
      "12\n"
     ]
    }
   ],
   "source": [
    "n=\"refrigerator\"\n",
    "count=0\n",
    "for i in n:\n",
    "    count=count+1\n",
    "print(count)"
   ]
  },
  {
   "cell_type": "code",
   "execution_count": 17,
   "metadata": {},
   "outputs": [
    {
     "name": "stdout",
     "output_type": "stream",
     "text": [
      "True\n"
     ]
    }
   ],
   "source": [
    "print ('re' in 'Umbrella')"
   ]
  },
  {
   "cell_type": "markdown",
   "metadata": {},
   "source": [
    "\n",
    "\n",
    "    "
   ]
  },
  {
   "cell_type": "code",
   "execution_count": 18,
   "metadata": {},
   "outputs": [
    {
     "name": "stdout",
     "output_type": "stream",
     "text": [
      "True\n"
     ]
    }
   ],
   "source": [
    "a=\"this is orange juice\"\n",
    "print('orange' in a.split())"
   ]
  },
  {
   "cell_type": "code",
   "execution_count": 19,
   "metadata": {},
   "outputs": [
    {
     "name": "stdout",
     "output_type": "stream",
     "text": [
      "position of 'o' 4\n",
      "position of 'o' 7\n",
      "position of ',' 10\n"
     ]
    }
   ],
   "source": [
    "s=\"hello,world\"\n",
    "for i in range(len(s)):\n",
    "    if s[i]=='o':\n",
    "        print (\"position of 'o'\",i)\n",
    "for j in range(len(s)):\n",
    "    if s[j]==',':\n",
    "        print (\"position of ','\",i)\n",
    "    "
   ]
  },
  {
   "cell_type": "code",
   "execution_count": 20,
   "metadata": {},
   "outputs": [
    {
     "name": "stdout",
     "output_type": "stream",
     "text": [
      "frequency in 'hello,world' is \n",
      " {'h': 1, 'e': 1, 'l': 3, 'o': 2, ',': 1, 'w': 1, 'r': 1, 'd': 1}\n"
     ]
    }
   ],
   "source": [
    "s=\"hello,world\"\n",
    "freq={}\n",
    "for i in s:\n",
    "  if i in freq:\n",
    "    freq[i]+=1\n",
    "  else:\n",
    "    freq[i]=1\n",
    "print(\"frequency in '{}' is \\n {}\".format(s,str(freq)))            \n",
    "    \n",
    "    \n"
   ]
  },
  {
   "cell_type": "code",
   "execution_count": 21,
   "metadata": {},
   "outputs": [
    {
     "name": "stdout",
     "output_type": "stream",
     "text": [
      "eo ae a oo a\n"
     ]
    }
   ],
   "source": [
    "a=['a','e','i','o','u','A','E','I','O','U',' ']\n",
    "b=\"hello, have a good day\"\n",
    "for i in b:\n",
    "    if i not in a:\n",
    "        b=b[:b.index(i)]+b[b.index(i)+1:]\n",
    "print (b)  "
   ]
  },
  {
   "cell_type": "code",
   "execution_count": 22,
   "metadata": {},
   "outputs": [
    {
     "name": "stdout",
     "output_type": "stream",
     "text": [
      "e\n",
      "eo\n",
      "eo \n",
      "eo a\n",
      "eo ae\n",
      "eo ae \n",
      "eo ae a\n",
      "eo ae a \n",
      "eo ae a o\n",
      "eo ae a oo\n",
      "eo ae a oo \n",
      "eo ae a oo a\n"
     ]
    }
   ],
   "source": [
    "a=['a','e','i','o','u','A','E','I','O','U',' ']\n",
    "b=\"hello, have a good day\"\n",
    "c=\"\"\n",
    "for i in b:\n",
    "    if i not in a:\n",
    "        continue\n",
    "    else:\n",
    "        c=c+i\n",
    "    print(c)   "
   ]
  },
  {
   "cell_type": "code",
   "execution_count": 23,
   "metadata": {},
   "outputs": [
    {
     "name": "stdout",
     "output_type": "stream",
     "text": [
      "eo ae a oo a"
     ]
    }
   ],
   "source": [
    "vowel=['a','e','i','o','u','A','E','I','O','U',' ']\n",
    "a=\"hello, have a good day\"\n",
    "for i in a:\n",
    "    if i in vowel:\n",
    "        print(i,end=\"\")"
   ]
  },
  {
   "cell_type": "code",
   "execution_count": 24,
   "metadata": {},
   "outputs": [
    {
     "name": "stdout",
     "output_type": "stream",
     "text": [
      "enter string masni\n",
      "masni\n",
      "insam\n",
      "False\n"
     ]
    }
   ],
   "source": [
    "string=input(\"enter string \")\n",
    "print(string)\n",
    "print(string[::-1])\n",
    "print(string[:]==string[::-1])      "
   ]
  },
  {
   "cell_type": "code",
   "execution_count": 25,
   "metadata": {},
   "outputs": [
    {
     "name": "stdout",
     "output_type": "stream",
     "text": [
      "azbycx\n"
     ]
    }
   ],
   "source": [
    "s1=\"abc\"\n",
    "s2=\"xyz\"\n",
    "print(s1[0]+s2[-1]+s1[1]+s2[-2]+s1[2]+s2[-3])"
   ]
  },
  {
   "cell_type": "code",
   "execution_count": 6,
   "metadata": {},
   "outputs": [
    {
     "name": "stdout",
     "output_type": "stream",
     "text": [
      "az\n",
      "azby\n",
      "azbycx\n"
     ]
    }
   ],
   "source": [
    "s1=\"abc\"\n",
    "s2=\"xyz\"\n",
    "m=\"\"\n",
    "i=0\n",
    "while i<len(s1):\n",
    " for j in s2[::-1]:\n",
    "    m=m+s1[i]+j\n",
    "    i=i+1\n",
    "    print (m)    "
   ]
  },
  {
   "cell_type": "code",
   "execution_count": 4,
   "metadata": {},
   "outputs": [
    {
     "name": "stdout",
     "output_type": "stream",
     "text": [
      "jasonay\n"
     ]
    }
   ],
   "source": [
    "s1=\"jaay\"\n",
    "s2=\"son\"\n",
    "m=int(len(s1)/2)\n",
    "m=s1[:m:]+s2+s1[m:]\n",
    "print(m)"
   ]
  },
  {
   "cell_type": "code",
   "execution_count": 5,
   "metadata": {},
   "outputs": [
    {
     "name": "stdout",
     "output_type": "stream",
     "text": [
      "enter stringmansi\n",
      "enter stringkashyap\n",
      "makashyapnsi\n"
     ]
    }
   ],
   "source": [
    "s1=(input(\"enter string\"))\n",
    "s2=(input(\"enter string\"))\n",
    "m=int(len(s1)/2)\n",
    "m=s1[:m:]+s2+s1[m:]\n",
    "print(m)"
   ]
  },
  {
   "cell_type": "code",
   "execution_count": null,
   "metadata": {},
   "outputs": [],
   "source": [
    "s1=(input(\"enter string\"))\n",
    "middle = int(len(s1) /2)\n",
    "print(\"Original String is\", s1)\n",
    "middleThree = s1[middle-1:middle+2]\n",
    "print(\"Middle three chars are\", middleThree)\n",
    "        "
   ]
  },
  {
   "cell_type": "code",
   "execution_count": null,
   "metadata": {},
   "outputs": [],
   "source": [
    "name=\"mansi\"\n",
    "temp_var=\"\"\n",
    "i= 0\n",
    "while i < len(name):\n",
    "    if name[i]not in temp_var:\n",
    "        temp_var+=name[i]\n",
    "        print(f\"{name[i]}:{name.count(name[i])}\")\n",
    "    i+=1    "
   ]
  },
  {
   "cell_type": "code",
   "execution_count": null,
   "metadata": {},
   "outputs": [],
   "source": [
    "b=int(input(\"enter number\"))\n",
    "for i in range(1,11):\n",
    "    print(b*i)"
   ]
  },
  {
   "cell_type": "code",
   "execution_count": null,
   "metadata": {},
   "outputs": [],
   "source": [
    "number=[1,2,4,6,11,20]\n",
    "sq=0\n",
    "for val in number:\n",
    "    sq=val*val\n",
    "    print(sq)"
   ]
  },
  {
   "cell_type": "code",
   "execution_count": 1,
   "metadata": {},
   "outputs": [
    {
     "name": "stdout",
     "output_type": "stream",
     "text": [
      "0\n",
      "1\n",
      "2\n",
      "3\n",
      "4\n",
      "loop has completed\n"
     ]
    }
   ],
   "source": [
    "for val in range(5):\n",
    "    print(val)\n",
    "else:\n",
    "    print(\"loop has completed\")\n",
    "    "
   ]
  },
  {
   "cell_type": "code",
   "execution_count": 2,
   "metadata": {},
   "outputs": [
    {
     "name": "stdout",
     "output_type": "stream",
     "text": [
      "cat 3\n",
      "words 5\n",
      "mansi 5\n"
     ]
    }
   ],
   "source": [
    "words = ['cat','words','mansi']\n",
    "for w in words:\n",
    "    print(w,len(w))"
   ]
  },
  {
   "cell_type": "code",
   "execution_count": 3,
   "metadata": {},
   "outputs": [
    {
     "name": "stdout",
     "output_type": "stream",
     "text": [
      "enter first name mansi\n",
      "enter last name kashyap\n",
      "kashyap mansi\n"
     ]
    }
   ],
   "source": [
    "a=(input(\"enter first name \"))\n",
    "b=(input(\"enter last name \"))\n",
    "print(b+\" \"+a)"
   ]
  },
  {
   "cell_type": "code",
   "execution_count": 4,
   "metadata": {},
   "outputs": [
    {
     "name": "stdout",
     "output_type": "stream",
     "text": [
      "enter string m\n",
      "ascii value is 109\n"
     ]
    }
   ],
   "source": [
    "str=(input(\"enter string \"))\n",
    "print(\"ascii value is\",ord(str))"
   ]
  },
  {
   "cell_type": "code",
   "execution_count": 5,
   "metadata": {},
   "outputs": [
    {
     "name": "stdout",
     "output_type": "stream",
     "text": [
      "enter string :mansi\n",
      "is mansi\n"
     ]
    }
   ],
   "source": [
    "str=(input(\"enter string :\"))\n",
    "if str[:2]==\"is\":\n",
    "    print(str)\n",
    "else:    \n",
    "    print(\"is\"+\" \"+str)\n"
   ]
  },
  {
   "cell_type": "code",
   "execution_count": 27,
   "metadata": {},
   "outputs": [
    {
     "name": "stdout",
     "output_type": "stream",
     "text": [
      "1 , 5\n",
      "2 , 6\n",
      "3 , 7\n"
     ]
    }
   ],
   "source": [
    "i=1\n",
    "j=5\n",
    "while i < 4:\n",
    "    while j <8:\n",
    "        print(i,\",\",j)\n",
    "        j=j+1\n",
    "        i=i+1\n",
    "        \n",
    "    "
   ]
  },
  {
   "cell_type": "code",
   "execution_count": 62,
   "metadata": {},
   "outputs": [
    {
     "name": "stdout",
     "output_type": "stream",
     "text": [
      " \n",
      "1  \n",
      "2 2  \n",
      "3 3 3  \n",
      "4 4 4 4  \n",
      "5 5 5 5 5  \n"
     ]
    }
   ],
   "source": [
    "row=6\n",
    "for num in range(row):\n",
    "    for i in range(num):\n",
    "        print(num,end=\" \")\n",
    "    print(\" \")    "
   ]
  },
  {
   "cell_type": "code",
   "execution_count": 74,
   "metadata": {},
   "outputs": [
    {
     "name": "stdout",
     "output_type": "stream",
     "text": [
      "*  \n",
      "* *  \n",
      "* * *  \n",
      "* * * *  \n",
      "* * * * *  \n"
     ]
    }
   ],
   "source": [
    "row=5\n",
    "for i in range(1,row+1):\n",
    "    for j in range(1, i+1):\n",
    "        print(\"*\",end=' ')\n",
    "    print(\" \")  "
   ]
  },
  {
   "cell_type": "code",
   "execution_count": 92,
   "metadata": {},
   "outputs": [
    {
     "name": "stdout",
     "output_type": "stream",
     "text": [
      "1  \n",
      "2 1  \n",
      "3 2 1  \n",
      "4 3 2 1  \n"
     ]
    }
   ],
   "source": [
    "row=5\n",
    "for i in range(1,row):\n",
    "    for j in range(i,0,-1):\n",
    "        print(j,end=' ')\n",
    "    print(\" \")  "
   ]
  },
  {
   "cell_type": "code",
   "execution_count": 7,
   "metadata": {},
   "outputs": [
    {
     "name": "stdout",
     "output_type": "stream",
     "text": [
      "cat 3\n",
      "words 5\n",
      "mansi 5\n"
     ]
    }
   ],
   "source": []
  },
  {
   "cell_type": "code",
   "execution_count": null,
   "metadata": {},
   "outputs": [],
   "source": []
  }
 ],
 "metadata": {
  "kernelspec": {
   "display_name": "Python 3",
   "language": "python",
   "name": "python3"
  },
  "language_info": {
   "codemirror_mode": {
    "name": "ipython",
    "version": 3
   },
   "file_extension": ".py",
   "mimetype": "text/x-python",
   "name": "python",
   "nbconvert_exporter": "python",
   "pygments_lexer": "ipython3",
   "version": "3.8.5"
  }
 },
 "nbformat": 4,
 "nbformat_minor": 4
}
