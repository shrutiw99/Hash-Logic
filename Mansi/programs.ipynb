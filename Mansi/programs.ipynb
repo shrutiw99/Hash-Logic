{
 "cells": [
  {
   "cell_type": "code",
   "execution_count": 3,
   "metadata": {},
   "outputs": [
    {
     "name": "stdout",
     "output_type": "stream",
     "text": [
      "Enter a number: 6\n",
      "The factorial of 6 is 720\n"
     ]
    }
   ],
   "source": [
    "#factorial\n",
    "num = int(input(\"Enter a number: \"))  \n",
    "factorial = 1  \n",
    "if num < 0:  \n",
    "     print(\"Sorry, factorial does not exist for negative numbers\")  \n",
    "elif num == 0:  \n",
    "   print(\"The factorial of 0 is 1\")  \n",
    "else:  \n",
    "   for i in range(1,num + 1):  \n",
    "       factorial = factorial*i  \n",
    "   print(\"The factorial of\",num,\"is\",factorial)  "
   ]
  },
  {
   "cell_type": "code",
   "execution_count": 29,
   "metadata": {},
   "outputs": [
    {
     "name": "stdout",
     "output_type": "stream",
     "text": [
      "Enter a number: 1\n",
      "1 is not a prime number\n"
     ]
    }
   ],
   "source": [
    "#prime\n",
    "num = int(input(\"Enter a number: \"))  \n",
    "  \n",
    "if num > 1:  \n",
    "   for i in range(2,num):  \n",
    "       if (num % i) == 0:  \n",
    "           print(num,\"is not a prime number\")  \n",
    "           print(i,\"times\",num//i,\"is\",num)  \n",
    "           break  \n",
    "   else:  \n",
    "       print(num,\"is a prime number\")  \n",
    "         \n",
    "else:  \n",
    "   print(num,\"is not a prime number\")  "
   ]
  },
  {
   "cell_type": "code",
   "execution_count": 3,
   "metadata": {},
   "outputs": [
    {
     "name": "stdout",
     "output_type": "stream",
     "text": [
      "enter a number7\n",
      "7 is prime\n"
     ]
    }
   ],
   "source": [
    "#prime\n",
    "num=int(input(\"enter a number\"))\n",
    "if num>1:\n",
    "    for i in range(2,num):\n",
    "        if(num%i)==0:\n",
    "            print(num,\"is not prime\")\n",
    "            print(i,\"*\",num//i,\"is\",num)\n",
    "            break\n",
    "    else:\n",
    "        print(num,\"is prime\")\n",
    "else:\n",
    "        print(num,\"is not prime\")\n",
    "        "
   ]
  },
  {
   "cell_type": "code",
   "execution_count": 6,
   "metadata": {},
   "outputs": [
    {
     "name": "stdout",
     "output_type": "stream",
     "text": [
      "Enter a year: 2014\n",
      "2014 is not a leap year\n"
     ]
    }
   ],
   "source": [
    "#leap year\n",
    "year = int(input(\"Enter a year: \"))  \n",
    "if (year % 4) == 0:  \n",
    "   if (year % 100) == 0:  \n",
    "       if (year % 400) == 0:  \n",
    "           print(\"{0} is a leap year\".format(year))  \n",
    "       else:  \n",
    "           print(\"{0} is not a leap year\".format(year))  \n",
    "   else:  \n",
    "       print(\"{0} is a leap year\".format(year))  \n",
    "else:  \n",
    "   print(\"{0} is not a leap year\".format(year))  "
   ]
  },
  {
   "cell_type": "code",
   "execution_count": 12,
   "metadata": {},
   "outputs": [
    {
     "name": "stdout",
     "output_type": "stream",
     "text": [
      "Enter a number: 123\n",
      "123 is not an Armstrong number\n"
     ]
    }
   ],
   "source": [
    "#armstrong\n",
    "num = int(input(\"Enter a number: \"))  \n",
    "sum = 0  \n",
    "a = num  \n",
    "  \n",
    "while a > 0:  \n",
    "   digit = a % 10  \n",
    "   sum += digit ** 3  \n",
    "   a //= 10  \n",
    "  \n",
    "if num == sum:  \n",
    "   print(num,\"is an Armstrong number\")  \n",
    "else:  \n",
    "   print(num,\"is not an Armstrong number\")  "
   ]
  },
  {
   "cell_type": "code",
   "execution_count": 4,
   "metadata": {},
   "outputs": [
    {
     "name": "stdout",
     "output_type": "stream",
     "text": [
      "0\n",
      "1\n",
      "2\n",
      "3\n",
      "4\n",
      "5\n",
      "6\n",
      "7\n",
      "8\n",
      "9\n",
      "10\n"
     ]
    }
   ],
   "source": [
    "i=0\n",
    "while i<=10:\n",
    "    print(i)\n",
    "    i+=1\n"
   ]
  },
  {
   "cell_type": "code",
   "execution_count": 5,
   "metadata": {},
   "outputs": [
    {
     "name": "stdout",
     "output_type": "stream",
     "text": [
      "enter 1st number5\n",
      "enter 2nd number7\n",
      "not square\n"
     ]
    }
   ],
   "source": [
    "#square\n",
    "a=int(input(\"enter 1st number\"))\n",
    "b=int(input(\"enter 2nd number\"))\n",
    "if a==b:\n",
    "    print(\"it is square\")\n",
    "else:\n",
    " print(\"not square\")"
   ]
  },
  {
   "cell_type": "code",
   "execution_count": 6,
   "metadata": {},
   "outputs": [
    {
     "name": "stdout",
     "output_type": "stream",
     "text": [
      "enter number6\n",
      "enter number9\n",
      "b is greater\n"
     ]
    }
   ],
   "source": [
    "a=int(input(\"enter number\"))\n",
    "b=int(input(\"enter number\"))\n",
    "if a<b:\n",
    "    print(\"b is greater\")\n",
    "elif b<a:\n",
    "    print(\"a is greater\")"
   ]
  },
  {
   "cell_type": "code",
   "execution_count": 8,
   "metadata": {},
   "outputs": [
    {
     "name": "stdout",
     "output_type": "stream",
     "text": [
      "enter quantity2000\n",
      "u have discount of 10%\n",
      "180000.0\n"
     ]
    }
   ],
   "source": [
    "#discount\n",
    "q=int(input(\"enter quantity\"))\n",
    "if q>1000:\n",
    "    print(\"u have discount of 10%\")\n",
    "    print((q*100)-(.1*q*100))\n",
    "else:\n",
    "    print(\"cost is\",q*100)\n"
   ]
  },
  {
   "cell_type": "code",
   "execution_count": 9,
   "metadata": {},
   "outputs": [
    {
     "name": "stdout",
     "output_type": "stream",
     "text": [
      "enter salary5000\n",
      "enter year6\n",
      "u got bonus of 5%\n",
      "your bonus is 5250.0\n"
     ]
    }
   ],
   "source": [
    "#bonus\n",
    "sal=int(input(\"enter salary\"))\n",
    "year=int(input(\"enter year\"))\n",
    "if year>5:\n",
    "    print (\"u got bonus of 5%\")\n",
    "    print (\"your bonus is\",sal*105/100)\n",
    "    "
   ]
  },
  {
   "cell_type": "code",
   "execution_count": 10,
   "metadata": {},
   "outputs": [
    {
     "name": "stdout",
     "output_type": "stream",
     "text": [
      "enter marks78\n",
      "your grade is B\n"
     ]
    }
   ],
   "source": [
    "#studentgrade\n",
    "marks=int(input(\"enter marks\"))\n",
    "if marks<25:\n",
    "    print(\"fail!!!!\")\n",
    "elif marks>=25 and marks<=45:\n",
    "    print(\"your grade is E\")\n",
    "elif marks>45 and marks<=50:\n",
    "    print(\"your grade is D\") \n",
    "elif marks>50 and marks<=60:\n",
    "    print(\"your grade is C\")\n",
    "elif marks>60 and marks<=80:\n",
    "    print(\"your grade is B\")\n",
    "elif marks>80:\n",
    "    print(\"your grade is A\")  "
   ]
  },
  {
   "cell_type": "code",
   "execution_count": 11,
   "metadata": {},
   "outputs": [
    {
     "name": "stdout",
     "output_type": "stream",
     "text": [
      "enter age of first person5\n",
      "enter age of second person7\n",
      "enter age of third person8\n",
      "first is younger\n",
      "third person is oldest\n"
     ]
    }
   ],
   "source": [
    "#younger and oldest among three persons\n",
    "a=int(input(\"enter age of first person\"))\n",
    "b=int(input(\"enter age of second person\"))\n",
    "c=int(input(\"enter age of third person\"))\n",
    "\n",
    "if a>=b and a>=c:\n",
    "    print(\"first person is oldest\")\n",
    "elif a<b and a<c:\n",
    "    print(\"first is younger\")\n",
    "if b>=a and b>=c:\n",
    "    print(\"second person is oldest\")  \n",
    "elif b<a and b<c:\n",
    "    print(\"second is younger\")    \n",
    "if c>=b and c>=a:\n",
    "    print(\"third person is oldest\")  \n",
    "elif c<b and c<a:\n",
    "    print(\"first is younger\") \n"
   ]
  },
  {
   "cell_type": "code",
   "execution_count": null,
   "metadata": {},
   "outputs": [],
   "source": []
  },
  {
   "cell_type": "code",
   "execution_count": null,
   "metadata": {},
   "outputs": [],
   "source": [
    "held_lec=int(input(\"enter held lectures\"))\n",
    "attend_lec=int(input(\"enter attend lectures\"))\n",
    "atten=(attend_lec/held_lec*100)\n",
    "print(\"your attendence\",atten)\n",
    "if atten>=75:\n",
    "     print(\"allowed\")\n",
    "else:\n",
    "    print(\" not allowed\")"
   ]
  },
  {
   "cell_type": "code",
   "execution_count": null,
   "metadata": {},
   "outputs": [],
   "source": [
    "held_lec=int(input(\"enter held lectures\"))\n",
    "attend_lec=int(input(\"enter attend lectures\"))\n",
    "atten=(attend_lec/held_lec*100)\n",
    "print(\"your attendence\",atten)\n",
    "\n",
    "print (\"Medical cause? Y or N\")\n",
    "medical_cause =(input(\" Y or N: \"))\n",
    "if medical_cause == 'Y':\n",
    "  print (\"You are allowed\")\n",
    "else:\n",
    "  if atten>=75:\n",
    "    print (\"Allowed\")\n",
    "  else:\n",
    "    print (\"Not allowed\")"
   ]
  },
  {
   "cell_type": "code",
   "execution_count": 2,
   "metadata": {},
   "outputs": [
    {
     "name": "stdout",
     "output_type": "stream",
     "text": [
      "enter number121\n",
      "number is palindrome\n"
     ]
    }
   ],
   "source": [
    "#palindrome\n",
    "a=int(input(\"enter number\")) \n",
    "b=a \n",
    "count=0 \n",
    "while(a>0): \n",
    "    dig=a%10 \n",
    "    count=count*10+dig \n",
    "    a=a//10 \n",
    "if(b==count): \n",
    "        print(\"number is palindrome\") \n",
    "else: \n",
    "        print(\"number is not palindrome\")"
   ]
  },
  {
   "cell_type": "code",
   "execution_count": 4,
   "metadata": {},
   "outputs": [
    {
     "name": "stdout",
     "output_type": "stream",
     "text": [
      "enter number5\n",
      "5\n",
      "10\n",
      "15\n",
      "20\n",
      "25\n",
      "30\n",
      "35\n",
      "40\n",
      "45\n",
      "50\n"
     ]
    }
   ],
   "source": [
    "#table -for\n",
    "b=int(input(\"enter number\"))\n",
    "for i in range(1,11):\n",
    "    print(b*i)"
   ]
  },
  {
   "cell_type": "code",
   "execution_count": 5,
   "metadata": {},
   "outputs": [
    {
     "name": "stdout",
     "output_type": "stream",
     "text": [
      "1\n",
      "3\n",
      "5\n",
      "7\n",
      "9\n"
     ]
    }
   ],
   "source": [
    "for x in range(10):\n",
    "    if x % 2 == 0:\n",
    "        continue\n",
    "    print(x)"
   ]
  },
  {
   "cell_type": "code",
   "execution_count": 6,
   "metadata": {},
   "outputs": [
    {
     "name": "stdout",
     "output_type": "stream",
     "text": [
      "1  \n",
      "1 2  \n",
      "1 2 3  \n",
      "1 2 3 4  \n",
      "1 2 3 4 5  \n"
     ]
    }
   ],
   "source": [
    "row=5\n",
    "for i in range(1,row+1):\n",
    "    for j in range(1, i+1):\n",
    "        print(j,end=' ')\n",
    "    print(\" \")  \n"
   ]
  },
  {
   "cell_type": "code",
   "execution_count": 8,
   "metadata": {},
   "outputs": [
    {
     "name": "stdout",
     "output_type": "stream",
     "text": [
      "enter number1\n",
      "1\n"
     ]
    }
   ],
   "source": [
    "num=int(input(\"enter number\"))\n",
    "ans=1\n",
    "while num>1:\n",
    "    ans=ans+num\n",
    "    num=num-1\n",
    "print(ans)\n"
   ]
  },
  {
   "cell_type": "code",
   "execution_count": 9,
   "metadata": {},
   "outputs": [
    {
     "name": "stdout",
     "output_type": "stream",
     "text": [
      "15\n",
      "55\n",
      "75\n",
      "150\n"
     ]
    }
   ],
   "source": [
    "list=[12,15,32,42,55,75,122,132,150,180,200]\n",
    "for item in list:\n",
    "    if(item > 150):\n",
    "        break\n",
    "    if(item%5==0): \n",
    "        print(item)\n"
   ]
  },
  {
   "cell_type": "code",
   "execution_count": 10,
   "metadata": {},
   "outputs": [
    {
     "name": "stdout",
     "output_type": "stream",
     "text": [
      "total number 5\n"
     ]
    }
   ],
   "source": [
    "num=75896\n",
    "count=0\n",
    "while num!=0:\n",
    "    num//=10\n",
    "    count+= 1\n",
    "print(\"total number\",count)\n"
   ]
  },
  {
   "cell_type": "code",
   "execution_count": 11,
   "metadata": {},
   "outputs": [
    {
     "name": "stdout",
     "output_type": "stream",
     "text": [
      "5 4 3 2 1  \n",
      "4 3 2 1  \n",
      "3 2 1  \n",
      "2 1  \n",
      "1  \n"
     ]
    }
   ],
   "source": [
    "row=5\n",
    "for i in range(5,0,-1):\n",
    "    for j in range(i,0,-1):\n",
    "        print(j,end=' ')\n",
    "    print(\" \")\n"
   ]
  },
  {
   "cell_type": "code",
   "execution_count": null,
   "metadata": {},
   "outputs": [],
   "source": [
    "\n",
    "\n",
    "  \n",
    "\n"
   ]
  },
  {
   "cell_type": "code",
   "execution_count": null,
   "metadata": {},
   "outputs": [],
   "source": []
  }
 ],
 "metadata": {
  "kernelspec": {
   "display_name": "Python 3",
   "language": "python",
   "name": "python3"
  },
  "language_info": {
   "codemirror_mode": {
    "name": "ipython",
    "version": 3
   },
   "file_extension": ".py",
   "mimetype": "text/x-python",
   "name": "python",
   "nbconvert_exporter": "python",
   "pygments_lexer": "ipython3",
   "version": "3.8.5"
  }
 },
 "nbformat": 4,
 "nbformat_minor": 4
}
