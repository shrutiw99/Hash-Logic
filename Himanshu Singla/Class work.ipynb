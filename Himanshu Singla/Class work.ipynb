{
 "cells": [
  {
   "cell_type": "code",
   "execution_count": 1,
   "metadata": {},
   "outputs": [
    {
     "name": "stdout",
     "output_type": "stream",
     "text": [
      "this is \\\\ double backslash\n"
     ]
    }
   ],
   "source": [
    "# this is double \\\\ double backslash\n",
    "print(\"this is \\\\\\\\ double backslash\")"
   ]
  },
  {
   "cell_type": "code",
   "execution_count": 2,
   "metadata": {},
   "outputs": [
    {
     "name": "stdout",
     "output_type": "stream",
     "text": [
      "these are /\\/\\/\\/\\/\\ mountains\n"
     ]
    }
   ],
   "source": [
    "# these are /\\/\\/\\/\\/\\ mountains\n",
    "print('these are /\\\\/\\\\/\\\\/\\\\/\\\\ mountains')"
   ]
  },
  {
   "cell_type": "code",
   "execution_count": 3,
   "metadata": {},
   "outputs": [
    {
     "name": "stdout",
     "output_type": "stream",
     "text": [
      "he is \t\tawesome\n"
     ]
    }
   ],
   "source": [
    "# he is       awesome\n",
    "print('he is \\t\\tawesome')"
   ]
  },
  {
   "cell_type": "code",
   "execution_count": 4,
   "metadata": {},
   "outputs": [
    {
     "name": "stdout",
     "output_type": "stream",
     "text": [
      "\\\"\\n\\t\\'\n"
     ]
    }
   ],
   "source": [
    "# \\\"\\n\\t\\' (print this output)\n",
    "print(\"\\\\\\\"\\\\n\\\\t\\\\\\'\")"
   ]
  },
  {
   "cell_type": "code",
   "execution_count": 1,
   "metadata": {},
   "outputs": [
    {
     "name": "stdout",
     "output_type": "stream",
     "text": [
      "enter value of three numbers6,9,12\n",
      "avg of three number is 9\n"
     ]
    }
   ],
   "source": [
    "#ask user to input 3 numbers and you have to print avg of three numbers using string formating\n",
    "a1,a2,a3=input(\"enter value of three numbers\").split(\",\")\n",
    "print(f\"avg of three number is {(int(a1)+int(a2)+int(a3))//3}\")\n"
   ]
  },
  {
   "cell_type": "code",
   "execution_count": 4,
   "metadata": {},
   "outputs": [
    {
     "name": "stdout",
     "output_type": "stream",
     "text": [
      "enter user name himanshu\n",
      "uhsnamih\n"
     ]
    }
   ],
   "source": [
    "# ask user name and print back user name in reverse order.\n",
    "user_name=input(\"enter user name \")\n",
    "print(user_name[::-1])"
   ]
  },
  {
   "cell_type": "code",
   "execution_count": 12,
   "metadata": {},
   "outputs": [
    {
     "name": "stdout",
     "output_type": "stream",
     "text": [
      "enter the name and char himanshu,h\n",
      "8 1\n"
     ]
    }
   ],
   "source": [
    "#practice\n",
    "name,char=input(\"enter the name and char \").split(\",\")\n",
    "print(len(name), len(char))"
   ]
  },
  {
   "cell_type": "markdown",
   "metadata": {},
   "source": [
    "#practice\n",
    "array=(\"himanshu\")\n",
    "print(array[0:8:3])\n",
    "print(array[1], array[2])"
   ]
  },
  {
   "cell_type": "code",
   "execution_count": 1,
   "metadata": {},
   "outputs": [
    {
     "name": "stdout",
     "output_type": "stream",
     "text": [
      "enter value of a1 4\n",
      "enter value of a2 4\n",
      "enter value of a3 5\n",
      "a3 is greater\n"
     ]
    }
   ],
   "source": [
    "# greater of three numbers\n",
    "a1=int(input(\"enter value of a1 \"))\n",
    "a2=int(input(\"enter value of a2 \"))\n",
    "a3=int(input(\"enter value of a3 \"))\n",
    "if a1>a2 and a1>a3:\n",
    " print(\"a1 is greater\")\n",
    "elif a2>a1 and a2>a3:\n",
    " print(\"a2 is greater\")\n",
    "elif a1==a2 and a2==a3:\n",
    "    print(\"all numbers are equal\")\n",
    "elif a1==a2 and a3<a1:\n",
    "    print(\"a1 and a2 are equal and are greater than a3\")\n",
    "elif a1==a3 and a2<a1:\n",
    "    print(\"a1 and a3 are equal and are greater than a2\")\n",
    "elif a2==a3 and a1<a2:\n",
    "    print(\"a2 and a3 are equal and are gretarer than a1\")\n",
    "else:\n",
    " print(\"a3 is greater\")"
   ]
  },
  {
   "cell_type": "code",
   "execution_count": 1,
   "metadata": {},
   "outputs": [
    {
     "name": "stdout",
     "output_type": "stream",
     "text": [
      "enter the letter a\n",
      "alphabet is a vowel \n"
     ]
    }
   ],
   "source": [
    "#to check input aplhabet is vowel or consonent\n",
    "alphabet= input(\"enter the letter \")\n",
    "if alphabet== \"a\" or alphabet==\"e\" or alphabet==\"i\" or alphabet==\"o\" or alphabet==\"u\" or alphabet== \"A\" or alphabet==\"E\" or alphabet==\"I\" or alphabet==\"O\" or alphabet==\"U\": \n",
    "    print(\"alphabet is a vowel \")\n",
    "    \n",
    "elif ((alphabet>='a' and alphabet<= 'z') or (alphabet>='A' and alphabet<='Z')):\n",
    "    print(\"alphabet is consonent\")\n",
    "\n",
    "else:\n",
    "    print(\"incorrect value\")\n",
    "    "
   ]
  },
  {
   "cell_type": "code",
   "execution_count": 2,
   "metadata": {},
   "outputs": [
    {
     "name": "stdout",
     "output_type": "stream",
     "text": [
      "enter the value 55\n",
      "you won the game\n"
     ]
    }
   ],
   "source": [
    "#number guessing game\n",
    "correct_value = 55\n",
    "guessing_value=int(input(\"enter the value \"))\n",
    "if guessing_value<correct_value:\n",
    "    second_chance=int(input(\"value is less then correct ans, enter value again \"))\n",
    "    if second_chance<correct_value:\n",
    "        third_chance=int(input(\"value is less then correct ans, enter value again\"))\n",
    "        if third_chance<correct_value:\n",
    "            print(\"value does not match, you loose the game:\")\n",
    "        elif third_chance==correct_value:\n",
    "            print(\"you won the game\")\n",
    "        else:\n",
    "            print(\"value does not match, you loose the game\")\n",
    "    else:\n",
    "        if second_chance>correct_value:\n",
    "            third_chance=int(input(\"value is greater then correct ans, enter value again \"))\n",
    "            if third_chance>correct_value:\n",
    "                print(\"value does not match, you loose the game\")\n",
    "            \n",
    "            elif third_chance==correct_value:\n",
    "                print(\"you won the game\")\n",
    "            else:\n",
    "                print(\"value does not match, you loose the game\")\n",
    "elif guessing_value==correct_value:\n",
    "    print(\"you won the game\")\n",
    "else:\n",
    "     if guessing_value>correct_value:\n",
    "        second_chance=int(input(\"value is greater then correct ans, enter value again \"))\n",
    "        if second_chance<correct_value:\n",
    "            third_chance=int(input(\"value is less then correct ans, enter value again\"))\n",
    "            if third_chance<correct_value:\n",
    "                print(\"value does not match, you loose the game\")\n",
    "            elif third_chance==correct_value:\n",
    "                print(\"you won the game\")\n",
    "            else:\n",
    "                print(\"value does not match, you loose the game\")\n",
    "        \n",
    "        else:\n",
    "            if second_chance>correct_value:\n",
    "                third_chance=int(input(\"value is greater then correct ans, enter value again \"))\n",
    "                if third_chance<correct_value:\n",
    "                    print(\"value does not match, you loose the game\")\n",
    "                elif  third_chance==correct_value:\n",
    "                    print(\"you won the game\")\n",
    "                else:\n",
    "                    print(\"value does not match, you loose the game\")\n",
    "    "
   ]
  },
  {
   "cell_type": "code",
   "execution_count": 5,
   "metadata": {},
   "outputs": [
    {
     "name": "stdout",
     "output_type": "stream",
     "text": [
      "enetr value: j\n",
      "ascii code for j is: 106\n"
     ]
    }
   ],
   "source": [
    "#find the ASCII value of character, ask for input by user\n",
    "character=input(\"enetr value: \")\n",
    "ascii_code=ord(character)\n",
    "print(\"ascii code for \" + str(character)+ \" is: \" + str(ascii_code))\n"
   ]
  },
  {
   "cell_type": "code",
   "execution_count": 1,
   "metadata": {},
   "outputs": [
    {
     "name": "stdout",
     "output_type": "stream",
     "text": [
      "enter value of x :5\n",
      "enter value of y :7\n",
      "value of x, y before swapping is: 5 and 7 ,and after swapping value of x and y is: 7 and 5\n"
     ]
    }
   ],
   "source": [
    "#swapping two numbers\n",
    "x=int(input(\"enter value of x :\"))\n",
    "y=int(input(\"enter value of y :\"))\n",
    "print(\"value of x, y before swapping is: \" + str(x )+\" and \"+ str(y) + \" ,and after swapping value of x and y is: \" + str( y)+\" and \" +str(x))"
   ]
  },
  {
   "cell_type": "code",
   "execution_count": 2,
   "metadata": {},
   "outputs": [
    {
     "name": "stdout",
     "output_type": "stream",
     "text": [
      "enter the number45\n",
      "sum is:  9\n"
     ]
    }
   ],
   "source": [
    "#program to add dgits of a number\n",
    "n=int(input(\"enter the number\"))\n",
    "sum=0 #when no number is given by user sum is zero\n",
    "while n>0: #loop will stop whenn=0 i.e all digits of number are added\n",
    "    digit=n%10 # to get the digit at once place of a number\n",
    "    sum=sum+digit # to start adding digits of the number\n",
    "    n=n//10 # to get new number after once digit is removed \n",
    "print(\"sum is: \", sum) #this will execute when loop is completed"
   ]
  },
  {
   "cell_type": "code",
   "execution_count": 3,
   "metadata": {},
   "outputs": [
    {
     "name": "stdout",
     "output_type": "stream",
     "text": [
      "enter number525\n",
      "yes palindrome\n"
     ]
    }
   ],
   "source": [
    "#palindrome\n",
    "a=int(input(\"enter number\"))\n",
    "b=a\n",
    "count=0\n",
    "while a>0:\n",
    "    digit=a%10\n",
    "    count=count*10+digit\n",
    "    a=a//10\n",
    "if b==count:\n",
    "    print(\"yes palindrome\")\n",
    "else:\n",
    "    print(\"not palindrome\")"
   ]
  },
  {
   "cell_type": "code",
   "execution_count": 12,
   "metadata": {},
   "outputs": [
    {
     "name": "stdout",
     "output_type": "stream",
     "text": [
      "enter value*\n",
      "*\n",
      "**\n",
      "***\n",
      "****\n",
      "*****\n",
      "******\n",
      "*******\n",
      "********\n",
      "*********\n"
     ]
    }
   ],
   "source": [
    "#pattern\n",
    "value=input(\"enter value\")\n",
    "for i in range(1,10):\n",
    "    print(value*i)"
   ]
  },
  {
   "cell_type": "code",
   "execution_count": 8,
   "metadata": {},
   "outputs": [
    {
     "name": "stdout",
     "output_type": "stream",
     "text": [
      "enter value5\n",
      "1\n",
      "12\n",
      "123\n",
      "1234\n",
      "12345\n"
     ]
    }
   ],
   "source": [
    "value=int(input(\"enter value\"))\n",
    "for i in range(1,value+1):\n",
    "    for j in range(1,i+1):\n",
    "        print(j,end=\"\")\n",
    "    print()\n",
    "    \n",
    "    "
   ]
  },
  {
   "cell_type": "code",
   "execution_count": 2,
   "metadata": {},
   "outputs": [
    {
     "name": "stdout",
     "output_type": "stream",
     "text": [
      "enter value4\n",
      "11\n",
      "222\n",
      "3333\n",
      "44444\n"
     ]
    }
   ],
   "source": [
    "value=int(input(\"enter value\"))\n",
    "for i in range(1,value+1):\n",
    "    for j in range(1,i+1):\n",
    "        print(i,end=\"\")\n",
    "    print(i)"
   ]
  },
  {
   "cell_type": "code",
   "execution_count": 7,
   "metadata": {},
   "outputs": [
    {
     "name": "stdout",
     "output_type": "stream",
     "text": [
      "enter number5\n",
      "factorial of: 5 is 120\n"
     ]
    }
   ],
   "source": [
    "#print factorial of a number\n",
    "a=int(input(\"enter number\"))\n",
    "\n",
    "result=1\n",
    "for i in range(a,0,-1):\n",
    "        result=result*i\n",
    "print(\"factorial of:\", a,\"is\", result)"
   ]
  },
  {
   "cell_type": "code",
   "execution_count": null,
   "metadata": {},
   "outputs": [],
   "source": [
    "a=int(input(\"enter number\"))\n",
    "\n",
    "if:"
   ]
  },
  {
   "cell_type": "code",
   "execution_count": 20,
   "metadata": {},
   "outputs": [
    {
     "name": "stdout",
     "output_type": "stream",
     "text": [
      "enter value6\n",
      "6  is not a prime number\n"
     ]
    }
   ],
   "source": [
    "num=int(input(\"enter value\"))\n",
    "if num>1:\n",
    "    for i in range(2,int(num//2)+1):\n",
    "        if (num%i)==0:\n",
    "            print(num,\" is not a prime number\")\n",
    "            break\n",
    "    else:\n",
    "            print(num,\" is a prime number\")\n",
    "else:\n",
    "    print(num,\"is not a prime number\")\n",
    "            \n",
    "    "
   ]
  },
  {
   "cell_type": "code",
   "execution_count": 24,
   "metadata": {},
   "outputs": [
    {
     "name": "stdout",
     "output_type": "stream",
     "text": [
      "enter value1\n",
      "1 unique number\n"
     ]
    }
   ],
   "source": [
    "num=int(input(\"enter value\"))\n",
    "flag=False\n",
    "if num>1:\n",
    "    for i in range(2,num):\n",
    "        if num%i==0:\n",
    "            flag=True\n",
    "            break\n",
    "if flag:\n",
    "    print(num,\"not a prime\")\n",
    "elif num==1:\n",
    "    print(num,\"unique number\")\n",
    "else:\n",
    "    print(num,\" prime\")\n",
    "\n",
    "    \n"
   ]
  },
  {
   "cell_type": "code",
   "execution_count": 1,
   "metadata": {},
   "outputs": [
    {
     "name": "stdout",
     "output_type": "stream",
     "text": [
      "0\n",
      "1\n",
      "2\n",
      "3\n",
      "4\n",
      "5\n",
      "6\n",
      "7\n",
      "8\n",
      "9\n",
      "10\n"
     ]
    }
   ],
   "source": [
    "i=0\n",
    "while i<=10:\n",
    "    print(i)\n",
    "    i+=1"
   ]
  },
  {
   "cell_type": "code",
   "execution_count": 2,
   "metadata": {},
   "outputs": [
    {
     "name": "stdout",
     "output_type": "stream",
     "text": [
      "enter value5\n",
      "1\n",
      "12\n",
      "123\n",
      "1234\n",
      "12345\n"
     ]
    }
   ],
   "source": [
    "value=int(input(\"enter value\"))\n",
    "for i in range(1,value+1):\n",
    "    for j in range(1,i+1):\n",
    "        print(j,end=\"\")\n",
    "    print()\n",
    "    "
   ]
  },
  {
   "cell_type": "code",
   "execution_count": 5,
   "metadata": {},
   "outputs": [
    {
     "name": "stdout",
     "output_type": "stream",
     "text": [
      "enter nmber5\n",
      "15\n"
     ]
    }
   ],
   "source": [
    "num=int(input(\"enter nmber\"))\n",
    "sum=0\n",
    "for i in range(1,num+1):\n",
    "    sum=sum+i\n",
    "print(sum)"
   ]
  },
  {
   "cell_type": "code",
   "execution_count": 10,
   "metadata": {},
   "outputs": [
    {
     "name": "stdout",
     "output_type": "stream",
     "text": [
      "15\n",
      "55\n",
      "75\n"
     ]
    }
   ],
   "source": [
    "list=[12,15,32,42,55,75,122,132,1150,180,200]\n",
    "for item in list:\n",
    "    if item>150:\n",
    "        break\n",
    "    if item%5==0:\n",
    "        print(item)\n",
    "    \n"
   ]
  },
  {
   "cell_type": "code",
   "execution_count": 1,
   "metadata": {},
   "outputs": [
    {
     "name": "stdout",
     "output_type": "stream",
     "text": [
      "enter number465\n",
      "3\n"
     ]
    }
   ],
   "source": [
    "num=int(input(\"enter number\"))\n",
    "count=0\n",
    "while num !=0:\n",
    "    num=num//10\n",
    "    count+=1\n",
    "print(count)"
   ]
  },
  {
   "cell_type": "code",
   "execution_count": 14,
   "metadata": {},
   "outputs": [],
   "source": [
    "#pynative"
   ]
  },
  {
   "cell_type": "code",
   "execution_count": 25,
   "metadata": {},
   "outputs": [
    {
     "name": "stdout",
     "output_type": "stream",
     "text": [
      "enter value4\n",
      "4321\n",
      "321\n",
      "21\n",
      "1\n"
     ]
    }
   ],
   "source": [
    "num=int(input(\"enter value\"))\n",
    "for i in range(num,0,-1):\n",
    "    for j in range(i,0,-1):\n",
    "        print(j,end=\"\")\n",
    "    print()"
   ]
  },
  {
   "cell_type": "code",
   "execution_count": null,
   "metadata": {},
   "outputs": [],
   "source": []
  }
 ],
 "metadata": {
  "kernelspec": {
   "display_name": "Python 3",
   "language": "python",
   "name": "python3"
  },
  "language_info": {
   "codemirror_mode": {
    "name": "ipython",
    "version": 3
   },
   "file_extension": ".py",
   "mimetype": "text/x-python",
   "name": "python",
   "nbconvert_exporter": "python",
   "pygments_lexer": "ipython3",
   "version": "3.7.6"
  }
 },
 "nbformat": 4,
 "nbformat_minor": 4
}
