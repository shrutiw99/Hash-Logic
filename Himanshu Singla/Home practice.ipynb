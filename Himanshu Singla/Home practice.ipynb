{
 "cells": [
  {
   "cell_type": "code",
   "execution_count": 1,
   "metadata": {},
   "outputs": [
    {
     "name": "stdout",
     "output_type": "stream",
     "text": [
      "hello world\n"
     ]
    }
   ],
   "source": [
    "print (\"hello world\")"
   ]
  },
  {
   "cell_type": "code",
   "execution_count": 9,
   "metadata": {},
   "outputs": [
    {
     "name": "stdout",
     "output_type": "stream",
     "text": [
      "-3\n",
      "0.4\n",
      "7\n"
     ]
    }
   ],
   "source": [
    "a=2\n",
    "b=5\n",
    "x=a+b\n",
    "y=a-b\n",
    "z=a*b\n",
    "w=a/b\n",
    "print(y)\n",
    "print(w)\n",
    "print(x)\n",
    "\n"
   ]
  },
  {
   "cell_type": "code",
   "execution_count": 13,
   "metadata": {},
   "outputs": [
    {
     "name": "stdout",
     "output_type": "stream",
     "text": [
      "enter value of a4\n",
      "enter value of b6\n",
      "10\n"
     ]
    }
   ],
   "source": [
    "a=int(input(\"enter value of a\"))\n",
    "b=int(input(\"enter value of b\"))\n",
    "x=a+b\n",
    "\n",
    "print(x)"
   ]
  },
  {
   "cell_type": "code",
   "execution_count": 18,
   "metadata": {},
   "outputs": [
    {
     "name": "stdout",
     "output_type": "stream",
     "text": [
      "shruti\"wadhwa\"\n"
     ]
    }
   ],
   "source": [
    "print('shruti\"wadhwa\"')"
   ]
  },
  {
   "cell_type": "code",
   "execution_count": 4,
   "metadata": {},
   "outputs": [
    {
     "name": "stdout",
     "output_type": "stream",
     "text": [
      "this is \\\\\n"
     ]
    }
   ],
   "source": [
    "print(\"this is \\\\\\\\\")"
   ]
  },
  {
   "cell_type": "code",
   "execution_count": null,
   "metadata": {},
   "outputs": [],
   "source": [
    "a1= 'himanshu'\n",
    "a2= ' singla'\n",
    "a3= a1 + a2\n",
    "print(a2 + a1)\n",
    "print(a1+\"3\")\n",
    "print( 6* \"a3\\n\")"
   ]
  },
  {
   "cell_type": "code",
   "execution_count": 15,
   "metadata": {},
   "outputs": [
    {
     "name": "stdout",
     "output_type": "stream",
     "text": [
      "enter your age25\n",
      "your age is 25\n",
      "enter your namehimanshu\n",
      "your name is himanshu\n"
     ]
    }
   ],
   "source": [
    "age=int(input('enter your age'))\n",
    "print(\"your age is \" + str(age))\n",
    "name=input('enter your name')\n",
    "print('your name is ' + name)"
   ]
  },
  {
   "cell_type": "code",
   "execution_count": 21,
   "metadata": {},
   "outputs": [
    {
     "name": "stdout",
     "output_type": "stream",
     "text": [
      "enter first number5\n",
      "enter second number4\n",
      "sum of two numbers is 9\n"
     ]
    }
   ],
   "source": [
    "a1=int(input(\"enter first number\"))\n",
    "a2=int(input(\"enter second number\"))\n",
    "sum= a1 + a2\n",
    "print(\"sum of two numbers is \" + str(sum))"
   ]
  },
  {
   "cell_type": "code",
   "execution_count": 9,
   "metadata": {},
   "outputs": [
    {
     "name": "stdout",
     "output_type": "stream",
     "text": [
      "enter your name and age himanshu,25\n",
      "himanshu 25\n"
     ]
    }
   ],
   "source": [
    "name,age = input(\"enter your name and age \").split(\",\")\n",
    "print(name,age)"
   ]
  },
  {
   "cell_type": "code",
   "execution_count": 10,
   "metadata": {},
   "outputs": [
    {
     "name": "stdout",
     "output_type": "stream",
     "text": [
      "name:himashu\n",
      "age:25\n",
      "himashu 25\n"
     ]
    }
   ],
   "source": [
    "name,age=input(\"name:\"), input(\"age:\")\n",
    "print(name,age)"
   ]
  },
  {
   "cell_type": "code",
   "execution_count": 11,
   "metadata": {},
   "outputs": [
    {
     "name": "stdout",
     "output_type": "stream",
     "text": [
      "hello himashu your age is25\n"
     ]
    }
   ],
   "source": [
    "print(f\"hello {name} your age is{age}\" )"
   ]
  },
  {
   "cell_type": "code",
   "execution_count": 19,
   "metadata": {},
   "outputs": [
    {
     "name": "stdout",
     "output_type": "stream",
     "text": [
      "enter your name and age :himanshu,25\n",
      "your name and age is('himanshu', '25')\n"
     ]
    }
   ],
   "source": [
    "name,age=input(\"enter your name and age :\").split(\",\")\n",
    "print(f\"your name and age is{name,age}\")"
   ]
  },
  {
   "cell_type": "code",
   "execution_count": 18,
   "metadata": {},
   "outputs": [
    {
     "name": "stdout",
     "output_type": "stream",
     "text": [
      "enter value of num_1,num_2,num_3 6,9,12\n",
      "avg of numbers is 9\n"
     ]
    }
   ],
   "source": [
    "num_1,num_2,num_3=input(\"enter value of num_1,num_2,num_3 \").split(\",\")\n",
    "print(f\"avg of numbers is {(int(num_1)+int(num_2)+int(num_3))//3}\")"
   ]
  },
  {
   "cell_type": "code",
   "execution_count": 24,
   "metadata": {},
   "outputs": [
    {
     "name": "stdout",
     "output_type": "stream",
     "text": [
      "enter name and charhimanshu,h\n",
      "charcter count is (1, 1)\n"
     ]
    }
   ],
   "source": [
    "name,char=input(\"enter name and char\").split(\",\")\n",
    "print(f\"charcter count is {name.count(name),char.count(char)}\")"
   ]
  },
  {
   "cell_type": "code",
   "execution_count": 1,
   "metadata": {},
   "outputs": [
    {
     "name": "stdout",
     "output_type": "stream",
     "text": [
      "enter your age: 25\n",
      "you are above 20\n",
      "you are eligible for the game\n"
     ]
    }
   ],
   "source": [
    "age=int(input(\"enter your age: \"))\n",
    "if age >=20:\n",
    "    print(\"you are above 20\")\n",
    "else:\n",
    "    print(\"your age is less then 20\")\n",
    "print(\"you are eligible for the game\")"
   ]
  },
  {
   "cell_type": "code",
   "execution_count": 11,
   "metadata": {},
   "outputs": [
    {
     "name": "stdout",
     "output_type": "stream",
     "text": [
      "uhs\n"
     ]
    }
   ],
   "source": [
    "name=\"himanshu\"\n",
    "print(name[-1:-4:-1])"
   ]
  },
  {
   "cell_type": "code",
   "execution_count": 33,
   "metadata": {},
   "outputs": [
    {
     "name": "stdout",
     "output_type": "stream",
     "text": [
      "enter value of number0\n",
      "number is neither odd nor even\n"
     ]
    }
   ],
   "source": [
    "number=int(input(\"enter value of number\"))\n",
    "if number%2==0:\n",
    "    if number==0:\n",
    "      print(\"number is neither odd nor even\")\n",
    "    else:\n",
    "      print(\"number is even\")\n",
    "else:\n",
    "    print(\"number is odd\")\n"
   ]
  },
  {
   "cell_type": "code",
   "execution_count": 25,
   "metadata": {},
   "outputs": [
    {
     "ename": "SyntaxError",
     "evalue": "invalid syntax (<ipython-input-25-a86fcaef97b2>, line 1)",
     "output_type": "error",
     "traceback": [
      "\u001b[0;36m  File \u001b[0;32m\"<ipython-input-25-a86fcaef97b2>\"\u001b[0;36m, line \u001b[0;32m1\u001b[0m\n\u001b[0;31m    number=int(\"input(enter value of number\"))\u001b[0m\n\u001b[0m                                             ^\u001b[0m\n\u001b[0;31mSyntaxError\u001b[0m\u001b[0;31m:\u001b[0m invalid syntax\n"
     ]
    }
   ],
   "source": [
    "number=int(\"input(enter value of number\"))\n",
    "if number%2==0:\n",
    "    print(\"number is even\")\n",
    "elif number\n"
   ]
  },
  {
   "cell_type": "code",
   "execution_count": 21,
   "metadata": {},
   "outputs": [
    {
     "name": "stdout",
     "output_type": "stream",
     "text": [
      "enter value of a1 2\n",
      "enter value of a2 4\n",
      "enter value of a3 4\n",
      "a2 and a3 are equal and are gretarer than a1\n"
     ]
    }
   ],
   "source": [
    "a1=int(input(\"enter value of a1 \"))\n",
    "a2=int(input(\"enter value of a2 \"))\n",
    "a3=int(input(\"enter value of a3 \"))\n",
    "if a1>a2 and a1>a3:\n",
    " print(\"a1 is greater\")\n",
    "elif a2>a1 and a2>a3:\n",
    " print(\"a2 is greater\")\n",
    "elif a1==a2 and a2==a3:\n",
    "    print(\"all numbers are equal\")\n",
    "elif a1==a2 and a3<a1:\n",
    "    print(\"a1 and a2 are equal and are greater than a3\")\n",
    "elif a1==a3 and a2<a1:\n",
    "    print(\"a1 and a3 are equal and are greater than a2\")\n",
    "elif a2==a3 and a1<a2:\n",
    "    print(\"a2 and a3 are equal and are gretarer than a1\")\n",
    "else:\n",
    " print(\"a3 is greater\")"
   ]
  },
  {
   "cell_type": "code",
   "execution_count": 37,
   "metadata": {},
   "outputs": [
    {
     "name": "stdout",
     "output_type": "stream",
     "text": [
      "enter the letter 5\n",
      "incorrect value\n"
     ]
    }
   ],
   "source": [
    "alphabet= input(\"enter the letter \")\n",
    "if alphabet== \"a\" or alphabet==\"e\" or alphabet==\"i\" or alphabet==\"o\" or alphabet==\"u\" or alphabet== \"A\" or alphabet==\"E\" or alphabet==\"I\" or alphabet==\"O\" or alphabet==\"U\": \n",
    "    print(\"alphabet is a vowel \")\n",
    "    \n",
    "elif ((alphabet>='a' and alphabet<= 'z') or (alphabet>='A' and alphabet<='Z')):\n",
    "    print(\"alphabet is consonent\")\n",
    "\n",
    "else:\n",
    "    print(\"incorrect value\")"
   ]
  },
  {
   "cell_type": "code",
   "execution_count": 16,
   "metadata": {},
   "outputs": [
    {
     "name": "stdout",
     "output_type": "stream",
     "text": [
      "enter the value 56\n",
      "value is greater then correct ans, enter value again 58\n",
      "value is greater then correct ans, enter value again 55\n",
      "you won the game\n"
     ]
    }
   ],
   "source": [
    "correct_value = 55\n",
    "guessing_value=int(input(\"enter the value \"))\n",
    "if guessing_value<correct_value:\n",
    "    second_chance=int(input(\"value is less then correct ans, enter value again \"))\n",
    "    if second_chance<correct_value:\n",
    "        third_chance=int(input(\"value is less then correct ans, enter value again\"))\n",
    "        if third_chance<correct_value:\n",
    "            print(\"value does not match, you loose the game:\")\n",
    "        elif third_chance==correct_value:\n",
    "            print(\"you won the game\")\n",
    "        else:\n",
    "            print(\"value does not match, you loose the game\")\n",
    "    else:\n",
    "        if second_chance>correct_value:\n",
    "            third_chance=int(input(\"value is greater then correct ans, enter value again \"))\n",
    "            if third_chance>correct_value:\n",
    "                print(\"value does not match, you loose the game\")\n",
    "            \n",
    "            elif third_chance==correct_value:\n",
    "                print(\"you won the game\")\n",
    "            else:\n",
    "                print(\"value does not match, you loose the game\")\n",
    "elif guessing_value==correct_value:\n",
    "    print(\"you won the game\")\n",
    "else:\n",
    "     if guessing_value>correct_value:\n",
    "        second_chance=int(input(\"value is greater then correct ans, enter value again \"))\n",
    "        if second_chance<correct_value:\n",
    "            third_chance=int(input(\"value is less then correct ans, enter value again\"))\n",
    "            if third_chance<correct_value:\n",
    "                print(\"value does not match, you loose the game\")\n",
    "            elif third_chance==correct_value:\n",
    "                print(\"you won the game\")\n",
    "            else:\n",
    "                print(\"value does not match, you loose the game\")\n",
    "        \n",
    "        else:\n",
    "            if second_chance>correct_value:\n",
    "                third_chance=int(input(\"value is greater then correct ans, enter value again \"))\n",
    "                if third_chance<correct_value:\n",
    "                    print(\"value does not match, you loose the game\")\n",
    "                elif  third_chance==correct_value:\n",
    "                    print(\"you won the game\")\n",
    "                else:\n",
    "                    print(\"value does not match, you loose the game\")\n",
    "    \n",
    "            \n",
    "            \n",
    "        \n",
    "    \n",
    "    \n",
    "        \n",
    "    \n",
    "    \n",
    "   \n",
    "        \n",
    "       \n",
    "   \n",
    "    \n",
    "        \n",
    "\n",
    "\n",
    " "
   ]
  },
  {
   "cell_type": "code",
   "execution_count": 1,
   "metadata": {},
   "outputs": [
    {
     "name": "stdout",
     "output_type": "stream",
     "text": [
      "24\n"
     ]
    }
   ],
   "source": [
    "x=23\n",
    "x=x+1\n",
    "print(x)"
   ]
  },
  {
   "cell_type": "code",
   "execution_count": 4,
   "metadata": {},
   "outputs": [
    {
     "name": "stdout",
     "output_type": "stream",
     "text": [
      "enter value in celsius: 9\n",
      "value in fahrenheit is: 48.2\n"
     ]
    }
   ],
   "source": [
    "celsius=int(input(\"enter value in celsius: \"))\n",
    "fahrenheit=9/5*celsius+32\n",
    "print(\"value in fahrenheit is: \" + str(fahrenheit))"
   ]
  },
  {
   "cell_type": "code",
   "execution_count": 15,
   "metadata": {},
   "outputs": [
    {
     "name": "stdout",
     "output_type": "stream",
     "text": [
      "enter number of hours45\n",
      "number of hours gretaer than 405\n",
      "new_salary is: 475\n"
     ]
    }
   ],
   "source": [
    "salary=10\n",
    "time=int(input(\"enter number of hours\"))\n",
    "if time>40:\n",
    "    print(\"new_salary is: \" + str(400+15*int(input(\"number of hours gretaer than 40\"))))\n",
    "else:\n",
    "    print(\"no exta hours recorded, salary is: \" + str(salary*time))"
   ]
  },
  {
   "cell_type": "code",
   "execution_count": 21,
   "metadata": {},
   "outputs": [
    {
     "name": "stdout",
     "output_type": "stream",
     "text": [
      "hello world \n",
      "hello world \n",
      "\n"
     ]
    }
   ],
   "source": [
    "str=\"hello world \\n\"\n",
    "print(str *2)\n"
   ]
  },
  {
   "cell_type": "code",
   "execution_count": 23,
   "metadata": {},
   "outputs": [
    {
     "name": "stdout",
     "output_type": "stream",
     "text": [
      "[]\n",
      "[1, 2, 23]\n"
     ]
    }
   ],
   "source": [
    "my_list=[]\n",
    "print(my_list)\n",
    "my_list=[1,2,23]\n",
    "9print(my_list)"
   ]
  },
  {
   "cell_type": "code",
   "execution_count": 40,
   "metadata": {},
   "outputs": [
    {
     "name": "stdout",
     "output_type": "stream",
     "text": [
      "[1, 2, 3, (555, 123)]\n",
      "[1, 2, 3, (555, 123), 234, 'more']\n",
      "[1, 56, 3, (555, 123), 234, 'more']\n"
     ]
    }
   ],
   "source": [
    "my_list=[1,2,3]\n",
    "my_list.insert([])\n",
    "my_list.append((555,123))\n",
    "print(my_list)\n",
    "my_list.extend([234,'more'])\n",
    "print(my_list)\n",
    "my_list[1]=56\n",
    "print(my_list)\n"
   ]
  },
  {
   "cell_type": "code",
   "execution_count": 38,
   "metadata": {},
   "outputs": [
    {
     "name": "stdout",
     "output_type": "stream",
     "text": [
      "('abcd', 1, 2, 3)\n",
      "abcd\n",
      "(1, 2)\n"
     ]
    }
   ],
   "source": [
    "tuple=('abcd',1,2,3)\n",
    "tiny_tuple=(123,'john')\n",
    "print(tuple)\n",
    "print(tuple[0])\n",
    "print(tuple[1:3])\n"
   ]
  },
  {
   "cell_type": "code",
   "execution_count": 16,
   "metadata": {},
   "outputs": [
    {
     "name": "stdout",
     "output_type": "stream",
     "text": [
      "enter value of x :4\n",
      "enter value of y :5\n",
      "value of x, y before swapping is: 4 and 5 ,and after swapping value of x and y is: 5 and 4\n"
     ]
    }
   ],
   "source": [
    "x=int(input(\"enter value of x :\"))\n",
    "y=int(input(\"enter value of y :\"))\n",
    "print(\"value of x, y before swapping is: \" + str(x )+\" and \"+ str(y) + \" ,and after swapping value of x and y is: \" + str( y)+\" and \" +str(x))\n"
   ]
  },
  {
   "cell_type": "code",
   "execution_count": 4,
   "metadata": {},
   "outputs": [
    {
     "name": "stdout",
     "output_type": "stream",
     "text": [
      "ab 2\n",
      "b dd 4\n",
      "cef 3\n"
     ]
    }
   ],
   "source": [
    "words=['ab','b dd','cef']\n",
    "for x in words:\n",
    "    print(x,len(x))\n",
    "    for x in"
   ]
  },
  {
   "cell_type": "code",
   "execution_count": 25,
   "metadata": {},
   "outputs": [
    {
     "name": "stdout",
     "output_type": "stream",
     "text": [
      "enter three digit number45\n",
      "sum is:  9\n"
     ]
    }
   ],
   "source": [
    "n=int(input(\"enter three digit number\"))\n",
    "sum=0\n",
    "while(n>0):\n",
    "    digit=n%10\n",
    "    sum=sum+digit\n",
    "    n=n//10\n",
    "print(\"sum is: \",sum)\n",
    "\n",
    "\n",
    "          "
   ]
  },
  {
   "cell_type": "code",
   "execution_count": 8,
   "metadata": {},
   "outputs": [
    {
     "name": "stdout",
     "output_type": "stream",
     "text": [
      "Enter a value:121\n",
      "This value is a palindrome number!\n"
     ]
    }
   ],
   "source": [
    "num = int(input(\"Enter a value:\"))  \n",
    "temp = num  \n",
    "rev = 0  \n",
    "while(num > 0):  \n",
    "    dig = num % 10  \n",
    "    rev = rev * 10 + dig  \n",
    "    num = num // 10  \n",
    "if(temp == rev):  \n",
    "    print(\"This value is a palindrome number!\")  \n",
    "else:  \n",
    "    print(\"This value is not a palindrome number!\") "
   ]
  },
  {
   "cell_type": "code",
   "execution_count": 9,
   "metadata": {},
   "outputs": [
    {
     "name": "stdout",
     "output_type": "stream",
     "text": [
      "enter number:454\n",
      "number is palindrome\n"
     ]
    }
   ],
   "source": [
    "a=int(input(\"enter number:\"))\n",
    "b=a\n",
    "count=0\n",
    "while(a>0):\n",
    "    dig=a%10\n",
    "    count=count*10+dig\n",
    "    a=a//10\n",
    "if(b==count):\n",
    "    print(\"number is palindrome\")\n",
    "else:\n",
    "    print(\"number is not palindrome\")\n",
    "    \n",
    "    "
   ]
  },
  {
   "cell_type": "code",
   "execution_count": 1,
   "metadata": {},
   "outputs": [
    {
     "name": "stdout",
     "output_type": "stream",
     "text": [
      "5 x 1 = 5\n",
      "5 x 2 = 55\n",
      "5 x 3 = 555\n",
      "5 x 4 = 5555\n",
      "5 x 5 = 55555\n",
      "5 x 6 = 555555\n",
      "5 x 7 = 5555555\n",
      "5 x 8 = 55555555\n",
      "5 x 9 = 555555555\n"
     ]
    }
   ],
   "source": [
    "number=\"5\"\n",
    "for w in range(1,10):\n",
    "    print( number,\"x\",w,\"=\",number*w)"
   ]
  },
  {
   "cell_type": "code",
   "execution_count": 19,
   "metadata": {},
   "outputs": [
    {
     "name": "stdout",
     "output_type": "stream",
     "text": [
      "even numbers are:  2\n",
      "even numbers are:  4\n",
      "even numbers are:  6\n",
      "even numbers are:  8\n",
      "even numbers are:  10\n",
      "even numbers are:  12\n",
      "even numbers are:  14\n",
      "even numbers are:  16\n",
      "even numbers are:  18\n",
      "even numbers are:  20\n",
      "even numbers are:  22\n",
      "even numbers are:  24\n",
      "even numbers are:  26\n",
      "even numbers are:  28\n",
      "even numbers are:  30\n",
      "even numbers are:  32\n",
      "even numbers are:  34\n",
      "even numbers are:  36\n",
      "even numbers are:  38\n",
      "even numbers are:  40\n",
      "even numbers are:  42\n",
      "even numbers are:  44\n",
      "even numbers are:  46\n",
      "even numbers are:  48\n",
      "even numbers are:  50\n",
      "even numbers are:  52\n",
      "even numbers are:  54\n",
      "even numbers are:  56\n",
      "even numbers are:  58\n",
      "even numbers are:  60\n",
      "even numbers are:  62\n",
      "even numbers are:  64\n",
      "even numbers are:  66\n",
      "even numbers are:  68\n",
      "even numbers are:  70\n",
      "even numbers are:  72\n",
      "even numbers are:  74\n",
      "even numbers are:  76\n",
      "even numbers are:  78\n",
      "even numbers are:  80\n",
      "even numbers are:  82\n",
      "even numbers are:  84\n",
      "even numbers are:  86\n",
      "even numbers are:  88\n",
      "even numbers are:  90\n",
      "even numbers are:  92\n",
      "even numbers are:  94\n",
      "even numbers are:  96\n",
      "even numbers are:  98\n",
      "even numbers are:  100\n"
     ]
    }
   ],
   "source": [
    "for w in range(1,101):\n",
    "    if w%2==0:\n",
    "        print(\"even numbers are: \", w)\n",
    "   "
   ]
  },
  {
   "cell_type": "code",
   "execution_count": 33,
   "metadata": {},
   "outputs": [
    {
     "name": "stdout",
     "output_type": "stream",
     "text": [
      "1\n",
      "3\n",
      "5\n",
      "7\n",
      "9\n"
     ]
    }
   ],
   "source": [
    "for w in range(10):\n",
    "    if w%2==0:\n",
    "        continue\n",
    "    print(w)"
   ]
  },
  {
   "cell_type": "code",
   "execution_count": 28,
   "metadata": {},
   "outputs": [
    {
     "name": "stdout",
     "output_type": "stream",
     "text": [
      "0\n"
     ]
    }
   ],
   "source": [
    "for w in range(10):\n",
    "    if w%2==0:     \n",
    "        print(w)\n",
    "        break"
   ]
  },
  {
   "cell_type": "code",
   "execution_count": 34,
   "metadata": {},
   "outputs": [
    {
     "name": "stdout",
     "output_type": "stream",
     "text": [
      "0\n",
      "1\n",
      "2\n",
      "3\n",
      "4\n"
     ]
    }
   ],
   "source": [
    "count=0\n",
    "while True:\n",
    "    print(count)\n",
    "    count +=1\n",
    "    if count>=5:\n",
    "        break"
   ]
  },
  {
   "cell_type": "code",
   "execution_count": 37,
   "metadata": {},
   "outputs": [
    {
     "name": "stdout",
     "output_type": "stream",
     "text": [
      "0\n",
      "1\n",
      "1\n",
      "2\n",
      "3\n",
      "5\n",
      "8\n",
      "13\n",
      "21\n",
      "34\n"
     ]
    }
   ],
   "source": [
    "a1=0\n",
    "a2=1\n",
    "for i in range(10):\n",
    "    print(a1)\n",
    "    sum=a1+a2\n",
    "    a1=a2\n",
    "    a2=sum\n",
    "   "
   ]
  },
  {
   "cell_type": "code",
   "execution_count": 1,
   "metadata": {},
   "outputs": [
    {
     "name": "stdout",
     "output_type": "stream",
     "text": [
      "enter value5\n",
      "120\n"
     ]
    }
   ],
   "source": [
    "#factorial program\n",
    "fact=int(input(\"enter value\"))\n",
    "ans=1\n",
    "while fact>0:\n",
    "    ans=ans*fact\n",
    "    fact=fact-1\n",
    "print(ans)"
   ]
  },
  {
   "cell_type": "code",
   "execution_count": 9,
   "metadata": {},
   "outputs": [
    {
     "name": "stdout",
     "output_type": "stream",
     "text": [
      "enter value5\n",
      "1\n",
      "2 2\n",
      "3 3 3\n",
      "4 4 4 4\n",
      "5 5 5 5 5\n"
     ]
    }
   ],
   "source": [
    "value=int(input(\"enter value\"))\n",
    "for i in range(1,value+1):\n",
    "    for j in range(1,i):\n",
    "        print(i,end=\" \")\n",
    "    print(i)"
   ]
  },
  {
   "cell_type": "code",
   "execution_count": 8,
   "metadata": {},
   "outputs": [],
   "source": [
    "#armstrong"
   ]
  },
  {
   "cell_type": "code",
   "execution_count": 5,
   "metadata": {},
   "outputs": [
    {
     "name": "stdout",
     "output_type": "stream",
     "text": [
      "enter number10\n",
      "0\n",
      "1\n",
      "2\n",
      "3\n",
      "4\n",
      "5\n",
      "6\n",
      "7\n",
      "8\n",
      "9\n",
      "10\n"
     ]
    }
   ],
   "source": [
    "num=int(input(\"enter number\"))\n",
    "i=0\n",
    "while i <=num:\n",
    "    print(i)\n",
    "    i+=1"
   ]
  },
  {
   "cell_type": "code",
   "execution_count": 9,
   "metadata": {},
   "outputs": [
    {
     "name": "stdout",
     "output_type": "stream",
     "text": [
      "enter number10\n",
      "0 1 2 3 4 5 6 7 8 9 10 "
     ]
    }
   ],
   "source": [
    "num=int(input(\"enter number\"))\n",
    "i=0\n",
    "for i in range(0,num+1):\n",
    "    print(i,end=\" \")\n",
    "    i+=1"
   ]
  },
  {
   "cell_type": "code",
   "execution_count": 17,
   "metadata": {},
   "outputs": [
    {
     "name": "stdout",
     "output_type": "stream",
     "text": [
      "enter number10\n",
      "55\n"
     ]
    }
   ],
   "source": [
    "num=int(input(\"enter number\"))\n",
    "sum=0\n",
    "for i in range(1,num+1):\n",
    "    sum+=i\n",
    "    \n",
    "print(sum)\n",
    "    "
   ]
  },
  {
   "cell_type": "code",
   "execution_count": 18,
   "metadata": {},
   "outputs": [
    {
     "name": "stdout",
     "output_type": "stream",
     "text": [
      "enter number2\n",
      "2\n",
      "4\n",
      "6\n",
      "8\n",
      "10\n",
      "12\n",
      "14\n",
      "16\n",
      "18\n",
      "20\n"
     ]
    }
   ],
   "source": [
    "num=int(input(\"enter number\"))\n",
    "for i in range(1,11):\n",
    "    print(num*i)"
   ]
  },
  {
   "cell_type": "code",
   "execution_count": 25,
   "metadata": {},
   "outputs": [
    {
     "name": "stdout",
     "output_type": "stream",
     "text": [
      "15\n",
      "55\n",
      "75\n",
      "150\n"
     ]
    }
   ],
   "source": [
    "list1 = [12, 15, 32, 42, 55, 75, 122, 132, 150, 180, 200]\n",
    "for item in list1:\n",
    "    if item<=150 and item%5==0:\n",
    "        print(item)\n",
    "        \n",
    "    "
   ]
  },
  {
   "cell_type": "code",
   "execution_count": 7,
   "metadata": {},
   "outputs": [
    {
     "name": "stdout",
     "output_type": "stream",
     "text": [
      "enter number7\n",
      "28\n"
     ]
    }
   ],
   "source": [
    "num=int(input(\"enter number\"))\n",
    "sum=0\n",
    "for i in range(1,num+1):\n",
    "    sum=i+sum\n",
    "print(sum)"
   ]
  },
  {
   "cell_type": "code",
   "execution_count": 2,
   "metadata": {},
   "outputs": [
    {
     "name": "stdout",
     "output_type": "stream",
     "text": [
      "enter number45\n",
      "0\n"
     ]
    }
   ],
   "source": [
    "num=int(input(\"enter number\"))\n",
    "count=0\n",
    "while num!=0:\n",
    "    num//=10\n",
    "    count+=1\n",
    "print(num)"
   ]
  },
  {
   "cell_type": "code",
   "execution_count": 16,
   "metadata": {},
   "outputs": [
    {
     "name": "stdout",
     "output_type": "stream",
     "text": [
      "-10\n",
      "-9\n",
      "-8\n",
      "-7\n",
      "-6\n",
      "-5\n",
      "-4\n",
      "-3\n",
      "-2\n",
      "-1\n",
      "done\n"
     ]
    }
   ],
   "source": [
    "for i in range(-10,0):\n",
    "    print(i)\n",
    "print(\"done\")"
   ]
  },
  {
   "cell_type": "code",
   "execution_count": 34,
   "metadata": {},
   "outputs": [
    {
     "name": "stdout",
     "output_type": "stream",
     "text": [
      "enter lower limit10\n",
      "enter upper limit15\n",
      "10 not prime\n",
      "11 prime\n",
      "12 not prime\n",
      "13 prime\n",
      "14 not prime\n",
      "15 not prime\n"
     ]
    }
   ],
   "source": [
    "start=int(input(\"enter lower limit\"))\n",
    "stop=int(input(\"enter upper limit\"))\n",
    "for num in range(start,stop+1):\n",
    "    if num>1:\n",
    "        for i in range(2,num):\n",
    "            if num%i==0:\n",
    "                print(num,\"not prime\")\n",
    "                break\n",
    "                \n",
    "                \n",
    "        else:\n",
    "            print(num,\"prime\")"
   ]
  },
  {
   "cell_type": "code",
   "execution_count": 37,
   "metadata": {},
   "outputs": [
    {
     "name": "stdout",
     "output_type": "stream",
     "text": [
      "enter number0\n",
      "1\n"
     ]
    }
   ],
   "source": [
    "num=int(input(\"enter number\"))\n",
    "fact=1\n",
    "for i in range(1,num+1):\n",
    "    fact=i*fact\n",
    "    i+=1\n",
    "print(fact)"
   ]
  },
  {
   "cell_type": "code",
   "execution_count": 38,
   "metadata": {},
   "outputs": [
    {
     "name": "stdout",
     "output_type": "stream",
     "text": [
      "enter number456\n",
      "654\n"
     ]
    }
   ],
   "source": [
    "num=int(input(\"enter number\"))\n",
    "rev=0\n",
    "while num>0:\n",
    "    r=num%10\n",
    "    rev=rev*10+r\n",
    "    num=num//10\n",
    "print(rev)"
   ]
  },
  {
   "cell_type": "code",
   "execution_count": 1,
   "metadata": {},
   "outputs": [],
   "source": [
    "#diff b/w (end) and (sep)"
   ]
  },
  {
   "cell_type": "code",
   "execution_count": 8,
   "metadata": {},
   "outputs": [
    {
     "name": "stdout",
     "output_type": "stream",
     "text": [
      "enter value of l and b 4 4\n",
      "it is square\n"
     ]
    }
   ],
   "source": [
    "l,b=(input(\"enter value of l and b \")).split() \n",
    "l=int(l)\n",
    "b=int(b)\n",
    "if l==b:\n",
    "    print(\"it is square\")\n",
    "else:\n",
    "    print(\"not square\")"
   ]
  },
  {
   "cell_type": "code",
   "execution_count": 9,
   "metadata": {},
   "outputs": [
    {
     "name": "stdout",
     "output_type": "stream",
     "text": [
      "enter value of l and b 4 5\n",
      "5\n"
     ]
    }
   ],
   "source": [
    "l,b=(input(\"enter value of l and b \")).split() \n",
    "l=int(l)\n",
    "b=int(b)\n",
    "if l>b:\n",
    "    print(l)\n",
    "else:\n",
    "    print(b)"
   ]
  },
  {
   "cell_type": "code",
   "execution_count": 11,
   "metadata": {},
   "outputs": [
    {
     "name": "stdout",
     "output_type": "stream",
     "text": [
      "enter quantity11\n",
      "amountis:  990.0\n"
     ]
    }
   ],
   "source": [
    "quantity=int(input(\"enter quantity\"))\n",
    "if quantity>10:\n",
    "    print(\"amountis: \", (quantity*100-quantity*100/10 ))\n",
    "else:\n",
    "    print(\"amout is: \", quantity*100)"
   ]
  },
  {
   "cell_type": "code",
   "execution_count": 3,
   "metadata": {},
   "outputs": [
    {
     "name": "stdout",
     "output_type": "stream",
     "text": [
      "enter number of years: 6\n",
      "enter salary: 200\n",
      "bonus is:  60.0\n"
     ]
    }
   ],
   "source": [
    "years=int(input(\"enter number of years: \"))\n",
    "salary=int(input(\"enter salary: \"))\n",
    "if years>5:\n",
    "    print(\"bonus is: \", (5*salary/100)*years)\n",
    "else:\n",
    "    print(\"no bonus\")"
   ]
  },
  {
   "cell_type": "code",
   "execution_count": 4,
   "metadata": {},
   "outputs": [
    {
     "name": "stdout",
     "output_type": "stream",
     "text": [
      "enter marks80\n",
      "a\n"
     ]
    }
   ],
   "source": [
    "marks=int(input(\"enter marks\"))\n",
    "if marks<25:\n",
    "    print(\"f\")\n",
    "elif marks>=25 and marks<45:\n",
    "    print(\"e\")\n",
    "elif marks>=45 and marks<50:\n",
    "    print(\"d\")\n",
    "elif marks>=50 and marks<60:\n",
    "    print(\"c\")\n",
    "elif marks>=60 and marks<80:\n",
    "    print(\"b\")\n",
    "else:\n",
    "    print(\"a\")"
   ]
  },
  {
   "cell_type": "code",
   "execution_count": 3,
   "metadata": {},
   "outputs": [
    {
     "name": "stdout",
     "output_type": "stream",
     "text": [
      "enter value of p1, p2, p34 5 6\n",
      "p3 is oldest and p1 is youngest\n"
     ]
    }
   ],
   "source": [
    "p1,p2,p3=input(\"enter value of p1, p2, p3\").split()\n",
    "p1=int(p1)\n",
    "p2=int(p2)\n",
    "p3=int(p3)\n",
    "if p1>p3 and p3>p2:\n",
    "    print(\"p1 is oldest and p2 is youngest\")\n",
    "elif p1>p3 and p3<p2 and p1>p2:\n",
    "    print(\"p1 is oldest and p3 is youngest\")\n",
    "elif p1>p3 and p3<p2 and p1<p2:\n",
    "    print(\"p2 is oldest and p3 is youngest\")\n",
    "elif p2>p3 and p3>p1:\n",
    "    print(\"p2 is oldest and p1 is youngest\")\n",
    "elif p2>p3 and p3<p1 and p2>p1:\n",
    "    print(\"p2 is oldest and p3 is youngest\")\n",
    "elif p2>p3 and p3<p1 and p2<p1:\n",
    "    print(\"p1 is oldest and p3 is youngest\")\n",
    "elif p3>p1 and p1>p2:\n",
    "    print(\"p3 is oldest and p2 is youngest\")\n",
    "elif p3>p1 and p1<p2 and p3>p2:\n",
    "    print(\"p3 is oldest and p1 is youngest\")\n",
    "elif p3>p1 and p1<p2 and p2<p3:\n",
    "    print(\"p3 is oldest and p1 is youngest\")\n",
    "else:\n",
    "    print(\"all equal\")\n"
   ]
  },
  {
   "cell_type": "code",
   "execution_count": 9,
   "metadata": {},
   "outputs": [
    {
     "name": "stdout",
     "output_type": "stream",
     "text": [
      "enter value: -9\n",
      "absolute value of  -9 is  9\n"
     ]
    }
   ],
   "source": [
    "num=int(input(\"enter value: \"))\n",
    "if num<0:\n",
    "    print(\"absolute value of \",num,\"is \",num*-1)\n",
    "else:\n",
    "    print(\"absolute value of \",num,\"is \",num)"
   ]
  },
  {
   "cell_type": "code",
   "execution_count": 15,
   "metadata": {},
   "outputs": [
    {
     "name": "stdout",
     "output_type": "stream",
     "text": [
      "number of classes held and attended are: 100 74\n",
      "any medical cause? type yes and no: no\n",
      "percentage of classes attended:  74.0 %\n",
      "not allowed to sit in exam\n"
     ]
    }
   ],
   "source": [
    "val1,val2=input(\"number of classes held and attended are: \").split()\n",
    "val1=int(val1)\n",
    "val2=int(val2)\n",
    "val3=val2/val1*100\n",
    "val4=input(\"any medical cause? type yes or no: \")\n",
    "print(\"percentage of classes attended: \",val3,\"%\")\n",
    "if val3>75 or val4==\"yes\":\n",
    "    print(\"allowed to sit in exam\")\n",
    "else:\n",
    "    print(\"not allowed to sit in exam\")"
   ]
  },
  {
   "cell_type": "code",
   "execution_count": 20,
   "metadata": {},
   "outputs": [
    {
     "name": "stdout",
     "output_type": "stream",
     "text": [
      "enter year: 2004\n",
      "leap year\n"
     ]
    }
   ],
   "source": [
    "value=int(input(\"enter year: \"))\n",
    "if value%100!=0 and value%4==0:\n",
    "    print (\"leap year\")\n",
    "elif value%100==0 and value%400==0:\n",
    "    print(\"leap year\")\n",
    "else:\n",
    "    print(\"not leap year\")"
   ]
  },
  {
   "cell_type": "code",
   "execution_count": 21,
   "metadata": {},
   "outputs": [
    {
     "name": "stdout",
     "output_type": "stream",
     "text": [
      "enter age: 41\n",
      "enter sex, m for male,f for female: m\n",
      "enter marital status, yes or no: yes\n",
      "work in urban area only\n"
     ]
    }
   ],
   "source": [
    "val1=int(input(\"enter age: \"))\n",
    "val2=input(\"enter sex, m for male,f for female: \")\n",
    "val3=input(\"enter marital status, yes or no: \")\n",
    "if val2==\"f\":\n",
    "    print(\"work in urban area\")\n",
    "elif val2==\"m\" and 20<val1<40:\n",
    "    print(\"work anywhere\")\n",
    "elif val2==\"m\" and 40<val1<60:\n",
    "    print(\"work in urban area only\")\n",
    "else:\n",
    "    print(\"error\")"
   ]
  },
  {
   "cell_type": "code",
   "execution_count": 24,
   "metadata": {},
   "outputs": [
    {
     "name": "stdout",
     "output_type": "stream",
     "text": [
      "enter 4 digit number4561\n"
     ]
    },
    {
     "ename": "TypeError",
     "evalue": "unsupported operand type(s) for //: 'str' and 'int'",
     "output_type": "error",
     "traceback": [
      "\u001b[0;31m---------------------------------------------------------------------------\u001b[0m",
      "\u001b[0;31mTypeError\u001b[0m                                 Traceback (most recent call last)",
      "\u001b[0;32m<ipython-input-24-f34fa31c2fc6>\u001b[0m in \u001b[0;36m<module>\u001b[0;34m\u001b[0m\n\u001b[1;32m      2\u001b[0m \u001b[0mval1\u001b[0m\u001b[0;34m==\u001b[0m\u001b[0mval\u001b[0m\u001b[0;34m//\u001b[0m\u001b[0;36m1000\u001b[0m\u001b[0;34m\u001b[0m\u001b[0;34m\u001b[0m\u001b[0m\n\u001b[1;32m      3\u001b[0m \u001b[0mval2\u001b[0m\u001b[0;34m==\u001b[0m\u001b[0mval\u001b[0m\u001b[0;34m//\u001b[0m\u001b[0;36m100\u001b[0m\u001b[0;34m\u001b[0m\u001b[0;34m\u001b[0m\u001b[0m\n\u001b[0;32m----> 4\u001b[0;31m \u001b[0mval3\u001b[0m\u001b[0;34m==\u001b[0m\u001b[0mval2\u001b[0m\u001b[0;34m//\u001b[0m\u001b[0;36m10\u001b[0m\u001b[0;34m\u001b[0m\u001b[0;34m\u001b[0m\u001b[0m\n\u001b[0m\u001b[1;32m      5\u001b[0m \u001b[0mval4\u001b[0m\u001b[0;34m==\u001b[0m\u001b[0mval3\u001b[0m\u001b[0;34m//\u001b[0m\u001b[0;36m1\u001b[0m\u001b[0;34m\u001b[0m\u001b[0;34m\u001b[0m\u001b[0m\n\u001b[1;32m      6\u001b[0m \u001b[0mprint\u001b[0m\u001b[0;34m(\u001b[0m\u001b[0mval4\u001b[0m\u001b[0;34m*\u001b[0m\u001b[0;36m1000\u001b[0m\u001b[0;34m+\u001b[0m\u001b[0mval3\u001b[0m\u001b[0;34m*\u001b[0m\u001b[0;36m100\u001b[0m\u001b[0;34m+\u001b[0m\u001b[0mval2\u001b[0m\u001b[0;34m*\u001b[0m\u001b[0;36m10\u001b[0m\u001b[0;34m+\u001b[0m\u001b[0mval1\u001b[0m\u001b[0;34m)\u001b[0m\u001b[0;34m\u001b[0m\u001b[0;34m\u001b[0m\u001b[0m\n",
      "\u001b[0;31mTypeError\u001b[0m: unsupported operand type(s) for //: 'str' and 'int'"
     ]
    }
   ],
   "source": [
    "val=int(input(\"enter 4 digit number\" ))\n",
    "val1==val%10\n",
    "val2==val%100\n",
    "val3==val2%10\n",
    "print(val4*1000+val3*100+val2*10+val1)"
   ]
  },
  {
   "cell_type": "code",
   "execution_count": 2,
   "metadata": {},
   "outputs": [
    {
     "name": "stdout",
     "output_type": "stream",
     "text": [
      "enter value of a1 5\n",
      "enter value of a2 5\n",
      "enter value of a3 5\n",
      "all are equal\n"
     ]
    }
   ],
   "source": [
    "a1=int(input(\"enter value of a1 \"))\n",
    "a2=int(input(\"enter value of a2 \"))\n",
    "a3=int(input(\"enter value of a3 \"))\n",
    "if a1>a3 and a3>a2:\n",
    "    print(\"a1 is oldest and a2 is youngest\")\n",
    "elif a1>a3 and a3<a2 and a1>a2:\n",
    "    print(\"a1 is oldest and a3 is youngest\")\n",
    "elif a1>a3 and a3<a2 and a1<a2:\n",
    "    print(\"a2 is oldest and a3 is youngest\")\n",
    "elif a2>a3 and a3>p1:\n",
    "    print(\"a2 is oldest and a1 is youngest\")\n",
    "elif a2>a3 and a3<p1 and a2>a1:\n",
    "    print(\"a2 is oldest and a3 is youngest\")\n",
    "elif a2>a3 and a3<a1 and a2<a1:\n",
    "    print(\"a1 is oldest and a3 is youngest\")\n",
    "elif a3>a1 and a1>a2:\n",
    "    print(\"a3 is oldest and a2 is youngest\")\n",
    "elif a3>a1 and a1<a2 and a3>a2:\n",
    "    print(\"a3 is oldest and a1 is youngest\")\n",
    "elif a3>a1 and a1<a2 and a2<a3:\n",
    "    print(\"a3 is oldest and a1 is youngest\")\n",
    "elif a1==a2 and a3<a1:\n",
    "    print(\"a1 and a2 are equal and are older than a3\")\n",
    "elif a1==a2 and a3>a1:\n",
    "    print(\"a1 and a2 are equal and are younger than a3\")\n",
    "elif a1==a3 and a2<a1:\n",
    "    print(\"a1 and a3 are equal and are older than a2\")\n",
    "elif a1==a3 and a2>a1:\n",
    "    print(\"a1 and a3 are equal and are younger than a2\")\n",
    "elif a2==a3 and a1<a2:\n",
    "    print(\"a2 and a3 are equal and are older than a1\")\n",
    "elif a2==a3 and a1>a2:\n",
    "    print(\"a2 and a3 are equal and are younger than a1\")\n",
    "else:\n",
    " print(\"all are equal\")"
   ]
  },
  {
   "cell_type": "code",
   "execution_count": 5,
   "metadata": {},
   "outputs": [
    {
     "name": "stdout",
     "output_type": "stream",
     "text": [
      "enter valhim\n",
      "h\n",
      "i\n",
      "m\n"
     ]
    }
   ],
   "source": [
    "val=input(\"enter val\")\n",
    "for i in range(0,len(val)):\n",
    "    print(val[i])"
   ]
  },
  {
   "cell_type": "code",
   "execution_count": 20,
   "metadata": {},
   "outputs": [
    {
     "name": "stdout",
     "output_type": "stream",
     "text": [
      "12\n"
     ]
    }
   ],
   "source": [
    "val=\"refrigerator\"\n",
    "count=0\n",
    "for i in val:\n",
    "    count=count+1\n",
    "print(count)"
   ]
  },
  {
   "cell_type": "code",
   "execution_count": 18,
   "metadata": {},
   "outputs": [
    {
     "name": "stdout",
     "output_type": "stream",
     "text": [
      "e is present \n"
     ]
    }
   ],
   "source": [
    "val=\"umbrella\"\n",
    "for i in val:\n",
    "    if \"e\" in i:\n",
    "        print(\"e is present \")\n",
    "\n"
   ]
  },
  {
   "cell_type": "code",
   "execution_count": 26,
   "metadata": {},
   "outputs": [
    {
     "name": "stdout",
     "output_type": "stream",
     "text": [
      "True\n"
     ]
    }
   ],
   "source": [
    "print ('orange' in 'this is orange juice')"
   ]
  },
  {
   "cell_type": "code",
   "execution_count": 28,
   "metadata": {},
   "outputs": [
    {
     "name": "stdout",
     "output_type": "stream",
     "text": [
      "True\n"
     ]
    }
   ],
   "source": [
    "a=\"this is orange juice\"\n",
    "print('orange' in a.split())"
   ]
  },
  {
   "cell_type": "code",
   "execution_count": 39,
   "metadata": {},
   "outputs": [
    {
     "name": "stdout",
     "output_type": "stream",
     "text": [
      "4\n",
      "5\n",
      "7\n"
     ]
    }
   ],
   "source": [
    "val=\"hello,world\"\n",
    "for i in range(0,len(val)):\n",
    "    if val[i]=='o' or val[i]==',':\n",
    "        print(i)\n"
   ]
  },
  {
   "cell_type": "code",
   "execution_count": 45,
   "metadata": {},
   "outputs": [
    {
     "name": "stdout",
     "output_type": "stream",
     "text": [
      "position's of o are:  4\n",
      "position's of , are:  5\n",
      "position's of o are:  7\n"
     ]
    }
   ],
   "source": [
    "val=\"hello,world\"\n",
    "for i in range(0,len(val)):\n",
    "    if 'o' in val[i]:\n",
    "        print(\"position's of o are: \",i)\n",
    "    elif ',' in val[i]:\n",
    "        print(\"position's of , are: \",i)"
   ]
  },
  {
   "cell_type": "code",
   "execution_count": 55,
   "metadata": {},
   "outputs": [
    {
     "ename": "TypeError",
     "evalue": "unsupported operand type(s) for +: 'dict' and 'int'",
     "output_type": "error",
     "traceback": [
      "\u001b[0;31m---------------------------------------------------------------------------\u001b[0m",
      "\u001b[0;31mTypeError\u001b[0m                                 Traceback (most recent call last)",
      "\u001b[0;32m<ipython-input-55-a8bc41ea43b9>\u001b[0m in \u001b[0;36m<module>\u001b[0;34m\u001b[0m\n\u001b[1;32m      3\u001b[0m \u001b[0;32mfor\u001b[0m \u001b[0mi\u001b[0m \u001b[0;32min\u001b[0m \u001b[0mval\u001b[0m\u001b[0;34m:\u001b[0m\u001b[0;34m\u001b[0m\u001b[0;34m\u001b[0m\u001b[0m\n\u001b[1;32m      4\u001b[0m     \u001b[0;32mif\u001b[0m \u001b[0mi\u001b[0m \u001b[0;32min\u001b[0m \u001b[0mcount\u001b[0m\u001b[0;34m:\u001b[0m\u001b[0;34m\u001b[0m\u001b[0;34m\u001b[0m\u001b[0m\n\u001b[0;32m----> 5\u001b[0;31m         \u001b[0mcount\u001b[0m\u001b[0;34m[\u001b[0m\u001b[0mi\u001b[0m\u001b[0;34m]\u001b[0m\u001b[0;34m=\u001b[0m\u001b[0mcount\u001b[0m\u001b[0;34m+\u001b[0m\u001b[0;36m1\u001b[0m\u001b[0;34m\u001b[0m\u001b[0;34m\u001b[0m\u001b[0m\n\u001b[0m\u001b[1;32m      6\u001b[0m     \u001b[0;32melse\u001b[0m\u001b[0;34m:\u001b[0m\u001b[0;34m\u001b[0m\u001b[0;34m\u001b[0m\u001b[0m\n\u001b[1;32m      7\u001b[0m         \u001b[0mcount\u001b[0m\u001b[0;34m[\u001b[0m\u001b[0mi\u001b[0m\u001b[0;34m]\u001b[0m\u001b[0;34m=\u001b[0m\u001b[0;36m1\u001b[0m\u001b[0;34m\u001b[0m\u001b[0;34m\u001b[0m\u001b[0m\n",
      "\u001b[0;31mTypeError\u001b[0m: unsupported operand type(s) for +: 'dict' and 'int'"
     ]
    }
   ],
   "source": [
    "val=\"hello,world\"\n",
    "count={}\n",
    "for i in val:\n",
    "    if i in count:\n",
    "        count[i]=count+1\n",
    "    else:\n",
    "        count[i]=1\n",
    "print(str(count))\n"
   ]
  },
  {
   "cell_type": "code",
   "execution_count": 10,
   "metadata": {},
   "outputs": [
    {
     "name": "stdout",
     "output_type": "stream",
     "text": [
      "enter valuehimanshu\n",
      "h\n",
      "i\n",
      "m\n",
      "a\n",
      "n\n",
      "s\n",
      "h\n",
      "u\n"
     ]
    }
   ],
   "source": [
    "a=input(\"enter value\")\n",
    "for i in a:\n",
    "    print(i)"
   ]
  },
  {
   "cell_type": "code",
   "execution_count": 13,
   "metadata": {},
   "outputs": [
    {
     "name": "stdout",
     "output_type": "stream",
     "text": [
      "12\n"
     ]
    }
   ],
   "source": [
    "a=\"refrigerator\"\n",
    "count=0\n",
    "for i in a:\n",
    "    count=count+1\n",
    "print(count)"
   ]
  },
  {
   "cell_type": "code",
   "execution_count": 22,
   "metadata": {},
   "outputs": [
    {
     "name": "stdout",
     "output_type": "stream",
     "text": [
      "no\n"
     ]
    }
   ],
   "source": [
    "a=\"umbrella\"\n",
    "if \"h\" in a:\n",
    "        print(\"yes\")\n",
    "else:\n",
    "        print(\"no\")"
   ]
  },
  {
   "cell_type": "code",
   "execution_count": 26,
   "metadata": {},
   "outputs": [
    {
     "ename": "TypeError",
     "evalue": "string indices must be integers",
     "output_type": "error",
     "traceback": [
      "\u001b[0;31m---------------------------------------------------------------------------\u001b[0m",
      "\u001b[0;31mTypeError\u001b[0m                                 Traceback (most recent call last)",
      "\u001b[0;32m<ipython-input-26-5eba873deb32>\u001b[0m in \u001b[0;36m<module>\u001b[0;34m\u001b[0m\n\u001b[1;32m      2\u001b[0m \u001b[0;32mfor\u001b[0m \u001b[0mi\u001b[0m \u001b[0;32min\u001b[0m \u001b[0ma\u001b[0m\u001b[0;34m:\u001b[0m\u001b[0;34m\u001b[0m\u001b[0;34m\u001b[0m\u001b[0m\n\u001b[1;32m      3\u001b[0m     \u001b[0;32mif\u001b[0m \u001b[0;34m'o'\u001b[0m \u001b[0;32min\u001b[0m \u001b[0ma\u001b[0m\u001b[0;34m:\u001b[0m\u001b[0;34m\u001b[0m\u001b[0;34m\u001b[0m\u001b[0m\n\u001b[0;32m----> 4\u001b[0;31m         \u001b[0mprint\u001b[0m\u001b[0;34m(\u001b[0m\u001b[0mi\u001b[0m\u001b[0;34m,\u001b[0m\u001b[0ma\u001b[0m\u001b[0;34m[\u001b[0m\u001b[0mi\u001b[0m\u001b[0;34m]\u001b[0m\u001b[0;34m)\u001b[0m\u001b[0;34m\u001b[0m\u001b[0;34m\u001b[0m\u001b[0m\n\u001b[0m",
      "\u001b[0;31mTypeError\u001b[0m: string indices must be integers"
     ]
    }
   ],
   "source": [
    "a=\"hello,world\"\n",
    "for i in a:\n",
    "    if 'o' in a:\n",
    "        print(i,a[i])"
   ]
  },
  {
   "cell_type": "code",
   "execution_count": 1,
   "metadata": {},
   "outputs": [
    {
     "name": "stdout",
     "output_type": "stream",
     "text": [
      "10\n",
      "9\n",
      "8\n",
      "7\n",
      "6\n",
      "5\n",
      "4\n",
      "3\n",
      "2\n",
      "1\n",
      "0\n"
     ]
    }
   ],
   "source": [
    "a=10\n",
    "while a>=0:\n",
    "    print(a)\n",
    "    a=a-1"
   ]
  },
  {
   "cell_type": "code",
   "execution_count": 5,
   "metadata": {},
   "outputs": [
    {
     "name": "stdout",
     "output_type": "stream",
     "text": [
      "4 o\n",
      "7 o\n",
      "5 ,\n"
     ]
    }
   ],
   "source": [
    "a=\"hello,world\"\n",
    "for i in range(len(a)):\n",
    "    if 'o' in a[i]:\n",
    "        print(i,a[i])\n",
    "for j in range(len(a)):\n",
    "    if ',' in a[j]:\n",
    "        print(j,a[j])\n"
   ]
  },
  {
   "cell_type": "code",
   "execution_count": 8,
   "metadata": {},
   "outputs": [
    {
     "name": "stdout",
     "output_type": "stream",
     "text": [
      "enter namehi ik ci\n",
      "h.i.ci\n"
     ]
    }
   ],
   "source": [
    "name=input(\"enter name\")\n",
    "b=name.split()\n",
    "print(b[0][0]+\".\"+b[1][0]+\".\"+b[2])"
   ]
  },
  {
   "cell_type": "code",
   "execution_count": 4,
   "metadata": {},
   "outputs": [
    {
     "name": "stdout",
     "output_type": "stream",
     "text": [
      "1 u\n"
     ]
    }
   ],
   "source": [
    "a=\"this is umbreella\"\n",
    "count=0\n",
    "for i in range(len(a)):\n",
    "    if 'u' in a[i]:\n",
    "        count=count+1\n",
    "print(count,\"u\")\n"
   ]
  },
  {
   "cell_type": "code",
   "execution_count": 20,
   "metadata": {},
   "outputs": [
    {
     "name": "stdout",
     "output_type": "stream",
     "text": [
      "ello,have a good day\n",
      "ello,have a good day\n",
      "elo,have a good day\n",
      "eo,have a good day\n",
      "eo,have a good day\n",
      "eohave a good day\n",
      "eoave a good day\n",
      "eoave a good day\n",
      "eoae a good day\n",
      "eoae a good day\n",
      "eoaea good day\n",
      "eoaea good day\n",
      "eoaeagood day\n",
      "eoaeaood day\n",
      "eoaeaood day\n",
      "eoaeaood day\n",
      "eoaeaoo day\n",
      "eoaeaooday\n",
      "eoaeaooay\n",
      "eoaeaooay\n",
      "eoaeaooa\n"
     ]
    }
   ],
   "source": [
    "#at each iteration b is updated removing one consonent or other character not in a from left to right.\n",
    "#the function index find the position in the list of the consonent i, then all the letters befor and after that \n",
    "# position are concatinated together and b is updated\n",
    "a=['a','e','i','o','u','A','E','I','O','U']\n",
    "b=\"hello,have a good day\"\n",
    "c=\"\"\n",
    "for i in b:\n",
    "    if i not in a:\n",
    "        b=b[:b.index(i)]+b[b.index(i)+1:]\n",
    "    print(b)"
   ]
  },
  {
   "cell_type": "code",
   "execution_count": 19,
   "metadata": {},
   "outputs": [
    {
     "name": "stdout",
     "output_type": "stream",
     "text": [
      "e\n",
      "eo\n",
      "eoa\n",
      "eoae\n",
      "eoaea\n",
      "eoaeao\n",
      "eoaeaoo\n",
      "eoaeaooa\n"
     ]
    }
   ],
   "source": [
    "a=['a','e','i','o','u','A','E','I','O','U']\n",
    "b=\"hello,have a good day\"\n",
    "c=\"\"\n",
    "for i in b:\n",
    "    if i not in a:\n",
    "        continue\n",
    "    else:\n",
    "        c=c+i\n",
    "    print(c)"
   ]
  },
  {
   "cell_type": "code",
   "execution_count": 21,
   "metadata": {},
   "outputs": [
    {
     "ename": "SyntaxError",
     "evalue": "invalid syntax (<ipython-input-21-c00c297c5a92>, line 3)",
     "output_type": "error",
     "traceback": [
      "\u001b[0;36m  File \u001b[0;32m\"<ipython-input-21-c00c297c5a92>\"\u001b[0;36m, line \u001b[0;32m3\u001b[0m\n\u001b[0;31m    for i in\u001b[0m\n\u001b[0m             ^\u001b[0m\n\u001b[0;31mSyntaxError\u001b[0m\u001b[0;31m:\u001b[0m invalid syntax\n"
     ]
    }
   ],
   "source": [
    "a=\"this is umbrella\"\n",
    "count=0\n",
    "for i in a:\n",
    "    \n",
    "    "
   ]
  },
  {
   "cell_type": "code",
   "execution_count": 33,
   "metadata": {},
   "outputs": [
    {
     "name": "stdout",
     "output_type": "stream",
     "text": [
      "enter name: him\n",
      "him\n",
      "mih\n",
      "palindrome\n"
     ]
    }
   ],
   "source": [
    "a=input(\"enter name: \")\n",
    "b=print(a[:])\n",
    "c=print(a[::-1])\n",
    "if b==c:\n",
    "    print(\"palindrome\")\n",
    "else:\n",
    "    print(\"not palindrome\")"
   ]
  },
  {
   "cell_type": "code",
   "execution_count": 81,
   "metadata": {},
   "outputs": [
    {
     "ename": "SyntaxError",
     "evalue": "can't assign to function call (<ipython-input-81-620fdb568a01>, line 6)",
     "output_type": "error",
     "traceback": [
      "\u001b[0;36m  File \u001b[0;32m\"<ipython-input-81-620fdb568a01>\"\u001b[0;36m, line \u001b[0;32m6\u001b[0m\n\u001b[0;31m    len(s1)=len(s2)\u001b[0m\n\u001b[0m                   ^\u001b[0m\n\u001b[0;31mSyntaxError\u001b[0m\u001b[0;31m:\u001b[0m can't assign to function call\n"
     ]
    }
   ],
   "source": [
    "#given a string s1 and s2 create a mixed string in which 1st char of s1 then last char of s2 then 2nd char\n",
    "#of s1 ans second last char of s2 and so on. any left over char go at end of result.\n",
    "s1=(\"abc\")\n",
    "s2=(\"xyz\")\n",
    "s3=\"\"\n",
    "for i in range (0,len(s1)):\n",
    "    for j in range(0,len(s2)):\n",
    "        s3+=s1[i]+s2[lens2-1]\n",
    "        s2-=1\n",
    "print(s3)\n",
    "    \n",
    "    \n",
    "   "
   ]
  },
  {
   "cell_type": "code",
   "execution_count": 1,
   "metadata": {},
   "outputs": [
    {
     "name": "stdout",
     "output_type": "stream",
     "text": [
      "uhsnamih\n"
     ]
    }
   ],
   "source": [
    "a=\"himanshu\"\n",
    "print(a[-1::-1])"
   ]
  },
  {
   "cell_type": "code",
   "execution_count": 9,
   "metadata": {},
   "outputs": [
    {
     "name": "stdout",
     "output_type": "stream",
     "text": [
      "enter name: himanshu singla\n",
      "vowel:  5\n",
      "consonent:  10\n"
     ]
    }
   ],
   "source": [
    "a=input(\"enter name: \")\n",
    "consonent=0\n",
    "vowel=0\n",
    "for i in range(0,len(name)):\n",
    "    if (a[i]!=''):\n",
    "        if a[i]==\"a\" or a[i]==\"e\" or a[i]==\"i\" or a[i]==\"o\" or a[i]==\"u\" or a[i]==\"A\" or a[i]==\"E\" or a[i]==\"I\" or a[i]==\"O\" or a[i]==\"U\":\n",
    "            vowel=vowel+1\n",
    "        else:\n",
    "            consonent=consonent+1\n",
    "print(\"vowel: \",vowel)\n",
    "print(\"consonent: \",consonent)"
   ]
  },
  {
   "cell_type": "code",
   "execution_count": 12,
   "metadata": {},
   "outputs": [
    {
     "name": "stdout",
     "output_type": "stream",
     "text": [
      "enter name: iih\n",
      "no\n"
     ]
    }
   ],
   "source": [
    "a=input(\"enter name: \")\n",
    "b=a[-1::-1]\n",
    "if a==b:\n",
    "    print(\"yes\")\n",
    "else:\n",
    "    print(\"no\")"
   ]
  },
  {
   "cell_type": "code",
   "execution_count": 23,
   "metadata": {},
   "outputs": [
    {
     "name": "stdout",
     "output_type": "stream",
     "text": [
      "['a', 'k', 5]\n"
     ]
    }
   ],
   "source": [
    "a=[\"a\",1,\"k\",5]\n",
    "(a[0:2])\n",
    "a[1]=100\n",
    "a[1]\n",
    "del a[1]\n",
    "a[1]\n",
    "print(a[0:len(a)])"
   ]
  },
  {
   "cell_type": "code",
   "execution_count": 25,
   "metadata": {},
   "outputs": [
    {
     "name": "stdout",
     "output_type": "stream",
     "text": [
      "enter string: abcdefghi\n",
      "def\n"
     ]
    }
   ],
   "source": [
    "#1\n",
    "a=input(\"enter string: \")\n",
    "if (len(a)>6 and len(a)%2!=0):\n",
    "    print(a[int((len(a)-2)/2):int((len(a)+3)/2)])\n",
    "        "
   ]
  },
  {
   "cell_type": "code",
   "execution_count": 40,
   "metadata": {},
   "outputs": [
    {
     "name": "stdout",
     "output_type": "stream",
     "text": [
      "enter first string: himan\n",
      "enter second string: kk\n",
      "hikkman\n"
     ]
    }
   ],
   "source": [
    "#2\n",
    "a=input(\"enter first string: \")\n",
    "b=input(\"enter second string: \")\n",
    "if (len(a)%2==0):\n",
    "    print(a[0:int((len(a)/2))]+b+a[int((len(a)/2)):int(len(a)+1)])\n",
    "else:\n",
    "    if (len(a)%2!=0):\n",
    "        print(a[0:int((len(a)-1)/2)]+b+a[int((len(a)-1)/2):int(len(a)+1)])"
   ]
  },
  {
   "cell_type": "code",
   "execution_count": 50,
   "metadata": {},
   "outputs": [
    {
     "name": "stdout",
     "output_type": "stream",
     "text": [
      "enter first string: abc\n",
      "enter second string: efg\n",
      "aebfcg\n"
     ]
    }
   ],
   "source": [
    "#3\n",
    "a=input(\"enter first string: \")\n",
    "b=input(\"enter second string: \")\n",
    "c=a[0]+b[0]\n",
    "d=a[int((len(a)-1)/2)]+b[int((len(b)-1)/2)]\n",
    "e=a[int(len(a)-1)]+b[int(len(b)-1)]\n",
    "print(c+d+e)"
   ]
  },
  {
   "cell_type": "code",
   "execution_count": 9,
   "metadata": {},
   "outputs": [
    {
     "name": "stdout",
     "output_type": "stream",
     "text": [
      "enetr name: himanshu singla\n",
      "algnis uhsnamih\n"
     ]
    }
   ],
   "source": [
    "a=input(\"enetr name: \")\n",
    "b=a[-1::-1]\n",
    "print(b,\" \")"
   ]
  },
  {
   "cell_type": "code",
   "execution_count": 46,
   "metadata": {},
   "outputs": [
    {
     "name": "stdout",
     "output_type": "stream",
     "text": [
      "enter the value of n: 5\n",
      "155\n"
     ]
    }
   ],
   "source": [
    "n=int(input(\"enter the value of n: \"))\n",
    "value=(n+n*n+n*n*n)\n",
    "print(value)\n"
   ]
  },
  {
   "cell_type": "code",
   "execution_count": 9,
   "metadata": {},
   "outputs": [
    {
     "name": "stdout",
     "output_type": "stream",
     "text": [
      "enter string:is i\n",
      "is i\n"
     ]
    }
   ],
   "source": [
    "a=input(\"enter string:\" )\n",
    "if a[0:2]==\"is\":\n",
    "    print(a)\n",
    "else:\n",
    "    if a[0:2]!=\"is\":\n",
    "        print(\"is \"+a)"
   ]
  },
  {
   "cell_type": "code",
   "execution_count": 40,
   "metadata": {},
   "outputs": [
    {
     "name": "stdout",
     "output_type": "stream",
     "text": [
      "enter first number: 4\n",
      "enter second number: 4\n",
      "enter third number: 5\n",
      "False  5 4 4\n",
      "False  4 4 5\n"
     ]
    }
   ],
   "source": [
    "a=int(input(\"enter first number: \"))\n",
    "b=int(input(\"enter second number: \"))\n",
    "c=int(input(\"enter third number: \"))\n",
    "d=(a>b>c) \n",
    "\n"
   ]
  },
  {
   "cell_type": "code",
   "execution_count": 1,
   "metadata": {},
   "outputs": [
    {
     "name": "stdout",
     "output_type": "stream",
     "text": [
      "enter value: f\n",
      "102\n"
     ]
    }
   ],
   "source": [
    "a=input(\"enter value: \")\n",
    "b=ord(a)\n",
    "print(b)\n"
   ]
  },
  {
   "cell_type": "code",
   "execution_count": 1,
   "metadata": {},
   "outputs": [
    {
     "name": "stdout",
     "output_type": "stream",
     "text": [
      "enter string: HImn\n",
      "['m', 'n', 'H', 'I']\n"
     ]
    }
   ],
   "source": [
    "a=input(\"enter string: \")\n",
    "lower=[]\n",
    "upper=[]\n",
    "for i in a:\n",
    "    if i>='a' and i<='z':\n",
    "        lower.append(i)\n",
    "    else:\n",
    "        upper.append(i)\n",
    "        \n",
    "print(lower+upper)"
   ]
  },
  {
   "cell_type": "code",
   "execution_count": 16,
   "metadata": {},
   "outputs": [
    {
     "name": "stdout",
     "output_type": "stream",
     "text": [
      "enter string: vn54//\n",
      "char=  2 int=  2 sym=  2\n"
     ]
    }
   ],
   "source": [
    "a=input(\"enter string: \")\n",
    "int_count=0\n",
    "char_count=0\n",
    "sym_count=0\n",
    "for i in a:\n",
    "    if (i>='a' and i<='z') or (i>='A' and i<='Z'):\n",
    "        char_count+=1\n",
    "    elif i.isnumeric():\n",
    "        int_count+=1\n",
    "    else:\n",
    "        sym_count+=1\n",
    "print(\"char= \",char_count,\"int= \",int_count,\"sym= \",sym_count)"
   ]
  },
  {
   "cell_type": "code",
   "execution_count": 10,
   "metadata": {},
   "outputs": [
    {
     "name": "stdout",
     "output_type": "stream",
     "text": [
      "Emma\n",
      "is\n",
      "a\n",
      "data\n",
      "scientist\n"
     ]
    }
   ],
   "source": [
    "str1 = \"Emma-is-a-data-scientist\"\n",
    "new_string=str1.split(\"-\")\n",
    "for i in new_string:\n",
    "    print(i)"
   ]
  },
  {
   "cell_type": "code",
   "execution_count": 28,
   "metadata": {},
   "outputs": [
    {
     "name": "stdout",
     "output_type": "stream",
     "text": [
      "['Emma', 'Jon', 'Kelly', 'Eric']\n"
     ]
    }
   ],
   "source": [
    "str_list = [\"Emma\", \"Jon\", \"\", \"Kelly\", None, \"Eric\", \"\"]\n",
    "a=list(filter(None,str_list))\n",
    "print(a)"
   ]
  },
  {
   "cell_type": "code",
   "execution_count": 2,
   "metadata": {},
   "outputs": [
    {
     "name": "stdout",
     "output_type": "stream",
     "text": [
      "55\n"
     ]
    }
   ],
   "source": [
    "sum=0\n",
    "i=0\n",
    "while i<=10:\n",
    "    sum=sum+i\n",
    "    i+=1\n",
    "print(sum)"
   ]
  },
  {
   "cell_type": "code",
   "execution_count": 3,
   "metadata": {},
   "outputs": [
    {
     "name": "stdout",
     "output_type": "stream",
     "text": [
      "enter name: himanshu\n",
      "h:2\n",
      "i:1\n",
      "m:1\n",
      "a:1\n",
      "n:1\n",
      "s:1\n",
      "u:1\n"
     ]
    }
   ],
   "source": [
    "name=input(\"enter name: \")\n",
    "temp_var=\"\"\n",
    "i=0\n",
    "while i<len(name):\n",
    "    if name[i] not in temp_var:\n",
    "        temp_var+=name[i]\n",
    "        print(f\"{name[i]}:{name.count(name[i])}\")\n",
    "    i+=1"
   ]
  },
  {
   "cell_type": "code",
   "execution_count": 6,
   "metadata": {},
   "outputs": [
    {
     "name": "stdout",
     "output_type": "stream",
     "text": [
      "enter number: 120\n",
      "120\n",
      "240\n",
      "360\n",
      "480\n",
      "600\n",
      "720\n",
      "840\n",
      "960\n",
      "1080\n",
      "1200\n"
     ]
    }
   ],
   "source": [
    "value=int(input(\"enter number: \"))\n",
    "for i in range(1,11):\n",
    "    print(i*value)"
   ]
  },
  {
   "cell_type": "code",
   "execution_count": 9,
   "metadata": {},
   "outputs": [
    {
     "name": "stdout",
     "output_type": "stream",
     "text": [
      "1\n",
      "4\n",
      "16\n",
      "36\n",
      "121\n",
      "400\n"
     ]
    }
   ],
   "source": [
    "number=[1,2,4,6,11,20]\n",
    "square=0\n",
    "for i in number:\n",
    "    square=i**2\n",
    "    print(square)"
   ]
  },
  {
   "cell_type": "code",
   "execution_count": 14,
   "metadata": {},
   "outputs": [
    {
     "name": "stdout",
     "output_type": "stream",
     "text": [
      "1,2,3,4,5,the loop has completed execution\n"
     ]
    }
   ],
   "source": [
    "for val in range(1,6):\n",
    "    print(val,end=\",\")\n",
    "else:\n",
    "    print(\"the loop has completed execution\")\n"
   ]
  },
  {
   "cell_type": "code",
   "execution_count": 16,
   "metadata": {},
   "outputs": [
    {
     "name": "stdout",
     "output_type": "stream",
     "text": [
      "1  5\n",
      "2  6\n",
      "3  7\n"
     ]
    }
   ],
   "source": [
    "i=1\n",
    "j=5\n",
    "while i<4:\n",
    "    while j<8:\n",
    "        print(i,\"\",j)\n",
    "        j+=1\n",
    "        i+=1"
   ]
  },
  {
   "cell_type": "code",
   "execution_count": 20,
   "metadata": {},
   "outputs": [
    {
     "name": "stdout",
     "output_type": "stream",
     "text": [
      "\n",
      "1\n",
      "22\n",
      "333\n",
      "4444\n",
      "55555\n"
     ]
    }
   ],
   "source": [
    "rows=6\n",
    "for num in range(rows):\n",
    "    for i in range(num):\n",
    "        print(num,end=\"\")\n",
    "    print('')"
   ]
  },
  {
   "cell_type": "code",
   "execution_count": 21,
   "metadata": {},
   "outputs": [
    {
     "name": "stdout",
     "output_type": "stream",
     "text": [
      "55555\n",
      "4444\n",
      "333\n",
      "22\n",
      "1\n"
     ]
    }
   ],
   "source": [
    "rows=5\n",
    "for num in range(5,0,-1):\n",
    "    for i in range(num):\n",
    "        print(num,end=\"\")\n",
    "    print('')"
   ]
  },
  {
   "cell_type": "code",
   "execution_count": 29,
   "metadata": {},
   "outputs": [
    {
     "name": "stdout",
     "output_type": "stream",
     "text": [
      "1\n",
      "12\n",
      "123\n",
      "1234\n",
      "12345\n"
     ]
    }
   ],
   "source": [
    "rows=5\n",
    "for num in range(1,rows+1):\n",
    "    for i in range(1,num+1):\n",
    "        print(i,end=\"\")\n",
    "    print('')"
   ]
  },
  {
   "cell_type": "code",
   "execution_count": 36,
   "metadata": {},
   "outputs": [
    {
     "name": "stdout",
     "output_type": "stream",
     "text": [
      "\n",
      "1\n",
      "21\n",
      "321\n",
      "4321\n",
      "54321\n"
     ]
    }
   ],
   "source": [
    "rows=5\n",
    "for num in range(0,rows+1):\n",
    "    for i in range(num,0,-1):\n",
    "        print(i,end=\"\")\n",
    "    print('')"
   ]
  },
  {
   "cell_type": "code",
   "execution_count": 38,
   "metadata": {},
   "outputs": [
    {
     "name": "stdout",
     "output_type": "stream",
     "text": [
      "+\"\"\"\"\"\"\"\"\"+\n",
      "[|  0 0  |]\n",
      "|    /\\   |\n",
      "|    '_'  |\n",
      "|         |\n",
      "+_________+\n"
     ]
    }
   ],
   "source": [
    "a='+\"\"\"\"\"\"\"\"\"+'\n",
    "b=\"[|  0 0  |]\"\n",
    "c=\"|    /\\   |\"\n",
    "d=\"|    '_'  |\"\n",
    "e=\"|         |\"\n",
    "f=\"+_________+\"\n",
    "print(a)\n",
    "print(b)\n",
    "print(c)\n",
    "print(d)\n",
    "print(e)\n",
    "print(f)"
   ]
  },
  {
   "cell_type": "code",
   "execution_count": 1,
   "metadata": {},
   "outputs": [
    {
     "name": "stdout",
     "output_type": "stream",
     "text": [
      "1\n",
      "2\n",
      "3\n",
      "4\n",
      "5\n",
      "6\n"
     ]
    }
   ],
   "source": [
    "a=[1,2,3,4,5,6]\n",
    "for i in a:\n",
    "    print(i)"
   ]
  },
  {
   "cell_type": "code",
   "execution_count": 8,
   "metadata": {},
   "outputs": [
    {
     "name": "stdout",
     "output_type": "stream",
     "text": [
      "Enter number of elements in list3\n",
      "1\n",
      "2\n",
      "2\n",
      "The number to be deleted is 1\n",
      "[2, 2]\n"
     ]
    }
   ],
   "source": [
    "numbers=[]\n",
    "x=int(input(\"Enter number of elements in list\"))\n",
    "for i in range(x):\n",
    "    numbers.append(int(input()))\n",
    "findNum=int(input(\"The number to be deleted is \"))\n",
    "\n",
    "\n",
    "j=0\n",
    "for element in numbers:\n",
    "    if(element == findNum):\n",
    "        numbers.pop(j)\n",
    "        x=x-1\n",
    "        j=j-1\n",
    "    \n",
    "    \n",
    "print(numbers)"
   ]
  },
  {
   "cell_type": "code",
   "execution_count": 9,
   "metadata": {},
   "outputs": [
    {
     "name": "stdout",
     "output_type": "stream",
     "text": [
      "enter number of elements in list: 3\n",
      "1\n",
      "2\n",
      "2\n",
      "enter number to be deleted: 2\n",
      "[2, 2]\n"
     ]
    }
   ],
   "source": [
    "a=[]\n",
    "num=int(input(\"enter number of elements in list: \"))\n",
    "for i in range(num):\n",
    "    a.append(int(input()))\n",
    "find_num=int(input(\"enter number to be deleted: \"))\n",
    "j=0\n",
    "for element in a:\n",
    "    if find_num==element:\n",
    "        a.pop(j)\n",
    "        num=num-1\n",
    "        j=j-1\n",
    "print(a)"
   ]
  },
  {
   "cell_type": "code",
   "execution_count": 3,
   "metadata": {},
   "outputs": [
    {
     "name": "stdout",
     "output_type": "stream",
     "text": [
      "[12, 24, 36, 48, 60, 72, 84, 96, 108, 120]\n",
      "[14, 28, 42, 56, 70, 84, 98, 112, 126, 140]\n"
     ]
    }
   ],
   "source": [
    "a=[]\n",
    "for i in range (1,11):\n",
    "    a.append(int(i*12))\n",
    "print(a)\n",
    "b=[]\n",
    "j=1\n",
    "for element in a:\n",
    "    element=element+2*j\n",
    "    b.append(element)\n",
    "    j=j+1\n",
    "print(b)\n",
    "    \n",
    "    "
   ]
  },
  {
   "cell_type": "code",
   "execution_count": 1,
   "metadata": {},
   "outputs": [
    {
     "name": "stdout",
     "output_type": "stream",
     "text": [
      "[1, 4, 9, 16, 25, 36]\n"
     ]
    }
   ],
   "source": [
    "a=[1,2,3,4,5,6]\n",
    "b=[]\n",
    "for i in a:\n",
    "    i=i*i\n",
    "    b.append(i)\n",
    "    i=i+1\n",
    "print(b)"
   ]
  },
  {
   "cell_type": "code",
   "execution_count": 14,
   "metadata": {},
   "outputs": [
    {
     "name": "stdout",
     "output_type": "stream",
     "text": [
      "even number list:  [2, 4, 6, 8, 10, 12, 14, 16, 18, 20, 22, 24, 26, 28, 30, 32, 34, 36, 38, 40, 42, 44, 46, 48, 50, 52, 54, 56, 58, 60, 62, 64, 66, 68, 70, 72, 74, 76, 78, 80, 82, 84, 86, 88, 90, 92, 94, 96, 98, 100]\n",
      "odd number list:  [1, 3, 5, 7, 9, 11, 13, 15, 17, 19, 21, 23, 25, 27, 29, 31, 33, 35, 37, 39, 41, 43, 45, 47, 49, 51, 53, 55, 57, 59, 61, 63, 65, 67, 69, 71, 73, 75, 77, 79, 81, 83, 85, 87, 89, 91, 93, 95, 97, 99]\n"
     ]
    }
   ],
   "source": [
    "a=[]\n",
    "b=[]\n",
    "for i in range(1,101):\n",
    "    if i%2==0:\n",
    "        a.append(i)\n",
    "print(\"even number list: \",a)\n",
    "\n",
    "for i in range(1,101):\n",
    "    if i%2!=0:\n",
    "        b.append(i)\n",
    "print(\"odd number list: \",b)\n",
    "        "
   ]
  },
  {
   "cell_type": "code",
   "execution_count": 15,
   "metadata": {},
   "outputs": [
    {
     "ename": "SyntaxError",
     "evalue": "unexpected EOF while parsing (<ipython-input-15-069e9d873951>, line 14)",
     "output_type": "error",
     "traceback": [
      "\u001b[0;36m  File \u001b[0;32m\"<ipython-input-15-069e9d873951>\"\u001b[0;36m, line \u001b[0;32m14\u001b[0m\n\u001b[0;31m    \u001b[0m\n\u001b[0m    ^\u001b[0m\n\u001b[0;31mSyntaxError\u001b[0m\u001b[0;31m:\u001b[0m unexpected EOF while parsing\n"
     ]
    }
   ],
   "source": [
    "a=[]\n",
    "b=[]\n",
    "for i in range(1,101):\n",
    "    if i%2==0:\n",
    "        a.append(i)\n",
    "print(\"even number list: \",a)\n",
    "\n",
    "for i in range(1,101):\n",
    "    if i%2!=0:\n",
    "        b.append(i)\n",
    "print(\"odd number list: \",b)\n",
    "for i in a:\n",
    "    if i%4==0:\n",
    "        "
   ]
  },
  {
   "cell_type": "code",
   "execution_count": null,
   "metadata": {},
   "outputs": [],
   "source": [
    "prime_num=[]\n",
    "for i in range(1,101):\n",
    "    if "
   ]
  }
 ],
 "metadata": {
  "kernelspec": {
   "display_name": "Python 3",
   "language": "python",
   "name": "python3"
  },
  "language_info": {
   "codemirror_mode": {
    "name": "ipython",
    "version": 3
   },
   "file_extension": ".py",
   "mimetype": "text/x-python",
   "name": "python",
   "nbconvert_exporter": "python",
   "pygments_lexer": "ipython3",
   "version": "3.7.6"
  }
 },
 "nbformat": 4,
 "nbformat_minor": 4
}
