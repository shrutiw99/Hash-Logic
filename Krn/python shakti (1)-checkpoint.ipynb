{
 "cells": [
  {
   "cell_type": "code",
   "execution_count": 2,
   "metadata": {},
   "outputs": [
    {
     "name": "stdout",
     "output_type": "stream",
     "text": [
      "3\n",
      "shruti\n"
     ]
    }
   ],
   "source": [
    "_shru3 =3\n",
    "print(_shru3)\n",
    "_shru3 = \"shruti\"\n",
    "print(_shru3)\n"
   ]
  },
  {
   "cell_type": "code",
   "execution_count": 8,
   "metadata": {},
   "outputs": [
    {
     "name": "stdout",
     "output_type": "stream",
     "text": [
      "hello\n",
      "program\n",
      "5+2\n",
      "Hii \"Kirat\" how r u??\n"
     ]
    }
   ],
   "source": [
    "#.............CHAPTER -- 1............\n",
    "\n",
    "#..................print funcion.................\n",
    "\n",
    "print(\"hello\")\n",
    "print('program')\n",
    "print(\"5+2\")\n",
    "\n",
    "#double and single quotes in string\n",
    "print('Hii \"Kirat\" how r u??')\n",
    "\n",
    "#print(\"hello 'python'\")\n",
    "#print('hello \"program\"')\n",
    "\n"
   ]
  },
  {
   "cell_type": "code",
   "execution_count": 11,
   "metadata": {},
   "outputs": [
    {
     "name": "stdout",
     "output_type": "stream",
     "text": [
      "hello \"world\" world\n",
      "hello 'world'world\n",
      "line a\n",
      "line b\n",
      "line c\n",
      "name  shakti\n",
      "this is backlash\\\n",
      "this is double backslash\\\\\n"
     ]
    }
   ],
   "source": [
    "#.................escape sequences................\n",
    "\n",
    "print(\"hello \\\"world\\\" world\")\n",
    "print(\"hello \\'world\\'world\")\n",
    "print(\"line a\\nline b\\nline c\")\n",
    "print(\"name  shakti\")\n",
    "print(\"this is backlash\\\\\")\n",
    "print(\"this is double backslash\\\\\\\\\")\n",
    "\n"
   ]
  },
  {
   "cell_type": "code",
   "execution_count": 18,
   "metadata": {},
   "outputs": [
    {
     "name": "stdout",
     "output_type": "stream",
     "text": [
      "line a \\n line b\n",
      "line B \\t line b\n",
      "\\\"  \\' \n"
     ]
    }
   ],
   "source": [
    "#.........escape sequence as a normal text............\n",
    "\n",
    "#.....output...line a \\n line b....\n",
    "\n",
    "#.....output...line B \\\\\\\\n line b....\n",
    "\n",
    "print(\"line a \\\\n line b\")\n",
    "print(\"line B \\\\t line b\")\n",
    "\n",
    "\n",
    "\n",
    "\n"
   ]
  },
  {
   "cell_type": "code",
   "execution_count": 19,
   "metadata": {},
   "outputs": [
    {
     "name": "stdout",
     "output_type": "stream",
     "text": [
      "line a \\n line b\n"
     ]
    }
   ],
   "source": [
    "#.......raw string......\n",
    "\n",
    "print(r\"line a \\n line b\")"
   ]
  },
  {
   "cell_type": "code",
   "execution_count": 3,
   "metadata": {},
   "outputs": [
    {
     "name": "stdout",
     "output_type": "stream",
     "text": [
      "😍\n",
      "😁\n",
      "😉\n",
      "😘\n",
      "😜\n"
     ]
    }
   ],
   "source": [
    "#........how to print emoji......\n",
    "\n",
    "print(\"\\U0001F60D\")\n",
    "print(\"\\U0001F601\")\n",
    "print(\"\\U0001F609\")\n",
    "print(\"\\U0001F618\")\n",
    "print(\"\\U0001F61C\")"
   ]
  },
  {
   "cell_type": "code",
   "execution_count": 29,
   "metadata": {},
   "outputs": [
    {
     "name": "stdout",
     "output_type": "stream",
     "text": [
      "5\n",
      "19\n",
      "0.5\n",
      "2.0\n",
      "2\n",
      "0\n",
      "1.4142135623730951\n",
      "256\n",
      "1.4142\n",
      "20.0\n",
      "0.0\n"
     ]
    }
   ],
   "source": [
    "#....python as a calculter....\n",
    "\n",
    "print(2+3)\n",
    "print(3+4*4)\n",
    "\n",
    "#...floating point division...\n",
    "\n",
    "print(2/4)\n",
    "print(4/2)\n",
    "\n",
    "#.....integer division....\n",
    "\n",
    "print(4//2)\n",
    "print(2//4)\n",
    "\n",
    "#......exponent.....\n",
    "\n",
    "print(2**0.5)\n",
    "print(2**8)\n",
    "print(round(2**0.5,4))\n",
    "\n",
    "#........using precedence rule.......\n",
    "\n",
    "print(2**3/2*6-4*(3-4/2))\n",
    "print((5+4)*4/6%2)"
   ]
  },
  {
   "cell_type": "code",
   "execution_count": 19,
   "metadata": {},
   "outputs": [
    {
     "ename": "SyntaxError",
     "evalue": "invalid syntax (<ipython-input-19-bff168057178>, line 1)",
     "output_type": "error",
     "traceback": [
      "\u001b[1;36m  File \u001b[1;32m\"<ipython-input-19-bff168057178>\"\u001b[1;36m, line \u001b[1;32m1\u001b[0m\n\u001b[1;33m    $kirat9=\"Chadha\"\u001b[0m\n\u001b[1;37m    ^\u001b[0m\n\u001b[1;31mSyntaxError\u001b[0m\u001b[1;31m:\u001b[0m invalid syntax\n"
     ]
    }
   ],
   "source": [
    "$kirat9=\"Chadha\"\n",
    "print($kirat9)"
   ]
  },
  {
   "cell_type": "code",
   "execution_count": 6,
   "metadata": {},
   "outputs": [
    {
     "name": "stdout",
     "output_type": "stream",
     "text": [
      "2\n",
      "4\n",
      "shakti\n",
      "123\n"
     ]
    }
   ],
   "source": [
    "#..........variables.........\n",
    "\n",
    "number1 = 2\n",
    "print(number1)\n",
    "number1 = 4\n",
    "print(number1)\n",
    "\n",
    "#.....string......\n",
    "\n",
    "name = \"shakti\"\n",
    "print(name)\n",
    "name = 123   #dyanamic programing language\n",
    "print(name)\n",
    "\n",
    "#....letter , _ ....\n",
    "\n",
    "_name = \"shakti\"\n",
    "\n",
    "#.......namingn rule for variables.......\n",
    "\n",
    "#1name = \"shakti\"    #....error\n",
    "name1 = \"shakti\"  #.......no error\n",
    "#name$ = \"shakti\"    #....error\n",
    "#$name = \"shakti\"     #......error\n",
    "_name = \"anyname\"  #.....no error\n",
    "\n",
    "#........convention for variable naming.........\n",
    "\n",
    "user_one = \"Shakti\"  #snake case writing\n",
    "userOne = \"shakti\"   #camle case writing\n"
   ]
  },
  {
   "cell_type": "code",
   "execution_count": 33,
   "metadata": {},
   "outputs": [
    {
     "name": "stdout",
     "output_type": "stream",
     "text": [
      "shruti wadhwa\n"
     ]
    }
   ],
   "source": [
    "#................CHAPTER -- 2...............\n",
    "\n",
    "#.........STRING CONCATENATION...........\n",
    "\n",
    "#...ADD A TWO USER...\n",
    "\n",
    "first_name = \"shruti\"\n",
    "last_name = \"wadhwa\"\n",
    "full_name = first_name + \" \" + last_name\n",
    "print(full_name)    \n"
   ]
  },
  {
   "cell_type": "code",
   "execution_count": 8,
   "metadata": {},
   "outputs": [
    {
     "name": "stdout",
     "output_type": "stream",
     "text": [
      "shruti5\n",
      "shruti5\n",
      "shrutishrutishrutishrutishruti\n"
     ]
    }
   ],
   "source": [
    "#print(first_name + 5)  #error\n",
    "\n",
    "print(first_name + \"5\")  #no error\n",
    "\n",
    "print(first_name + str(5))  #no error\n",
    "\n",
    "print(first_name * 5)  #no error"
   ]
  },
  {
   "cell_type": "code",
   "execution_count": 35,
   "metadata": {},
   "outputs": [
    {
     "name": "stdout",
     "output_type": "stream",
     "text": [
      "type your name gunika\n",
      "hello gunika\n"
     ]
    }
   ],
   "source": [
    "#........user input........\n",
    "#....input function....\n",
    "\n",
    "name = input(\"type your name \")\n",
    "print(\"hello \" + name)"
   ]
  },
  {
   "cell_type": "code",
   "execution_count": 3,
   "metadata": {},
   "outputs": [
    {
     "name": "stdout",
     "output_type": "stream",
     "text": [
      "enter first number1\n",
      "enter second number3\n",
      "total is13\n",
      "enter first number4\n",
      "enter second number5\n"
     ]
    },
    {
     "ename": "TypeError",
     "evalue": "can only concatenate str (not \"int\") to str",
     "output_type": "error",
     "traceback": [
      "\u001b[1;31m---------------------------------------------------------------------------\u001b[0m",
      "\u001b[1;31mTypeError\u001b[0m                                 Traceback (most recent call last)",
      "\u001b[1;32m<ipython-input-3-026b32e48505>\u001b[0m in \u001b[0;36m<module>\u001b[1;34m\u001b[0m\n\u001b[0;32m      8\u001b[0m \u001b[0mtotal\u001b[0m \u001b[1;33m=\u001b[0m \u001b[0mnumber_one\u001b[0m \u001b[1;33m+\u001b[0m \u001b[0mnumber_two\u001b[0m\u001b[1;33m\u001b[0m\u001b[1;33m\u001b[0m\u001b[0m\n\u001b[0;32m      9\u001b[0m \u001b[1;31m#print(\"total is\" + str(total))\u001b[0m\u001b[1;33m\u001b[0m\u001b[1;33m\u001b[0m\u001b[1;33m\u001b[0m\u001b[0m\n\u001b[1;32m---> 10\u001b[1;33m \u001b[0mprint\u001b[0m\u001b[1;33m(\u001b[0m\u001b[1;34m\"total is\"\u001b[0m \u001b[1;33m+\u001b[0m \u001b[0mtotal\u001b[0m\u001b[1;33m)\u001b[0m\u001b[1;33m\u001b[0m\u001b[1;33m\u001b[0m\u001b[0m\n\u001b[0m",
      "\u001b[1;31mTypeError\u001b[0m: can only concatenate str (not \"int\") to str"
     ]
    }
   ],
   "source": [
    "number_one = input(\"enter first number\")\n",
    "number_two = input(\"enter second number\")\n",
    "total = number_one + number_two\n",
    "print(\"total is\" + total)\n",
    "\n",
    "number_one = int(input(\"enter first number\"))\n",
    "number_two = int(input(\"enter second number\"))\n",
    "total = number_one + number_two\n",
    "print(\"total is\" + str(total))\n",
    "#print(\"total is\" + total)"
   ]
  },
  {
   "cell_type": "code",
   "execution_count": 15,
   "metadata": {},
   "outputs": [
    {
     "name": "stdout",
     "output_type": "stream",
     "text": [
      "14.0\n"
     ]
    }
   ],
   "source": [
    "number1 = str(5)\n",
    "number2 = float(\"6\")\n",
    "number3 = int(\"8\")\n",
    "print(number2 + number3)"
   ]
  },
  {
   "cell_type": "code",
   "execution_count": 23,
   "metadata": {},
   "outputs": [
    {
     "name": "stdout",
     "output_type": "stream",
     "text": [
      "hello shakti your age is 23 \n",
      "6\n"
     ]
    }
   ],
   "source": [
    "#.......MORE ABOUT VARIABLES........\n",
    "\n",
    "name, age =\"shakti \", \"23 \"\n",
    "print(\"hello \" + name + \"your age is \" + age)\n",
    "\n",
    "a=b=c=2\n",
    "print(a+b+c)"
   ]
  },
  {
   "cell_type": "code",
   "execution_count": 5,
   "metadata": {},
   "outputs": [
    {
     "name": "stdout",
     "output_type": "stream",
     "text": [
      "enter your name and ageshruti shruti 23 34\n"
     ]
    },
    {
     "ename": "ValueError",
     "evalue": "too many values to unpack (expected 2)",
     "output_type": "error",
     "traceback": [
      "\u001b[1;31m---------------------------------------------------------------------------\u001b[0m",
      "\u001b[1;31mValueError\u001b[0m                                Traceback (most recent call last)",
      "\u001b[1;32m<ipython-input-5-e951eb1068bc>\u001b[0m in \u001b[0;36m<module>\u001b[1;34m\u001b[0m\n\u001b[0;32m      1\u001b[0m \u001b[1;31m#minibus #......more than one input in one line......\u001b[0m\u001b[1;33m\u001b[0m\u001b[1;33m\u001b[0m\u001b[1;33m\u001b[0m\u001b[0m\n\u001b[0;32m      2\u001b[0m \u001b[1;33m\u001b[0m\u001b[0m\n\u001b[1;32m----> 3\u001b[1;33m \u001b[0mname\u001b[0m\u001b[1;33m,\u001b[0m \u001b[0mage\u001b[0m \u001b[1;33m=\u001b[0m \u001b[0minput\u001b[0m\u001b[1;33m(\u001b[0m\u001b[1;34m\"enter your name and age\"\u001b[0m\u001b[1;33m)\u001b[0m\u001b[1;33m.\u001b[0m\u001b[0msplit\u001b[0m\u001b[1;33m(\u001b[0m\u001b[1;33m)\u001b[0m\u001b[1;33m\u001b[0m\u001b[1;33m\u001b[0m\u001b[0m\n\u001b[0m\u001b[0;32m      4\u001b[0m \u001b[0mprint\u001b[0m\u001b[1;33m(\u001b[0m\u001b[0mname\u001b[0m\u001b[1;33m)\u001b[0m\u001b[1;33m\u001b[0m\u001b[1;33m\u001b[0m\u001b[0m\n\u001b[0;32m      5\u001b[0m \u001b[0mprint\u001b[0m\u001b[1;33m(\u001b[0m\u001b[0mage\u001b[0m\u001b[1;33m)\u001b[0m\u001b[1;33m\u001b[0m\u001b[1;33m\u001b[0m\u001b[0m\n",
      "\u001b[1;31mValueError\u001b[0m: too many values to unpack (expected 2)"
     ]
    }
   ],
   "source": [
    "#minibus #......more than one input in one line......\n",
    "\n",
    "name, age = input(\"enter your name and age\").split()\n",
    "print(name)\n",
    "print(age)"
   ]
  },
  {
   "cell_type": "code",
   "execution_count": 35,
   "metadata": {},
   "outputs": [
    {
     "name": "stdout",
     "output_type": "stream",
     "text": [
      "hello shakti your age is 23\n",
      "hello shakti your age is 23\n"
     ]
    }
   ],
   "source": [
    "  #...........STRING FORMATTING...........\n",
    "\n",
    "name = \"shakti\"\n",
    "age = 23\n",
    "print(\"hello {} your age is {}\".format(name, age))    #....using python3\n",
    "print(f\"hello {name} your age is {23}\")     #......using pyython3.6"
   ]
  },
  {
   "cell_type": "code",
   "execution_count": 1,
   "metadata": {},
   "outputs": [
    {
     "name": "stdout",
     "output_type": "stream",
     "text": [
      "enter the first number: 3\n",
      "enter the second number: 3\n",
      "enter the third number: 3\n",
      "average of three number : 3.0 \n",
      "enter three numbers comma separated: 3,3,3\n",
      "avrage of three number :3.0\n"
     ]
    }
   ],
   "source": [
    "#............excersies............\n",
    "\n",
    "#..qustion--> ask your to input 3 number and you have to print average of three number using string formatting.\n",
    "\n",
    "#....Bonus:-- try to take all three comma separeted inputs in one line.\n",
    "\n",
    "num1 = input(\"enter the first number: \")\n",
    "num2 = input(\"enter the second number: \")\n",
    "num3 = input(\"enter the third number: \")\n",
    "print(f\"average of three number : {(int(num1) + int(num2) + int(num3)) /3} \")\n",
    "\n",
    "#...............OR..............\n",
    "\n",
    "num1, num2, num3 = input(\"enter three numbers comma separated: \").split(\",\")\n",
    "print(f\"avrage of three number :{(int(num1) + int(num2) + int(num3)) /3}\")"
   ]
  },
  {
   "cell_type": "code",
   "execution_count": 36,
   "metadata": {},
   "outputs": [
    {
     "name": "stdout",
     "output_type": "stream",
     "text": [
      "a\n",
      "a\n"
     ]
    }
   ],
   "source": [
    "#......STRING INDEXING........\n",
    "\n",
    "language = \"java\"\n",
    "print(language[3])\n",
    "\n",
    "#........TO PRINT A LAST WORD.........\n",
    "\n",
    "language = \"java\"\n",
    "print(language[-1])\n"
   ]
  },
  {
   "cell_type": "code",
   "execution_count": 37,
   "metadata": {},
   "outputs": [
    {
     "name": "stdout",
     "output_type": "stream",
     "text": [
      "pyth\n"
     ]
    }
   ],
   "source": [
    "lang = \"python\"\n",
    "print(lang[0:4])\n"
   ]
  },
  {
   "cell_type": "code",
   "execution_count": null,
   "metadata": {},
   "outputs": [],
   "source": [
    "range (start, stop[, step])\n",
    "range() takes three arguments.\n",
    "Out of the three 2 arguments are optional. \n",
    "I.e., Start and Step are the optional arguments.\n",
    "A start argument is a starting number of the sequence. \n",
    "i.e., lower limit. By default, it starts with 0 if not specified.\n",
    "A stop argument is an upper limit. i.e.generate numbers up to this number, \n",
    "The range()  function doesn’t include this number in the result.\n",
    "The step is a difference between each number in the result. \n",
    "The default value of the step is 1 if not specified."
   ]
  },
  {
   "cell_type": "code",
   "execution_count": 24,
   "metadata": {},
   "outputs": [
    {
     "name": "stdout",
     "output_type": "stream",
     "text": [
      "ars\n",
      "ah\n",
      "hr\n",
      "hst\n",
      "rshit\n",
      "harshit\n",
      "thrh\n",
      "tih\n"
     ]
    }
   ],
   "source": [
    "#..........STEP ARGUMENT.........\n",
    "\n",
    "print(\"harshit\"[1:4:1])\n",
    "print(\"harshit\"[1::3])\n",
    "print(\"harshit\"[:3:2])\n",
    "print(\"harshit\"[::3])\n",
    "print(\"harshit\"[2::])\n",
    "print(\"harshit\"[::])\n",
    "print(\"harshit\"[-1::-2])\n",
    "print(\"harshit\"[:-4:-1])"
   ]
  },
  {
   "cell_type": "code",
   "execution_count": 5,
   "metadata": {},
   "outputs": [
    {
     "name": "stdout",
     "output_type": "stream",
     "text": [
      "enter your age : 23\n",
      "you are above 20\n",
      "you are eligble to this game \n"
     ]
    }
   ],
   "source": [
    "#...............chapter 3..................\n",
    "#.......if statement.........\n",
    "\n",
    "\n",
    "age = input(\"enter your age : \")\n",
    "age = int(age)\n",
    "if age >=20:\n",
    "    print(\"you are above 20\")\n",
    "\n",
    "else:\n",
    "    print(\"Your age less than 20\")\n",
    "print(\"you are eligble to this game \")"
   ]
  },
  {
   "cell_type": "code",
   "execution_count": 11,
   "metadata": {},
   "outputs": [],
   "source": [
    "\n",
    "+#...........pass statement...........\n",
    "\n",
    "a = 50\n",
    "if a >49:\n",
    "    pass"
   ]
  },
  {
   "cell_type": "code",
   "execution_count": 19,
   "metadata": {},
   "outputs": [
    {
     "name": "stdout",
     "output_type": "stream",
     "text": [
      "enter your age : 19\n",
      "sorry you can't play pubg \n"
     ]
    }
   ],
   "source": [
    "#............else statement.............\n",
    "\n",
    "age = input(\"enter your age : \")\n",
    "age = int(age)\n",
    "if age >=20:\n",
    "    print(\"line a\")\n",
    "    print(\"you are above 20\")\n",
    "    print(\"you are eligble to this game \")\n",
    "else:\n",
    "    print(\"sorry you can't play pubg \")"
   ]
  },
  {
   "cell_type": "code",
   "execution_count": 2,
   "metadata": {},
   "outputs": [
    {
     "name": "stdout",
     "output_type": "stream",
     "text": [
      "guess a number b/w 1 and 100 : 30\n",
      "you win !!!\n",
      "😍\n"
     ]
    }
   ],
   "source": [
    "#............ nested if else..............\n",
    "\n",
    "winning_number = 30\n",
    "user_input = input(\"guess a number b/w 1 and 100 : \")\n",
    "user_input = int(user_input)\n",
    "if user_input == winning_number:\n",
    "    print(\"you win !!!\") \n",
    "    print(\"\\U0001F60D\") \n",
    "else:                                #.....nested if else.....\n",
    "    if user_input < winning_number:\n",
    "        print(\"lose the game\")\n",
    "    else:\n",
    "        print(\"lose the game\")"
   ]
  },
  {
   "cell_type": "code",
   "execution_count": 34,
   "metadata": {},
   "outputs": [
    {
     "name": "stdout",
     "output_type": "stream",
     "text": [
      "condition true\n",
      "condition true\n"
     ]
    }
   ],
   "source": [
    "#...........and or opreator.........\n",
    "\n",
    "#......and......\n",
    "\n",
    "name = \"shakti\"\n",
    "age = 23\n",
    "clss = 12\n",
    "if name==\"shakti\" and age==23 and clss==12:\n",
    "    print(\"condition true\")\n",
    "else:\n",
    "    print(\"condition false\")\n",
    "    \n",
    "#......or.......\n",
    "\n",
    "name = \"shakti\"\n",
    "age = 23\n",
    "clss = 12\n",
    "if name==\"shakti\" or age==30 or clss==12:\n",
    "    print(\"condition true\")\n",
    "else:\n",
    "    print(\"condition false\")\n",
    "\n"
   ]
  },
  {
   "cell_type": "code",
   "execution_count": 35,
   "metadata": {},
   "outputs": [
    {
     "name": "stdout",
     "output_type": "stream",
     "text": [
      "enter your name : a\n",
      "enter your age : 15\n",
      "you can watch movie \n"
     ]
    }
   ],
   "source": [
    "#..............exercies..............\n",
    "\n",
    "user_name = input(\"enter your name : \")\n",
    "user_age = input(\"enter your age : \")\n",
    "user_age = int(user_age)\n",
    "if user_age >= 15 and (user_name[0]==\"a\" or user_name[0] ==\"A\"):\n",
    "    print(\"you can watch movie \")\n",
    "else:\n",
    "    print(\"you can't watch movie\")"
   ]
  },
  {
   "cell_type": "code",
   "execution_count": 41,
   "metadata": {},
   "outputs": [
    {
     "name": "stdout",
     "output_type": "stream",
     "text": [
      "please input your age : 3\n",
      "ticket price : free\n"
     ]
    }
   ],
   "source": [
    "#........if......elif......else........\n",
    "\n",
    "age = input(\"please input your age : \")\n",
    "age = int(age)\n",
    "if age==0 or age < 0:\n",
    "    print(\"you can't watch movie\")\n",
    "elif 0<age<=3:\n",
    "    print(\"ticket price : free\")\n",
    "elif 3<age<=10:\n",
    "    print(\"ticket price : 150\")\n",
    "elif 11<age<=60:\n",
    "    print(\"ticket price : 250\")\n",
    "else:\n",
    "    print(\"ticket price : 200\")"
   ]
  },
  {
   "cell_type": "code",
   "execution_count": null,
   "metadata": {},
   "outputs": [],
   "source": []
  },
  {
   "cell_type": "code",
   "execution_count": null,
   "metadata": {},
   "outputs": [],
   "source": []
  },
  {
   "cell_type": "code",
   "execution_count": null,
   "metadata": {},
   "outputs": [],
   "source": []
  },
  {
   "cell_type": "code",
   "execution_count": null,
   "metadata": {},
   "outputs": [],
   "source": []
  },
  {
   "cell_type": "code",
   "execution_count": null,
   "metadata": {},
   "outputs": [],
   "source": []
  },
  {
   "cell_type": "code",
   "execution_count": null,
   "metadata": {},
   "outputs": [],
   "source": []
  }
 ],
 "metadata": {
  "kernelspec": {
   "display_name": "Python 3",
   "language": "python",
   "name": "python3"
  },
  "language_info": {
   "codemirror_mode": {
    "name": "ipython",
    "version": 3
   },
   "file_extension": ".py",
   "mimetype": "text/x-python",
   "name": "python",
   "nbconvert_exporter": "python",
   "pygments_lexer": "ipython3",
   "version": "3.7.3"
  }
 },
 "nbformat": 4,
 "nbformat_minor": 2
}
