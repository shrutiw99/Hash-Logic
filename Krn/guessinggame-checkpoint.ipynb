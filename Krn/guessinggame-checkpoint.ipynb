{
 "cells": [
  {
   "cell_type": "code",
   "execution_count": 1,
   "metadata": {},
   "outputs": [
    {
     "name": "stdout",
     "output_type": "stream",
     "text": [
      "hello world\n"
     ]
    }
   ],
   "source": [
    "print (\"hello world\")"
   ]
  },
  {
   "cell_type": "code",
   "execution_count": 9,
   "metadata": {},
   "outputs": [
    {
     "name": "stdout",
     "output_type": "stream",
     "text": [
      "-3\n",
      "0.4\n",
      "7\n"
     ]
    }
   ],
   "source": [
    "a=2\n",
    "b=5\n",
    "x=a+b\n",
    "y=a-b\n",
    "z=a*b\n",
    "w=a/b\n",
    "print(y)\n",
    "print(w)\n",
    "print(x)\n",
    "\n"
   ]
  },
  {
   "cell_type": "code",
   "execution_count": 13,
   "metadata": {},
   "outputs": [
    {
     "name": "stdout",
     "output_type": "stream",
     "text": [
      "enter value of a4\n",
      "enter value of b6\n",
      "10\n"
     ]
    }
   ],
   "source": [
    "a=int(input(\"enter value of a\"))\n",
    "b=int(input(\"enter value of b\"))\n",
    "x=a+b\n",
    "\n",
    "print(x)"
   ]
  },
  {
   "cell_type": "code",
   "execution_count": 18,
   "metadata": {},
   "outputs": [
    {
     "name": "stdout",
     "output_type": "stream",
     "text": [
      "shruti\"wadhwa\"\n"
     ]
    }
   ],
   "source": [
    "print('shruti\"wadhwa\"')"
   ]
  },
  {
   "cell_type": "code",
   "execution_count": 4,
   "metadata": {},
   "outputs": [
    {
     "name": "stdout",
     "output_type": "stream",
     "text": [
      "this is \\\\\n"
     ]
    }
   ],
   "source": [
    "print(\"this is \\\\\\\\\")"
   ]
  },
  {
   "cell_type": "code",
   "execution_count": null,
   "metadata": {},
   "outputs": [],
   "source": [
    "a1= 'himanshu'\n",
    "a2= ' singla'\n",
    "a3= a1 + a2\n",
    "print(a2 + a1)\n",
    "print(a1+\"3\")\n",
    "print( 6* \"a3\\n\")"
   ]
  },
  {
   "cell_type": "code",
   "execution_count": 15,
   "metadata": {},
   "outputs": [
    {
     "name": "stdout",
     "output_type": "stream",
     "text": [
      "enter your age25\n",
      "your age is 25\n",
      "enter your namehimanshu\n",
      "your name is himanshu\n"
     ]
    }
   ],
   "source": [
    "age=int(input('enter your age'))\n",
    "print(\"your age is \" + str(age))\n",
    "name=input('enter your name')\n",
    "print('your name is ' + name)"
   ]
  },
  {
   "cell_type": "code",
   "execution_count": 21,
   "metadata": {},
   "outputs": [
    {
     "name": "stdout",
     "output_type": "stream",
     "text": [
      "enter first number5\n",
      "enter second number4\n",
      "sum of two numbers is 9\n"
     ]
    }
   ],
   "source": [
    "a1=int(input(\"enter first number\"))\n",
    "a2=int(input(\"enter second number\"))\n",
    "sum= a1 + a2\n",
    "print(\"sum of two numbers is \" + str(sum))"
   ]
  },
  {
   "cell_type": "code",
   "execution_count": 9,
   "metadata": {},
   "outputs": [
    {
     "name": "stdout",
     "output_type": "stream",
     "text": [
      "enter your name and age himanshu,25\n",
      "himanshu 25\n"
     ]
    }
   ],
   "source": [
    "name,age = input(\"enter your name and age \").split(\",\")\n",
    "print(name,age)"
   ]
  },
  {
   "cell_type": "code",
   "execution_count": 10,
   "metadata": {},
   "outputs": [
    {
     "name": "stdout",
     "output_type": "stream",
     "text": [
      "name:himashu\n",
      "age:25\n",
      "himashu 25\n"
     ]
    }
   ],
   "source": [
    "name,age=input(\"name:\"), input(\"age:\")\n",
    "print(name,age)"
   ]
  },
  {
   "cell_type": "code",
   "execution_count": 11,
   "metadata": {},
   "outputs": [
    {
     "name": "stdout",
     "output_type": "stream",
     "text": [
      "hello himashu your age is25\n"
     ]
    }
   ],
   "source": [
    "print(f\"hello {name} your age is{age}\" )"
   ]
  },
  {
   "cell_type": "code",
   "execution_count": 19,
   "metadata": {},
   "outputs": [
    {
     "name": "stdout",
     "output_type": "stream",
     "text": [
      "enter your name and age :himanshu,25\n",
      "your name and age is('himanshu', '25')\n"
     ]
    }
   ],
   "source": [
    "name,age=input(\"enter your name and age :\").split(\",\")\n",
    "print(f\"your name and age is{name,age}\")"
   ]
  },
  {
   "cell_type": "code",
   "execution_count": 18,
   "metadata": {},
   "outputs": [
    {
     "name": "stdout",
     "output_type": "stream",
     "text": [
      "enter value of num_1,num_2,num_3 6,9,12\n",
      "avg of numbers is 9\n"
     ]
    }
   ],
   "source": [
    "num_1,num_2,num_3=input(\"enter value of num_1,num_2,num_3 \").split(\",\")\n",
    "print(f\"avg of numbers is {(int(num_1)+int(num_2)+int(num_3))//3}\")"
   ]
  },
  {
   "cell_type": "code",
   "execution_count": 24,
   "metadata": {},
   "outputs": [
    {
     "name": "stdout",
     "output_type": "stream",
     "text": [
      "enter name and charhimanshu,h\n",
      "charcter count is (1, 1)\n"
     ]
    }
   ],
   "source": [
    "name,char=input(\"enter name and char\").split(\",\")\n",
    "print(f\"charcter count is {name.count(name),char.count(char)}\")"
   ]
  },
  {
   "cell_type": "code",
   "execution_count": 1,
   "metadata": {},
   "outputs": [
    {
     "name": "stdout",
     "output_type": "stream",
     "text": [
      "enter your age: 25\n",
      "you are above 20\n",
      "you are eligible for the game\n"
     ]
    }
   ],
   "source": [
    "age=int(input(\"enter your age: \"))\n",
    "if age >=20:\n",
    "    print(\"you are above 20\")\n",
    "else:\n",
    "    print(\"your age is less then 20\")\n",
    "print(\"you are eligible for the game\")"
   ]
  },
  {
   "cell_type": "code",
   "execution_count": 11,
   "metadata": {},
   "outputs": [
    {
     "name": "stdout",
     "output_type": "stream",
     "text": [
      "uhs\n"
     ]
    }
   ],
   "source": [
    "name=\"himanshu\"\n",
    "print(name[-1:-4:-1])"
   ]
  },
  {
   "cell_type": "code",
   "execution_count": 33,
   "metadata": {},
   "outputs": [
    {
     "name": "stdout",
     "output_type": "stream",
     "text": [
      "enter value of number0\n",
      "number is neither odd nor even\n"
     ]
    }
   ],
   "source": [
    "number=int(input(\"enter value of number\"))\n",
    "if number%2==0:\n",
    "    if number==0:\n",
    "      print(\"number is neither odd nor even\")\n",
    "    else:\n",
    "      print(\"number is even\")\n",
    "else:\n",
    "    print(\"number is odd\")\n"
   ]
  },
  {
   "cell_type": "code",
   "execution_count": 25,
   "metadata": {},
   "outputs": [
    {
     "ename": "SyntaxError",
     "evalue": "invalid syntax (<ipython-input-25-a86fcaef97b2>, line 1)",
     "output_type": "error",
     "traceback": [
      "\u001b[0;36m  File \u001b[0;32m\"<ipython-input-25-a86fcaef97b2>\"\u001b[0;36m, line \u001b[0;32m1\u001b[0m\n\u001b[0;31m    number=int(\"input(enter value of number\"))\u001b[0m\n\u001b[0m                                             ^\u001b[0m\n\u001b[0;31mSyntaxError\u001b[0m\u001b[0;31m:\u001b[0m invalid syntax\n"
     ]
    }
   ],
   "source": [
    "number=int(\"input(enter value of number\"))\n",
    "if number%2==0:\n",
    "    print(\"number is even\")\n",
    "elif number\n"
   ]
  },
  {
   "cell_type": "code",
   "execution_count": 21,
   "metadata": {},
   "outputs": [
    {
     "name": "stdout",
     "output_type": "stream",
     "text": [
      "enter value of a1 2\n",
      "enter value of a2 4\n",
      "enter value of a3 4\n",
      "a2 and a3 are equal and are gretarer than a1\n"
     ]
    }
   ],
   "source": [
    "a1=int(input(\"enter value of a1 \"))\n",
    "a2=int(input(\"enter value of a2 \"))\n",
    "a3=int(input(\"enter value of a3 \"))\n",
    "if a1>a2 and a1>a3:\n",
    " print(\"a1 is greater\")\n",
    "elif a2>a1 and a2>a3:\n",
    " print(\"a2 is greater\")\n",
    "elif a1==a2 and a2==a3:\n",
    "    print(\"all numbers are equal\")\n",
    "elif a1==a2 and a3<a1:\n",
    "    print(\"a1 and a2 are equal and are greater than a3\")\n",
    "elif a1==a3 and a2<a1:\n",
    "    print(\"a1 and a3 are equal and are greater than a2\")\n",
    "elif a2==a3 and a1<a2:\n",
    "    print(\"a2 and a3 are equal and are gretarer than a1\")\n",
    "else:\n",
    " print(\"a3 is greater\")"
   ]
  },
  {
   "cell_type": "code",
   "execution_count": 37,
   "metadata": {},
   "outputs": [
    {
     "name": "stdout",
     "output_type": "stream",
     "text": [
      "enter the letter 5\n",
      "incorrect value\n"
     ]
    }
   ],
   "source": [
    "alphabet= input(\"enter the letter \")\n",
    "if alphabet== \"a\" or alphabet==\"e\" or alphabet==\"i\" or alphabet==\"o\" or alphabet==\"u\" or alphabet== \"A\" or alphabet==\"E\" or alphabet==\"I\" or alphabet==\"O\" or alphabet==\"U\": \n",
    "    print(\"alphabet is a vowel \")\n",
    "    \n",
    "elif ((alphabet>='a' and alphabet<= 'z') or (alphabet>='A' and alphabet<='Z')):\n",
    "    print(\"alphabet is consonent\")\n",
    "\n",
    "else:\n",
    "    print(\"incorrect value\")"
   ]
  },
  {
   "cell_type": "code",
   "execution_count": 16,
   "metadata": {},
   "outputs": [
    {
     "name": "stdout",
     "output_type": "stream",
     "text": [
      "enter the value 56\n",
      "value is greater then correct ans, enter value again 58\n",
      "value is greater then correct ans, enter value again 55\n",
      "you won the game\n"
     ]
    }
   ],
   "source": [
    "correct_value = 55\n",
    "guessing_value=int(input(\"enter the value \"))\n",
    "if guessing_value<correct_value:\n",
    "    second_chance=int(input(\"value is less then correct ans, enter value again \"))\n",
    "    if second_chance<correct_value:\n",
    "        third_chance=int(input(\"value is less then correct ans, enter value again\"))\n",
    "        if third_chance<correct_value:\n",
    "            print(\"value does not match, you loose the game:\")\n",
    "        elif third_chance==correct_value:\n",
    "            print(\"you won the game\")\n",
    "        else:\n",
    "            print(\"value does not match, you loose the game\")\n",
    "    else:\n",
    "        if second_chance>correct_value:\n",
    "            third_chance=int(input(\"value is greater then correct ans, enter value again \"))\n",
    "            if third_chance>correct_value:\n",
    "                print(\"value does not match, you loose the game\")\n",
    "            \n",
    "            elif third_chance==correct_value:\n",
    "                print(\"you won the game\")\n",
    "            else:\n",
    "                print(\"value does not match, you loose the game\")\n",
    "elif guessing_value==correct_value:\n",
    "    print(\"you won the game\")\n",
    "else:\n",
    "     if guessing_value>correct_value:\n",
    "        second_chance=int(input(\"value is greater then correct ans, enter value again \"))\n",
    "        if second_chance<correct_value:\n",
    "            third_chance=int(input(\"value is less then correct ans, enter value again\"))\n",
    "            if third_chance<correct_value:\n",
    "                print(\"value does not match, you loose the game\")\n",
    "            elif third_chance==correct_value:\n",
    "                print(\"you won the game\")\n",
    "            else:\n",
    "                print(\"value does not match, you loose the game\")\n",
    "        \n",
    "        else:\n",
    "            if second_chance>correct_value:\n",
    "                third_chance=int(input(\"value is greater then correct ans, enter value again \"))\n",
    "                if third_chance<correct_value:\n",
    "                    print(\"value does not match, you loose the game\")\n",
    "                elif  third_chance==correct_value:\n",
    "                    print(\"you won the game\")\n",
    "                else:\n",
    "                    print(\"value does not match, you loose the game\")\n",
    "    \n",
    "            \n",
    "            \n",
    "        \n",
    "    \n",
    "    \n",
    "        \n",
    "    \n",
    "    \n",
    "   \n",
    "        \n",
    "       \n",
    "   \n",
    "    \n",
    "        \n",
    "\n",
    "\n",
    " "
   ]
  },
  {
   "cell_type": "code",
   "execution_count": 1,
   "metadata": {},
   "outputs": [
    {
     "name": "stdout",
     "output_type": "stream",
     "text": [
      "24\n"
     ]
    }
   ],
   "source": [
    "x=23\n",
    "x=x+1\n",
    "print(x)"
   ]
  },
  {
   "cell_type": "code",
   "execution_count": 4,
   "metadata": {},
   "outputs": [
    {
     "name": "stdout",
     "output_type": "stream",
     "text": [
      "enter value in celsius: 9\n",
      "value in fahrenheit is: 48.2\n"
     ]
    }
   ],
   "source": [
    "celsius=int(input(\"enter value in celsius: \"))\n",
    "fahrenheit=9/5*celsius+32\n",
    "print(\"value in fahrenheit is: \" + str(fahrenheit))"
   ]
  },
  {
   "cell_type": "code",
   "execution_count": 15,
   "metadata": {},
   "outputs": [
    {
     "name": "stdout",
     "output_type": "stream",
     "text": [
      "enter number of hours45\n",
      "number of hours gretaer than 405\n",
      "new_salary is: 475\n"
     ]
    }
   ],
   "source": [
    "salary=10\n",
    "time=int(input(\"enter number of hours\"))\n",
    "if time>40:\n",
    "    print(\"new_salary is: \" + str(400+15*int(input(\"number of hours gretaer than 40\"))))\n",
    "else:\n",
    "    print(\"no exta hours recorded, salary is: \" + str(salary*time))"
   ]
  },
  {
   "cell_type": "code",
   "execution_count": null,
   "metadata": {},
   "outputs": [],
   "source": []
  }
 ],
 "metadata": {
  "kernelspec": {
   "display_name": "Python 3",
   "language": "python",
   "name": "python3"
  },
  "language_info": {
   "codemirror_mode": {
    "name": "ipython",
    "version": 3
   },
   "file_extension": ".py",
   "mimetype": "text/x-python",
   "name": "python",
   "nbconvert_exporter": "python",
   "pygments_lexer": "ipython3",
   "version": "3.7.6"
  }
 },
 "nbformat": 4,
 "nbformat_minor": 4
}
