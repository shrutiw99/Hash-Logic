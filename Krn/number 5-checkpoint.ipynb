{
 "cells": [
  {
   "cell_type": "code",
   "execution_count": 1,
   "metadata": {},
   "outputs": [
    {
     "name": "stdout",
     "output_type": "stream",
     "text": [
      "1 \n",
      "1 2 \n",
      "1 2 3 \n",
      "1 2 3 4 \n",
      "1 2 3 4 5 \n"
     ]
    }
   ],
   "source": [
    "num = 6\n",
    "for i in range(1, num):\n",
    "    for j in range(1, i + 1):\n",
    "        print(j, end=' ')\n",
    "    print(\"\")"
   ]
  },
  {
   "cell_type": "code",
   "execution_count": 2,
   "metadata": {},
   "outputs": [
    {
     "name": "stdout",
     "output_type": "stream",
     "text": [
      "1 \n",
      "1 2 \n",
      "1 2 3 \n",
      "1 2 3 4 \n",
      "1 2 3 4 5 \n"
     ]
    }
   ],
   "source": [
    "num = 6\n",
    "for i in range(1, num):\n",
    "    for j in range(1, i + 1):\n",
    "        print(j, end=' ')\n",
    "    print(\"\")"
   ]
  },
  {
   "cell_type": "code",
   "execution_count": 9,
   "metadata": {},
   "outputs": [
    {
     "name": "stdout",
     "output_type": "stream",
     "text": [
      "a,b,c\n",
      "boa\n",
      "a,b,c\n",
      "cat\n",
      "a,b,c\n",
      "dog\n"
     ]
    }
   ],
   "source": [
    "pets = ['boa', 'cat', 'dog']\n",
    "for pet in pets:\n",
    "    print('a','b','c',sep=\",\")\n",
    "    print(pet)"
   ]
  },
  {
   "cell_type": "code",
   "execution_count": 13,
   "metadata": {},
   "outputs": [
    {
     "ename": "SyntaxError",
     "evalue": "invalid syntax (<ipython-input-13-1ab63c2978ec>, line 3)",
     "output_type": "error",
     "traceback": [
      "\u001b[1;36m  File \u001b[1;32m\"<ipython-input-13-1ab63c2978ec>\"\u001b[1;36m, line \u001b[1;32m3\u001b[0m\n\u001b[1;33m    if l ==0 b:\u001b[0m\n\u001b[1;37m             ^\u001b[0m\n\u001b[1;31mSyntaxError\u001b[0m\u001b[1;31m:\u001b[0m invalid syntax\n"
     ]
    }
   ],
   "source": [
    "l=int(input(\" lingh\"))\n",
    "b=int(input(\"breath\"))\n",
    "if l ==0 b:\n",
    "    print(\"\"it's square\")\n",
    "else:\n",
    "          print(\"its not an square\")"
   ]
  },
  {
   "cell_type": "code",
   "execution_count": 14,
   "metadata": {},
   "outputs": [
    {
     "name": "stdout",
     "output_type": "stream",
     "text": [
      "enter number5\n",
      "enter 2nd number6\n",
      "6\n"
     ]
    }
   ],
   "source": [
    "a=int(input(\"enter number\"))\n",
    "b=int(input(\"enter 2nd number\"))\n",
    "if a>b:\n",
    "    print(a)\n",
    "else:\n",
    "    print(b)"
   ]
  },
  {
   "cell_type": "code",
   "execution_count": 20,
   "metadata": {},
   "outputs": [
    {
     "name": "stdout",
     "output_type": "stream",
     "text": [
      "write quantity you want20\n",
      "1800.0\n"
     ]
    }
   ],
   "source": [
    "quantity=int(input(\"write quantity you want\"))\n",
    "price=quantity*100\n",
    "quantity*100\n",
    "if price>=1000:\n",
    "    disc=10/100*price\n",
    "    print( price-disc)\n",
    "else:\n",
    "    print(\"not elegible for \")\n"
   ]
  },
  {
   "cell_type": "code",
   "execution_count": 23,
   "metadata": {},
   "outputs": [
    {
     "name": "stdout",
     "output_type": "stream",
     "text": [
      "write service year 6\n",
      "enter salary 50000\n",
      "52500.0\n"
     ]
    }
   ],
   "source": [
    "SY=int(input(\"write service year \"))\n",
    "salary=int(input(\"enter salary \"))\n",
    "if SY > 5:\n",
    "    bonous=5/100*salary\n",
    "    print(salary+bonous)\n",
    "else:\n",
    "    print(\"you'r not eligible\")"
   ]
  },
  {
   "cell_type": "code",
   "execution_count": 67,
   "metadata": {},
   "outputs": [
    {
     "name": "stdout",
     "output_type": "stream",
     "text": [
      "enter 1st person age 5\n",
      "enter 2nd person age 5\n",
      "enter 3rd person age 5\n",
      "1st person is oldest \n",
      "2nd person is oldest\n",
      "3rd person is oldest\n"
     ]
    }
   ],
   "source": [
    "age1=int(input(\"enter 1st person age \"))\n",
    "age2=int(input(\"enter 2nd person age \"))\n",
    "age3=int(input(\"enter 3rd person age \"))\n",
    "if age1 >= age2 and age1 >= age3:\n",
    "    print(\"1st person is oldest \")\n",
    "if age2 >= age1 and age2 >= age3:\n",
    "    print(\"2nd person is oldest\")\n",
    "if age3 >= age1 and age3 >= age2:\n",
    "    print(\"3rd person is oldest\")\n"
   ]
  },
  {
   "cell_type": "code",
   "execution_count": 69,
   "metadata": {},
   "outputs": [
    {
     "name": "stdout",
     "output_type": "stream",
     "text": [
      "enter the number-1\n",
      "1\n"
     ]
    }
   ],
   "source": [
    "num=int(input(\"enter the number\"))\n",
    "if num<0:\n",
    "    print(num*-1)\n"
   ]
  },
  {
   "cell_type": "code",
   "execution_count": 56,
   "metadata": {
    "scrolled": true
   },
   "outputs": [
    {
     "name": "stdout",
     "output_type": "stream",
     "text": [
      "number of classes held 50\n",
      "number of classes attend 10\n",
      "percetange 20.0\n",
      " medical  Y/Ny\n",
      "your allow\n"
     ]
    }
   ],
   "source": [
    "held=int(input(\"number of classes held \"))\n",
    "attend=int(input(\"number of classes attend \"))\n",
    "num = attend/held*100\n",
    "print (\"percetange\" ,num) \n",
    "med=str(input(\" medical  Y/N\"))\n",
    "if med == 'y':\n",
    "    print(\"your allow\")\n",
    "elif num >= 75:\n",
    "    print(\"allow to take exam\")\n",
    "else:\n",
    "    print(\"detain\")"
   ]
  },
  {
   "cell_type": "code",
   "execution_count": 59,
   "metadata": {},
   "outputs": [
    {
     "name": "stdout",
     "output_type": "stream",
     "text": [
      "enter 4 digit number 4561\n"
     ]
    }
   ],
   "source": [
    "num=int(input(\"enter 4 digit number \"))\n",
    "for i in range"
   ]
  },
  {
   "cell_type": "code",
   "execution_count": 70,
   "metadata": {},
   "outputs": [
    {
     "ename": "SyntaxError",
     "evalue": "invalid syntax (<ipython-input-70-05b17a945d36>, line 4)",
     "output_type": "error",
     "traceback": [
      "\u001b[1;36m  File \u001b[1;32m\"<ipython-input-70-05b17a945d36>\"\u001b[1;36m, line \u001b[1;32m4\u001b[0m\n\u001b[1;33m    if gender==M and age<20 and age>40\u001b[0m\n\u001b[1;37m                                      ^\u001b[0m\n\u001b[1;31mSyntaxError\u001b[0m\u001b[1;31m:\u001b[0m invalid syntax\n"
     ]
    }
   ],
   "source": [
    "male=str(input(\"  gernder \"))\n",
    "mstatus=str(input(\" Y/N\" ))\n",
    "age=int(input(\" enter your age \"))\n",
    "if gender==M and age<20 and age>40\n",
    "    print(\" you may work in urban area only \")\n",
    "elif \n",
    "    \n"
   ]
  },
  {
   "cell_type": "code",
   "execution_count": 75,
   "metadata": {},
   "outputs": [
    {
     "name": "stdout",
     "output_type": "stream",
     "text": [
      "enter string valuekrn\n",
      "the character is  k\n",
      "the character is  r\n",
      "the character is  n\n"
     ]
    }
   ],
   "source": [
    "string= str(input(\"enter string value \"))\n",
    "for i in range(len(string)):\n",
    "    print(\"the character is \",string[i])"
   ]
  },
  {
   "cell_type": "code",
   "execution_count": null,
   "metadata": {},
   "outputs": [],
   "source": [
    "#incompleat\n",
    "a= \"refgritor\"\n",
    "count = 0\n",
    "fir i in range"
   ]
  },
  {
   "cell_type": "code",
   "execution_count": 77,
   "metadata": {},
   "outputs": [
    {
     "name": "stdout",
     "output_type": "stream",
     "text": [
      "True\n"
     ]
    }
   ],
   "source": [
    "print (\"e\" in \"umbrela\")\n"
   ]
  },
  {
   "cell_type": "code",
   "execution_count": 79,
   "metadata": {},
   "outputs": [
    {
     "name": "stdout",
     "output_type": "stream",
     "text": [
      "True\n"
     ]
    }
   ],
   "source": [
    "a= \"this is orange juice\"\n",
    "print('orange' in a.split())"
   ]
  },
  {
   "cell_type": "code",
   "execution_count": 80,
   "metadata": {},
   "outputs": [
    {
     "name": "stdout",
     "output_type": "stream",
     "text": [
      "True\n"
     ]
    }
   ],
   "source": [
    "print(\"orange\" in \"this is orange juice\")"
   ]
  },
  {
   "cell_type": "code",
   "execution_count": 87,
   "metadata": {},
   "outputs": [
    {
     "name": "stdout",
     "output_type": "stream",
     "text": [
      "5\n",
      "9\n"
     ]
    }
   ],
   "source": [
    "#write a string after first occurance of',' and thr string after the last occurance of',' in the string \"hello,good, moring.world.\"'\n",
    "a=\"hello, world\"\n",
    "for i in range(len(a)):\n",
    "    if a[i]==\"o\":\n",
    "        print(i+1)"
   ]
  },
  {
   "cell_type": "code",
   "execution_count": 92,
   "metadata": {},
   "outputs": [
    {
     "ename": "SyntaxError",
     "evalue": "invalid syntax (<ipython-input-92-9e2d0b04d082>, line 7)",
     "output_type": "error",
     "traceback": [
      "\u001b[1;36m  File \u001b[1;32m\"<ipython-input-92-9e2d0b04d082>\"\u001b[1;36m, line \u001b[1;32m7\u001b[0m\n\u001b[1;33m    print(\"position of , are\" i)\u001b[0m\n\u001b[1;37m                              ^\u001b[0m\n\u001b[1;31mSyntaxError\u001b[0m\u001b[1;31m:\u001b[0m invalid syntax\n"
     ]
    }
   ],
   "source": [
    "a=\"hello world\"\n",
    "for i in range((a)):\n",
    "    \n",
    "    if a[i]=='o':\n",
    "        print(\"position of o are \",i ) \n",
    "    elif a[i]==',':\n",
    "        print(\"position of , are\" i)\n",
    "        "
   ]
  },
  {
   "cell_type": "code",
   "execution_count": 102,
   "metadata": {},
   "outputs": [
    {
     "name": "stdout",
     "output_type": "stream",
     "text": [
      "ello ,have a good day\n",
      "elo ,have a good day\n",
      "eo ,have a good day\n",
      "eo,have a good day\n",
      "eohave a good day\n",
      "eoave a good day\n",
      "eoae a good day\n",
      "eoaea good day\n",
      "eoaeagood day\n",
      "eoaeaood day\n",
      "eoaeaoo day\n",
      "eoaeaooday\n",
      "eoaeaooay\n",
      "eoaeaooa\n"
     ]
    }
   ],
   "source": [
    "a=['a','e','i','o','u','A','E','I','O','U' ' ']\n",
    "b=\"hello ,have a good day\"\n",
    "c=\"\"\n",
    "for i in b:\n",
    "    if i not in a:\n",
    "        b=b[:b.index(i)]+b[b.index(i)+1:]\n",
    "        print(b)       \n"
   ]
  },
  {
   "cell_type": "code",
   "execution_count": 99,
   "metadata": {},
   "outputs": [
    {
     "name": "stdout",
     "output_type": "stream",
     "text": [
      "e\n",
      "eo\n",
      "eoa\n",
      "eoae\n",
      "eoaea\n",
      "eoaeao\n",
      "eoaeaoo\n",
      "eoaeaooa\n"
     ]
    }
   ],
   "source": [
    "#at e\n",
    "a=['a','e','i','o','u','A','E','I','O','U' ' ']\n",
    "b=\"hello ,have a good day\"\n",
    "c=\"\"\n",
    "for i in b:\n",
    "    if i not in a:\n",
    "        continue\n",
    "    else:\n",
    "        c=c+i\n",
    "    print(c)"
   ]
  },
  {
   "cell_type": "code",
   "execution_count": 104,
   "metadata": {},
   "outputs": [
    {
     "name": "stdout",
     "output_type": "stream",
     "text": [
      "e o a e a o o a "
     ]
    }
   ],
   "source": [
    "vovel=['a','e','i','o','u','A','E','I','O','U' ' ']\n",
    "a=\"hello ,have a good day\"\n",
    "for i in a:\n",
    "    \n",
    "    if i in vovel:\n",
    "        print(i,end=\" \")"
   ]
  },
  {
   "cell_type": "code",
   "execution_count": 107,
   "metadata": {},
   "outputs": [
    {
     "name": "stdout",
     "output_type": "stream",
     "text": [
      "enter string karak\n",
      "karak\n",
      "karak\n",
      "True\n"
     ]
    }
   ],
   "source": [
    "string=input(\"enter string \")\n",
    "print(string[:])\n",
    "print(string[::-1])\n",
    "print(string[:]==string[::-1])"
   ]
  },
  {
   "cell_type": "code",
   "execution_count": 114,
   "metadata": {},
   "outputs": [
    {
     "name": "stdout",
     "output_type": "stream",
     "text": [
      "first string karan chauhan\n",
      "knaarhauna\n"
     ]
    }
   ],
   "source": [
    "s1,s2= input(\"first string \") .split()\n",
    "word=\"\"\n",
    "lens2=len(s2)\n",
    "for i in range(len(s1)):\n",
    "    word+=s1[i]+s2[lens2-1]\n",
    "    lens2-=1\n",
    "print(word)"
   ]
  },
  {
   "cell_type": "code",
   "execution_count": 117,
   "metadata": {},
   "outputs": [
    {
     "name": "stdout",
     "output_type": "stream",
     "text": [
      "new string:  azbycx\n"
     ]
    }
   ],
   "source": [
    "s1=\"abc\"\n",
    "s2=\"xyz\"\n",
    "m=\"\"\n",
    "i=0\n",
    "while i < len(s1):\n",
    "    for j in s2[::-1]:\n",
    "        m=m+s1[i]+j\n",
    "        i=i+1\n",
    "print(\"new string: \",m )"
   ]
  },
  {
   "cell_type": "code",
   "execution_count": null,
   "metadata": {},
   "outputs": [],
   "source": []
  }
 ],
 "metadata": {
  "kernelspec": {
   "display_name": "Python 3",
   "language": "python",
   "name": "python3"
  },
  "language_info": {
   "codemirror_mode": {
    "name": "ipython",
    "version": 3
   },
   "file_extension": ".py",
   "mimetype": "text/x-python",
   "name": "python",
   "nbconvert_exporter": "python",
   "pygments_lexer": "ipython3",
   "version": "3.8.5"
  }
 },
 "nbformat": 4,
 "nbformat_minor": 4
}
