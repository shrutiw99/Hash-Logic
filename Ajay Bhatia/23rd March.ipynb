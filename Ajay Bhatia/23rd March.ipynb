{
 "cells": [
  {
   "cell_type": "code",
   "execution_count": 5,
   "metadata": {},
   "outputs": [
    {
     "name": "stdout",
     "output_type": "stream",
     "text": [
      "Enter the string: AjayBHAtia\n",
      "jaytiaABHA\n"
     ]
    }
   ],
   "source": [
    "# ARRANGE STRING CHARACTERS SUCH THAT LOWERCASE LETTERS SHOULD COME FIRST\n",
    "string = input(\"Enter the string: \")\n",
    "low = \"\"\n",
    "word = \"\"\n",
    "for i in range(len(string)):\n",
    "    if ord(string[i]) >= 97 and ord(string[i]) <= 122:\n",
    "        low = low + string[i]\n",
    "    else:\n",
    "        word = word + string[i]\n",
    "print(low + word)        "
   ]
  },
  {
   "cell_type": "code",
   "execution_count": 21,
   "metadata": {},
   "outputs": [
    {
     "name": "stdout",
     "output_type": "stream",
     "text": [
      "Enter 1st string: Ronaldo\n",
      "Enter 2nd string: Messi\n",
      "New string is RMasoi\n"
     ]
    }
   ],
   "source": [
    "# FROM 2 STRINGS,RETURN NEW STRING MADE OF 1ST,MIDDLE AND LAST CHARACTERS OF EACH STRING\n",
    "s1 = input(\"Enter 1st string: \")\n",
    "s2 = input(\"Enter 2nd string: \")\n",
    "print(\"New string is \" + s1[0] + s2[0] + s1[len(s1) // 2] + s2[len(s2) // 2] + s1[len(s1) - 1] + s2[len(s2) - 1])"
   ]
  },
  {
   "cell_type": "code",
   "execution_count": 17,
   "metadata": {},
   "outputs": [],
   "source": [
    "  "
   ]
  }
 ],
 "metadata": {
  "kernelspec": {
   "display_name": "Python 3",
   "language": "python",
   "name": "python3"
  },
  "language_info": {
   "codemirror_mode": {
    "name": "ipython",
    "version": 3
   },
   "file_extension": ".py",
   "mimetype": "text/x-python",
   "name": "python",
   "nbconvert_exporter": "python",
   "pygments_lexer": "ipython3",
   "version": "3.8.5"
  }
 },
 "nbformat": 4,
 "nbformat_minor": 4
}
