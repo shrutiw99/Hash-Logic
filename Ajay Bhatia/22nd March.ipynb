{
 "cells": [
  {
   "cell_type": "code",
   "execution_count": 4,
   "metadata": {},
   "outputs": [
    {
     "name": "stdout",
     "output_type": "stream",
     "text": [
      "Enter the string: aastha sharma\n",
      "a s\n"
     ]
    }
   ],
   "source": [
    "# ODD LENGTH STRING OF LENGTH GREATER THAN 7 MADE OF MIDDLE THREE CHARACTERS\n",
    "string = input(\"Enter the string: \")\n",
    "if len(string) % 2 == 0 or len(string) <= 7:\n",
    "    print(\"Enter the string of odd length whose length is greater than 7\")\n",
    "else:\n",
    "    print(string[(len(string)) // 2 - 1 : (len(string)) // 2 + 2])\n",
    "    "
   ]
  },
  {
   "cell_type": "code",
   "execution_count": 30,
   "metadata": {},
   "outputs": [
    {
     "name": "stdout",
     "output_type": "stream",
     "text": [
      "Last Emma is at position 9\n"
     ]
    }
   ],
   "source": [
    "# FIND THE LAST POSITION OF \"EMMA\" IN A GIVEN STRING\n",
    "str1 = \"Emma is a data scientist who knows Python. Emma works at google.\"\n",
    "str1 = str1.split()\n",
    "for j in range(-1,-len(str1)-1,-1):\n",
    "    if str1[j] == \"Emma\":\n",
    "        print(\"Last Emma is at position\",len(string)-(-j) + 1)\n",
    "        break\n",
    "         \n",
    "        "
   ]
  },
  {
   "cell_type": "code",
   "execution_count": 37,
   "metadata": {},
   "outputs": [
    {
     "name": "stdout",
     "output_type": "stream",
     "text": [
      "Enter the string: My name is Ajay Bhatia\n",
      "My-name-is-Ajay-Bhatia\n"
     ]
    }
   ],
   "source": [
    "# SPLIT A GIVEN STRING ON HYPHENS INTO SEVERAL SUBSTRINGS AND DISPLAY EACH SUBSTRING\n",
    "string = input(\"Enter the string: \")\n",
    "string = string.split()\n",
    "word=\"\"\n",
    "for i in range(len(string)):\n",
    "    if i < len(string) - 1:\n",
    "        word = word + string[i] + \"-\"\n",
    "    if i == len(string) - 1:\n",
    "        word = word + string[i] \n",
    "print(word)    "
   ]
  },
  {
   "cell_type": "code",
   "execution_count": 41,
   "metadata": {},
   "outputs": [
    {
     "name": "stdout",
     "output_type": "stream",
     "text": [
      "['Emma', 'Jon', 'Kelly', 'Eric']\n"
     ]
    }
   ],
   "source": [
    "# REMOVE EMPTY STRINGS FROM A LIST OF STRINGS\n",
    "str_list = [\"Emma\", \"Jon\", \"\", \"Kelly\", None, \"Eric\", \"\"]\n",
    "word = \"\"\n",
    "for i in range(len(str_list)):\n",
    "    if str_list[i] == \"\":\n",
    "        continue\n",
    "    if str_list[i] is None:\n",
    "        continue\n",
    "    else:\n",
    "        word = word + \" \" + str_list[i]\n",
    "word = word.split()\n",
    "print(word)"
   ]
  },
  {
   "cell_type": "code",
   "execution_count": 52,
   "metadata": {},
   "outputs": [
    {
     "name": "stdout",
     "output_type": "stream",
     "text": [
      "Enter the 1st string: my name is ajay\n",
      "Enter the 2nd string: how are you\n",
      "New string is ['my', 'name', ['how', 'are', 'you'], 'is', 'ajay']\n"
     ]
    }
   ],
   "source": [
    "# GIVEN 2 STRINGS S1 AND S2,CREATE NEW STRING BY APPENDING S2 IN MIDDLE OF S1\n",
    "s1 = input(\"Enter the 1st string: \")\n",
    "s2 = input(\"Enter the 2nd string: \")\n",
    "s1 = s1.split()\n",
    "s2 = s2.split()\n",
    "s1.insert(len(s1) // 2 , s2)\n",
    "print(\"New string is\",s1)"
   ]
  }
 ],
 "metadata": {
  "kernelspec": {
   "display_name": "Python 3",
   "language": "python",
   "name": "python3"
  },
  "language_info": {
   "codemirror_mode": {
    "name": "ipython",
    "version": 3
   },
   "file_extension": ".py",
   "mimetype": "text/x-python",
   "name": "python",
   "nbconvert_exporter": "python",
   "pygments_lexer": "ipython3",
   "version": "3.8.5"
  }
 },
 "nbformat": 4,
 "nbformat_minor": 4
}
