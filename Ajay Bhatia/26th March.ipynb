{
 "cells": [
  {
   "cell_type": "code",
   "execution_count": 11,
   "metadata": {},
   "outputs": [
    {
     "name": "stdout",
     "output_type": "stream",
     "text": [
      "14 x 1 = 14\n",
      "14 x 2 = 28\n",
      "14 x 3 = 42\n",
      "14 x 4 = 56\n",
      "14 x 5 = 70\n",
      "14 x 6 = 84\n",
      "14 x 7 = 98\n",
      "14 x 8 = 112\n",
      "14 x 9 = 126\n",
      "14 x 10 = 140\n"
     ]
    }
   ],
   "source": [
    "# PRINT MULTIPLICATION TABLE OF 14 FROM LIST IN WHICH MULTIPLICATION TABLE OF \n",
    "# 12 IS STORED\n",
    "list = [12,24,36,48,60,72,84,96,108,120]\n",
    "j = 1\n",
    "for i in list:\n",
    "    print(\"14 x\",j,\"=\",i + j * 2 )\n",
    "    j = j + 1"
   ]
  },
  {
   "cell_type": "code",
   "execution_count": 15,
   "metadata": {},
   "outputs": [
    {
     "name": "stdout",
     "output_type": "stream",
     "text": [
      "[4, 9, 49, 16, 64, 196, 441]\n"
     ]
    }
   ],
   "source": [
    "# MAKE NEW LIST WHICH WILL STORE SQUARE OF ELEMENTS OF PREVIOUS LIST OF INTEGERS\n",
    "list1 = [2,3,7,4,8,14,21]\n",
    "list2 = []\n",
    "for i in list1:\n",
    "    square  = i * i\n",
    "    list2.append(square)\n",
    "print(list2)    "
   ]
  },
  {
   "cell_type": "code",
   "execution_count": 20,
   "metadata": {},
   "outputs": [
    {
     "name": "stdout",
     "output_type": "stream",
     "text": [
      "List of odd numbers = [1, 3, 5, 7, 9, 11, 13, 15, 17, 19, 21, 23, 25, 27, 29, 31, 33, 35, 37, 39, 41, 43, 45, 47, 49, 51, 53, 55, 57, 59, 61, 63, 65, 67, 69, 71, 73, 75, 77, 79, 81, 83, 85, 87, 89, 91, 93, 95, 97, 99]\n",
      "List of even numbers = [2, 4, 6, 8, 10, 12, 14, 16, 18, 20, 22, 24, 26, 28, 30, 32, 34, 36, 38, 40, 42, 44, 46, 48, 50, 52, 54, 56, 58, 60, 62, 64, 66, 68, 70, 72, 74, 76, 78, 80, 82, 84, 86, 88, 90, 92, 94, 96, 98, 100]\n"
     ]
    }
   ],
   "source": [
    "# USING RANGE(1,101),MAKE 2 LISTS,ONE CONTAINS ODD AND OTHER LIST CONTAINS \n",
    "# EVEN NUMBERS\n",
    "odd = []\n",
    "even = []\n",
    "for i in range(1,101):\n",
    "    if i % 2 != 0:\n",
    "        odd.append(i)\n",
    "    else:\n",
    "        even.append(i)\n",
    "print(\"List of odd numbers =\",odd)\n",
    "print(\"List of even numbers =\",even)"
   ]
  },
  {
   "cell_type": "code",
   "execution_count": 37,
   "metadata": {},
   "outputs": [
    {
     "name": "stdout",
     "output_type": "stream",
     "text": [
      "List of odd numbers = [1, 3, 5, 7, 9, 11, 13, 15, 17, 19, 21, 23, 25, 27, 29, 31, 33, 35, 37, 39, 41, 43, 45, 47, 49, 51, 53, 55, 57, 59, 61, 63, 65, 67, 69, 71, 73, 75, 77, 79, 81, 83, 85, 87, 89, 91, 93, 95, 97, 99]\n",
      "\n",
      "List of even numbers = [2, 4, 6, 8, 10, 12, 14, 16, 18, 20, 22, 24, 26, 28, 30, 32, 34, 36, 38, 40, 42, 44, 46, 48, 50, 52, 54, 56, 58, 60, 62, 64, 66, 68, 70, 72, 74, 76, 78, 80, 82, 84, 86, 88, 90, 92, 94, 96, 98, 100]\n",
      "\n",
      "List of numbers divisible by 4 = [4, 8, 12, 16, 20, 24, 28, 32, 36, 40, 44, 48, 52, 56, 60, 64, 68, 72, 76, 80, 84, 88, 92, 96, 100]\n",
      "\n",
      "List of numbers divisible by 6 = [6, 12, 18, 24, 30, 36, 42, 48, 54, 60, 66, 72, 78, 84, 90, 96]\n",
      "\n",
      "List of numbers divisible by 8 = [8, 16, 24, 32, 40, 48, 56, 64, 72, 80, 88, 96]\n",
      "\n",
      "List of numbers divisible by 10 = [10, 20, 30, 40, 50, 60, 70, 80, 90, 100]\n"
     ]
    }
   ],
   "source": [
    "# USING RANGE(1,101),MAKE 2 LISTS,ONE CONTAINS ODD AND OTHER LIST CONTAINS \n",
    "# EVEN NUMBERS\n",
    "odd = []\n",
    "even = []\n",
    "list3 = []\n",
    "list4 = []\n",
    "list5 = []\n",
    "list6 = []\n",
    "list7 = []\n",
    "list8 = []\n",
    "list9 = []\n",
    "list10 = []\n",
    "for i in range(1,101):\n",
    "    if i % 2 != 0:\n",
    "        odd.append(i)\n",
    "    else:\n",
    "        even.append(i)\n",
    "for j in even:\n",
    "    if j % 4 == 0:\n",
    "        list4.append(j)\n",
    "    if j % 6 == 0:\n",
    "        list6.append(j)\n",
    "    if j % 8 == 0:\n",
    "        list8.append(j)\n",
    "    if j % 10 == 0:\n",
    "        list10.append(j)               \n",
    "print(\"List of odd numbers =\",odd)\n",
    "print(\"\")\n",
    "print(\"List of even numbers =\",even)\n",
    "print(\"\")\n",
    "print(\"List of numbers divisible by 4 =\",list4)\n",
    "print(\"\")\n",
    "print(\"List of numbers divisible by 6 =\",list6)\n",
    "print(\"\")\n",
    "print(\"List of numbers divisible by 8 =\",list8)\n",
    "print(\"\")\n",
    "print(\"List of numbers divisible by 10 =\",list10)"
   ]
  },
  {
   "cell_type": "code",
   "execution_count": 3,
   "metadata": {},
   "outputs": [
    {
     "name": "stdout",
     "output_type": "stream",
     "text": [
      "List of string values = ['Ronaldo', 'Ajay']\n",
      "List of integer values = [92, 867]\n",
      "List of float values = [37.6]\n"
     ]
    }
   ],
   "source": [
    "# FROM A LIST CONTAINING INT,FLOAT AND STRINGS,STORE THEM IN SEPARATE LISTS\n",
    "list = ['Ronaldo',92,37.6,'Ajay',867]\n",
    "list1 = []\n",
    "list2 = []\n",
    "list3 = []\n",
    "for i in list:\n",
    "    if type(i) == str:\n",
    "        list1.append(i)\n",
    "    if type(i) == int:\n",
    "        list2.append(i)\n",
    "    if type(i) == float:\n",
    "        list3.append(i)\n",
    "print(\"List of string values =\",list1)\n",
    "print(\"List of integer values =\",list2)\n",
    "print(\"List of float values =\",list3)"
   ]
  },
  {
   "cell_type": "code",
   "execution_count": null,
   "metadata": {},
   "outputs": [],
   "source": [
    " "
   ]
  }
 ],
 "metadata": {
  "kernelspec": {
   "display_name": "Python 3",
   "language": "python",
   "name": "python3"
  },
  "language_info": {
   "codemirror_mode": {
    "name": "ipython",
    "version": 3
   },
   "file_extension": ".py",
   "mimetype": "text/x-python",
   "name": "python",
   "nbconvert_exporter": "python",
   "pygments_lexer": "ipython3",
   "version": "3.8.5"
  }
 },
 "nbformat": 4,
 "nbformat_minor": 4
}
