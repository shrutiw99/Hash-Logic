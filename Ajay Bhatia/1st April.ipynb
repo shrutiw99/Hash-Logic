{
 "cells": [
  {
   "cell_type": "code",
   "execution_count": 1,
   "metadata": {},
   "outputs": [
    {
     "name": "stdout",
     "output_type": "stream",
     "text": [
      "[2, 5, 4, 6]\n"
     ]
    }
   ],
   "source": [
    "# COPYING OF LIST\n",
    "list1 = [2,5,4,6]\n",
    "list2 = list1\n",
    "print(list2)"
   ]
  },
  {
   "cell_type": "code",
   "execution_count": 2,
   "metadata": {},
   "outputs": [
    {
     "name": "stdout",
     "output_type": "stream",
     "text": [
      "[4, 7, 8, 15]\n"
     ]
    }
   ],
   "source": [
    "# COPYING OF LIST IF IT ALREADY HAS ELEMENTS\n",
    "list1 = [4,7,8,15]\n",
    "list2 = [3,7]\n",
    "list2 = list1\n",
    "print(list2)"
   ]
  },
  {
   "cell_type": "code",
   "execution_count": 3,
   "metadata": {},
   "outputs": [
    {
     "name": "stdout",
     "output_type": "stream",
     "text": [
      "[5, 67, 34]\n"
     ]
    }
   ],
   "source": [
    "# COPYING OF 1ST THREE ELEMENTS\n",
    "list1 = [5,67,34,12,7]\n",
    "list2 = list1[0:3]\n",
    "print(list2)"
   ]
  },
  {
   "cell_type": "code",
   "execution_count": 8,
   "metadata": {},
   "outputs": [
    {
     "name": "stdout",
     "output_type": "stream",
     "text": [
      "7\n"
     ]
    }
   ],
   "source": [
    "# COPYING 3RD LAST ELEMENT\n",
    "list1 = [13,56,7,34,87]\n",
    "list2 = list1[-3]\n",
    "print(list2)"
   ]
  },
  {
   "cell_type": "code",
   "execution_count": 14,
   "metadata": {},
   "outputs": [
    {
     "name": "stdout",
     "output_type": "stream",
     "text": [
      "[1, 4, 9, 16, 25, 36, 49, 64, 81]\n"
     ]
    }
   ],
   "source": [
    "# FIND SQUARE OF NUMBERS GIVEN IN A LIST (1ST METHOD)\n",
    "list1 = [1,2,3,4,5,6,7,8,9]\n",
    "list2 = []\n",
    "for i in list1:\n",
    "    square = i * i\n",
    "    list2.append(square)\n",
    "print(list2)    \n"
   ]
  },
  {
   "cell_type": "code",
   "execution_count": 17,
   "metadata": {},
   "outputs": [
    {
     "name": "stdout",
     "output_type": "stream",
     "text": [
      "[1, 4, 9, 16, 25, 36, 49, 64, 81]\n"
     ]
    }
   ],
   "source": [
    "# FIND SQUARE OF NUMBERS GIVEN IN A LIST (2ND METHOD)\n",
    "list1 = [i * i for i in range(1,10)]\n",
    "print(list1)"
   ]
  },
  {
   "cell_type": "code",
   "execution_count": 19,
   "metadata": {},
   "outputs": [
    {
     "name": "stdout",
     "output_type": "stream",
     "text": [
      "[6, 8, 10, 12]\n"
     ]
    }
   ],
   "source": [
    "# ADD CORRESPONDING ELEMENTS OF 2 LISTS \n",
    "i = 0\n",
    "list1 = [1,2,3,4]\n",
    "list2 = [5,6,7,8]\n",
    "list3 = []\n",
    "while i < len(list1):\n",
    "    list3.append(list1[i] + list2[i])\n",
    "    i = i + 1\n",
    "print(list3)    "
   ]
  },
  {
   "cell_type": "code",
   "execution_count": 20,
   "metadata": {},
   "outputs": [
    {
     "name": "stdout",
     "output_type": "stream",
     "text": [
      "[8, 10, 12, 14]\n"
     ]
    }
   ],
   "source": [
    "# ADD CORRESPONDING ELEMENTS OF 2 LISTS USING ZIP() FUNCTION\n",
    "list1 = [1,2,3,4,5,6]\n",
    "list2 = [7,8,9,10]\n",
    "list3 = []\n",
    "for x,y in zip(list1,list2):\n",
    "    list3.append(x + y)\n",
    "print(list3)    "
   ]
  },
  {
   "cell_type": "code",
   "execution_count": 24,
   "metadata": {},
   "outputs": [
    {
     "name": "stdout",
     "output_type": "stream",
     "text": [
      "[2, 6, 34]\n"
     ]
    }
   ],
   "source": [
    "# USING POP() FUNCTION TO DELETE 3RD ELEMENT\n",
    "list1 = [2,6,45,34]\n",
    "list1.pop(2)\n",
    "print(list1)"
   ]
  },
  {
   "cell_type": "code",
   "execution_count": 65,
   "metadata": {},
   "outputs": [
    {
     "name": "stdout",
     "output_type": "stream",
     "text": [
      "['Ronaldo', 'Messi']\n"
     ]
    }
   ],
   "source": [
    "# USING REMOVE() FUNCTION TO DELETE PARTICULAR ELEMENT\n",
    "list1 = [\"Ronaldo\",\"Messi\",\"Ajay\"]\n",
    "list1.remove(\"Ajay\")\n",
    "print(list1)"
   ]
  },
  {
   "cell_type": "code",
   "execution_count": 34,
   "metadata": {},
   "outputs": [
    {
     "name": "stdout",
     "output_type": "stream",
     "text": [
      "[4, 7, 34, 89]\n"
     ]
    }
   ],
   "source": [
    "# USING DEL KEYWORD TO DELETE 4TH ELEMENT\n",
    "list1 = [4,7,34,56,89]\n",
    "del list1[3]\n",
    "print(list1)"
   ]
  },
  {
   "cell_type": "code",
   "execution_count": 36,
   "metadata": {},
   "outputs": [
    {
     "name": "stdout",
     "output_type": "stream",
     "text": [
      "[56, 59]\n"
     ]
    }
   ],
   "source": [
    "# USING DEL KEYWORD TO DELETE 2ND AND 3RD ELEMENT\n",
    "list1 = [56,75,23,59]\n",
    "del list1[1:3]\n",
    "print(list1)"
   ]
  },
  {
   "cell_type": "code",
   "execution_count": 41,
   "metadata": {},
   "outputs": [
    {
     "name": "stdout",
     "output_type": "stream",
     "text": [
      "Cristiano Ronaldo Lionel Messi\n"
     ]
    }
   ],
   "source": [
    "# CONVERT LIST INTO STRING WITHOUT USING LOOP (STRINGS)\n",
    "list1 = [\"Cristiano\", \"Ronaldo\", \"Lionel\",\"Messi\"]\n",
    "string = ' '.join(list1)\n",
    "print(string)"
   ]
  },
  {
   "cell_type": "code",
   "execution_count": 46,
   "metadata": {},
   "outputs": [
    {
     "name": "stdout",
     "output_type": "stream",
     "text": [
      "34, 56, 23, 89\n"
     ]
    }
   ],
   "source": [
    "# CONVERT LIST INTO STRING WITHOUT USING LOOP (INTEGERS)\n",
    "list1 = [34,56,23,89]\n",
    "string =  str(list1).strip('[]')\n",
    "print(string)"
   ]
  },
  {
   "cell_type": "code",
   "execution_count": 48,
   "metadata": {},
   "outputs": [
    {
     "name": "stdout",
     "output_type": "stream",
     "text": [
      "Cristiano Ronaldo Lionel Messi\n"
     ]
    }
   ],
   "source": [
    "# CONVERT LIST INTO STRING USING LOOP\n",
    "list1 = [\"Cristiano\",\"Ronaldo\",\"Lionel\",\"Messi\"]\n",
    "string = ' '.join(str(i) for i in list1)\n",
    "print(string)"
   ]
  },
  {
   "cell_type": "code",
   "execution_count": 52,
   "metadata": {},
   "outputs": [
    {
     "data": {
      "text/plain": [
       "True"
      ]
     },
     "execution_count": 52,
     "metadata": {},
     "output_type": "execute_result"
    }
   ],
   "source": [
    "# CHECK IF LIST CONTAINS AN ELEMENT\n",
    "list1 = [24,5,74,37,92]\n",
    "37 in list1 "
   ]
  },
  {
   "cell_type": "code",
   "execution_count": 57,
   "metadata": {
    "scrolled": true
   },
   "outputs": [
    {
     "name": "stdout",
     "output_type": "stream",
     "text": [
      "Snowball is Cat whose age is 1\n",
      "Chewy is Dog whose age is 2\n",
      "Bubbles is Fish whose age is 2\n",
      "Gruff is Goat whose age is 6\n"
     ]
    }
   ],
   "source": [
    "# ITERATE OVER MORE THAN 2 LISTS AT THE SAME TIME\n",
    "list1 = [\"Snowball\",\"Chewy\",\"Bubbles\",\"Gruff\"]\n",
    "list2 = [\"Cat\",\"Dog\",\"Fish\",\"Goat\"]\n",
    "list3 = [1,2,2,6]\n",
    "for x,y,z in zip(list1,list2,list3):\n",
    "    print(f\"{x} is {y} whose age is {z}\")"
   ]
  },
  {
   "cell_type": "code",
   "execution_count": 62,
   "metadata": {},
   "outputs": [
    {
     "name": "stdout",
     "output_type": "stream",
     "text": [
      "140705219094304\n",
      "140705219094336\n",
      "1249036905856\n",
      "140705219094304\n"
     ]
    }
   ],
   "source": [
    "# PYTHON LISTS STORES POINTERS\n",
    "print(id(1))\n",
    "print(id(2))\n",
    "list1 = [1,2,3]\n",
    "print(id(list1))\n",
    "print(id(list1[0]))"
   ]
  },
  {
   "cell_type": "code",
   "execution_count": 70,
   "metadata": {},
   "outputs": [
    {
     "name": "stdout",
     "output_type": "stream",
     "text": [
      "{1, 2, 3, 4, 5, 6}\n",
      "[1, 2, 3, 4, 5, 6]\n"
     ]
    }
   ],
   "source": [
    "# REMOVE DUPLICATES FROM LIST USING SET() FUNCTION\n",
    "list1 = [1,3,4,2,1,4,3,5,6]\n",
    "print(set(list1))             # CONVERTED TO A SET\n",
    "print(list(set(list1)))       # CONVERTED TO A LIST"
   ]
  },
  {
   "cell_type": "code",
   "execution_count": 76,
   "metadata": {},
   "outputs": [
    {
     "data": {
      "text/plain": [
       "1"
      ]
     },
     "execution_count": 76,
     "metadata": {},
     "output_type": "execute_result"
    }
   ],
   "source": [
    "# FIND INDEX OF 1ST MATCHING ELEMENT USING INDEX() METHOD\n",
    "list1 = [\"Orange\",\"Apple\",\"Banana\",\"Pear\",\"Apple\"]\n",
    "list1.index(\"Apple\")"
   ]
  },
  {
   "cell_type": "code",
   "execution_count": 77,
   "metadata": {},
   "outputs": [
    {
     "name": "stdout",
     "output_type": "stream",
     "text": [
      "[]\n"
     ]
    }
   ],
   "source": [
    "# REMOVE ALL ELEMENTS FROM LIST USING CLEAR()\n",
    "list1 = [13,45,76,2]\n",
    "list1.clear()\n",
    "print(list1)"
   ]
  },
  {
   "cell_type": "code",
   "execution_count": 79,
   "metadata": {},
   "outputs": [
    {
     "name": "stdout",
     "output_type": "stream",
     "text": [
      "[]\n"
     ]
    }
   ],
   "source": [
    "# REMOVE ALL ELEMENTS FROM LIST USING DEL\n",
    "list1 = [13,45,76,2]\n",
    "del list1[:]\n",
    "print(list1)"
   ]
  },
  {
   "cell_type": "code",
   "execution_count": 83,
   "metadata": {},
   "outputs": [
    {
     "name": "stdout",
     "output_type": "stream",
     "text": [
      "0 Cristiano\n",
      "1 Ajay\n",
      "2 Messi\n"
     ]
    }
   ],
   "source": [
    "# ITERATE OVER BOTH THE VALUES AND INDICES IN A LIST\n",
    "list1 = [\"Cristiano\",\"Ajay\",\"Messi\"]\n",
    "for x,y in enumerate(list1):\n",
    "    print(x,y)"
   ]
  },
  {
   "cell_type": "code",
   "execution_count": 84,
   "metadata": {},
   "outputs": [
    {
     "name": "stdout",
     "output_type": "stream",
     "text": [
      "[1, 2, 3, 4, 4, 5, 6, 7]\n"
     ]
    }
   ],
   "source": [
    "# CONCATENATE 2 LISTS\n",
    "list1 = [1,2,3,4]\n",
    "list2 = [4,5,6,7]\n",
    "print(list1 + list2)"
   ]
  },
  {
   "cell_type": "code",
   "execution_count": 85,
   "metadata": {},
   "outputs": [
    {
     "name": "stdout",
     "output_type": "stream",
     "text": [
      "[340, 560, 230, 10, 50]\n"
     ]
    }
   ],
   "source": [
    "# MANIPULATE EVERY ELEMENT IN A LIST\n",
    "list1 = [34,56,23,1,5]\n",
    "x = [i * 10 for i in list1]\n",
    "print(x)"
   ]
  },
  {
   "cell_type": "code",
   "execution_count": 86,
   "metadata": {},
   "outputs": [
    {
     "data": {
      "text/plain": [
       "3"
      ]
     },
     "execution_count": 86,
     "metadata": {},
     "output_type": "execute_result"
    }
   ],
   "source": [
    "# COUNT THE OCCURRENCE OF SPECIFIC OBJECT IN A LIST USING COUNT()\n",
    "list1 = [23,45,23,12,56,23,99]\n",
    "list1.count(23)"
   ]
  },
  {
   "cell_type": "code",
   "execution_count": 92,
   "metadata": {},
   "outputs": [
    {
     "name": "stdout",
     "output_type": "stream",
     "text": [
      "[1, 2, 3, 4, 5]\n",
      "[1, 2, 4, 5]\n"
     ]
    }
   ],
   "source": [
    "# SHALLOW COPY A LIST USING COPY()\n",
    "list1 = [1,2,3,4,5]\n",
    "list2 = list1.copy()\n",
    "list2.pop(2)\n",
    "print(list1)\n",
    "print(list2)"
   ]
  },
  {
   "cell_type": "code",
   "execution_count": null,
   "metadata": {},
   "outputs": [],
   "source": []
  }
 ],
 "metadata": {
  "kernelspec": {
   "display_name": "Python 3",
   "language": "python",
   "name": "python3"
  },
  "language_info": {
   "codemirror_mode": {
    "name": "ipython",
    "version": 3
   },
   "file_extension": ".py",
   "mimetype": "text/x-python",
   "name": "python",
   "nbconvert_exporter": "python",
   "pygments_lexer": "ipython3",
   "version": "3.8.5"
  }
 },
 "nbformat": 4,
 "nbformat_minor": 4
}
