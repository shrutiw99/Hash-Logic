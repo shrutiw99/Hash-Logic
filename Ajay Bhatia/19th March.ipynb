{
 "cells": [
  {
   "cell_type": "code",
   "execution_count": 3,
   "metadata": {},
   "outputs": [
    {
     "name": "stdout",
     "output_type": "stream",
     "text": [
      "Enter the string: Ronaldo\n",
      "R\n",
      "o\n",
      "n\n",
      "a\n",
      "l\n",
      "d\n",
      "o\n"
     ]
    }
   ],
   "source": [
    "# PRINT EVERY CHARACTER OF STRING IN NEW LINE\n",
    "string = input(\"Enter the string: \")\n",
    "for i in range(len(string)):\n",
    "    print(string[i])"
   ]
  },
  {
   "cell_type": "code",
   "execution_count": 4,
   "metadata": {},
   "outputs": [
    {
     "name": "stdout",
     "output_type": "stream",
     "text": [
      "Length of 'Refrigerator' is 12\n"
     ]
    }
   ],
   "source": [
    "# LENGTH OF STRING \"REFRIGERATOR\" WITOHUT USING LEN FUNCTION\n",
    "a = \"Refrigerator\"\n",
    "count = 0\n",
    "for i in a:\n",
    "    count = count + 1\n",
    "print(\"Length of 'Refrigerator' is\",count)    \n"
   ]
  },
  {
   "cell_type": "code",
   "execution_count": 5,
   "metadata": {},
   "outputs": [
    {
     "name": "stdout",
     "output_type": "stream",
     "text": [
      "True\n"
     ]
    }
   ],
   "source": [
    "# CHECK IF LETTER \"E\" IS PRESENT IN \"UMBRELLA\" (1ST METHOD)\n",
    "print('e' in 'umbrella')"
   ]
  },
  {
   "cell_type": "code",
   "execution_count": 7,
   "metadata": {},
   "outputs": [
    {
     "name": "stdout",
     "output_type": "stream",
     "text": [
      "'e' is present\n"
     ]
    }
   ],
   "source": [
    "# CHECK IF LETTER \"E\" IS PRESENT IN \"UMBRELLA\" (2ND METHOD)\n",
    "if \"e\" in \"umbrella\":\n",
    "    print(\"'e' is present\")"
   ]
  },
  {
   "cell_type": "code",
   "execution_count": 8,
   "metadata": {},
   "outputs": [
    {
     "name": "stdout",
     "output_type": "stream",
     "text": [
      "True\n"
     ]
    }
   ],
   "source": [
    "# CHECK IF \"ORANGE\" IS PRESENT IN \"THIS IS ORANGE JUICE\" (1ST METHOD)\n",
    "print(\"orange\" in \"This os orange juice\".split())"
   ]
  },
  {
   "cell_type": "code",
   "execution_count": 9,
   "metadata": {},
   "outputs": [
    {
     "name": "stdout",
     "output_type": "stream",
     "text": [
      "'orange' is present\n"
     ]
    }
   ],
   "source": [
    "# CHECK IF \"ORANGE\" IS PRESENT IN \"THIS IS ORANGE JUICE\" (2ND METHOD)\n",
    "if \"orange\" in \"This is orange juice\":\n",
    "    print(\"'orange' is present\")"
   ]
  },
  {
   "cell_type": "code",
   "execution_count": 17,
   "metadata": {},
   "outputs": [
    {
     "name": "stdout",
     "output_type": "stream",
     "text": [
      "'o' occurs at 5\n",
      "'o' occurs at 9\n",
      "',' occurs at 6\n"
     ]
    }
   ],
   "source": [
    "# PROGRAM TO FIND OCCCURENCE OF LETTER \"O\" AND \"I\" IN \"HELLO, WORLD\"\n",
    "string = \"Hello, World\"\n",
    "for i in range(len(string)):\n",
    "    if string[i] == \"o\":\n",
    "        print(\"'o' occurs at\",i + 1)\n",
    "for j in range(len(string)):\n",
    "        print(\"',' occurs at\",j + 1)"
   ]
  },
  {
   "cell_type": "code",
   "execution_count": 27,
   "metadata": {},
   "outputs": [
    {
     "name": "stdout",
     "output_type": "stream",
     "text": [
      "1st occurence of ',' is at 6\n",
      "Last occurence of ',' is at 11\n"
     ]
    }
   ],
   "source": [
    "# \n",
    "string = \"Hello,Good,Morning\\\".World\"\n",
    "for i in range(len(string)):\n",
    "    if string[i] == \",\":\n",
    "        break\n",
    "print(\"1st occurence of ',' is at\",i+1) \n",
    "for j in range(-1,-len(string)-1,-1):\n",
    "    if string[j] == \",\":\n",
    "        break\n",
    "print(\"Last occurence of ',' is at\",len(string)-(-j) + 1)        "
   ]
  },
  {
   "cell_type": "code",
   "execution_count": null,
   "metadata": {},
   "outputs": [],
   "source": []
  }
 ],
 "metadata": {
  "kernelspec": {
   "display_name": "Python 3",
   "language": "python",
   "name": "python3"
  },
  "language_info": {
   "codemirror_mode": {
    "name": "ipython",
    "version": 3
   },
   "file_extension": ".py",
   "mimetype": "text/x-python",
   "name": "python",
   "nbconvert_exporter": "python",
   "pygments_lexer": "ipython3",
   "version": "3.8.5"
  }
 },
 "nbformat": 4,
 "nbformat_minor": 4
}
