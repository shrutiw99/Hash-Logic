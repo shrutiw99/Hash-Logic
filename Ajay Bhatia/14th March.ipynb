{
 "cells": [
  {
   "cell_type": "code",
   "execution_count": 1,
   "metadata": {},
   "outputs": [
    {
     "data": {
      "text/plain": [
       "'y'"
      ]
     },
     "execution_count": 1,
     "metadata": {},
     "output_type": "execute_result"
    }
   ],
   "source": [
    "max(\"Ajay Bhatia\")"
   ]
  },
  {
   "cell_type": "code",
   "execution_count": 2,
   "metadata": {},
   "outputs": [
    {
     "data": {
      "text/plain": [
       "'2'"
      ]
     },
     "execution_count": 2,
     "metadata": {},
     "output_type": "execute_result"
    }
   ],
   "source": [
    "min(\"5438372\")"
   ]
  },
  {
   "cell_type": "code",
   "execution_count": 3,
   "metadata": {},
   "outputs": [
    {
     "data": {
      "text/plain": [
       "'4'"
      ]
     },
     "execution_count": 3,
     "metadata": {},
     "output_type": "execute_result"
    }
   ],
   "source": [
    "min(\"6475647Ajay\")"
   ]
  },
  {
   "cell_type": "code",
   "execution_count": 4,
   "metadata": {},
   "outputs": [
    {
     "data": {
      "text/plain": [
       "' '"
      ]
     },
     "execution_count": 4,
     "metadata": {},
     "output_type": "execute_result"
    }
   ],
   "source": [
    "min(\"46456 458475\")"
   ]
  },
  {
   "cell_type": "code",
   "execution_count": 5,
   "metadata": {},
   "outputs": [
    {
     "data": {
      "text/plain": [
       "17"
      ]
     },
     "execution_count": 5,
     "metadata": {},
     "output_type": "execute_result"
    }
   ],
   "source": [
    "len(\"Cristiano Ronaldo\")"
   ]
  },
  {
   "cell_type": "code",
   "execution_count": 6,
   "metadata": {},
   "outputs": [
    {
     "data": {
      "text/plain": [
       "7"
      ]
     },
     "execution_count": 6,
     "metadata": {},
     "output_type": "execute_result"
    }
   ],
   "source": [
    "len(\"4787584\")"
   ]
  },
  {
   "cell_type": "code",
   "execution_count": 7,
   "metadata": {},
   "outputs": [
    {
     "name": "stdout",
     "output_type": "stream",
     "text": [
      "0.6989700043360189\n"
     ]
    }
   ],
   "source": [
    "# MATH FUNCTION\n",
    "import math\n",
    "x = math.log10(5)\n",
    "print(x)"
   ]
  },
  {
   "cell_type": "code",
   "execution_count": 8,
   "metadata": {},
   "outputs": [
    {
     "name": "stdout",
     "output_type": "stream",
     "text": [
      "2\n",
      "0.8270316176430246\n"
     ]
    }
   ],
   "source": [
    "# RANDOM INTEGER FROM 0 TO 9 AND RANDOM VALUE BETWEEN 0.0 AND 1.0\n",
    "import random\n",
    "x = random.randint(0,9)\n",
    "y = random.random()\n",
    "print(x)\n",
    "print(y)"
   ]
  },
  {
   "cell_type": "code",
   "execution_count": 16,
   "metadata": {},
   "outputs": [
    {
     "name": "stdout",
     "output_type": "stream",
     "text": [
      "Ronaldo\n"
     ]
    }
   ],
   "source": [
    "# CHOOSE RANDOM ELEMENT FROM SEQUENCE\n",
    "import random\n",
    "names = [\"Ronaldo\",\"Messi\",\"Lewandowski\",\"Dybala\",\"Benzema\"]\n",
    "x = random.choice(names)\n",
    "print(x)"
   ]
  },
  {
   "cell_type": "code",
   "execution_count": 17,
   "metadata": {},
   "outputs": [
    {
     "name": "stdout",
     "output_type": "stream",
     "text": [
      "Hello...My name is Ajay..How are you?\n"
     ]
    }
   ],
   "source": [
    "#  USE OF FUNCTION\n",
    "def greeting():\n",
    "    print(\"Hello...My name is Ajay..How are you?\")\n",
    "greeting()    "
   ]
  },
  {
   "cell_type": "code",
   "execution_count": 18,
   "metadata": {},
   "outputs": [
    {
     "name": "stdout",
     "output_type": "stream",
     "text": [
      "Hello...My name is Ajay..How are you?\n"
     ]
    }
   ],
   "source": [
    "greeting()\n",
    "def greeting():\n",
    "    print(\"Hello...My name is Ajay..How are you?\")"
   ]
  },
  {
   "cell_type": "code",
   "execution_count": 19,
   "metadata": {},
   "outputs": [
    {
     "name": "stdout",
     "output_type": "stream",
     "text": [
      "Enter name: Cristiano Ronaldo\n",
      "The name you entered is Cristiano Ronaldo\n"
     ]
    }
   ],
   "source": [
    "# USE OF FUNCTION WITH ARGUMENT\n",
    "def func(x):\n",
    "    print(\"The name you entered is\",x)\n",
    "name = input(\"Enter name: \")\n",
    "func(name)"
   ]
  },
  {
   "cell_type": "code",
   "execution_count": 20,
   "metadata": {},
   "outputs": [
    {
     "name": "stdout",
     "output_type": "stream",
     "text": [
      "None\n"
     ]
    }
   ],
   "source": [
    "# VOID FUNCTIONS DONT HAVE RETURN VALUE\n",
    "def func():\n",
    "    pass\n",
    "x = func()\n",
    "print(x)"
   ]
  },
  {
   "cell_type": "code",
   "execution_count": 21,
   "metadata": {},
   "outputs": [
    {
     "data": {
      "text/plain": [
       "NoneType"
      ]
     },
     "execution_count": 21,
     "metadata": {},
     "output_type": "execute_result"
    }
   ],
   "source": [
    "type(None)"
   ]
  },
  {
   "cell_type": "code",
   "execution_count": 22,
   "metadata": {},
   "outputs": [
    {
     "name": "stdout",
     "output_type": "stream",
     "text": [
      "Enter two numbers: 12 15\n"
     ]
    },
    {
     "data": {
      "text/plain": [
       "27"
      ]
     },
     "execution_count": 22,
     "metadata": {},
     "output_type": "execute_result"
    }
   ],
   "source": [
    "# TO RETURN VALUE FROM A FUNCTION\n",
    "def add(x,y):\n",
    "    sum = int(x) + int(y)\n",
    "    return sum\n",
    "num1,num2 = input(\"Enter two numbers: \").split()\n",
    "add(num1,num2)"
   ]
  },
  {
   "cell_type": "code",
   "execution_count": 23,
   "metadata": {},
   "outputs": [
    {
     "name": "stdout",
     "output_type": "stream",
     "text": [
      "Enter the number of hours: 45\n",
      "Enter the rate: 10\n",
      "Your pay is 475.0\n"
     ]
    }
   ],
   "source": [
    "# COMPUTATION OF PAY TO GIVE THE EMPLOYEE 1.5 TIMES THE HOURLY RATE IF WORKED ABOVE 40 HOURS USING FUNCTION\n",
    "def computepay(hours,rate):\n",
    "    if hours > 40:\n",
    "        pay = 40 * rate + (hours - 40) * 1.5 * rate\n",
    "    else :\n",
    "        pay = hours * rate\n",
    "    print(\"Your pay is\",pay)\n",
    "x = input(\"Enter the number of hours: \")\n",
    "try:\n",
    "    x = float(x)\n",
    "    y = float(input(\"Enter the rate: \"))\n",
    "    y = float(y)\n",
    "    computepay(x,y)\n",
    "except:\n",
    "    print(\"Number of hours or Rate is invalid\")"
   ]
  },
  {
   "cell_type": "code",
   "execution_count": 24,
   "metadata": {},
   "outputs": [
    {
     "name": "stdout",
     "output_type": "stream",
     "text": [
      "Enter the score between 0.0 and 1.0: 0.75\n",
      "Your grade is C\n"
     ]
    }
   ],
   "source": [
    "# SCORE BETWEEN 0.0 AND 1.0 USING FUNCTION\n",
    "def computegrade(score):\n",
    "    if score > 0.0 and score < 1.0:\n",
    "        if score >= 0.9 and score < 1.0:\n",
    "            print(\"Your grade is A\")\n",
    "        elif score >= 0.8 and score < 0.9:\n",
    "            print(\"Your grade is B\")\n",
    "        elif score >= 0.7 and score < 0.8:\n",
    "            print(\"Your grade is C\")\n",
    "        elif score >= 0.6 and score < 0.7:\n",
    "            print(\"Your grade is D\")\n",
    "        else:\n",
    "            print(\"Your grade is F\")\n",
    "    else:\n",
    "        print(\"Score is not between 0.0 and 1.0\")\n",
    "x = input(\"Enter the score between 0.0 and 1.0: \")\n",
    "try:\n",
    "    x = float(x)\n",
    "    computegrade(x)\n",
    "except:\n",
    "    print(\"Please enter the number\")\n",
    "    "
   ]
  },
  {
   "cell_type": "code",
   "execution_count": null,
   "metadata": {},
   "outputs": [],
   "source": []
  }
 ],
 "metadata": {
  "kernelspec": {
   "display_name": "Python 3",
   "language": "python",
   "name": "python3"
  },
  "language_info": {
   "codemirror_mode": {
    "name": "ipython",
    "version": 3
   },
   "file_extension": ".py",
   "mimetype": "text/x-python",
   "name": "python",
   "nbconvert_exporter": "python",
   "pygments_lexer": "ipython3",
   "version": "3.8.5"
  }
 },
 "nbformat": 4,
 "nbformat_minor": 4
}
