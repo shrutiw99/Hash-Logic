{
 "cells": [
  {
   "cell_type": "code",
   "execution_count": 8,
   "metadata": {},
   "outputs": [
    {
     "name": "stdout",
     "output_type": "stream",
     "text": [
      "Enter the temperature in Fahrenheit: 98.6\n",
      "Temperature in Celsius is 37.0\n"
     ]
    }
   ],
   "source": [
    "# FAHRENHEIT TO CELSIUS USING TRY AND EXCEPT\n",
    "fahr = input(\"Enter the temperature in Fahrenheit: \")\n",
    "try:\n",
    "    fahr = float(fahr)\n",
    "    cel = (fahr - 32) * 5/9\n",
    "    print(\"Temperature in Celsius is\",cel)\n",
    "except:\n",
    "    print(\"Please enter a number\")"
   ]
  },
  {
   "cell_type": "code",
   "execution_count": 30,
   "metadata": {},
   "outputs": [
    {
     "name": "stdout",
     "output_type": "stream",
     "text": [
      "Enter the number of hours: 39.9\n",
      "Enter the rate: 10\n",
      "Your pay is Rs. 399.0\n"
     ]
    }
   ],
   "source": [
    "# COMPUTATION OF PAY TO GIVE THE EMPLOYEE 1.5 TIMES THE HOURLY RATE IF WORKED ABOVE 40 HOURS\n",
    "hours = input(\"Enter the number of hours: \")\n",
    "try:\n",
    "    hours = float(hours)\n",
    "    rate = input(\"Enter the rate: \")\n",
    "    rate = float(rate)\n",
    "    if hours > 40:\n",
    "        pay = 40 * rate + (hours - 40) * 1.5 * rate\n",
    "    else:\n",
    "        pay = hours * rate\n",
    "    print(\"Your pay is Rs.\",pay)\n",
    "except:\n",
    "    print(\"Number of hours or Rate is invalid\")"
   ]
  },
  {
   "cell_type": "code",
   "execution_count": 42,
   "metadata": {},
   "outputs": [
    {
     "name": "stdout",
     "output_type": "stream",
     "text": [
      "Enter the score between 0.0 and 1.0: 0.7\n",
      "Your grade is C\n"
     ]
    }
   ],
   "source": [
    "# SCORE BETWEEN 0.0 AND 1.0\n",
    "score = input(\"Enter the score between 0.0 and 1.0: \")\n",
    "try:\n",
    "    score = float(score)\n",
    "    if score > 0.0 and score < 1.0:\n",
    "        if score >= 0.9:\n",
    "            print(\"Your grade is A\")\n",
    "        elif score >= 0.8 and score < 0.9:\n",
    "            print(\"Your grade is B\")\n",
    "        elif score >= 0.7 and score < 0.8:\n",
    "            print(\"Your grade is C\") \n",
    "        elif score >= 0.6 and score < 0.7:\n",
    "            print(\"Your grade is D\")\n",
    "        else:\n",
    "            print(\"Your grade is F\")\n",
    "    else:\n",
    "        print(\"Score is not between 0.0 and 1.0\")\n",
    "except:\n",
    "    print(\"Please enter the number\")"
   ]
  }
 ],
 "metadata": {
  "kernelspec": {
   "display_name": "Python 3",
   "language": "python",
   "name": "python3"
  },
  "language_info": {
   "codemirror_mode": {
    "name": "ipython",
    "version": 3
   },
   "file_extension": ".py",
   "mimetype": "text/x-python",
   "name": "python",
   "nbconvert_exporter": "python",
   "pygments_lexer": "ipython3",
   "version": "3.8.5"
  }
 },
 "nbformat": 4,
 "nbformat_minor": 4
}
