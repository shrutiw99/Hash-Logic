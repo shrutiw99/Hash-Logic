{
 "cells": [
  {
   "cell_type": "code",
   "execution_count": 1,
   "metadata": {},
   "outputs": [
    {
     "name": "stdout",
     "output_type": "stream",
     "text": [
      "3.8.5 (default, Sep  3 2020, 21:29:08) [MSC v.1916 64 bit (AMD64)]\n"
     ]
    }
   ],
   "source": [
    "# PROGRAM TO CHECK PYTHON VERSION\n",
    "import sys\n",
    "print(sys.version)"
   ]
  },
  {
   "cell_type": "code",
   "execution_count": 2,
   "metadata": {},
   "outputs": [
    {
     "name": "stdout",
     "output_type": "stream",
     "text": [
      "Enter 1st and last name: Cristiano Ronaldo\n",
      "odlanoR onaitsirC\n"
     ]
    }
   ],
   "source": [
    "# PROGRAM WHICH ACCEPT USER'S 1ST AND LAST NAME AND PRINT THEM IN REVERSE ORDER\n",
    "name = input(\"Enter 1st and last name: \")\n",
    "print(name[-1::-1])"
   ]
  },
  {
   "cell_type": "code",
   "execution_count": 3,
   "metadata": {},
   "outputs": [
    {
     "name": "stdout",
     "output_type": "stream",
     "text": [
      "2021-03-24 22:51:57.679412\n"
     ]
    }
   ],
   "source": [
    "# PROGRAM TO DISPLAY DATE AND TIME\n",
    "import datetime\n",
    "now = datetime.datetime.now()\n",
    "print(now)"
   ]
  },
  {
   "cell_type": "code",
   "execution_count": 16,
   "metadata": {},
   "outputs": [
    {
     "name": "stdout",
     "output_type": "stream",
     "text": [
      "Enter the number: 9\n",
      "9 + 99 + 999 is 1107\n"
     ]
    }
   ],
   "source": [
    "# PROGRAM THAT ACCEPTS INTEGER N AND COMPUTE N + NN + NNN\n",
    "n = int(input(\"Enter the number: \"))\n",
    "a = n\n",
    "b = 10 * n + n\n",
    "c = 100 * n + 10 * n + n\n",
    "sum = a + b + c\n",
    "print(a,\"+\",b,\"+\",c,\"is\",sum)"
   ]
  },
  {
   "cell_type": "code",
   "execution_count": 8,
   "metadata": {},
   "outputs": [
    {
     "name": "stdout",
     "output_type": "stream",
     "text": [
      "Enter the string: Ajay Bhatia\n",
      "is Ajay Bhatia\n"
     ]
    }
   ],
   "source": [
    "# PROGRAM TO GET NEW STRING FROM GIVEN STRING WHERE 'IS' HAS BEEN ADDED TO FRONT.\n",
    "# IF GIVEN STRING ALREADY BEGINS WITH 'IS',THEN RETURN STRING UNCHANGED.\n",
    "string = input(\"Enter the string: \")\n",
    "if string[:2] == \"is\":\n",
    "    print(string)\n",
    "else:   \n",
    "    print(\"is \" + string)"
   ]
  },
  {
   "cell_type": "code",
   "execution_count": 28,
   "metadata": {},
   "outputs": [
    {
     "name": "stdout",
     "output_type": "stream",
     "text": [
      "Enter 1st number: 35\n",
      "Enter 2nd number: 49\n",
      "HCF is 7\n",
      "LCM is 245\n"
     ]
    }
   ],
   "source": [
    "# PROGRAM TO GET HCF AND LCM OF 2 NUMBERS\n",
    "num1 = int(input(\"Enter 1st number: \"))\n",
    "num2 = int(input(\"Enter 2nd number: \"))\n",
    "if num1 > num2:\n",
    "    i = num2\n",
    "    while i > 0:\n",
    "        if num1 % i == 0 and num2 % i == 0:\n",
    "            print(\"HCF is\",i)\n",
    "            break\n",
    "        else:\n",
    "            i = i - 1\n",
    "if num2 > num1:\n",
    "    i = num1\n",
    "    while i > 0:\n",
    "        if num1 % i == 0 and num2 % i == 0:\n",
    "            print(\"HCF is\",i)\n",
    "            break\n",
    "        else:\n",
    "            i = i - 1\n",
    "lcm = (num1 * num2) // i\n",
    "print(\"LCM is\",lcm)\n",
    "            "
   ]
  },
  {
   "cell_type": "code",
   "execution_count": 10,
   "metadata": {},
   "outputs": [
    {
     "name": "stdout",
     "output_type": "stream",
     "text": [
      "Enter 1st number: 25\n",
      "Enter 2nd number: 10\n",
      "Enter 3rd number: 15\n",
      "Sorted numbers are 10 15 25\n"
     ]
    }
   ],
   "source": [
    "# PROGRAM TO SORT 3 INTEGERS WITHOUT USING CONDITIONAL STATEMENTS AND LOOPS\n",
    "num1 = int(input(\"Enter 1st number: \"))\n",
    "num2 = int(input(\"Enter 2nd number: \"))\n",
    "num3 = int(input(\"Enter 3rd number: \"))\n",
    "a = max(num1,num2,num3)\n",
    "b = min(num1,num2,num3)\n",
    "c= num1 + num2 + num3 - a - b\n",
    "print(\"Sorted numbers are\",b,c,a)"
   ]
  },
  {
   "cell_type": "code",
   "execution_count": 13,
   "metadata": {
    "scrolled": true
   },
   "outputs": [
    {
     "name": "stdout",
     "output_type": "stream",
     "text": [
      "Enter the character: A\n",
      "ASCII value of A is 65\n"
     ]
    }
   ],
   "source": [
    "# PROGRAM TO GET ASCII VALUE OF CHARACTER\n",
    "char = input(\"Enter the character: \")\n",
    "print(\"ASCII value of\",char,\"is\",ord(char))"
   ]
  },
  {
   "cell_type": "code",
   "execution_count": null,
   "metadata": {},
   "outputs": [],
   "source": []
  }
 ],
 "metadata": {
  "kernelspec": {
   "display_name": "Python 3",
   "language": "python",
   "name": "python3"
  },
  "language_info": {
   "codemirror_mode": {
    "name": "ipython",
    "version": 3
   },
   "file_extension": ".py",
   "mimetype": "text/x-python",
   "name": "python",
   "nbconvert_exporter": "python",
   "pygments_lexer": "ipython3",
   "version": "3.8.5"
  }
 },
 "nbformat": 4,
 "nbformat_minor": 4
}
