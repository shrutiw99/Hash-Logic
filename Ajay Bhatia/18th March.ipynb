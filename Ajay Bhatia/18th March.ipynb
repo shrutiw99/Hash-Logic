{
 "cells": [
  {
   "cell_type": "code",
   "execution_count": 2,
   "metadata": {},
   "outputs": [
    {
     "name": "stdout",
     "output_type": "stream",
     "text": [
      "Enter length: 6\n",
      "Enter breadth: 7\n",
      "It is a rectangle\n"
     ]
    }
   ],
   "source": [
    "# CHECK IT IS RECATNGLE OR SQUARE BY TAKING VALUES FROM USER\n",
    "length = int(input(\"Enter length: \"))\n",
    "breadth = int(input(\"Enter breadth: \"))\n",
    "if length == breadth:\n",
    "    print(\"It is a square\")\n",
    "else:\n",
    "    print(\"It is a rectangle\")"
   ]
  },
  {
   "cell_type": "code",
   "execution_count": 6,
   "metadata": {},
   "outputs": [
    {
     "name": "stdout",
     "output_type": "stream",
     "text": [
      "Enter the 1st number: 12\n",
      "Enter the 2nd number: 8\n",
      "1st number is greater\n"
     ]
    }
   ],
   "source": [
    "# TAKE 2 VALUES FROM USER AND PRINT THE GREATER AMONG THEM\n",
    "num1 = int(input(\"Enter the 1st number: \"))\n",
    "num2 = int(input(\"Enter the 2nd number: \"))\n",
    "if num1 > num2:\n",
    "    print(\"1st number is greater\")\n",
    "elif num2 > num1:\n",
    "    print(\"2nd number is greater\")\n",
    "else:\n",
    "    print(\"Both are equal\")"
   ]
  },
  {
   "cell_type": "code",
   "execution_count": 9,
   "metadata": {},
   "outputs": [
    {
     "name": "stdout",
     "output_type": "stream",
     "text": [
      "Enter the quantity: 20\n",
      "Total cost is 1800.0\n"
     ]
    }
   ],
   "source": [
    "# GIVE DISCOUNT OF 10% IF COST OF PURCHASED QUANTITY IS > 1000\n",
    "# COST OF 1 UNIT IS 100...INPUT THE QUANTITY FROM THE USER\n",
    "quantity = int(input(\"Enter the quantity: \"))\n",
    "unit = 100\n",
    "cost = unit * quantity\n",
    "if cost > 1000:\n",
    "    total = 0.9 * cost\n",
    "    print(\"Total cost is\",total)\n",
    "else:\n",
    "    print(\"Total cost is\",cost)"
   ]
  },
  {
   "cell_type": "code",
   "execution_count": 12,
   "metadata": {},
   "outputs": [
    {
     "name": "stdout",
     "output_type": "stream",
     "text": [
      "Enter the salary: 10000\n",
      "Enter the years of service: 6\n",
      "Your net bonus amount is 500.0\n"
     ]
    }
   ],
   "source": [
    "# COMPANY DECIDE TO GIVE 5% BONUS TO EMPLOYEES WHO GAVE SERVICE MORE THAN\n",
    "# 5 YEARS....ASK USER FOR THE SALARY AND YEARS OF SERVICE AND PRINT THE BONUS\n",
    "salary = int(input(\"Enter the salary: \"))\n",
    "year = int(input(\"Enter the years of service: \"))\n",
    "if year > 5:\n",
    "    bonus = (1/20) * salary\n",
    "    print(\"Your net bonus amount is\",bonus)\n",
    "else:\n",
    "    print(\"Not elgible for bonus\")"
   ]
  },
  {
   "cell_type": "code",
   "execution_count": 17,
   "metadata": {},
   "outputs": [
    {
     "name": "stdout",
     "output_type": "stream",
     "text": [
      "Enter your score: 60\n",
      "Your grade is B\n"
     ]
    }
   ],
   "source": [
    "# ASK USER TO ENTER MARKS AND PRINT THE CORRESPONDING GRADE\n",
    "score = int(input(\"Enter your score: \"))\n",
    "if score > 80:\n",
    "    print(\"Your grade is A\")\n",
    "elif score >= 60 and score <= 80:\n",
    "    print(\"Your grade is B\")\n",
    "elif score >= 50 and score < 60:\n",
    "    print(\"Your grade is C\")\n",
    "elif score >= 45 and score < 50:\n",
    "    print(\"Your grade is D\")\n",
    "elif score >= 25 and score < 45:\n",
    "    print(\"Your grade is E\")\n",
    "else:\n",
    "    print(\"Your grade is F\")"
   ]
  },
  {
   "cell_type": "code",
   "execution_count": 96,
   "metadata": {},
   "outputs": [
    {
     "name": "stdout",
     "output_type": "stream",
     "text": [
      "Enter the age of 1st person: 45\n",
      "Enter the age of 2nd person: 40\n",
      "Enter the age of 3rd person: 50\n",
      "3rd is oldest and 2nd is youngest\n"
     ]
    }
   ],
   "source": [
    "# DETERMINE YOUNGEST AND OLDEST AMONG 3 PEOPLE\n",
    "age1 = int(input(\"Enter the age of 1st person: \"))\n",
    "age2 = int(input(\"Enter the age of 2nd person: \"))\n",
    "age3 = int(input(\"Enter the age of 3rd person: \"))\n",
    "if age1 > age2 and age1 > age3:\n",
    "    if age2 > age3:\n",
    "        print(\"1st is oldest and 3rd is youngest\")\n",
    "    else:\n",
    "        print(\"1st is oldest and 2nd is youngest\")\n",
    "elif age2 > age3 and age2 > age1:\n",
    "    if age3 > age1:\n",
    "        print(\"2nd is oldest and 1st is youngest\")\n",
    "    else:\n",
    "        print(\"2nd is oldest and 3rd is youngest\") \n",
    "elif age3 > age1 and age3 > age2:\n",
    "    if age1 > age2:\n",
    "        print(\"3rd is oldest and 2nd is youngest\")\n",
    "    else:\n",
    "        print(\"3rd is oldest and 1st is youngest\")\n",
    "\n",
    "        "
   ]
  },
  {
   "cell_type": "code",
   "execution_count": 30,
   "metadata": {},
   "outputs": [
    {
     "name": "stdout",
     "output_type": "stream",
     "text": [
      "Enter the number: -10\n",
      "Absolute value of -10 is 10\n"
     ]
    }
   ],
   "source": [
    "# ABSOLUTE VALUE OF A NUMBER\n",
    "num = int(input(\"Enter the number: \"))\n",
    "if num >= 0:\n",
    "    print(\"Absolute value of\",num,\"is\",num)\n",
    "else:\n",
    "    value = num * -1\n",
    "    print(\"Absolute value of\",num,\"is\",value)"
   ]
  },
  {
   "cell_type": "code",
   "execution_count": 35,
   "metadata": {},
   "outputs": [
    {
     "name": "stdout",
     "output_type": "stream",
     "text": [
      "Enter the number of classes held: 100\n",
      "Enter the number of classes attended: 75\n",
      "Student is allowed\n"
     ]
    }
   ],
   "source": [
    "# STUDENT NOT ALLOWED TO SIT IN EXAM IF ATTENDANCE IS < 75%\n",
    "classes = int(input(\"Enter the number of classes held: \"))\n",
    "attended = int(input(\"Enter the number of classes attended: \"))\n",
    "if attended > classes:\n",
    "    print(\"Check your values\")\n",
    "else:\n",
    "    attendance = (attended/classes) * 100\n",
    "    if attendance >= 75:\n",
    "        print(\"Student is allowed\")\n",
    "    else:\n",
    "        print(\"Student is not allowed\")"
   ]
  },
  {
   "cell_type": "code",
   "execution_count": 42,
   "metadata": {},
   "outputs": [
    {
     "name": "stdout",
     "output_type": "stream",
     "text": [
      "Enter the number of classes held: 100\n",
      "Enter the number of classes attended: 74\n",
      "Do you have medical: yes\n",
      "Student is allowed\n"
     ]
    }
   ],
   "source": [
    "# STUDENT NOT ALLOWED TO SIT IN EXAM IF ATTENDANCE IS < 75% (WITH MEDICAL)\n",
    "classes = int(input(\"Enter the number of classes held: \"))\n",
    "attended = int(input(\"Enter the number of classes attended: \"))\n",
    "if attended > classes:\n",
    "    print(\"Check your values\")\n",
    "else:\n",
    "    attendance = (attended/classes) * 100\n",
    "    if attendance >= 75:\n",
    "        print(\"Student is allowed\")\n",
    "    else:\n",
    "        medical = input(\"Do you have medical: \")\n",
    "        if medical == \"Yes\" or medical == \"yes\":\n",
    "            print(\"Student is allowed\")\n",
    "        elif medical == \"No\" or medical == \"no\":\n",
    "            print(\"Student is not allowed\")\n",
    "        else:\n",
    "            print(\"Give your answer in yes or no\")"
   ]
  },
  {
   "cell_type": "code",
   "execution_count": 52,
   "metadata": {},
   "outputs": [
    {
     "name": "stdout",
     "output_type": "stream",
     "text": [
      "Enter the year: 1000\n",
      "1000 is not a leap year\n"
     ]
    }
   ],
   "source": [
    "# LEAP YEAR\n",
    "year = int(input(\"Enter the year: \"))\n",
    "if year % 100 == 0:\n",
    "    if year % 400 == 0:\n",
    "        print(year,\"is a leap year\")\n",
    "    else:\n",
    "        print(year,\"is not a leap year\")\n",
    "else:\n",
    "    if year % 4 == 0:\n",
    "        print(year,\"is a leap year\")\n",
    "    else:\n",
    "        print(year,\"is not a leap year\")"
   ]
  },
  {
   "cell_type": "code",
   "execution_count": 73,
   "metadata": {},
   "outputs": [
    {
     "name": "stdout",
     "output_type": "stream",
     "text": [
      "Enter age: 61\n",
      "Enter sex: f\n",
      "Enter marital status: y\n",
      "ERROR!\n"
     ]
    }
   ],
   "source": [
    "# PLACE OF SERVICE\n",
    "age = input(\"Enter age: \")\n",
    "try:\n",
    "    age = int(age)\n",
    "    sex = input(\"Enter sex: \")\n",
    "    if sex == \"M\" or sex == \"m\" or sex == \"F\" or sex == \"f\":\n",
    "        marital = input(\"Enter marital status: \")\n",
    "        if marital == \"Y\" or marital == \"y\" or marital == \"N\" or marital == \"n\": \n",
    "            if sex == \"F\" or sex == \"f\" and age > 20 and age < 60:\n",
    "                print(\"She will work only in urban areas\")    \n",
    "            elif sex == \"M\" or sex ==\"m\":\n",
    "                if age > 20 and age < 40:\n",
    "                    print(\"He may work anywhere\")\n",
    "                elif age >= 40 and age < 60:\n",
    "                    print(\"He will work only in urban areas\")\n",
    "                else:\n",
    "                    print(\"ERROR!\")\n",
    "            else:\n",
    "                print(\"ERROR!\")\n",
    "        else:\n",
    "            print(\"Please enter marital status as 'Y' or 'N'\")\n",
    "    else:\n",
    "        print(\"Please enter sex as 'M' or 'F'\")\n",
    "except:\n",
    "    print(\"Enter valid age\")"
   ]
  },
  {
   "cell_type": "code",
   "execution_count": 83,
   "metadata": {},
   "outputs": [
    {
     "name": "stdout",
     "output_type": "stream",
     "text": [
      "Enter 4 digit number: 1023\n",
      "Reversed number is: 3201\n"
     ]
    }
   ],
   "source": [
    "# REVERSE 4 DIGIT NUMBER\n",
    "num = input(\"Enter 4 digit number: \")\n",
    "if len(num)==4 and num[0] != \"0\":\n",
    "    num = int(num)\n",
    "    digit1 = num % 10\n",
    "    digit4 = num //1000\n",
    "    a = num % 100\n",
    "    digit2 = a // 10\n",
    "    b = num //100\n",
    "    digit3 = b % 10\n",
    "    reverse = 1000 * digit1 + 100 * digit2 + 10 * digit3 + 1 * digit4\n",
    "    print(\"Reversed number is:\",reverse)    \n",
    "else:\n",
    "    print(\"Enter valid number\")"
   ]
  },
  {
   "cell_type": "code",
   "execution_count": null,
   "metadata": {},
   "outputs": [],
   "source": []
  }
 ],
 "metadata": {
  "kernelspec": {
   "display_name": "Python 3",
   "language": "python",
   "name": "python3"
  },
  "language_info": {
   "codemirror_mode": {
    "name": "ipython",
    "version": 3
   },
   "file_extension": ".py",
   "mimetype": "text/x-python",
   "name": "python",
   "nbconvert_exporter": "python",
   "pygments_lexer": "ipython3",
   "version": "3.8.5"
  }
 },
 "nbformat": 4,
 "nbformat_minor": 4
}
