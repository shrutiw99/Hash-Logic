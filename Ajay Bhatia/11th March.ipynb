{
 "cells": [
  {
   "cell_type": "code",
   "execution_count": 6,
   "metadata": {},
   "outputs": [
    {
     "name": "stdout",
     "output_type": "stream",
     "text": [
      "Hello Ajay your age is 25\n",
      "Enter your name and age: Cristiano Ronaldo,36\n",
      "Hello Cristiano Ronaldo your age is 36\n"
     ]
    }
   ],
   "source": [
    "name = \"Ajay\"\n",
    "age = 25\n",
    "print(\"Hello {} your age is {}\".format(name,age))\n",
    "# OR\n",
    "name,age = input(\"Enter your name and age: \").split(\",\")\n",
    "print(f\"Hello {name} your age is {age}\")"
   ]
  },
  {
   "cell_type": "code",
   "execution_count": 36,
   "metadata": {},
   "outputs": [
    {
     "name": "stdout",
     "output_type": "stream",
     "text": [
      "Hello Cristiano Ronaldo your age is 36\n"
     ]
    }
   ],
   "source": [
    "name = \"Cristiano Ronaldo\"\n",
    "age = 31\n",
    "print(f\"Hello {name} your age is {age+5}\")"
   ]
  },
  {
   "cell_type": "code",
   "execution_count": 17,
   "metadata": {},
   "outputs": [
    {
     "name": "stdout",
     "output_type": "stream",
     "text": [
      "Cristiano Ronaldo \n",
      "Cristiano 7\n",
      "Cristiano 7\n",
      "Ronaldo Ronaldo Ronaldo Ronaldo Ronaldo Ronaldo Ronaldo \n"
     ]
    }
   ],
   "source": [
    "fname = \"Cristiano\"\n",
    "lname = \"Ronaldo \"\n",
    "name = fname + \" \" + lname\n",
    "print(name)\n",
    "print(fname + \" \"+\"7\")\n",
    "print(fname + \" \" + str(7))\n",
    "print(lname * 7)"
   ]
  },
  {
   "cell_type": "code",
   "execution_count": 20,
   "metadata": {},
   "outputs": [
    {
     "name": "stdout",
     "output_type": "stream",
     "text": [
      "What is your age? 25\n",
      "Your age is 25\n"
     ]
    }
   ],
   "source": [
    "age = input(\"What is your age? \")\n",
    "print(\"Your age is\" + \" \"+ age)"
   ]
  },
  {
   "cell_type": "code",
   "execution_count": 22,
   "metadata": {},
   "outputs": [
    {
     "name": "stdout",
     "output_type": "stream",
     "text": [
      "Enter the 1st number: 25\n",
      "Enter the 2nd number: 35\n",
      "Sum of 25 & 35 is 2535\n"
     ]
    }
   ],
   "source": [
    "num1 = input(\"Enter the 1st number: \")\n",
    "num2 = input(\"Enter the 2nd number: \")\n",
    "sum = num1 + num2\n",
    "print(\"Sum of \" + num1 + \" & \" + num2 + \" is \" + sum)"
   ]
  },
  {
   "cell_type": "code",
   "execution_count": 33,
   "metadata": {},
   "outputs": [
    {
     "name": "stdout",
     "output_type": "stream",
     "text": [
      "Enter the 1st number: 40\n",
      "Enter the 2nd number: 50\n",
      "Sum of  40  &  50  is  90\n"
     ]
    }
   ],
   "source": [
    "num1 = input(\"Enter the 1st number: \")\n",
    "num2 = input(\"Enter the 2nd number: \")\n",
    "sum = int(num1) + int(num2)\n",
    "print(\"Sum of \",num1,\" & \",num2 ,\" is \",sum)"
   ]
  },
  {
   "cell_type": "code",
   "execution_count": 39,
   "metadata": {},
   "outputs": [
    {
     "name": "stdout",
     "output_type": "stream",
     "text": [
      "Enter the 3 numbers: 25.2,36.8,45.7\n",
      "Average of 25.2 36.8 & 45.7 is 35.9\n"
     ]
    }
   ],
   "source": [
    "num1,num2,num3 = input(\"Enter the 3 numbers: \").split(\",\")\n",
    "avg = (float(num1) + float(num2) + float(num3))/3\n",
    "print(f\"Average of {num1} {num2} & {num3} is {avg}\")"
   ]
  },
  {
   "cell_type": "code",
   "execution_count": null,
   "metadata": {},
   "outputs": [],
   "source": []
  }
 ],
 "metadata": {
  "kernelspec": {
   "display_name": "Python 3",
   "language": "python",
   "name": "python3"
  },
  "language_info": {
   "codemirror_mode": {
    "name": "ipython",
    "version": 3
   },
   "file_extension": ".py",
   "mimetype": "text/x-python",
   "name": "python",
   "nbconvert_exporter": "python",
   "pygments_lexer": "ipython3",
   "version": "3.8.5"
  }
 },
 "nbformat": 4,
 "nbformat_minor": 4
}
