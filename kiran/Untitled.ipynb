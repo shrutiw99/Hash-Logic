{
 "cells": [
  {
   "cell_type": "code",
   "execution_count": 1,
   "metadata": {},
   "outputs": [
    {
     "name": "stdout",
     "output_type": "stream",
     "text": [
      "3\n",
      "Kiran\n"
     ]
    }
   ],
   "source": [
    "_kir1=3\n",
    "print(_kir1)\n",
    "_kir1=\"Kiran\"\n",
    "print(_kir1)"
   ]
  },
  {
   "cell_type": "code",
   "execution_count": 2,
   "metadata": {},
   "outputs": [
    {
     "name": "stdout",
     "output_type": "stream",
     "text": [
      "Hello\n",
      "program\n",
      "5+2\n",
      "hi \"kiran\" this is my first program \n"
     ]
    }
   ],
   "source": [
    "#---------------Chapter -- 1----------------\n",
    "\n",
    "#--------------print function-------------\n",
    "\n",
    "print(\"Hello\")\n",
    "print('program')\n",
    "print(\"5+2\")\n",
    "\n",
    "#double and single quotes in string\n",
    "print('hi \"kiran\" this is my first program ')\n",
    "\n",
    "#print(\"hello 'python'\")\n",
    "#print('hello \"python\"')"
   ]
  },
  {
   "cell_type": "code",
   "execution_count": 3,
   "metadata": {},
   "outputs": [
    {
     "name": "stdout",
     "output_type": "stream",
     "text": [
      "hello \"world\" world\n",
      "hello 'world'world\n",
      "line a\n",
      "line b\n",
      "line c\n",
      "name  shakti\n",
      "this is backlash\\\n",
      "this is double backslash\\\\\n"
     ]
    }
   ],
   "source": [
    "#.................escape sequences................\n",
    "\n",
    "print(\"hello \\\"world\\\" world\")\n",
    "print(\"hello \\'world\\'world\")\n",
    "print(\"line a\\nline b\\nline c\")\n",
    "print(\"name  shakti\")\n",
    "print(\"this is backlash\\\\\")\n",
    "print(\"this is double backslash\\\\\\\\\")"
   ]
  },
  {
   "cell_type": "code",
   "execution_count": 4,
   "metadata": {},
   "outputs": [
    {
     "name": "stdout",
     "output_type": "stream",
     "text": [
      "line a \\n line b\n",
      "line B \\t line b\n"
     ]
    }
   ],
   "source": [
    "#.........escape sequence as a normal text............\n",
    "\n",
    "#.....output...line a \\n line b....\n",
    "\n",
    "#.....output...line B \\\\\\\\n line b....\n",
    "\n",
    "print(\"line a \\\\n line b\")\n",
    "print(\"line B \\\\t line b\")"
   ]
  },
  {
   "cell_type": "code",
   "execution_count": 5,
   "metadata": {},
   "outputs": [
    {
     "name": "stdout",
     "output_type": "stream",
     "text": [
      "line a \\n line b\n"
     ]
    }
   ],
   "source": [
    "#.......raw string......\n",
    "\n",
    "print(r\"line a \\n line b\")"
   ]
  },
  {
   "cell_type": "code",
   "execution_count": 6,
   "metadata": {},
   "outputs": [
    {
     "name": "stdout",
     "output_type": "stream",
     "text": [
      "😍\n",
      "😁\n",
      "😉\n",
      "😘\n",
      "😜\n"
     ]
    }
   ],
   "source": [
    "#........how to print emoji......\n",
    "\n",
    "print(\"\\U0001F60D\")\n",
    "print(\"\\U0001F601\")\n",
    "print(\"\\U0001F609\")\n",
    "print(\"\\U0001F618\")\n",
    "print(\"\\U0001F61C\")"
   ]
  },
  {
   "cell_type": "code",
   "execution_count": 7,
   "metadata": {},
   "outputs": [
    {
     "name": "stdout",
     "output_type": "stream",
     "text": [
      "5\n",
      "19\n",
      "0.5\n",
      "2.0\n",
      "2\n",
      "0\n",
      "1.4142135623730951\n",
      "256\n",
      "1.4142\n",
      "20.0\n",
      "0.0\n"
     ]
    }
   ],
   "source": [
    "#....python as a calculater....\n",
    "\n",
    "print(2+3)\n",
    "print(3+4*4)\n",
    "\n",
    "#...floating point division...\n",
    "\n",
    "print(2/4)\n",
    "print(4/2)\n",
    "\n",
    "#.....integer division....\n",
    "\n",
    "print(4//2)\n",
    "print(2//4)\n",
    "\n",
    "#......exponent.....\n",
    "\n",
    "print(2**0.5)\n",
    "print(2**8)\n",
    "print(round(2**0.5,4))\n",
    "\n",
    "#........using precedence rule.......\n",
    "\n",
    "print(2**3/2*6-4*(3-4/2))\n",
    "print((5+4)*4/6%2)"
   ]
  },
  {
   "cell_type": "code",
   "execution_count": 8,
   "metadata": {},
   "outputs": [
    {
     "name": "stdout",
     "output_type": "stream",
     "text": [
      "2\n",
      "4\n",
      "shakti\n",
      "123\n"
     ]
    }
   ],
   "source": [
    "#..........variables.........\n",
    "\n",
    "number1 = 2\n",
    "print(number1)\n",
    "number1 = 4\n",
    "print(number1)\n",
    "\n",
    "#.....string......\n",
    "\n",
    "name = \"shakti\"\n",
    "print(name)\n",
    "name = 123   #dyanamic programing language\n",
    "print(name)\n",
    "\n",
    "#....letter , _ ....\n",
    "\n",
    "_name = \"shakti\"\n",
    "\n",
    "#.......naming rule for variables.......\n",
    "\n",
    "#1name = \"shakti\"    #....error\n",
    "name1 = \"shakti\"  #.......no error\n",
    "#name$ = \"shakti\"    #....error\n",
    "#$name = \"shakti\"     #......error\n",
    "_name = \"anyname\"  #.....no error\n",
    "\n",
    "#........convention for variable naming.........\n",
    "\n",
    "user_one = \"Shakti\"  #snake case writing\n",
    "userOne = \"shakti\"   #camle case writing\n",
    "\n"
   ]
  },
  {
   "cell_type": "code",
   "execution_count": 9,
   "metadata": {},
   "outputs": [
    {
     "name": "stdout",
     "output_type": "stream",
     "text": [
      "shruti wadhwa\n"
     ]
    }
   ],
   "source": [
    "#................CHAPTER -- 2...............\n",
    "\n",
    "#.........STRING CONCATENATION...........\n",
    "\n",
    "#...ADD A TWO USER...\n",
    "\n",
    "first_name = \"shruti\"\n",
    "last_name = \"wadhwa\"\n",
    "full_name = first_name + \" \" + last_name\n",
    "print(full_name) "
   ]
  },
  {
   "cell_type": "code",
   "execution_count": 10,
   "metadata": {},
   "outputs": [
    {
     "name": "stdout",
     "output_type": "stream",
     "text": [
      "shruti5\n",
      "shruti5\n",
      "shrutishrutishrutishrutishruti\n"
     ]
    }
   ],
   "source": [
    "#print(first_name + 5)  #error\n",
    "\n",
    "print(first_name + \"5\")  #no error\n",
    "\n",
    "print(first_name + str(5))  #no error\n",
    "\n",
    "print(first_name * 5)  #no error"
   ]
  },
  {
   "cell_type": "code",
   "execution_count": 11,
   "metadata": {},
   "outputs": [
    {
     "name": "stdout",
     "output_type": "stream",
     "text": [
      "type your name 5\n",
      "hello 5\n"
     ]
    }
   ],
   "source": [
    "#........user input........\n",
    "#....input function....\n",
    "\n",
    "name = input(\"type your name \")\n",
    "print(\"hello \" + name)"
   ]
  },
  {
   "cell_type": "code",
   "execution_count": 12,
   "metadata": {},
   "outputs": [
    {
     "name": "stdout",
     "output_type": "stream",
     "text": [
      "enter first number54\n",
      "enter second number74\n",
      "total is5474\n",
      "enter first number74\n",
      "enter second number45\n",
      "total is119\n"
     ]
    }
   ],
   "source": [
    "number_one = input(\"enter first number\")\n",
    "number_two = input(\"enter second number\")\n",
    "total = number_one + number_two\n",
    "print(\"total is\" + total)\n",
    "\n",
    "number_one = int(input(\"enter first number\"))\n",
    "number_two = int(input(\"enter second number\"))\n",
    "total = number_one + number_two\n",
    "print(\"total is\" + str(total))\n",
    "#print(\"total is\" + total)"
   ]
  },
  {
   "cell_type": "code",
   "execution_count": 13,
   "metadata": {},
   "outputs": [
    {
     "name": "stdout",
     "output_type": "stream",
     "text": [
      "14.0\n"
     ]
    }
   ],
   "source": [
    "number1 = str(5)\n",
    "number2 = float(\"6\")\n",
    "number3 = int(\"8\")\n",
    "print(number2 + number3)"
   ]
  },
  {
   "cell_type": "code",
   "execution_count": 14,
   "metadata": {},
   "outputs": [
    {
     "name": "stdout",
     "output_type": "stream",
     "text": [
      "hello shakti your age is 23 \n",
      "6\n"
     ]
    }
   ],
   "source": [
    "#.......MORE ABOUT VARIABLES........\n",
    "\n",
    "name, age =\"shakti \", \"23 \"\n",
    "print(\"hello \" + name + \"your age is \" + age)\n",
    "\n",
    "a=b=c=2\n",
    "print(a+b+c)"
   ]
  },
  {
   "cell_type": "code",
   "execution_count": 15,
   "metadata": {},
   "outputs": [
    {
     "name": "stdout",
     "output_type": "stream",
     "text": [
      "date25/03/2021\n",
      "['25', '03', '2021']\n"
     ]
    }
   ],
   "source": [
    "#minibus #......more than one input in one line......\n",
    "\n",
    "date = input(\"date\").split('/')\n",
    "print(date)"
   ]
  },
  {
   "cell_type": "code",
   "execution_count": null,
   "metadata": {},
   "outputs": [],
   "source": []
  },
  {
   "cell_type": "code",
   "execution_count": 16,
   "metadata": {},
   "outputs": [
    {
     "name": "stdout",
     "output_type": "stream",
     "text": [
      "enter your name and agekiran 23\n",
      "kiran\n",
      "23\n"
     ]
    }
   ],
   "source": [
    "#minibus #......more than one input in one line......\n",
    "\n",
    "name, age = input(\"enter your name and age\").split()\n",
    "print(name)\n",
    "print(age)"
   ]
  },
  {
   "cell_type": "code",
   "execution_count": 17,
   "metadata": {},
   "outputs": [
    {
     "ename": "SyntaxError",
     "evalue": "invalid syntax (<ipython-input-17-57ae7743ff1e>, line 19)",
     "output_type": "error",
     "traceback": [
      "\u001b[1;36m  File \u001b[1;32m\"<ipython-input-17-57ae7743ff1e>\"\u001b[1;36m, line \u001b[1;32m19\u001b[0m\n\u001b[1;33m    print(f\"avrage of three number :{(int(num1) + int(num2) + int(num3)) /3}\")ng python3\u001b[0m\n\u001b[1;37m                                                                              ^\u001b[0m\n\u001b[1;31mSyntaxError\u001b[0m\u001b[1;31m:\u001b[0m invalid syntax\n"
     ]
    }
   ],
   "source": [
    "  #...........STRING FORMATTING...........\n",
    "\n",
    "name = \"shakti\"\n",
    "age = 23\n",
    "print(\"hello {} your age is {}\".format(name, age))    #....usi#............excersies............\n",
    "\n",
    "#..qustion--> ask your to input 3 number and you have to print average of three number using string formatting.\n",
    "\n",
    "#....Bonus:-- try to take all three comma separeted inputs in one line.\n",
    "\n",
    "num1 = input(\"enter the first number: \")\n",
    "num2 = input(\"enter the second number: \")\n",
    "num3 = input(\"enter the third number: \")\n",
    "print(f\"average of three number : {(int(num1) + int(num2) + int(num3)) /3} \")\n",
    "\n",
    "#...............OR..............\n",
    "\n",
    "num1, num2, num3 = input(\"enter three numbers comma separated: \").split(\",\")\n",
    "print(f\"avrage of three number :{(int(num1) + int(num2) + int(num3)) /3}\")ng python3\n",
    "print(f\"hello {name} your age is {23}\")     #......using python3.6"
   ]
  },
  {
   "cell_type": "code",
   "execution_count": null,
   "metadata": {},
   "outputs": [],
   "source": [
    "#............excersies............\n",
    "\n",
    "#..qustion--> ask your to input 3 number and you have to print average of three number using string formatting.\n",
    "\n",
    "#....Bonus:-- try to take all three comma separeted inputs in one line.\n",
    "\n",
    "num1 = input(\"enter the first number: \")\n",
    "num2 = input(\"enter the second number: \")\n",
    "num3 = input(\"enter the third number: \")\n",
    "print(f\"average of three number : {(int(num1) + int(num2) + int(num3)) /3} \")\n",
    "\n",
    "#...............OR..............\n",
    "\n",
    "num1, num2, num3 = input(\"enter three numbers comma separated: \").split(\",\")\n",
    "print(f\"avrage of three number :{(int(num1) + int(num2) + int(num3)) /3}\")"
   ]
  },
  {
   "cell_type": "code",
   "execution_count": null,
   "metadata": {},
   "outputs": [],
   "source": [
    "#......STRING INDEXING........\n",
    "\n",
    "language = \"java\"\n",
    "print(language[3])\n",
    "\n",
    "#........TO PRINT A LAST WORD.........\n",
    "\n",
    "language = \"java\"\n",
    "print(language[-2])"
   ]
  },
  {
   "cell_type": "code",
   "execution_count": null,
   "metadata": {},
   "outputs": [],
   "source": [
    "lang = \"python\"\n",
    "print(lang[0:4])"
   ]
  },
  {
   "cell_type": "code",
   "execution_count": null,
   "metadata": {},
   "outputs": [],
   "source": [
    "range (start, stop[, step])\n",
    "range() takes three arguments.\n",
    "Out of the three 2 arguments are optional. \n",
    "I.e., Start and Step are the optional arguments.\n",
    "A start argument is a starting number of the sequence. \n",
    "i.e., lower limit. By default, it starts with 0 if not specified.\n",
    "A stop argument is an upper limit. i.e.generate numbers up to this number, \n",
    "The range()  function doesn’t include this number in the result.\n",
    "The step is a difference between each number in the result. \n",
    "The default value of the step is 1 if not specified."
   ]
  },
  {
   "cell_type": "code",
   "execution_count": null,
   "metadata": {},
   "outputs": [],
   "source": [
    "#..........STEP ARGUMENT.........\n",
    "\n",
    "print(\"harshit\"[1:4:1])\n",
    "print(\"harshit\"[1::3])\n",
    "print(\"harshit\"[1:3:3])\n",
    "print(\"harshit\"[::3])\n",
    "print(\"harshit\"[2::])\n",
    "print(\"harshit\"[::])\n",
    "print(\"harshit\"[-1::-2])\n",
    "print(\"harshit\"[:-4:-1])"
   ]
  },
  {
   "cell_type": "code",
   "execution_count": null,
   "metadata": {},
   "outputs": [],
   "source": [
    "#...............chapter 3..................\n",
    "#.......if statement.........\n",
    "\n",
    "\n",
    "age = input(\"enter your age : \")\n",
    "age = int(age)\n",
    "if age >=20:\n",
    "    print(\"you are above 20\")\n",
    "\n",
    "else:\n",
    "    print(\"Your age less than 20\")\n",
    "print(\"you are eligble to this game \")"
   ]
  },
  {
   "cell_type": "code",
   "execution_count": null,
   "metadata": {},
   "outputs": [],
   "source": [
    "\n",
    "#...........pass statement...........\n",
    "\n",
    "a = 50\n",
    "if a >49:\n",
    "    pass"
   ]
  },
  {
   "cell_type": "code",
   "execution_count": null,
   "metadata": {},
   "outputs": [],
   "source": [
    "#............else statement.............\n",
    "\n",
    "age = input(\"enter your age : \")\n",
    "age = int(age)\n",
    "if age >=20:\n",
    "    print(\"line a\")\n",
    "    print(\"you are above 20\")\n",
    "    print(\"you are eligble to this game \")\n",
    "else:\n",
    "    print(\"sorry you can't play pubg \")"
   ]
  },
  {
   "cell_type": "code",
   "execution_count": null,
   "metadata": {},
   "outputs": [],
   "source": [
    "#............ nested if else..............\n",
    "\n",
    "winning_number = 30\n",
    "user_input = input(\"guess a number b/w 1 and 100 : \")\n",
    "user_input = int(user_input)\n",
    "if user_input == winning_number:\n",
    "    print(\"you win !!!\") \n",
    "    print(\"\\U0001F60D\") \n",
    "else:                                #.....nested if else.....\n",
    "    if user_input < winning_number:\n",
    "        print(\"lose the game\")\n",
    "    else:\n",
    "        print(\"lose the game\")"
   ]
  },
  {
   "cell_type": "code",
   "execution_count": null,
   "metadata": {},
   "outputs": [],
   "source": [
    "#...........and or opreator.........\n",
    "\n",
    "#......and......\n",
    "\n",
    "name = \"shakti\"\n",
    "age = 23\n",
    "clss = 12\n",
    "if name==\"shakti\" and age==23 and clss==12:\n",
    "    print(\"condition true\")\n",
    "else:\n",
    "    print(\"condition false\")\n",
    "    \n",
    "#......or.......\n",
    "\n",
    "name = \"shakti\"\n",
    "age = 23\n",
    "clss = 12\n",
    "if name==\"shakti\" or age==30 or clss==12:\n",
    "    print(\"condition true\")\n",
    "else:\n",
    "    print(\"condition false\")\n"
   ]
  },
  {
   "cell_type": "code",
   "execution_count": null,
   "metadata": {},
   "outputs": [],
   "source": [
    "#..............exercies..............\n",
    "\n",
    "user_name = input(\"enter your name : \")\n",
    "user_age = input(\"enter your age : \")\n",
    "user_age = int(user_age)\n",
    "if user_age >= 15 and (user_name[0]==\"a\" or user_name[0] ==\"A\"):\n",
    "    print(\"you can watch movie \")\n",
    "else:\n",
    "    print(\"you can't watch movie\")"
   ]
  },
  {
   "cell_type": "code",
   "execution_count": null,
   "metadata": {},
   "outputs": [],
   "source": [
    "#........if......elif......else........\n",
    "\n",
    "age = input(\"please input your age : \")\n",
    "age = int(age)\n",
    "if age==0 or age < 0:\n",
    "    print(\"you can't watch movie\")\n",
    "elif 0<age<=3:\n",
    "    print(\"ticket price : free\")\n",
    "elif 3<age<=10:\n",
    "    print(\"ticket price : 150\")\n",
    "elif 11<age<=60:\n",
    "    print(\"ticket price : 250\")\n",
    "else:\n",
    "    print(\"ticket price : 200\")"
   ]
  },
  {
   "cell_type": "code",
   "execution_count": null,
   "metadata": {},
   "outputs": [],
   "source": [
    "fact=int(input(\"Enter the number\"))\n",
    "ans=1\n",
    "while fact>0:\n",
    "    ans=ans*fact\n",
    "    fact=fact-1\n",
    "print(ans)"
   ]
  },
  {
   "cell_type": "code",
   "execution_count": null,
   "metadata": {},
   "outputs": [],
   "source": [
    "n=int(input(\"Enter the number:\"))\n",
    "a=1\n",
    "if (n==0) or (n==1):\n",
    "    print(\"Factorial is 1\")\n",
    "else:\n",
    "    for i in range(1,n+1):\n",
    "        a=i*a\n",
    "    print(f\"The factorial of {n} is\", a)"
   ]
  },
  {
   "cell_type": "code",
   "execution_count": null,
   "metadata": {},
   "outputs": [],
   "source": [
    "print(\"pyramid\")\n",
    "a=[]\n",
    "for i in range(0,5):\n",
    "    for j in range(0,i+1):\n",
    "        print(\"*\",end=\"\")\n",
    "    print(\" \")"
   ]
  },
  {
   "cell_type": "code",
   "execution_count": null,
   "metadata": {},
   "outputs": [],
   "source": [
    "row=5\n",
    "for i in range(0,row):\n",
    "    for j in range(0,i+1):\n",
    "        print(\"*\",end='')\n",
    "    print(\" \")"
   ]
  },
  {
   "cell_type": "code",
   "execution_count": null,
   "metadata": {},
   "outputs": [],
   "source": [
    "row=6\n",
    "for i in range(0,row):\n",
    "    for j in range(i):\n",
    "        print(i,end=' ')\n",
    "    print(\" \")"
   ]
  },
  {
   "cell_type": "code",
   "execution_count": null,
   "metadata": {},
   "outputs": [],
   "source": [
    "print(\"Leap year\")\n",
    "a=2000\n",
    "if a//4:\n",
    "    print(\"leap +year\")\n",
    "else:\n",
    "    print(\"It is not leap year\")"
   ]
  },
  {
   "cell_type": "code",
   "execution_count": null,
   "metadata": {},
   "outputs": [],
   "source": [
    "num=int(input(\"enter a number\"))\n",
    "flag=True\n",
    "\n",
    "if num>1:\n",
    "    for i in range(2,num):\n",
    "        if(num%i)==0:\n",
    "            flag=False\n",
    "            break\n",
    "    if flag:\n",
    "        print(\"It is prime\")\n",
    "    else:\n",
    "        print(\"not prime number\")"
   ]
  },
  {
   "cell_type": "code",
   "execution_count": null,
   "metadata": {},
   "outputs": [],
   "source": [
    "i=0\n",
    "while i<=10:\n",
    "    print(i)\n",
    "    i+=1"
   ]
  },
  {
   "cell_type": "code",
   "execution_count": null,
   "metadata": {},
   "outputs": [],
   "source": [
    "row=6\n",
    "for i in range(1,row):\n",
    "    for j in range(i):\n",
    "        print(j,end=' ')\n",
    "    print(\" \")"
   ]
  },
  {
   "cell_type": "code",
   "execution_count": null,
   "metadata": {},
   "outputs": [],
   "source": [
    "fact=int(input(\"Enter the number\"))\n",
    "ans=1\n",
    "while fact>0:\n",
    "    ans=ans+fact\n",
    "    fact=fact\n",
    "print(ans)"
   ]
  },
  {
   "cell_type": "code",
   "execution_count": null,
   "metadata": {},
   "outputs": [],
   "source": [
    "list1 = [12, 15, 32, 42, 55, 75, 122, 132, 150, 180, 200]\n",
    "for item in list1:\n",
    "    if (item > 150):\n",
    "        break\n",
    "    if(item % 5 == 0):\n",
    "        print(item)"
   ]
  },
  {
   "cell_type": "code",
   "execution_count": null,
   "metadata": {},
   "outputs": [],
   "source": [
    "n=758697845478\n",
    "count=0\n",
    "while n!=0:\n",
    "    n//=10\n",
    "    count+=1\n",
    "print(\"Total digits are\",count)\n"
   ]
  },
  {
   "cell_type": "code",
   "execution_count": null,
   "metadata": {},
   "outputs": [],
   "source": [
    "for i in range(5,0,-1):\n",
    "    for j in range(i,0,-1):\n",
    "        print(j,end=' ')\n",
    "    print(\"\\n\")"
   ]
  },
  {
   "cell_type": "code",
   "execution_count": null,
   "metadata": {},
   "outputs": [],
   "source": [
    "l=int(input(\"Enter value of length:\"))\n",
    "b=int(input(\"Enter value of Breadth:\"))\n",
    "z=l*b\n",
    "if(l*b):\n",
    "    print(\"Area of rectangle\",z)"
   ]
  },
  {
   "cell_type": "code",
   "execution_count": null,
   "metadata": {},
   "outputs": [],
   "source": [
    "l=int(input(\"Enter value of length:\"))\n",
    "b=int(input(\"Enter value of Breadth:\"))\n",
    "if(l==b):\n",
    "    print(\"It is square\")\n",
    "else:\n",
    "    print(\"It is not square\")"
   ]
  },
  {
   "cell_type": "code",
   "execution_count": null,
   "metadata": {},
   "outputs": [],
   "source": [
    "a=int(input(\"Enter value of a:\"))\n",
    "b=int(input(\"Enter value of b:\"))\n",
    "if(a>b):\n",
    "    print(\"A is greater than B\")\n",
    "elif(b>a):\n",
    "    print(\"B is greater than A\")\n",
    "else:\n",
    "    print(\"Both are equal\")"
   ]
  },
  {
   "cell_type": "code",
   "execution_count": null,
   "metadata": {},
   "outputs": [],
   "source": [
    "a=int(input())\n",
    "if(a<25):\n",
    "    print(\"Grade F\")\n",
    "elif(a>=25 and a<=45):\n",
    "    print(\"Grade E\")\n",
    "elif(a>45 and a<=50):\n",
    "    print(\"Grade D\")\n",
    "elif(a>50and a<=60):\n",
    "    print(\"Grade C\")\n",
    "elif(a>60 and a<80):\n",
    "    print(\"Grade B\")\n",
    "elif(a>80):\n",
    "     print(\"Grade A\")\n",
    "\n",
    "else:\n",
    "     print(\"Invalid value\")\n",
    "\n"
   ]
  },
  {
   "cell_type": "code",
   "execution_count": null,
   "metadata": {},
   "outputs": [],
   "source": [
    "print=int(input=\"Enter quantity\")\n",
    "quantity=input()\n",
    "if quantity*100 > 1000:\n",
    "    print(\"cost is\",((quantity*100)-(.1*quantity*100)))\n",
    "else:\n",
    "    print(\"cost is\",quantity*100) "
   ]
  },
  {
   "cell_type": "code",
   "execution_count": null,
   "metadata": {},
   "outputs": [],
   "source": [
    "q=int(input(\"enter q\"))\n",
    "if q>1000:\n",
    "    print(\"u have discount of 10%\")\n",
    "    print((q*100)-(.1*q*100))\n",
    "else:\n",
    "    print(\"cost is\",q*100)"
   ]
  },
  {
   "cell_type": "code",
   "execution_count": null,
   "metadata": {},
   "outputs": [],
   "source": [
    "sal=int(input(\"enter salary\"))\n",
    "year=int(input(\"enter year\"))\n",
    "if year>5:\n",
    "    print(\"u got bonus of 5%\")\n",
    "    print(\"your bonus is\",sal*105/100)"
   ]
  },
  {
   "cell_type": "code",
   "execution_count": null,
   "metadata": {},
   "outputs": [],
   "source": [
    "first=int(input(\"Enter first age:\"))\n",
    "second=int(input(\"Enter second age:\"))\n",
    "third=int(input(\"Enter third age:\"))\n",
    "if first>=second and first>=third:\n",
    "    print(\"oldest is\",first)\n",
    "if second>=first and second>=third:\n",
    "    print(\"oldest is\",second)\n",
    "if third>=first and third>=second:\n",
    "    print(\"oldest is\",third)\n",
    "else:\n",
    "    print(\"All are equal\")"
   ]
  },
  {
   "cell_type": "code",
   "execution_count": null,
   "metadata": {},
   "outputs": [],
   "source": [
    "num=int(input(\"Enter a number\"))\n",
    "if num<0:\n",
    "    print(num*-1)\n",
    "else:\n",
    "    print(num)"
   ]
  },
  {
   "cell_type": "code",
   "execution_count": null,
   "metadata": {},
   "outputs": [],
   "source": [
    "noh=int(input(\"Number of classes held\"))\n",
    "noa=int(input(\"Number of classes attended\"))\n",
    "attend=(noa/float(noh))*100\n",
    "print(\"Attendence is\",attend)\n",
    "if attend>=75:\n",
    "    print(\"You are allowed to sit in exam\")\n",
    "else:\n",
    "    print(\"Sorry,you are not allowed.Attend more classes from next time.\")"
   ]
  },
  {
   "cell_type": "code",
   "execution_count": null,
   "metadata": {},
   "outputs": [],
   "source": [
    "med=input(\"Enter 'Y' and 'N' for medical cause:\")\n",
    "atten=int(input(\"Enter your attendence:\"))\n",
    "if med=='Y':\n",
    "    print(\"You are allowed\")\n",
    "elif atten>=75:\n",
    "        print(\"Allowed\")\n",
    "else:\n",
    "        print(\"Not Allowed\")"
   ]
  },
  {
   "cell_type": "code",
   "execution_count": null,
   "metadata": {},
   "outputs": [],
   "source": []
  },
  {
   "cell_type": "code",
   "execution_count": null,
   "metadata": {},
   "outputs": [],
   "source": [
    "user=input(\"Enter Name:\")\n",
    "for i in user:\n",
    "    print (i)"
   ]
  },
  {
   "cell_type": "code",
   "execution_count": null,
   "metadata": {},
   "outputs": [],
   "source": [
    "a=\"refrigerator\"\n",
    "count=0\n",
    "for i in a:\n",
    "    count=count+1\n",
    "print(count)"
   ]
  },
  {
   "cell_type": "code",
   "execution_count": null,
   "metadata": {},
   "outputs": [],
   "source": [
    "\n",
    "print('e' in 'Umbrella')"
   ]
  },
  {
   "cell_type": "code",
   "execution_count": null,
   "metadata": {},
   "outputs": [],
   "source": [
    "print('is' in 'This is orange juice')"
   ]
  },
  {
   "cell_type": "code",
   "execution_count": null,
   "metadata": {},
   "outputs": [],
   "source": [
    "a=\"Hello,World\"\n",
    "for i in range(len(a)):\n",
    "    if a[i]=='o':\n",
    "        print(\"Position of o are\",i)\n",
    "for j in range(len(a)):\n",
    "    if a[j]==',':\n",
    "        print(\"Position of , are\",j)"
   ]
  },
  {
   "cell_type": "code",
   "execution_count": null,
   "metadata": {},
   "outputs": [],
   "source": []
  },
  {
   "cell_type": "code",
   "execution_count": null,
   "metadata": {},
   "outputs": [],
   "source": [
    "a=['a','e','i','o','u','A','E','I','O','U','']\n",
    "b=\"Hello,have a good day\"\n",
    "for i in b:\n",
    "    if i not in a:\n",
    "        b=b[:b.index(i)]+b[b.index(i)+1:]\n",
    "        print(b)"
   ]
  },
  {
   "cell_type": "code",
   "execution_count": null,
   "metadata": {},
   "outputs": [],
   "source": [
    "a=[\"hello,have a good day\"]\n",
    "vowel=['a','e','i','o','u','A','E','I','O','U','']\n",
    "for i in a:\n",
    "    if i in vowel:\n",
    "        print(i,end=\"\")"
   ]
  },
  {
   "cell_type": "code",
   "execution_count": null,
   "metadata": {},
   "outputs": [],
   "source": [
    "s1='abc'\n",
    "s2='xyz'\n",
    "for i in s2(::-1):\n",
    "    print(s2)"
   ]
  },
  {
   "cell_type": "code",
   "execution_count": null,
   "metadata": {},
   "outputs": [],
   "source": [
    "#-----Assignment Questions----\n",
    "s1=input(\"Enter a string:\")\n",
    "s2=int(len(s1)//2)\n",
    "print(\"Original string is\",s1)\n",
    "mid=s1[s2-1:s2+2]\n",
    "print(\"Middle three are\",mid)"
   ]
  },
  {
   "cell_type": "code",
   "execution_count": null,
   "metadata": {},
   "outputs": [],
   "source": [
    "s1=\"Kiran\"\n",
    "s2=\"Mouraya\"\n",
    "middleindex=int(len(s1)//2)\n",
    "print(\"Original string are\",s1,s2)\n",
    "mid=s1[:middleindex:]+s2+s1[middleindex:]\n",
    "print(\"After appending new string in middle\",mid)"
   ]
  },
  {
   "cell_type": "code",
   "execution_count": null,
   "metadata": {},
   "outputs": [],
   "source": [
    "str=\"Emma is a data scientist who knows python.Emma works at google.\"\n",
    "print('Emma' in str)"
   ]
  },
  {
   "cell_type": "code",
   "execution_count": null,
   "metadata": {},
   "outputs": [],
   "source": [
    "str=\"Emma-is-a-data-scientist\"\n",
    "print(\"Original string:\",str)\n",
    "string=str.split(\"-\")\n",
    "for i in string:\n",
    "    print(i)"
   ]
  },
  {
   "cell_type": "code",
   "execution_count": null,
   "metadata": {},
   "outputs": [],
   "source": [
    "a=input()\n",
    "for i in a:\n",
    "    print(i)"
   ]
  },
  {
   "cell_type": "code",
   "execution_count": null,
   "metadata": {},
   "outputs": [],
   "source": [
    "a=\"This is orange juice\"\n",
    "print('orange' in a)"
   ]
  },
  {
   "cell_type": "code",
   "execution_count": null,
   "metadata": {},
   "outputs": [],
   "source": [
    "a=\"Hello,World\"\n",
    "print(a[4])\n",
    "print(a[5])    "
   ]
  },
  {
   "cell_type": "code",
   "execution_count": null,
   "metadata": {},
   "outputs": [],
   "source": [
    "def switch_demo(argument):\n",
    "    switcher = {\n",
    "        1: \"January\",\n",
    "        2: \"February\",\n",
    "        3: \"March\",\n",
    "        4: \"April\",\n",
    "        5: \"May\",\n",
    "        6: \"June\",\n",
    "        7: \"July\",\n",
    "        8: \"August\",\n",
    "        9: \"September\",\n",
    "        10: \"October\",\n",
    "        11: \"November\",\n",
    "        12: \"December\"\n",
    "    }\n",
    "    print switcher.get(argument, \"Invalid month\")"
   ]
  },
  {
   "cell_type": "code",
   "execution_count": null,
   "metadata": {},
   "outputs": [],
   "source": [
    "name=\"kiran\"\n",
    "temp_var=\"\"\n",
    "i=0\n",
    "while i<len(name):\n",
    "    if name[i] not in temp_var:\n",
    "        temp_var+=name[i]\n",
    "        print(f\"{name[i]}:{name.count(name[i])}\")\n",
    "    i+=1"
   ]
  },
  {
   "cell_type": "code",
   "execution_count": null,
   "metadata": {},
   "outputs": [],
   "source": [
    "total=0\n",
    "for i in range (1,11):\n",
    "    total+=i\n",
    "print (total)\n"
   ]
  },
  {
   "cell_type": "code",
   "execution_count": null,
   "metadata": {},
   "outputs": [],
   "source": [
    "t1=int(input(\"Enter value:\"))\n",
    "i=0\n",
    "for i in range(1,11):\n",
    "    s=i*t1\n",
    "    print(s)"
   ]
  },
  {
   "cell_type": "code",
   "execution_count": 18,
   "metadata": {},
   "outputs": [
    {
     "name": "stdout",
     "output_type": "stream",
     "text": [
      "1 , 5\n",
      "2 , 6\n",
      "3 , 7\n"
     ]
    }
   ],
   "source": [
    "i=1\n",
    "j=5\n",
    "while i<4:\n",
    "    while j<8:\n",
    "        print(i,\",\",j)\n",
    "        j=j+1\n",
    "        i=i+1"
   ]
  },
  {
   "cell_type": "code",
   "execution_count": 20,
   "metadata": {},
   "outputs": [
    {
     "name": "stdout",
     "output_type": "stream",
     "text": [
      "\n",
      "1\n",
      "22\n",
      "333\n",
      "4444\n",
      "55555\n"
     ]
    }
   ],
   "source": [
    "rows=6\n",
    "for num in range(rows):\n",
    "    for i in range(num):\n",
    "        print(num,end='')\n",
    "    print(\"\")"
   ]
  },
  {
   "cell_type": "code",
   "execution_count": 56,
   "metadata": {},
   "outputs": [
    {
     "name": "stdout",
     "output_type": "stream",
     "text": [
      "11111\r\n",
      "1111\r\n",
      "111\r\n",
      "11\r\n",
      "1\r\n"
     ]
    }
   ],
   "source": [
    "rows = 5\n",
    "for i in range(rows,0,-1):\n",
    "    for j in range(0, i):\n",
    "        print(num, end='')\n",
    "    print(\"\\r\")"
   ]
  },
  {
   "cell_type": "code",
   "execution_count": 38,
   "metadata": {},
   "outputs": [
    {
     "name": "stdout",
     "output_type": "stream",
     "text": [
      "1\n",
      "21\n",
      "321\n",
      "4321\n",
      "54321\n"
     ]
    }
   ],
   "source": [
    "rows = 6\n",
    "\n",
    "for row in range(1, rows):\n",
    "\n",
    "    for column in range(row, 0, -1):\n",
    "\n",
    "        print(column, end='')\n",
    "\n",
    "    print(\"\")"
   ]
  },
  {
   "cell_type": "code",
   "execution_count": 55,
   "metadata": {},
   "outputs": [
    {
     "name": "stdout",
     "output_type": "stream",
     "text": [
      "+\"\"\"\"\"\"\"\"\"\"\"\"+\n",
      "[|  0   0   |]\n",
      "|     ^      |\n",
      "|    '_'     |\n",
      "+____________+\n"
     ]
    }
   ],
   "source": [
    "print('+\"\"\"\"\"\"\"\"\"\"\"\"+')\n",
    "print(\"[|  0   0   |]\")\n",
    "print(\"|     ^      |\")\n",
    "print(\"|    '_'     |\")\n",
    "print(\"+____________+\")"
   ]
  },
  {
   "cell_type": "code",
   "execution_count": null,
   "metadata": {},
   "outputs": [],
   "source": []
  }
 ],
 "metadata": {
  "kernelspec": {
   "display_name": "Python 3",
   "language": "python",
   "name": "python3"
  },
  "language_info": {
   "codemirror_mode": {
    "name": "ipython",
    "version": 3
   },
   "file_extension": ".py",
   "mimetype": "text/x-python",
   "name": "python",
   "nbconvert_exporter": "python",
   "pygments_lexer": "ipython3",
   "version": "3.8.5"
  }
 },
 "nbformat": 4,
 "nbformat_minor": 4
}
