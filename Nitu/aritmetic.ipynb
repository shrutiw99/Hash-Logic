{
 "cells": [
  {
   "cell_type": "code",
   "execution_count": 2,
   "metadata": {},
   "outputs": [
    {
     "name": "stdout",
     "output_type": "stream",
     "text": [
      "1\n",
      "2\n",
      "3\n",
      "4\n",
      "5\n",
      "6\n",
      "7\n",
      "8\n",
      "9\n",
      "10\n"
     ]
    }
   ],
   "source": [
    "\n",
    "\n",
    "i=1\n",
    "while i<=10:\n",
    "    print(i)\n",
    "    i+=1\n",
    "\n"
   ]
  },
  {
   "cell_type": "code",
   "execution_count": 3,
   "metadata": {},
   "outputs": [
    {
     "name": "stdout",
     "output_type": "stream",
     "text": [
      "9\n"
     ]
    }
   ],
   "source": [
    "a=0\n",
    "for x in range(1,10):\n",
    "     a +=1\n",
    "print (x)"
   ]
  },
  {
   "cell_type": "code",
   "execution_count": null,
   "metadata": {},
   "outputs": [],
   "source": [
    "\n",
    "z=0\n",
    "m=0\n",
    "l=int(input(\"enter a length\"))\n",
    "b=int(input(\"enter a breadth\"))\n",
    "z=l*b\n",
    "print(z)\n",
    "x=int(input(\"enter a side\"))\n",
    "m=4*x\n",
    "print(m)\n",
    "\n",
    "if z==m:\n",
    "    print(it is square)\n",
    "else:\n",
    "        print(it is not square)\n"
   ]
  },
  {
   "cell_type": "code",
   "execution_count": null,
   "metadata": {},
   "outputs": [],
   "source": [
    "m=int(input(\"enter a first number\"))\n",
    "n=int(input(\"enter a second number\"))\n",
    "if m>n:\n",
    "    print(\"{}  is greater than second number\".format(m))\n",
    "else:    \n",
    "        print(\"{}  is greater than first number\".format(n))\n"
   ]
  },
  {
   "cell_type": "code",
   "execution_count": null,
   "metadata": {},
   "outputs": [],
   "source": [
    "salary=int(input(\"enter a first number\"))\n",
    "service=int(input(\"enter a number of years\"))\n",
    "if service>5:\n",
    "    print(\"u got five percent bonus\")\n",
    "    print(\"your bonus is\",salary*105/100)\n",
    "else:\n",
    "    print(\"you are not eligible for bonus\")\n"
   ]
  },
  {
   "cell_type": "code",
   "execution_count": null,
   "metadata": {},
   "outputs": [],
   "source": [
    "marks=int(input(\"enter a  marks\"))\n",
    "if(marks>80 and marks<100):\n",
    "    print (\"A Grade\")\n",
    "elif(marks>60 and marks<80):\n",
    "        print (\"B Grade\")\n",
    "elif(marks>=50 and marks<=60):\n",
    "        print (\"C Grade\")\n",
    "elif(marks>=40 and marks<=50):\n",
    "        print (\"D Grade\")\n",
    "elif(marks>=25 and marks<=45):\n",
    "        print (\"E Grade\")\n",
    "elif(marks<25):\n",
    "        print (\"Fail\")\n",
    "        \n",
    "else:\n",
    "        print(\"grade is not define\")\n",
    "        \n",
    "        \n",
    "    "
   ]
  },
  {
   "cell_type": "code",
   "execution_count": null,
   "metadata": {},
   "outputs": [],
   "source": [
    "n=int(input(\"enter a  first person age\"))\n",
    "m=int(input(\"enter a second person age\"))\n",
    "x=int(input(\"enter a third person age\"))\n",
    "if(n>m and n>x):\n",
    "    print(\"n is older than second  and third person\")\n",
    "\n",
    "elif(m>n and m>x):\n",
    "    print(\"m is older than first and third person\")\n",
    "\n",
    "elif(x>n and x>m):\n",
    "     print(\"x is older than first and third person\")\n",
    "\n"
   ]
  },
  {
   "cell_type": "markdown",
   "metadata": {},
   "source": []
  },
  {
   "cell_type": "code",
   "execution_count": null,
   "metadata": {},
   "outputs": [],
   "source": [
    "a=int(input(\"enter a number\"))\n",
    "if(a<0):\n",
    "    print(\"output will be\",a*-1)\n",
    "else:\n",
    "     print(a)\n",
    "    "
   ]
  },
  {
   "cell_type": "code",
   "execution_count": null,
   "metadata": {},
   "outputs": [],
   "source": [
    "\n",
    "a=input(\"enter a user name\")\n",
    "for x in a:\n",
    "    print(x) "
   ]
  },
  {
   "cell_type": "code",
   "execution_count": null,
   "metadata": {},
   "outputs": [],
   "source": [
    "a=\"refrigator\"\n",
    "   count = 0\n",
    "for x in a:\n",
    "        count=count+1 \n",
    "    print(count)\n"
   ]
  },
  {
   "cell_type": "markdown",
   "metadata": {},
   "source": [
    "###### "
   ]
  },
  {
   "cell_type": "code",
   "execution_count": null,
   "metadata": {},
   "outputs": [],
   "source": [
    "a=\"this is Umbrella\"\n",
    "print( 'm' in 'Umbrella')"
   ]
  },
  {
   "cell_type": "code",
   "execution_count": null,
   "metadata": {},
   "outputs": [],
   "source": [
    "a=\"this is orange juice\"\n",
    "print ('orange' in a.split())"
   ]
  },
  {
   "cell_type": "code",
   "execution_count": null,
   "metadata": {},
   "outputs": [],
   "source": [
    "a=\"hello ,world\"\n",
    "for i in range(len(a)):\n",
    "    if a[i] =='o':\n",
    "        print(\"positions of o are\",i)\n",
    "for j in range (len(a)):\n",
    "         if a[j]==',':\n",
    "\n",
    "            print(\"position of, are\",j)"
   ]
  },
  {
   "cell_type": "code",
   "execution_count": null,
   "metadata": {},
   "outputs": [],
   "source": [
    "a=0\n",
    "number1=int(input(\"enter number of classes held\"))\n",
    "number2=int(input(\"enter number of classes attend\"))\n",
    "a=((number2/number1*100))\n",
    "if(a>=75):\n",
    "    print(\"student  is allowed sit in the exam\",a)\n",
    "else:\n",
    "        print(\"student  is  not  allowed sit in the exam\",a)\n",
    "    "
   ]
  },
  {
   "cell_type": "code",
   "execution_count": null,
   "metadata": {},
   "outputs": [],
   "source": [
    "a=['a','e','i','o','u','A','E','I','O','U',' ']\n",
    "b= \"Hello,have a good day\"\n",
    "for i in b:\n",
    "     if i not in a:\n",
    "        b = b[:b.index(i)]+b[b.index(i)+1:]\n",
    "print (b)"
   ]
  },
  {
   "cell_type": "code",
   "execution_count": null,
   "metadata": {},
   "outputs": [],
   "source": [
    "vowel=['a','e','i','o','u','A','E','I','O','U',' ']\n",
    "a= \"Hello,have a good day\"\n",
    "for i in a:\n",
    "     if i in vowel:\n",
    "        print(i,end=\"\")\n"
   ]
  },
  {
   "cell_type": "code",
   "execution_count": null,
   "metadata": {},
   "outputs": [],
   "source": [
    "a=\"hello\"\n",
    "print (a)\n",
    "print (a[::-1])\n",
    "print (a[:]==a[::-1])\n",
    "\n"
   ]
  },
  {
   "cell_type": "code",
   "execution_count": null,
   "metadata": {},
   "outputs": [],
   "source": [
    "s1=\"abc\"\n",
    "s2='xyz'\n",
    "print (s1[0]+s2[2]+s1[1]+s2[1]+s1[2]+s2[0])"
   ]
  },
  {
   "cell_type": "code",
   "execution_count": null,
   "metadata": {},
   "outputs": [],
   "source": [
    "s1=\"abc\"\n",
    "s2='xyz'\n",
    "m=\"\"\n",
    "i=0\n",
    "while i<len(s1):\n",
    "    for j in s2[::-1]:\n",
    "        m=m+s1[i]+j\n",
    "        i=i+1\n",
    "    print(m)\n",
    "\n",
    "\n",
    "\n"
   ]
  },
  {
   "cell_type": "code",
   "execution_count": null,
   "metadata": {},
   "outputs": [],
   "source": [
    "str1=input(\"enter the string \")\n",
    "\n",
    "print(\"The  Ascii value of \",ord(str1))"
   ]
  },
  {
   "cell_type": "code",
   "execution_count": null,
   "metadata": {},
   "outputs": [],
   "source": [
    "a=0\n",
    "n=int(input(\"enter the number\"))\n",
    "a=n+n*n+n*n*n\n",
    "print(a)\n"
   ]
  },
  {
   "cell_type": "code",
   "execution_count": null,
   "metadata": {},
   "outputs": [],
   "source": [
    "\n",
    "str1=input(\"enter the string\")\n",
    "\n",
    "if (str1[:2]==\"is\"):\n",
    "    print(str1)\n",
    "else:\n",
    "    print(\"is\"+\" \"+str1)\n",
    "\n",
    "\n",
    "    "
   ]
  },
  {
   "cell_type": "code",
   "execution_count": null,
   "metadata": {},
   "outputs": [],
   "source": [
    "\n",
    "str1=input(\"enter the string\")\n",
    "str2=input(\"enter the string\")\n",
    "print(str2+\" \"+str1)\n",
    "\n",
    "\n",
    "\n",
    "\n"
   ]
  },
  {
   "cell_type": "code",
   "execution_count": null,
   "metadata": {},
   "outputs": [],
   "source": [
    "import sys\n",
    "print(\"python version\")\n",
    "print(sys.version)"
   ]
  },
  {
   "cell_type": "code",
   "execution_count": 1,
   "metadata": {},
   "outputs": [
    {
     "name": "stdout",
     "output_type": "stream",
     "text": [
      "<built-in method now of type object at 0x00007FF8DC44B530>\n"
     ]
    }
   ],
   "source": [
    "from datetime import datetime\n",
    "print(datetime.now)"
   ]
  },
  {
   "cell_type": "code",
   "execution_count": 12,
   "metadata": {},
   "outputs": [
    {
     "name": "stdout",
     "output_type": "stream",
     "text": [
      "Neetu\n",
      "Mansi\n",
      "satwinder\n",
      "Arti\n",
      "Babita\n"
     ]
    }
   ],
   "source": [
    "\n",
    "t=['Neetu','Mansi','satwinder','Arti','Babita']\n",
    "for x in t:\n",
    "    print(x)"
   ]
  },
  {
   "cell_type": "code",
   "execution_count": 35,
   "metadata": {},
   "outputs": [
    {
     "name": "stdout",
     "output_type": "stream",
     "text": [
      "[2, 5, 12]\n",
      "['hello world', 'neetu', 'Ekta', 'Jyoti']\n",
      "[3.0, 4.3, 4.3, 12.3]\n"
     ]
    }
   ],
   "source": [
    "t=[2, 3.0,4.3,\"hello world\", 5, 4.3,12,\"neetu\",12.3,\"Ekta\",\"Jyoti\"]\n",
    "n=[]\n",
    "j=[]\n",
    "k=[]\n",
    "\n",
    "for i in t:\n",
    "    if(type(i)==int):\n",
    "        n.append(i)   \n",
    "    elif(type(i)==str):\n",
    "        j.append(i)  \n",
    "    elif(type(i)==float):\n",
    "        k.append(i)\n",
    "print(n)\n",
    "print(j)\n",
    "print(k)"
   ]
  },
  {
   "cell_type": "code",
   "execution_count": 41,
   "metadata": {},
   "outputs": [
    {
     "name": "stdout",
     "output_type": "stream",
     "text": [
      "enter the number{1,101}56\n"
     ]
    },
    {
     "ename": "TypeError",
     "evalue": "'int' object is not callable",
     "output_type": "error",
     "traceback": [
      "\u001b[1;31m---------------------------------------------------------------------------\u001b[0m",
      "\u001b[1;31mTypeError\u001b[0m                                 Traceback (most recent call last)",
      "\u001b[1;32m<ipython-input-41-84edc39394a4>\u001b[0m in \u001b[0;36m<module>\u001b[1;34m\u001b[0m\n\u001b[0;32m      2\u001b[0m \u001b[0modd\u001b[0m\u001b[1;33m=\u001b[0m\u001b[1;33m[\u001b[0m\u001b[1;33m]\u001b[0m\u001b[1;33m\u001b[0m\u001b[1;33m\u001b[0m\u001b[0m\n\u001b[0;32m      3\u001b[0m \u001b[0mn\u001b[0m\u001b[1;33m=\u001b[0m\u001b[0mint\u001b[0m\u001b[1;33m(\u001b[0m\u001b[0minput\u001b[0m\u001b[1;33m(\u001b[0m\u001b[1;34m\"enter the number{1,101}\"\u001b[0m\u001b[1;33m)\u001b[0m\u001b[1;33m)\u001b[0m\u001b[1;33m\u001b[0m\u001b[1;33m\u001b[0m\u001b[0m\n\u001b[1;32m----> 4\u001b[1;33m \u001b[1;32mfor\u001b[0m \u001b[0mx\u001b[0m \u001b[1;32min\u001b[0m \u001b[0mn\u001b[0m \u001b[1;33m(\u001b[0m\u001b[0mrange\u001b[0m\u001b[1;33m(\u001b[0m\u001b[1;36m1\u001b[0m\u001b[1;33m,\u001b[0m\u001b[1;36m101\u001b[0m\u001b[1;33m)\u001b[0m\u001b[1;33m)\u001b[0m\u001b[1;33m:\u001b[0m\u001b[1;33m\u001b[0m\u001b[1;33m\u001b[0m\u001b[0m\n\u001b[0m\u001b[0;32m      5\u001b[0m     \u001b[1;32mif\u001b[0m \u001b[0mx\u001b[0m\u001b[1;33m%\u001b[0m\u001b[1;36m2\u001b[0m\u001b[1;33m==\u001b[0m\u001b[1;36m0\u001b[0m\u001b[1;33m:\u001b[0m\u001b[1;33m\u001b[0m\u001b[1;33m\u001b[0m\u001b[0m\n\u001b[0;32m      6\u001b[0m         \u001b[0meven\u001b[0m\u001b[1;33m.\u001b[0m\u001b[0mappend\u001b[0m\u001b[1;33m(\u001b[0m\u001b[0mx\u001b[0m\u001b[1;33m)\u001b[0m\u001b[1;33m\u001b[0m\u001b[1;33m\u001b[0m\u001b[0m\n",
      "\u001b[1;31mTypeError\u001b[0m: 'int' object is not callable"
     ]
    }
   ],
   "source": [
    "even=[]\n",
    "odd=[]\n",
    "n=int(input(\"enter the number{1,101}\"))\n",
    "for x in n (range(1,101)):\n",
    "    if x%2==0:\n",
    "        even.append(x)\n",
    "        "
   ]
  },
  {
   "cell_type": "code",
   "execution_count": null,
   "metadata": {},
   "outputs": [],
   "source": []
  }
 ],
 "metadata": {
  "kernelspec": {
   "display_name": "Python 3",
   "language": "python",
   "name": "python3"
  },
  "language_info": {
   "codemirror_mode": {
    "name": "ipython",
    "version": 3
   },
   "file_extension": ".py",
   "mimetype": "text/x-python",
   "name": "python",
   "nbconvert_exporter": "python",
   "pygments_lexer": "ipython3",
   "version": "3.8.5"
  }
 },
 "nbformat": 4,
 "nbformat_minor": 4
}
