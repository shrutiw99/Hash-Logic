{
 "cells": [
  {
   "cell_type": "code",
   "execution_count": null,
   "metadata": {},
   "outputs": [],
   "source": [
    " my_list=[1,2,3]\n",
    "print(my_list)\n",
    "my_list.append([555,123])\n",
    "print(my_list)\n",
    "my_list.insert(5,[5,   \"shruti\"])\n",
    "\n",
    "print(my_list)"
   ]
  },
  {
   "cell_type": "code",
   "execution_count": null,
   "metadata": {},
   "outputs": [],
   "source": [
    "s3=0\n",
    "s1=\"Hello\"\n",
    "s2=\"World\"\n",
    "print (s1)\n",
    "print(s2)\n",
    "s3=s1[0:3]+s2[0:5]+s1[3:5]\n",
    "print(s3)"
   ]
  },
  {
   "cell_type": "code",
   "execution_count": 12,
   "metadata": {},
   "outputs": [
    {
     "name": "stdout",
     "output_type": "stream",
     "text": [
      "occurrence of Emma starts at 0\n"
     ]
    }
   ],
   "source": [
    "str1 = \"Emma is a data scientist who knows Python. Emma works at google.\"\n",
    "index = str1.find(\"Emma\")\n",
    "print(\"occurrence of Emma starts at\", index)\n"
   ]
  },
  {
   "cell_type": "code",
   "execution_count": 13,
   "metadata": {},
   "outputs": [
    {
     "name": "stdout",
     "output_type": "stream",
     "text": [
      "Emma25 is Data scientist50 and AI Expert\n"
     ]
    }
   ],
   "source": [
    "str1 = \"Emma25 is Data scientist50 and AI Expert\"\n",
    "str1.isalpha()\n",
    "print(str1)"
   ]
  },
  {
   "cell_type": "code",
   "execution_count": 14,
   "metadata": {},
   "outputs": [
    {
     "name": "stdout",
     "output_type": "stream",
     "text": [
      "['Emma', 'Jon', 'Kelly', None, 'Eric', '']\n",
      "['Emma', 'Jon', 'Kelly', None, 'Eric']\n"
     ]
    }
   ],
   "source": [
    "str_list = [\"Emma\", \"Jon\", \"\", \"Kelly\", None, \"Eric\", \"\"]\n",
    "while \"\" in str_list:\n",
    "    str_list.remove(\"\")\n",
    "    print(str_list)"
   ]
  },
  {
   "cell_type": "code",
   "execution_count": 15,
   "metadata": {},
   "outputs": [
    {
     "name": "stdout",
     "output_type": "stream",
     "text": [
      "['Emma']\n",
      "['Emma', 'Jon']\n",
      "['Emma', 'Jon', 'Kelly']\n",
      "['Emma', 'Jon', 'Kelly', None]\n",
      "['Emma', 'Jon', 'Kelly', None, 'Eric']\n"
     ]
    }
   ],
   "source": [
    "str_list = [\"Emma\", \"Jon\", \"\", \"Kelly\", None, \"Eric\", \"\"]\n",
    "n_list=[]\n",
    "for x in str_list:\n",
    " if (x != \"\"):\n",
    "        n_list.append(x)\n",
    "        print(n_list)"
   ]
  },
  {
   "cell_type": "code",
   "execution_count": 16,
   "metadata": {},
   "outputs": [
    {
     "name": "stdout",
     "output_type": "stream",
     "text": [
      "Original String is: Emma-is-a-data-scientist\n",
      "Displaying each substring\n",
      "Emma\n",
      "is\n",
      "a\n",
      "data\n",
      "scientist\n"
     ]
    }
   ],
   "source": [
    "str1 = \"Emma-is-a-data-scientist\"\n",
    "print(\"Original String is:\", str1)\n",
    "\n",
    "# split string\n",
    "su = str1.split(\"-\")\n",
    "\n",
    "print(\"Displaying each substring\")\n",
    "for sub in su:\n",
    "    print(sub)\n",
    "\n",
    "        \n",
    "\n"
   ]
  },
  {
   "cell_type": "code",
   "execution_count": 17,
   "metadata": {},
   "outputs": [
    {
     "name": "stdout",
     "output_type": "stream",
     "text": [
      "10 Chair\n",
      "10 Table\n",
      "20 Chair\n",
      "20 Table\n"
     ]
    }
   ],
   "source": [
    "numbers = [10, 20]\n",
    "items = [\"Chair\", \"Table\"]\n",
    "\n",
    "for x in numbers:\n",
    "    for y in items:\n",
    "        print(x, y)"
   ]
  },
  {
   "cell_type": "code",
   "execution_count": 18,
   "metadata": {},
   "outputs": [
    {
     "name": "stdout",
     "output_type": "stream",
     "text": [
      "True\n"
     ]
    }
   ],
   "source": [
    "a, b = 12, 5\n",
    "if a + b:\n",
    "    print('True')\n",
    "else:\n",
    "    print('False')"
   ]
  },
  {
   "cell_type": "code",
   "execution_count": 19,
   "metadata": {},
   "outputs": [
    {
     "ename": "SyntaxError",
     "evalue": "unexpected EOF while parsing (<ipython-input-19-5a2ddcdd5897>, line 1)",
     "output_type": "error",
     "traceback": [
      "\u001b[1;36m  File \u001b[1;32m\"<ipython-input-19-5a2ddcdd5897>\"\u001b[1;36m, line \u001b[1;32m1\u001b[0m\n\u001b[1;33m    if (-3):\u001b[0m\n\u001b[1;37m            ^\u001b[0m\n\u001b[1;31mSyntaxError\u001b[0m\u001b[1;31m:\u001b[0m unexpected EOF while parsing\n"
     ]
    }
   ],
   "source": [
    "if (-3):"
   ]
  },
  {
   "cell_type": "code",
   "execution_count": null,
   "metadata": {},
   "outputs": [],
   "source": [
    "a=int(input(\"enter the year\"))\n",
    "if (a % 4==0):\n",
    "    print(\"it is leap year\",a)\n",
    "else:    \n",
    "          print(\"it is not leap year\",a)\n",
    "        "
   ]
  },
  {
   "cell_type": "code",
   "execution_count": null,
   "metadata": {},
   "outputs": [],
   "source": [
    "\n",
    "a=int(input(\"user to enter age\"))\n",
    "gender= input(\"enter the gender (M or F)\",)\n",
    "c=input(\"enter the marital status ( Y or N ) \",)\n",
    "if (gender==\"F\"):\n",
    "    print(\"she will work only in urban areas.\",a,gender)\n",
    "elif (gender==\"M\" and a>=20 and a<=40):\n",
    "    print(\"he may work  in anywhere.\",a,gender)\n",
    "elif (gender==\"M\" and a>=40and a<=60):\n",
    "    print(\"he may work  in urban areas only.\",a,gender)\n",
    "else:\n",
    "    print(\"Error\")\n"
   ]
  },
  {
   "cell_type": "code",
   "execution_count": null,
   "metadata": {},
   "outputs": [],
   "source": [
    "a=int(input(\"enter the number\"))\n",
    "if()\n",
    "a.reverse[:-1]\n",
    "\n",
    "print (a)"
   ]
  },
  {
   "cell_type": "code",
   "execution_count": null,
   "metadata": {},
   "outputs": [],
   "source": [
    "name=\"Neetu\"\n",
    "temp_var=\"\"\n",
    "i = 0\n",
    "while i<len(name):\n",
    "    if name[i] not in temp_var:\n",
    "        temp_var +=name[i]\n",
    "        print(f\"{name[i]}: {name.count(name[i])}\")\n",
    "    i +=1"
   ]
  },
  {
   "cell_type": "code",
   "execution_count": null,
   "metadata": {},
   "outputs": [],
   "source": [
    "name=\"kulbir\"\n",
    "for x in range(len(name)):\n",
    "    \n",
    "    print(name[x])\n",
    "   "
   ]
  },
  {
   "cell_type": "code",
   "execution_count": null,
   "metadata": {},
   "outputs": [],
   "source": [
    "b=int(input(\"enter the number\"))\n",
    "for x in range(1,11):\n",
    "    print(b * x)"
   ]
  },
  {
   "cell_type": "code",
   "execution_count": null,
   "metadata": {},
   "outputs": [],
   "source": [
    "for val in range(5):\n",
    "    print(val)\n",
    "else:\n",
    "print(\"The loop has completed execution\")"
   ]
  },
  {
   "cell_type": "code",
   "execution_count": null,
   "metadata": {},
   "outputs": [],
   "source": [
    "i=1\n",
    "j=5\n",
    "while i<4:\n",
    "    while j<8:\n",
    "        print(i,\", \",j)\n",
    "        j=j+1"
   ]
  },
  {
   "cell_type": "code",
   "execution_count": null,
   "metadata": {},
   "outputs": [],
   "source": [
    "rows=6\n",
    "for num in range(rows):\n",
    "    for i in range(num):\n",
    "        print(num,end=\" \")\n",
    "    print(\"\")"
   ]
  },
  {
   "cell_type": "code",
   "execution_count": null,
   "metadata": {},
   "outputs": [],
   "source": [
    "rows=6\n",
    "for num in range(rows):\n",
    "    for num in range(num):\n",
    "        print(num,end=\" \")\n",
    "    print(\"\")"
   ]
  },
  {
   "cell_type": "code",
   "execution_count": null,
   "metadata": {},
   "outputs": [],
   "source": [
    "rows=5\n",
    "for num in range(1,rows):\n",
    "    for i in range(rows,0,-1):\n",
    "         print(i,end=\" \")\n",
    "    print(\" \")"
   ]
  },
  {
   "cell_type": "code",
   "execution_count": null,
   "metadata": {},
   "outputs": [],
   "source": [
    "print('+\"\"\"\"\"\"\"\"+')\n",
    "print(\"[|  o o | ]\")\n",
    "print(\" |  /\\  | \")\n",
    "print(\" |  '_' | \")\n",
    "print(\" +------+ \")\n",
    "\n"
   ]
  },
  {
   "cell_type": "code",
   "execution_count": null,
   "metadata": {},
   "outputs": [],
   "source": [
    "t=[12,24,36,48,60,72,84,96,120]\n",
    "for x in t:\n",
    "    x=(t+(x+1)*2)\n",
    "    print(x)"
   ]
  },
  {
   "cell_type": "code",
   "execution_count": null,
   "metadata": {},
   "outputs": [],
   "source": [
    "table_12=[]\n",
    "\n",
    "for i in range(1,121):\n",
    "\n",
    "    if i % 12==0:\n",
    "\n",
    "        table_12.append(i)\n",
    "\n",
    "print(table_12)\n",
    "\n",
    "#Print multiplication table of 14 from a list in which multiplication table of 12 is stored.\n",
    "\n",
    "table_14=[]\n",
    "\n",
    "for i in table_12:\n",
    "\n",
    "     i=i+2\n",
    "\n",
    "table_14.append(i)\n",
    "\n",
    "print(table_14)"
   ]
  },
  {
   "cell_type": "code",
   "execution_count": null,
   "metadata": {},
   "outputs": [],
   "source": [
    "table_12=[] \n",
    "for i in range(1,121): \n",
    "    if i % 12==0: \n",
    "        table_12.append(i) \n",
    "print(table_12)\n",
    "\n",
    "# [12, 24, 36, 48, 60, 72, 84, 96, 108, 120]\n",
    "\n",
    "\n",
    "table_14=[] \n",
    "for i, j in enumerate(table_12):\n",
    "    table_14.append(j+(i+1)*2)\n",
    "\n",
    "print(table_14)\n"
   ]
  },
  {
   "cell_type": "code",
   "execution_count": null,
   "metadata": {},
   "outputs": [],
   "source": [
    "n=input(\"enter the list value\")\n",
    "print(n)\n",
    "user=n.split()\n",
    "print(\"list:\",user)\n",
    "\n"
   ]
  },
  {
   "cell_type": "markdown",
   "metadata": {},
   "source": []
  },
  {
   "cell_type": "code",
   "execution_count": 39,
   "metadata": {},
   "outputs": [
    {
     "name": "stdout",
     "output_type": "stream",
     "text": [
      "enter number of elements in the list 3\n",
      "12\n",
      "23\n",
      "45\n",
      "enter delete element from list23\n",
      "[12, 45]\n"
     ]
    }
   ],
   "source": [
    "number=[]\n",
    "n=int(input(\"enter number of elements in the list \"))\n",
    "\n",
    "for i in range(n):\n",
    "    number.append(int(input()))\n",
    "findnum=int(input(\"enter delete element from list\"))\n",
    "i=0\n",
    "for element in number:\n",
    "    if(element==findnum):\n",
    "        number.pop(i)\n",
    "        n=n-1\n",
    "        i=i-1\n",
    "    i=i+1\n",
    "    \n",
    "    \n",
    "print(number)\n"
   ]
  },
  {
   "cell_type": "code",
   "execution_count": 41,
   "metadata": {},
   "outputs": [
    {
     "name": "stdout",
     "output_type": "stream",
     "text": [
      "1\n",
      "4\n",
      "9\n",
      "16\n",
      "25\n",
      "36\n",
      "49\n",
      "64\n",
      "81\n"
     ]
    }
   ],
   "source": [
    "numbers=[1,2,3,4,5,6,7,8,9]\n",
    "for x in numbers:\n",
    "    print(x**2)\n"
   ]
  },
  {
   "cell_type": "code",
   "execution_count": 1,
   "metadata": {},
   "outputs": [
    {
     "name": "stdout",
     "output_type": "stream",
     "text": [
      "enter the number of element in the list3\n",
      "2\n",
      "4\n",
      "5\n",
      "4\n",
      "25\n",
      "6\n",
      "4\n",
      "25\n",
      "36\n"
     ]
    }
   ],
   "source": [
    "numbers=[]\n",
    "x=int(input(\"enter the number of element in the list\"))\n",
    "for i in range(x):\n",
    "    \n",
    "    numbers.append(int(input()))\n",
    "    for element in numbers:\n",
    "        print(element**2)\n",
    "        \n",
    "        "
   ]
  },
  {
   "cell_type": "code",
   "execution_count": 2,
   "metadata": {},
   "outputs": [
    {
     "name": "stdout",
     "output_type": "stream",
     "text": [
      "enter the number of element in the list4\n"
     ]
    },
    {
     "ename": "TypeError",
     "evalue": "'int' object is not iterable",
     "output_type": "error",
     "traceback": [
      "\u001b[1;31m---------------------------------------------------------------------------\u001b[0m",
      "\u001b[1;31mTypeError\u001b[0m                                 Traceback (most recent call last)",
      "\u001b[1;32m<ipython-input-2-96b1457eef83>\u001b[0m in \u001b[0;36m<module>\u001b[1;34m\u001b[0m\n\u001b[0;32m      1\u001b[0m \u001b[0mnumbers\u001b[0m\u001b[1;33m=\u001b[0m\u001b[0mint\u001b[0m\u001b[1;33m(\u001b[0m\u001b[0minput\u001b[0m\u001b[1;33m(\u001b[0m\u001b[1;34m\"enter the number of element in the list\"\u001b[0m\u001b[1;33m)\u001b[0m\u001b[1;33m)\u001b[0m\u001b[1;33m\u001b[0m\u001b[1;33m\u001b[0m\u001b[0m\n\u001b[1;32m----> 2\u001b[1;33m \u001b[1;32mfor\u001b[0m \u001b[0mx\u001b[0m \u001b[1;32min\u001b[0m \u001b[0mnumbers\u001b[0m\u001b[1;33m:\u001b[0m\u001b[1;33m\u001b[0m\u001b[1;33m\u001b[0m\u001b[0m\n\u001b[0m\u001b[0;32m      3\u001b[0m     \u001b[0mprint\u001b[0m\u001b[1;33m(\u001b[0m\u001b[0mx\u001b[0m\u001b[1;33m**\u001b[0m\u001b[1;36m2\u001b[0m\u001b[1;33m)\u001b[0m\u001b[1;33m\u001b[0m\u001b[1;33m\u001b[0m\u001b[0m\n",
      "\u001b[1;31mTypeError\u001b[0m: 'int' object is not iterable"
     ]
    }
   ],
   "source": [
    "numbers=int(input(\"enter the number of element in the list\"))\n",
    "for x in numbers:\n",
    "    print(x**2)\n"
   ]
  },
  {
   "cell_type": "code",
   "execution_count": null,
   "metadata": {},
   "outputs": [],
   "source": []
  }
 ],
 "metadata": {
  "kernelspec": {
   "display_name": "Python 3",
   "language": "python",
   "name": "python3"
  },
  "language_info": {
   "codemirror_mode": {
    "name": "ipython",
    "version": 3
   },
   "file_extension": ".py",
   "mimetype": "text/x-python",
   "name": "python",
   "nbconvert_exporter": "python",
   "pygments_lexer": "ipython3",
   "version": "3.8.5"
  }
 },
 "nbformat": 4,
 "nbformat_minor": 4
}
