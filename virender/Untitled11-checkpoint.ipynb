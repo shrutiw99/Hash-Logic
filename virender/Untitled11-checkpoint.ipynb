{
 "cells": [
  {
   "cell_type": "code",
   "execution_count": null,
   "metadata": {},
   "outputs": [],
   "source": [
    "import sys\n",
    "print(\"Python version\")\n",
    "print (sys.version)"
   ]
  },
  {
   "cell_type": "code",
   "execution_count": 3,
   "metadata": {},
   "outputs": [
    {
     "name": "stdout",
     "output_type": "stream",
     "text": [
      "2021-03-24 11:44:40.761227\n"
     ]
    }
   ],
   "source": [
    "import datetime\n",
    "print(datetime.datetime.now())\n"
   ]
  },
  {
   "cell_type": "code",
   "execution_count": null,
   "metadata": {},
   "outputs": [],
   "source": [
    "n=input(\"enter number\")\n",
    "n=int(n)\n",
    "a=int(n*n)\n",
    "b=int(n*n*n)\n",
    "print(n+a+b)"
   ]
  },
  {
   "cell_type": "code",
   "execution_count": 9,
   "metadata": {},
   "outputs": [
    {
     "name": "stdout",
     "output_type": "stream",
     "text": [
      "enterstring\n",
      "shrutiis\n",
      "isshrutiis\n"
     ]
    }
   ],
   "source": [
    "a=input(\"enterstring\\n\")\n",
    "if a[:2]==\"is\":\n",
    "    print(a)\n",
    "else:\n",
    "    print(\"is\"+a)"
   ]
  },
  {
   "cell_type": "code",
   "execution_count": null,
   "metadata": {},
   "outputs": [],
   "source": [
    "a=input(\"enter first name\")\n",
    "b=input(\"enter last name\")  \n",
    "print(a[::-1]+\" \"+b[::-1])\n",
    "\n",
    "\n"
   ]
  },
  {
   "cell_type": "code",
   "execution_count": 1,
   "metadata": {},
   "outputs": [
    {
     "name": "stdout",
     "output_type": "stream",
     "text": [
      "enter23\n",
      "enter243\n",
      "enter1\n",
      "[23, 243, 1]\n",
      "[1, 23, 243]\n"
     ]
    }
   ],
   "source": [
    "a=int(input(\"enter\"))\n",
    "b=int(input(\"enter\"))\n",
    "c=int(input(\"enter\"))\n",
    "d=[a,b,c]\n",
    "print(d)\n",
    "d.sort()\n",
    "print(d)\n",
    "\n"
   ]
  },
  {
   "cell_type": "code",
   "execution_count": null,
   "metadata": {},
   "outputs": [],
   "source": [
    "a=input(\"enter\")\n",
    "print(ord(a))\n"
   ]
  },
  {
   "cell_type": "code",
   "execution_count": null,
   "metadata": {},
   "outputs": [],
   "source": [
    "a=int(input(\"enter\"))\n",
    "a=int(input(\"enter\"))\n",
    "if "
   ]
  }
 ],
 "metadata": {
  "kernelspec": {
   "display_name": "Python 3",
   "language": "python",
   "name": "python3"
  },
  "language_info": {
   "codemirror_mode": {
    "name": "ipython",
    "version": 3
   },
   "file_extension": ".py",
   "mimetype": "text/x-python",
   "name": "python",
   "nbconvert_exporter": "python",
   "pygments_lexer": "ipython3",
   "version": "3.8.5"
  }
 },
 "nbformat": 4,
 "nbformat_minor": 4
}
