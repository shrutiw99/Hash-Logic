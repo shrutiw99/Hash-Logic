{
 "cells": [
  {
   "cell_type": "code",
   "execution_count": null,
   "metadata": {},
   "outputs": [],
   "source": [
    "a=int(input(\"enter the number\"))\n",
    "b=int(input(\"enter the number\"))\n",
    "if a==b:\n",
    "    print(\"it is square\")\n",
    "else:\n",
    "    print(\"it is rectangle\")"
   ]
  },
  {
   "cell_type": "code",
   "execution_count": null,
   "metadata": {},
   "outputs": [],
   "source": [
    "a=int(input(\"enter the number\"))\n",
    "b=int(input(\"enter the number\"))\n",
    "if a>b:\n",
    "    print(\"a is greater\")\n",
    "else:\n",
    "    print(\"b is greater\")"
   ]
  },
  {
   "cell_type": "code",
   "execution_count": null,
   "metadata": {},
   "outputs": [],
   "source": [
    "a=int(input(\"enter the quantity\\n\"))\n",
    "b=(a*100)*0.10\n",
    "if a<=10:\n",
    "    print(\"your total cost is\",a*100)\n",
    "else:\n",
    "    print(\"your total cost is\",(a*100)-b)"
   ]
  },
  {
   "cell_type": "code",
   "execution_count": null,
   "metadata": {},
   "outputs": [],
   "source": [
    "a=int(input(\"enter salary\"))\n",
    "b=int(input(\"enter year of service\"))\n",
    "c=a*0.05\n",
    "if b<5:\n",
    "    print(\"you have no bonus\")\n",
    "else:\n",
    "          print(c)\n"
   ]
  },
  {
   "cell_type": "code",
   "execution_count": null,
   "metadata": {},
   "outputs": [],
   "source": [
    "a=int(input(\"enter marks to know your grade\\n\"))\n",
    "if a<25:\n",
    "    print(\"f\")\n",
    "elif 25<=a<45:\n",
    "    print(\"E\")\n",
    "elif 45<=a<50:\n",
    "    print(\"D\")\n",
    "elif 50<=a<60:\n",
    "    print(\"c\")\n",
    "elif 60<=a<80:\n",
    "    print(\"B\")\n",
    "else :\n",
    "    print(\"A\")"
   ]
  },
  {
   "cell_type": "code",
   "execution_count": null,
   "metadata": {},
   "outputs": [],
   "source": [
    "a=int(input(\"enter age of 1 person\"))\n",
    "b=int(input(\"enter age of 2 person\"))\n",
    "c=int(input(\"enter age of 3 person\"))\n",
    "if a>=b and a>=c:\n",
    "    print(\"a is older\")\n",
    "elif b>a and b>c:   \n",
    "    print(\"b is older\")\n",
    "else:\n",
    "    print (\"c is older\")\n",
    "if a<=b and a<=c:\n",
    "    print(\"a is younger\")\n",
    "elif b<a and b<c:   \n",
    "    print(\"b is younger\")\n",
    "else:\n",
    "    print (\"c is younger\")"
   ]
  },
  {
   "cell_type": "code",
   "execution_count": null,
   "metadata": {},
   "outputs": [],
   "source": [
    "a=int(input(\"enter number\"))\n",
    "if a>0:\n",
    "    print(a)\n",
    "else:\n",
    "    print(a*-1)"
   ]
  },
  {
   "cell_type": "code",
   "execution_count": null,
   "metadata": {},
   "outputs": [],
   "source": [
    "a=int(input(\"enter total classes held\"))\n",
    "b=int(input(\"enter total classes attended\"))\n",
    "c=int((b/a)*100)\n",
    "if c>=75:\n",
    "    print (f\"your attendence is {c}% you are eligible\")\n",
    "else:\n",
    "    print (f\" your attendence is {c}% you are not eligible\")"
   ]
  },
  {
   "cell_type": "code",
   "execution_count": null,
   "metadata": {},
   "outputs": [],
   "source": [
    "a=int(input(\"enter total classes held\"))\n",
    "b=int(input(\"enter total classes attended\"))\n",
    "d=input(\"if you have medical condition\")\n",
    "c=int((b/a)*100)\n",
    "if c>=75:\n",
    "    print (f\"your attendence is {c}% you are eligible\")\n",
    "elif d==\"yes\":\n",
    "    print (f\"your attendence is {c}% you are eligible due to edical condition\")\n",
    "else:\n",
    "    print (f\" your attendence is {c}% you are not eligible\")"
   ]
  },
  {
   "cell_type": "code",
   "execution_count": null,
   "metadata": {},
   "outputs": [],
   "source": [
    "a=int(input(\"enter year\"))\n",
    "if ((a%400==0) or ((a%4==0) and (a%100 !=0))):\n",
    "    print(\"leap year\")\n",
    "else:\n",
    "    print(\"not a leap year\")\n",
    "    "
   ]
  },
  {
   "cell_type": "code",
   "execution_count": null,
   "metadata": {},
   "outputs": [],
   "source": [
    "a=int(input(\"enter age\\n\"))\n",
    "b=input(\"enter sex m or f\\n\")\n",
    "d=input(\"if marital status y or n\\n\")\n",
    "if b==\"f\"and 20<a<60:\n",
    "    print(\"you will work only in urban areas.\")\n",
    "elif b==\"m\" and 20<a<40:\n",
    "    print(\"you can work anywhere\")\n",
    "elif b==\"m\" and 40<a<60:\n",
    "    print(\"you can work only in urban areas\")\n",
    "else:\n",
    "    print(\"error\")"
   ]
  },
  {
   "cell_type": "code",
   "execution_count": 4,
   "metadata": {},
   "outputs": [
    {
     "name": "stdout",
     "output_type": "stream",
     "text": [
      "enter total classes helds\n"
     ]
    },
    {
     "ename": "ValueError",
     "evalue": "invalid literal for int() with base 10: 's'",
     "output_type": "error",
     "traceback": [
      "\u001b[1;31m---------------------------------------------------------------------------\u001b[0m",
      "\u001b[1;31mValueError\u001b[0m                                Traceback (most recent call last)",
      "\u001b[1;32m<ipython-input-4-92d02c5381fc>\u001b[0m in \u001b[0;36m<module>\u001b[1;34m\u001b[0m\n\u001b[1;32m----> 1\u001b[1;33m \u001b[0ma\u001b[0m\u001b[1;33m=\u001b[0m\u001b[0mint\u001b[0m\u001b[1;33m(\u001b[0m\u001b[0minput\u001b[0m\u001b[1;33m(\u001b[0m\u001b[1;34m\"enter total classes held\"\u001b[0m\u001b[1;33m)\u001b[0m\u001b[1;33m)\u001b[0m\u001b[1;33m\u001b[0m\u001b[1;33m\u001b[0m\u001b[0m\n\u001b[0m",
      "\u001b[1;31mValueError\u001b[0m: invalid literal for int() with base 10: 's'"
     ]
    }
   ],
   "source": [
    "a=int(input(\"enter number\"))\n",
    "if "
   ]
  },
  {
   "cell_type": "code",
   "execution_count": null,
   "metadata": {},
   "outputs": [],
   "source": []
  }
 ],
 "metadata": {
  "kernelspec": {
   "display_name": "Python 3",
   "language": "python",
   "name": "python3"
  },
  "language_info": {
   "codemirror_mode": {
    "name": "ipython",
    "version": 3
   },
   "file_extension": ".py",
   "mimetype": "text/x-python",
   "name": "python",
   "nbconvert_exporter": "python",
   "pygments_lexer": "ipython3",
   "version": "3.8.5"
  }
 },
 "nbformat": 4,
 "nbformat_minor": 4
}
