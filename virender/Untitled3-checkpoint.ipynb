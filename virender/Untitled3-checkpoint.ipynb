{
 "cells": [
  {
   "cell_type": "code",
   "execution_count": null,
   "metadata": {},
   "outputs": [],
   "source": []
  },
  {
   "cell_type": "code",
   "execution_count": 3,
   "metadata": {},
   "outputs": [
    {
     "name": "stdout",
     "output_type": "stream",
     "text": [
      "enter first number10\n",
      "enter second number10\n",
      "enter third number10\n",
      "greatest number is 10\n"
     ]
    }
   ],
   "source": [
    "a=int(input(\"enter first number\"))\n",
    "b=int(input(\"enter second number\"))\n",
    "c=int(input(\"enter third number\"))\n",
    "if a>=b and a>=c:\n",
    "    d=a\n",
    "elif b>a and b>c:\n",
    "    d=b\n",
    "else: \n",
    "    d=c\n",
    "print(\"greatest number is\",d)"
   ]
  },
  {
   "cell_type": "code",
   "execution_count": 4,
   "metadata": {},
   "outputs": [
    {
     "name": "stdout",
     "output_type": "stream",
     "text": [
      "you have only 3 chances\n",
      "enter the number between 1 and 100\n",
      "45\n",
      "oops wrong no. you need to think high number\n",
      "enter the number between 1 and 100\n",
      "60\n",
      "oops wrong no. you need to think low number\n",
      "enter the number between 1 and 100\n",
      "55\n",
      "oops wrong no. you need to think high number\n",
      "\n",
      "The number is\n",
      " 56\n",
      "\n",
      "Better Luck Next time!\n"
     ]
    }
   ],
   "source": [
    "a=56\n",
    "print(\"you have only 3 chances\")\n",
    "chances=0\n",
    "while chances<3:\n",
    "    c\n",
    "    hances +=1\n",
    "    b=int(input(\"enter the number between 1 and 100\\n\"))\n",
    "    if b>100 or b<=0:\n",
    "        print(\"\\nerror enter value between 1 and 100\")\n",
    "    elif b==a:\n",
    "        print(\"congrats you won\")\n",
    "        break\n",
    "    elif b<a:\n",
    "        print(\"oops wrong no. you need to think high number\")\n",
    "        \n",
    "    elif b>a:\n",
    "        print(\"oops wrong no. you need to think low number\")\n",
    "if chances >= 3:\n",
    "    print(\"\\nThe number is\\n\" , a)\n",
    "    print(\"\\nBetter Luck Next time!\")\n",
    "    \n",
    "    \n",
    "    \n",
    "    +"
   ]
  },
  {
   "cell_type": "code",
   "execution_count": null,
   "metadata": {},
   "outputs": [],
   "source": [
    "a=input(\"enter the charecter\\n\")\n",
    "print(\"value is\",ord(a))"
   ]
  }
 ],
 "metadata": {
  "kernelspec": {
   "display_name": "Python 3",
   "language": "python",
   "name": "python3"
  },
  "language_info": {
   "codemirror_mode": {
    "name": "ipython",
    "version": 3
   },
   "file_extension": ".py",
   "mimetype": "text/x-python",
   "name": "python",
   "nbconvert_exporter": "python",
   "pygments_lexer": "ipython3",
   "version": "3.8.5"
  }
 },
 "nbformat": 4,
 "nbformat_minor": 4
}
