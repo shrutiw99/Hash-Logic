{
 "cells": [
  {
   "cell_type": "code",
   "execution_count": null,
   "metadata": {},
   "outputs": [],
   "source": [
    "a=input(\"enter string\\n\")\n",
    "for i in a:\n",
    "    print(i)"
   ]
  },
  {
   "cell_type": "code",
   "execution_count": null,
   "metadata": {},
   "outputs": [],
   "source": [
    "a=(\"refrigerator\")\n",
    "c=0\n",
    "for i in a:\n",
    "    c=c+1\n",
    "print(c)"
   ]
  },
  {
   "cell_type": "code",
   "execution_count": null,
   "metadata": {},
   "outputs": [],
   "source": [
    "a=(\"umbrella\")\n",
    "for i in a:\n",
    "    if i==\"e\":\n",
    "        print(\"yes\")\n",
    "    "
   ]
  },
  {
   "cell_type": "code",
   "execution_count": null,
   "metadata": {},
   "outputs": [],
   "source": [
    "print ('c' in 'umbrela')"
   ]
  },
  {
   "cell_type": "code",
   "execution_count": null,
   "metadata": {},
   "outputs": [],
   "source": [
    "a=(\"this is a orange\")\n",
    "print(\"orange\"in a.split())"
   ]
  },
  {
   "cell_type": "code",
   "execution_count": null,
   "metadata": {},
   "outputs": [],
   "source": [
    "a=(\"hello,world\")\n",
    "for i in range (len(a)):\n",
    "    if a[i]==\"o\":\n",
    "        print(i)\n",
    "    if a[i]==\",\":\n",
    "        print(i)\n",
    "        "
   ]
  },
  {
   "cell_type": "code",
   "execution_count": null,
   "metadata": {},
   "outputs": [],
   "source": [
    "a=(\"helloe\")\n",
    "\n",
    "for i in range(len(a)):\n",
    "    if a[i]==\"h\":\n",
    "      \n",
    "        print(i)\n",
    "    elif a[i]==\"e\":\n",
    "       \n",
    "        print(i)\n",
    "    "
   ]
  },
  {
   "cell_type": "code",
   "execution_count": 30,
   "metadata": {},
   "outputs": [
    {
     "name": "stdout",
     "output_type": "stream",
     "text": [
      "4\n",
      "7\n"
     ]
    }
   ],
   "source": [
    "a=(\"hello,world\")\n",
    "for i in range(len(a)):\n",
    "    if a[i]==\"o\":\n",
    "        print(i)\n",
    "        break\n",
    "for i in range(len(a)):\n",
    "    if a[i]==\"o\":\n",
    "        d=i\n",
    "    print(d)\n",
    "    break\n",
    "\n",
    "   "
   ]
  },
  {
   "cell_type": "code",
   "execution_count": 21,
   "metadata": {},
   "outputs": [
    {
     "name": "stdout",
     "output_type": "stream",
     "text": [
      "R. B. Roser\n"
     ]
    }
   ],
   "source": [
    "a = \"Robert Brett Roser\"\n",
    "a = a.split()\n",
    "b = a[0][0]+\". \"+a[1][0]+\". \"+a[2]\n",
    "print (b)"
   ]
  },
  {
   "cell_type": "code",
   "execution_count": 24,
   "metadata": {},
   "outputs": [
    {
     "name": "stdout",
     "output_type": "stream",
     "text": [
      "True\n",
      "True\n"
     ]
    }
   ],
   "source": [
    "print (\"e\" in \"this is umbrella\")\n",
    "print (\"is\" in \"this is umbrella\")"
   ]
  },
  {
   "cell_type": "code",
   "execution_count": 48,
   "metadata": {},
   "outputs": [
    {
     "name": "stdout",
     "output_type": "stream",
     "text": [
      "Enter the string : AaAa gGgGg\n",
      "vowels:  4\n",
      "consonants:  5\n",
      "spaces:  1\n"
     ]
    }
   ],
   "source": [
    "str = input(\"Enter the string : \")\n",
    "v = 0\n",
    "d = 0\n",
    "c = 0\n",
    "s = 0\n",
    "str = str.lower()\n",
    "for i in range(0, len(str)):\n",
    "    if(str[i] == \"a\"or str[i] == \"e\" or str[i] == \"i\" or str[i] == \"o\" or str[i] == \"u\" \n",
    "    or str[i] == \"A\"or str[i] == \"E\" or str[i] == \"I\" or str[i] == \"O\" or str[i] == \"U\"):\n",
    "        v = v + 1\n",
    "    elif(str[i] >= \"a\"and str[i] <= \"z\" or str[i] >= \"A\"and str[i] <= \"Z\"):\n",
    "        c = c + 1\n",
    "    elif( str[i] >= \"0\" and str[i] <= \"9\"):\n",
    "        digits = digits + 1\n",
    "    elif (str[i] ==\" \"):\n",
    "        s = s + 1\n",
    "print(\"vowels: \", v)\n",
    "print(\"consonants: \", c)\n",
    "print(\"spaces: \", s)"
   ]
  },
  {
   "cell_type": "code",
   "execution_count": 52,
   "metadata": {},
   "outputs": [
    {
     "name": "stdout",
     "output_type": "stream",
     "text": [
      "eo ae a oo a\n"
     ]
    }
   ],
   "source": [
    "a = ['a','e','i','o','u','A','E','I','O','U',' ']\n",
    "b =( \"Hello, have a good day\")\n",
    "for i in b:\n",
    "    if i not in a:\n",
    "        b = b[:b.index(i)]+b[b.index(i)+1:]\n",
    "print (b)"
   ]
  },
  {
   "cell_type": "code",
   "execution_count": null,
   "metadata": {},
   "outputs": [],
   "source": []
  }
 ],
 "metadata": {
  "kernelspec": {
   "display_name": "Python 3",
   "language": "python",
   "name": "python3"
  },
  "language_info": {
   "codemirror_mode": {
    "name": "ipython",
    "version": 3
   },
   "file_extension": ".py",
   "mimetype": "text/x-python",
   "name": "python",
   "nbconvert_exporter": "python",
   "pygments_lexer": "ipython3",
   "version": "3.8.5"
  }
 },
 "nbformat": 4,
 "nbformat_minor": 4
}
