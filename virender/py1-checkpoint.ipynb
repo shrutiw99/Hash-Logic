{
 "cells": [
  {
   "cell_type": "code",
   "execution_count": 2,
   "metadata": {},
   "outputs": [
    {
     "name": "stdout",
     "output_type": "stream",
     "text": [
      "lucky\n"
     ]
    }
   ],
   "source": [
    "print(\"lucky\")"
   ]
  },
  {
   "cell_type": "code",
   "execution_count": 4,
   "metadata": {},
   "outputs": [
    {
     "name": "stdout",
     "output_type": "stream",
     "text": [
      "hello'lucky'\n"
     ]
    }
   ],
   "source": [
    "print(\"hello'lucky'\")"
   ]
  },
  {
   "cell_type": "code",
   "execution_count": 5,
   "metadata": {},
   "outputs": [
    {
     "name": "stdout",
     "output_type": "stream",
     "text": [
      "hello\"lucky\"\n"
     ]
    }
   ],
   "source": [
    "print('hello\"lucky\"')"
   ]
  },
  {
   "cell_type": "code",
   "execution_count": 6,
   "metadata": {},
   "outputs": [
    {
     "name": "stdout",
     "output_type": "stream",
     "text": [
      "hello\"new\"world\n"
     ]
    }
   ],
   "source": [
    "print(\"hello\\\"new\\\"world\")"
   ]
  },
  {
   "cell_type": "code",
   "execution_count": 8,
   "metadata": {},
   "outputs": [
    {
     "name": "stdout",
     "output_type": "stream",
     "text": [
      "I'm Kulbir\n"
     ]
    }
   ],
   "source": [
    "print('I\\'m Kulbir')"
   ]
  },
  {
   "cell_type": "code",
   "execution_count": 10,
   "metadata": {},
   "outputs": [
    {
     "name": "stdout",
     "output_type": "stream",
     "text": [
      "line A\n",
      "line B\n"
     ]
    }
   ],
   "source": [
    "print(\"line A\\nline B\")"
   ]
  },
  {
   "cell_type": "code",
   "execution_count": 11,
   "metadata": {},
   "outputs": [
    {
     "name": "stdout",
     "output_type": "stream",
     "text": [
      "Name\tKulbir\n"
     ]
    }
   ],
   "source": [
    "print(\"Name\\tKulbir\")"
   ]
  },
  {
   "cell_type": "code",
   "execution_count": 13,
   "metadata": {},
   "outputs": [
    {
     "name": "stdout",
     "output_type": "stream",
     "text": [
      "This is backslash \\\n"
     ]
    }
   ],
   "source": [
    "print(\"This is backslash \\\\\")"
   ]
  },
  {
   "cell_type": "code",
   "execution_count": 17,
   "metadata": {},
   "outputs": [
    {
     "name": "stdout",
     "output_type": "stream",
     "text": [
      "hell\blo\n"
     ]
    }
   ],
   "source": [
    "print(\"hell\\blo\")"
   ]
  },
  {
   "cell_type": "code",
   "execution_count": 19,
   "metadata": {},
   "outputs": [
    {
     "name": "stdout",
     "output_type": "stream",
     "text": [
      "line a \\n line b\n"
     ]
    }
   ],
   "source": [
    "print(\"line a \\\\n line b\")"
   ]
  },
  {
   "cell_type": "code",
   "execution_count": 22,
   "metadata": {},
   "outputs": [
    {
     "name": "stdout",
     "output_type": "stream",
     "text": [
      "\\\"\\'\n"
     ]
    }
   ],
   "source": [
    "print(\"\\\\\\\"\\\\'\")"
   ]
  },
  {
   "cell_type": "code",
   "execution_count": 42,
   "metadata": {},
   "outputs": [
    {
     "name": "stdout",
     "output_type": "stream",
     "text": [
      "this is \\\\ double backslash\n"
     ]
    }
   ],
   "source": [
    "print(\"this is \\\\\\ double backslash\")"
   ]
  },
  {
   "cell_type": "code",
   "execution_count": 27,
   "metadata": {},
   "outputs": [
    {
     "name": "stdout",
     "output_type": "stream",
     "text": [
      "these are /\\/\\/\\/\\ mountains\n"
     ]
    }
   ],
   "source": [
    "print(\"these are /\\/\\/\\/\\ mountains\")"
   ]
  },
  {
   "cell_type": "code",
   "execution_count": 47,
   "metadata": {},
   "outputs": [
    {
     "name": "stdout",
     "output_type": "stream",
     "text": [
      "he is\tawesome\n"
     ]
    }
   ],
   "source": [
    "print(\"he is\\tawesome\")"
   ]
  },
  {
   "cell_type": "code",
   "execution_count": 49,
   "metadata": {},
   "outputs": [
    {
     "name": "stdout",
     "output_type": "stream",
     "text": [
      "\\\"\\n\\t\\'\n"
     ]
    }
   ],
   "source": [
    "print(\"\\\\\\\"\\\\n\\\\t\\\\'\")"
   ]
  },
  {
   "cell_type": "code",
   "execution_count": 52,
   "metadata": {},
   "outputs": [
    {
     "name": "stdout",
     "output_type": "stream",
     "text": [
      "line a \\n line b\n"
     ]
    }
   ],
   "source": [
    "print(r\"line a \\n line b\")\n"
   ]
  },
  {
   "cell_type": "code",
   "execution_count": 1,
   "metadata": {},
   "outputs": [
    {
     "name": "stdout",
     "output_type": "stream",
     "text": [
      "virendergautam\n",
      "virender3\n",
      "virender3\n",
      "virendervirendervirender\n"
     ]
    }
   ],
   "source": [
    "first_name=\"virender\"\n",
    "last_name=\"gautam\"\n",
    "full_name=first_name+last_name\n",
    "print(full_name)\n",
    "#print(first_name+3)\n",
    "print(first_name+\"3\")\n",
    "print(first_name+str(3))\n",
    "print(first_name * 3)\n",
    "\n"
   ]
  },
  {
   "cell_type": "code",
   "execution_count": 3,
   "metadata": {},
   "outputs": [
    {
     "name": "stdout",
     "output_type": "stream",
     "text": [
      "enter your namelucky\n",
      "hello lucky\n"
     ]
    }
   ],
   "source": [
    "name=input(\"enter your name\")\n",
    "print(\"hello \"+name)"
   ]
  },
  {
   "cell_type": "code",
   "execution_count": 5,
   "metadata": {},
   "outputs": [
    {
     "name": "stdout",
     "output_type": "stream",
     "text": [
      "Enter 1st number:2\n",
      "Enter 2nd number:3\n",
      "Sum of +number_one+ & +number_two is: 23\n"
     ]
    }
   ],
   "source": [
    "number_one = input(\"Enter 1st number:\")\n",
    "number_two = input(\"Enter 2nd number:\")\n",
    "sum = number_one + number_two\n",
    "print(\"Sum of +number_one+ & +number_two is: \"+sum)\n"
   ]
  },
  {
   "cell_type": "code",
   "execution_count": 10,
   "metadata": {},
   "outputs": [
    {
     "name": "stdout",
     "output_type": "stream",
     "text": [
      "enter your name and agelucky 23\n",
      "lucky\n",
      "23\n"
     ]
    }
   ],
   "source": [
    "name,age=input(\"enter your name and age\").split()\n",
    "print(name)\n",
    "print(age)"
   ]
  },
  {
   "cell_type": "code",
   "execution_count": 11,
   "metadata": {},
   "outputs": [
    {
     "name": "stdout",
     "output_type": "stream",
     "text": [
      "hello lucky your age is 23\n"
     ]
    }
   ],
   "source": [
    "print(f\"hello {name} your age is {age}\")"
   ]
  },
  {
   "cell_type": "code",
   "execution_count": 13,
   "metadata": {},
   "outputs": [
    {
     "name": "stdout",
     "output_type": "stream",
     "text": [
      "enter all three numbers\n",
      "2 3 4\n",
      "average of all three numbers is 3.0\n"
     ]
    }
   ],
   "source": [
    "a,b,c=input(\"enter all three numbers\\n\").split()\n",
    "average=(int(a)+int(b)+int(c))/3\n",
    "print(\"average of all three numbers is\",average)"
   ]
  },
  {
   "cell_type": "code",
   "execution_count": 7,
   "metadata": {},
   "outputs": [
    {
     "name": "stdout",
     "output_type": "stream",
     "text": [
      "python\n"
     ]
    }
   ],
   "source": [
    "lang=\"python\"\n",
    "print(lang[0:6])"
   ]
  },
  {
   "cell_type": "code",
   "execution_count": 4,
   "metadata": {},
   "outputs": [
    {
     "name": "stdout",
     "output_type": "stream",
     "text": [
      "t\n"
     ]
    }
   ],
   "source": [
    "print(lang[2])"
   ]
  },
  {
   "cell_type": "code",
   "execution_count": 5,
   "metadata": {},
   "outputs": [
    {
     "name": "stdout",
     "output_type": "stream",
     "text": [
      "n\n"
     ]
    }
   ],
   "source": [
    "print(lang[-1])"
   ]
  },
  {
   "cell_type": "code",
   "execution_count": 39,
   "metadata": {},
   "outputs": [
    {
     "name": "stdout",
     "output_type": "stream",
     "text": [
      "s\n"
     ]
    }
   ],
   "source": [
    "hell=\"devils\"\n",
    "print(hell[-1::])"
   ]
  },
  {
   "cell_type": "code",
   "execution_count": 42,
   "metadata": {},
   "outputs": [
    {
     "name": "stdout",
     "output_type": "stream",
     "text": [
      "s\n"
     ]
    }
   ],
   "source": [
    "print(hell[-1:-2:-1])"
   ]
  },
  {
   "cell_type": "code",
   "execution_count": null,
   "metadata": {},
   "outputs": [],
   "source": [
    "age=int(input(\"enter your age:\"))\n",
    "if age>20:\n",
    "    print(\"you can e   \n"
   ]
  },
  {
   "cell_type": "code",
   "execution_count": 52,
   "metadata": {},
   "outputs": [
    {
     "name": "stdout",
     "output_type": "stream",
     "text": [
      "enter the number0\n",
      "0 is niether even nor odd\n"
     ]
    }
   ],
   "source": [
    "a=int(input(\"enter the number\"))\n",
    "if a==0:\n",
    " print(\"0 is niether even nor odd\")\n",
    "elif a%2==0:\n",
    " print(\"number is even\")\n",
    "else:\n",
    " print(\"number is odd \")"
   ]
  },
  {
   "cell_type": "code",
   "execution_count": 64,
   "metadata": {},
   "outputs": [
    {
     "name": "stdout",
     "output_type": "stream",
     "text": [
      "enter the number0\n",
      "number entered is niether even nor odd\n"
     ]
    }
   ],
   "source": [
    "a=int(input(\"enter the number\"))\n",
    "if a%2==0:\n",
    "    if a==0:\n",
    "     print(\"number entered is niether even nor odd\")\n",
    "    else:\n",
    "      print(\"number is odd\")\n",
    "else:\n",
    "  print(\"number is even \")"
   ]
  },
  {
   "cell_type": "code",
   "execution_count": 77,
   "metadata": {},
   "outputs": [
    {
     "name": "stdout",
     "output_type": "stream",
     "text": [
      "enter first number20\n",
      "enter second number20\n",
      "enter third number10\n",
      "a is greater\n"
     ]
    }
   ],
   "source": [
    "a=int(input(\"enter first number\"))\n",
    "b=int(input(\"enter second number\"))\n",
    "c=int(input(\"enter third number\"))\n",
    "if a==b or a==c or c==b:\n",
    "        print(\"two or more value is equal\")\n",
    "if a>=b  and a>=c:\n",
    "    print(\"a is greater\")\n",
    "elif b>=a and b>=c:\n",
    "    print(\"b is greater\")\n",
    "elif c>=a and c>=b:\n",
    "    print(\"c is greater\")"
   ]
  },
  {
   "cell_type": "code",
   "execution_count": 82,
   "metadata": {},
   "outputs": [
    {
     "name": "stdout",
     "output_type": "stream",
     "text": [
      "enter first number10\n",
      "enter second number20\n",
      "enter third number20\n",
      "two or more value is equal\n",
      "b is greater\n",
      "c is greater\n"
     ]
    }
   ],
   "source": [
    "a,b,c=int(input(\"enter first number\")).split()\n",
    "if a==b or a==c or c==b:\n",
    "        print(\"two or more value is equal\")\n",
    "if a>=b  and a>=c:\n",
    "    print(\"greater\")\n",
    "if b>=a and b>=c:\n",
    "    print(\"b is greater\")\n",
    "if c>=a and c>=b:\n",
    "    print(\"c is greater\")"
   ]
  },
  {
   "cell_type": "code",
   "execution_count": 22,
   "metadata": {},
   "outputs": [
    {
     "name": "stdout",
     "output_type": "stream",
     "text": [
      "enter first number3 5 4\n",
      "The greatest number is 5\n"
     ]
    }
   ],
   "source": [
    "num1,num2,num3=input(\"enter first number\").split()\n",
    "if (num1 >= num2) and (num1 >= num3):\n",
    " greatest = num1\n",
    "elif (num2 >= num1) and (num2 >= num3):\n",
    " greatest = num2\n",
    "else:\n",
    " greatest = num3\n",
    "print(\"The greatest number is\",greatest )"
   ]
  },
  {
   "cell_type": "code",
   "execution_count": 61,
   "metadata": {},
   "outputs": [
    {
     "name": "stdout",
     "output_type": "stream",
     "text": [
      "enter first number23\n",
      "enter second number22\n",
      "enter third number21\n",
      "greatest number is 23\n"
     ]
    }
   ],
   "source": [
    "a=int(input(\"enter first number\"))\n",
    "b=int(input(\"enter second number\"))\n",
    "c=int(input(\"enter third number\"))\n",
    "if a>=b and a>=c:\n",
    "    d=a\n",
    "elif b>a and b>c:\n",
    "    d=b\n",
    "else:\n",
    "    d=c\n",
    "print(\"greatest number is\",d)\n"
   ]
  },
  {
   "cell_type": "code",
   "execution_count": null,
   "metadata": {},
   "outputs": [],
   "source": [
    "\n",
    "\n",
    "\n",
    "\n"
   ]
  },
  {
   "cell_type": "code",
   "execution_count": 1,
   "metadata": {},
   "outputs": [
    {
     "name": "stdout",
     "output_type": "stream",
     "text": [
      "you have only 3 chances\n",
      "enter the number between 1 and 100\n",
      "23\n",
      "oops wrong no. you need to think high no\n",
      "enter the number between 1 and 100\n",
      "55\n",
      "oops wrong no. you need to think high no\n",
      "enter the number between 1 and 100\n",
      "57\n",
      "oops wrong no. you need to think low no\n",
      "\n",
      "The number is\n",
      " 56\n",
      "\n",
      "Better Luck Next time!\n"
     ]
    }
   ],
   "source": [
    "a=56\n",
    "print(\"you have only 3 chances\")\n",
    "chances=0\n",
    "while chances<3:\n",
    "    chances +=1\n",
    "    b=int(input(\"enter the number between 1 and 100\\n\"))\n",
    "    if b>100 or b<=0:\n",
    "        print(\"\\nerror enter value between 1 and 100\")\n",
    "    elif b==a:\n",
    "        print(\"congrats you won\")\n",
    "        break\n",
    "    elif b<a:\n",
    "        print(\"oops wrong no. you need to think high number\")\n",
    "        \n",
    "    elif b>a:\n",
    "        print(\"oops wrong no. you need to think low number\")\n",
    "if chances >= 3:\n",
    "    print(\"\\nThe number is\\n\" , a)\n",
    "    print(\"\\nBetter Luck Next time!\")\n"
   ]
  },
  {
   "cell_type": "code",
   "execution_count": null,
   "metadata": {},
   "outputs": [],
   "source": []
  },
  {
   "cell_type": "code",
   "execution_count": 1,
   "metadata": {},
   "outputs": [
    {
     "name": "stdout",
     "output_type": "stream",
     "text": [
      "enter the charecter\n",
      "y\n",
      "value is 121\n"
     ]
    }
   ],
   "source": [
    "a=input(\"enter the charecter\\n\")\n",
    "print(\"value is\",ord(a))"
   ]
  },
  {
   "cell_type": "markdown",
   "metadata": {},
   "source": []
  }
 ],
 "metadata": {
  "kernelspec": {
   "display_name": "Python 3",
   "language": "python",
   "name": "python3"
  },
  "language_info": {
   "codemirror_mode": {
    "name": "ipython",
    "version": 3
   },
   "file_extension": ".py",
   "mimetype": "text/x-python",
   "name": "python",
   "nbconvert_exporter": "python",
   "pygments_lexer": "ipython3",
   "version": "3.8.5"
  }
 },
 "nbformat": 4,
 "nbformat_minor": 4
}
