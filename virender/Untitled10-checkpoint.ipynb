{
 "cells": [
  {
   "cell_type": "code",
   "execution_count": null,
   "metadata": {},
   "outputs": [],
   "source": [
    "a=input(\"enter 1 string\")\n",
    "b=input(\"enter 2 string\")\n",
    "d=\"\"\n",
    "i=0\n",
    "while i <len(a):\n",
    "    for j in b[::-1]:\n",
    "        d= d+a[i]+j\n",
    "        i=1+1\n",
    "print (d)"
   ]
  },
  {
   "cell_type": "code",
   "execution_count": null,
   "metadata": {},
   "outputs": [],
   "source": [
    "a=input(\"enter the string\")\n",
    "middle=\"\"\n",
    "length=len(a)\n",
    "if length<8 or length%2==0:\n",
    "    print(\"wrong\")\n",
    "else:\n",
    "    middle=length//2\n",
    "    print(a[middle-1:middle+2])"
   ]
  },
  {
   "cell_type": "code",
   "execution_count": null,
   "metadata": {},
   "outputs": [],
   "source": [
    "a=input(\"enter the string\")\n",
    "b=input(\"enter the string\")\n",
    "length=len(a)\n",
    "middle=length//2\n",
    "print(a[0:middle]+b+a[middle:])\n",
    "\n"
   ]
  },
  {
   "cell_type": "code",
   "execution_count": null,
   "metadata": {},
   "outputs": [],
   "source": [
    "a=input(\"enter the string\\n\")\n",
    "b=input(\"enter the string\\n\")\n",
    "length=len(a)\n",
    "length1=len(b)\n",
    "middle=length//2\n",
    "middle1=length1//2\n",
    "print(a[0]+b[0]+a[middle]+b[middle1]+a[length-1]+b[length1-1])\n"
   ]
  },
  {
   "cell_type": "code",
   "execution_count": null,
   "metadata": {},
   "outputs": [],
   "source": [
    "a=input(\"enter the string\")\n",
    "l=\"\"\n",
    "m=\"\"\n",
    "for i in a:\n",
    "    if i>=\"a\" and i<=\"z\":\n",
    "        l=l+i\n",
    "    else:\n",
    "        m=m+i\n",
    "print(l+m)"
   ]
  },
  {
   "cell_type": "code",
   "execution_count": null,
   "metadata": {},
   "outputs": [],
   "source": [
    "a=input(\"enter 1 string\")\n",
    "b=input(\"enter 2 string\")\n",
    "d=\"\"\n",
    "i=0\n",
    "while i <len(a):\n",
    "    for j in b[::-1]:\n",
    "        d= d+a[i]+j\n",
    "        i=1+1\n",
    "print (d)"
   ]
  },
  {
   "cell_type": "code",
   "execution_count": null,
   "metadata": {},
   "outputs": [],
   "source": [
    "a=input(\"enter 1 string\")\n",
    "b=input(\"enter 2 string\")\n",
    "print(a in b)"
   ]
  },
  {
   "cell_type": "code",
   "execution_count": 5,
   "metadata": {},
   "outputs": [
    {
     "name": "stdout",
     "output_type": "stream",
     "text": [
      "Emma\n",
      "is\n",
      "a\n",
      "data\n",
      "scientist\n",
      "who\n",
      "knows\n",
      "Python.\n",
      "Emma\n",
      "works\n",
      "at\n",
      "google.\n"
     ]
    }
   ],
   "source": [
    "a=(\"Emma is a data scientist who knows Python. Emma works at google.\")\n",
    "a=a.split()\n",
    "d=\"\"\n",
    "for i in a:\n",
    "    print(i)\n"
   ]
  },
  {
   "cell_type": "code",
   "execution_count": 1,
   "metadata": {},
   "outputs": [
    {
     "name": "stdout",
     "output_type": "stream",
     "text": [
      "43\n"
     ]
    }
   ],
   "source": [
    "a=(\"Emma is a data scientist who knows Python. Emma works at google.\")\n",
    "\n",
    "index = a.rfind(\"Emma\")\n",
    "print(index)"
   ]
  },
  {
   "cell_type": "code",
   "execution_count": 7,
   "metadata": {},
   "outputs": [
    {
     "name": "stdout",
     "output_type": "stream",
     "text": [
      "Emma\n",
      "is\n",
      "a\n",
      "data\n",
      "scientist\n"
     ]
    }
   ],
   "source": [
    "a =(\"Emma-is-a-data-scientist\")\n",
    "a=a.split(\"-\")\n",
    "for i in a:\n",
    "    print(i)\n"
   ]
  },
  {
   "cell_type": "code",
   "execution_count": 8,
   "metadata": {},
   "outputs": [],
   "source": [
    "a = [\"Emma\", \"Jon\", \"\", \"Kelly\", None, \"Eric\", \"\"]\n"
   ]
  },
  {
   "cell_type": "code",
   "execution_count": 21,
   "metadata": {},
   "outputs": [
    {
     "name": "stdout",
     "output_type": "stream",
     "text": [
      "Emma25\n",
      "is\n",
      "Data\n",
      "scientist50\n",
      "and\n",
      "AI\n",
      "Expert\n"
     ]
    }
   ],
   "source": [
    "a = \"Emma25 is Data scientist50 and AI Expert\"\n",
    "a=a.split()\n",
    "d=\"\"\n",
    "for i in a:\n",
    "#     if any(char.isalpha() for char in i) and any(char.isdigit() for char in i):\n",
    "      if (char.isalpha() for char in i) and (char.isdigit() for char in i):\n",
    "        d=i\n",
    "        \n",
    "        print(d)"
   ]
  },
  {
   "cell_type": "code",
   "execution_count": null,
   "metadata": {},
   "outputs": [],
   "source": []
  }
 ],
 "metadata": {
  "kernelspec": {
   "display_name": "Python 3",
   "language": "python",
   "name": "python3"
  },
  "language_info": {
   "codemirror_mode": {
    "name": "ipython",
    "version": 3
   },
   "file_extension": ".py",
   "mimetype": "text/x-python",
   "name": "python",
   "nbconvert_exporter": "python",
   "pygments_lexer": "ipython3",
   "version": "3.8.5"
  }
 },
 "nbformat": 4,
 "nbformat_minor": 4
}
