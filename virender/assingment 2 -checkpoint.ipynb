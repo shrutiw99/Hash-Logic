{
 "cells": [
  {
   "cell_type": "code",
   "execution_count": 1,
   "metadata": {},
   "outputs": [
    {
     "name": "stdout",
     "output_type": "stream",
     "text": [
      "enter the number-4\n",
      "1\n"
     ]
    }
   ],
   "source": [
    "fact= int(input(\"enter the number\"))\n",
    "ans=1\n",
    "while fact>0:\n",
    "    ans=ans*fact\n",
    "    fact=fact-1\n",
    "print(ans)"
   ]
  },
  {
   "cell_type": "code",
   "execution_count": 7,
   "metadata": {},
   "outputs": [
    {
     "name": "stdout",
     "output_type": "stream",
     "text": [
      "pyramid\n",
      "* a\r\n",
      "* a* a\r\n",
      "* a* a* a\r\n",
      "* a* a* a* a\r\n",
      "* a* a* a* a* a\r\n"
     ]
    }
   ],
   "source": [
    "print(\"pyramid\")\n",
    "# a=[]\n",
    "for i in range(0,5):\n",
    "    for j in range(0,i+1):\n",
    "        \n",
    "        print(\"* \",end=\"a\")\n",
    "    print(\"\\r\")"
   ]
  },
  {
   "cell_type": "code",
   "execution_count": null,
   "metadata": {},
   "outputs": [],
   "source": [
    "year=int(input(\"year??.....\"))\n",
    "if year%4:\n",
    "    print (\"it's not a leap year\")\n",
    "else:\n",
    "    print(\"it's a leap year\")"
   ]
  },
  {
   "cell_type": "code",
   "execution_count": null,
   "metadata": {},
   "outputs": [],
   "source": [
    "prime=int(input(\"number??...\"))\n",
    "flag=False\n",
    "for i in range(2,prime//2):\n",
    "    if not prime%i:\n",
    "        flag=True\n",
    "        break\n",
    "if flag:\n",
    "    print(\"its not a prime number\")\n",
    "else:\n",
    "    print(\"it's a prime number\")"
   ]
  },
  {
   "cell_type": "code",
   "execution_count": 13,
   "metadata": {},
   "outputs": [
    {
     "name": "stdout",
     "output_type": "stream",
     "text": [
      "number?....1634\n",
      "1634\n",
      "its a armstrong\n",
      "4\n"
     ]
    }
   ],
   "source": [
    "arm= int(input(\"number?....\"))\n",
    "c=0\n",
    "arm1=arm\n",
    "count=0\n",
    "sum=0\n",
    "\n",
    "while arm1>0:\n",
    "    c=arm1%10\n",
    "    arm1=arm1//10\n",
    "    count+=1\n",
    "arm1=arm\n",
    "while arm1>0:\n",
    "    c=arm1%10\n",
    "    sum+=c**count\n",
    "    arm1=arm1//10\n",
    "print(sum)\n",
    "if arm==sum:\n",
    "    print(\"its a armstrong\")\n",
    "else:\n",
    "    print(\"its not a armstrong\")"
   ]
  },
  {
   "cell_type": "code",
   "execution_count": 16,
   "metadata": {},
   "outputs": [
    {
     "name": "stdout",
     "output_type": "stream",
     "text": [
      "number?....407\n",
      "407\n",
      "its a armstrong\n"
     ]
    }
   ],
   "source": [
    "arm= int(input(\"number?....\"))\n",
    "c=0\n",
    "arm1=arm\n",
    "count=0\n",
    "sum=0\n",
    "\n",
    "arm1=arm\n",
    "while arm1>0:\n",
    "    c=arm1%10\n",
    "    sum+=c**len(str(arm))\n",
    "    arm1=arm1//10\n",
    "print(sum)\n",
    "if arm==sum:\n",
    "    print(\"its a armstrong\")\n",
    "else:\n",
    "    print(\"its not a armstrong\")\n"
   ]
  },
  {
   "cell_type": "code",
   "execution_count": null,
   "metadata": {},
   "outputs": [],
   "source": []
  }
 ],
 "metadata": {
  "kernelspec": {
   "display_name": "Python 3",
   "language": "python",
   "name": "python3"
  },
  "language_info": {
   "codemirror_mode": {
    "name": "ipython",
    "version": 3
   },
   "file_extension": ".py",
   "mimetype": "text/x-python",
   "name": "python",
   "nbconvert_exporter": "python",
   "pygments_lexer": "ipython3",
   "version": "3.8.5"
  }
 },
 "nbformat": 4,
 "nbformat_minor": 4
}
