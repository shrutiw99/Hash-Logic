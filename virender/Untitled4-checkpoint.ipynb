{
 "cells": [
  {
   "cell_type": "code",
   "execution_count": 3,
   "metadata": {},
   "outputs": [
    {
     "name": "stdout",
     "output_type": "stream",
     "text": [
      "enter the number132\n",
      "sum of digits are 6\n"
     ]
    }
   ],
   "source": [
    "n=int(input(\"enter the number\"))\n",
    "sum=0\n",
    "while(n>0):\n",
    "    digit=n%10\n",
    "    sum=sum+digit\n",
    "    n=n//10\n",
    "print(\"sum of digits are\",sum)"
   ]
  },
  {
   "cell_type": "code",
   "execution_count": 12,
   "metadata": {},
   "outputs": [
    {
     "name": "stdout",
     "output_type": "stream",
     "text": [
      "enter the number123454321\n",
      "number is palindrome\n"
     ]
    }
   ],
   "source": [
    "n=int(input(\"enter the number\"))\n",
    "m=n\n",
    "value=0\n",
    "while(n>0):\n",
    "    digit=n%10\n",
    "    value=value*10+digit\n",
    "    n=n//10\n",
    "if m==value:\n",
    "        print(\"number is palindrome\")\n",
    "else:\n",
    "    print(\"number is not palindrome\")"
   ]
  },
  {
   "cell_type": "code",
   "execution_count": 16,
   "metadata": {},
   "outputs": [
    {
     "name": "stdout",
     "output_type": "stream",
     "text": [
      "enter the number1\n",
      "1\n"
     ]
    }
   ],
   "source": [
    "n=int(input(\"enter the number\"))\n",
    "a=n%10\n",
    "print(a)"
   ]
  },
  {
   "cell_type": "code",
   "execution_count": 21,
   "metadata": {},
   "outputs": [
    {
     "name": "stdout",
     "output_type": "stream",
     "text": [
      "odd numbers are 1\n",
      "odd numbers are 3\n",
      "odd numbers are 5\n",
      "odd numbers are 7\n",
      "odd numbers are 9\n",
      "odd numbers are 11\n",
      "odd numbers are 13\n",
      "odd numbers are 15\n",
      "odd numbers are 17\n",
      "odd numbers are 19\n",
      "odd numbers are 21\n",
      "odd numbers are 23\n",
      "odd numbers are 25\n",
      "odd numbers are 27\n",
      "odd numbers are 29\n",
      "odd numbers are 31\n",
      "odd numbers are 33\n",
      "odd numbers are 35\n",
      "odd numbers are 37\n",
      "odd numbers are 39\n",
      "odd numbers are 41\n",
      "odd numbers are 43\n",
      "odd numbers are 45\n",
      "odd numbers are 47\n",
      "odd numbers are 49\n",
      "odd numbers are 51\n",
      "odd numbers are 53\n",
      "odd numbers are 55\n",
      "odd numbers are 57\n",
      "odd numbers are 59\n",
      "odd numbers are 61\n",
      "odd numbers are 63\n",
      "odd numbers are 65\n",
      "odd numbers are 67\n",
      "odd numbers are 69\n",
      "odd numbers are 71\n",
      "odd numbers are 73\n",
      "odd numbers are 75\n",
      "odd numbers are 77\n",
      "odd numbers are 79\n",
      "odd numbers are 81\n",
      "odd numbers are 83\n",
      "odd numbers are 85\n",
      "odd numbers are 87\n",
      "odd numbers are 89\n",
      "odd numbers are 91\n",
      "odd numbers are 93\n",
      "odd numbers are 95\n",
      "odd numbers are 97\n",
      "odd numbers are 99\n",
      "even numbers are 2\n",
      "even numbers are 4\n",
      "even numbers are 6\n",
      "even numbers are 8\n",
      "even numbers are 10\n",
      "even numbers are 12\n",
      "even numbers are 14\n",
      "even numbers are 16\n",
      "even numbers are 18\n",
      "even numbers are 20\n",
      "even numbers are 22\n",
      "even numbers are 24\n",
      "even numbers are 26\n",
      "even numbers are 28\n",
      "even numbers are 30\n",
      "even numbers are 32\n",
      "even numbers are 34\n",
      "even numbers are 36\n",
      "even numbers are 38\n",
      "even numbers are 40\n",
      "even numbers are 42\n",
      "even numbers are 44\n",
      "even numbers are 46\n",
      "even numbers are 48\n",
      "even numbers are 50\n",
      "even numbers are 52\n",
      "even numbers are 54\n",
      "even numbers are 56\n",
      "even numbers are 58\n",
      "even numbers are 60\n",
      "even numbers are 62\n",
      "even numbers are 64\n",
      "even numbers are 66\n",
      "even numbers are 68\n",
      "even numbers are 70\n",
      "even numbers are 72\n",
      "even numbers are 74\n",
      "even numbers are 76\n",
      "even numbers are 78\n",
      "even numbers are 80\n",
      "even numbers are 82\n",
      "even numbers are 84\n",
      "even numbers are 86\n",
      "even numbers are 88\n",
      "even numbers are 90\n",
      "even numbers are 92\n",
      "even numbers are 94\n",
      "even numbers are 96\n",
      "even numbers are 98\n",
      "even numbers are 100\n"
     ]
    }
   ],
   "source": [
    "for i in range(1,100,2):\n",
    "    print(\"odd numbers are\",i)\n",
    "for n in range(2,101,2):\n",
    "    print(\"even numbers are\",n)\n",
    "  "
   ]
  },
  {
   "cell_type": "code",
   "execution_count": 17,
   "metadata": {},
   "outputs": [
    {
     "name": "stdout",
     "output_type": "stream",
     "text": [
      "9\n"
     ]
    }
   ],
   "source": [
    "for x in range(10):\n",
    "    if x%2==0:\n",
    "        continue\n",
    "print (x)"
   ]
  },
  {
   "cell_type": "code",
   "execution_count": 34,
   "metadata": {},
   "outputs": [
    {
     "name": "stdout",
     "output_type": "stream",
     "text": [
      "enter the number7\n",
      "factorial is 5040\n"
     ]
    }
   ],
   "source": [
    "n=int(input(\"enter the number\"))\n",
    "fact=1\n",
    "if n<0:\n",
    "    print(\"factorial is not available\")\n",
    "elif n==1:\n",
    "    print(\"factorial is 1\")\n",
    "else:\n",
    "    for i in range(1,n+1):\n",
    "        fact=fact*i\n",
    "    print(\"factorial is\",fact)"
   ]
  },
  {
   "cell_type": "code",
   "execution_count": 33,
   "metadata": {},
   "outputs": [
    {
     "name": "stdout",
     "output_type": "stream",
     "text": [
      "1\n",
      "2\n",
      "3\n",
      "4\n",
      "5\n",
      "6\n"
     ]
    }
   ],
   "source": [
    "for i in range(1,7):\n",
    "    print(i)"
   ]
  },
  {
   "cell_type": "code",
   "execution_count": 53,
   "metadata": {},
   "outputs": [
    {
     "name": "stdout",
     "output_type": "stream",
     "text": [
      "enter the number56\n",
      "56 is not a prime number\n"
     ]
    }
   ],
   "source": [
    "\n",
    "n=int(input(\"enter the number\"))\n",
    "condition=False\n",
    "if n > 1:\n",
    "    for i in range(2, n):\n",
    "        if (n % i) == 0:\n",
    "            condition=True\n",
    "            break\n",
    "if condition:\n",
    "     print(n, \"is not a prime number\")\n",
    "else:\n",
    "     print(n, \"is a prime number\")"
   ]
  },
  {
   "cell_type": "code",
   "execution_count": 7,
   "metadata": {},
   "outputs": [
    {
     "name": "stdout",
     "output_type": "stream",
     "text": [
      "enter the number87\n"
     ]
    },
    {
     "ename": "NameError",
     "evalue": "name 'n' is not defined",
     "output_type": "error",
     "traceback": [
      "\u001b[1;31m---------------------------------------------------------------------------\u001b[0m",
      "\u001b[1;31mNameError\u001b[0m                                 Traceback (most recent call last)",
      "\u001b[1;32m<ipython-input-7-47f5f5de6211>\u001b[0m in \u001b[0;36m<module>\u001b[1;34m\u001b[0m\n\u001b[0;32m      5\u001b[0m \u001b[1;33m\u001b[0m\u001b[0m\n\u001b[0;32m      6\u001b[0m     \u001b[1;31m# Iterate from 2 to n / 2\u001b[0m\u001b[1;33m\u001b[0m\u001b[1;33m\u001b[0m\u001b[1;33m\u001b[0m\u001b[0m\n\u001b[1;32m----> 7\u001b[1;33m     \u001b[1;32mfor\u001b[0m \u001b[0mi\u001b[0m \u001b[1;32min\u001b[0m \u001b[0mrange\u001b[0m\u001b[1;33m(\u001b[0m\u001b[1;36m2\u001b[0m\u001b[1;33m,\u001b[0m\u001b[0mint\u001b[0m\u001b[1;33m(\u001b[0m\u001b[0mn\u001b[0m\u001b[1;33m/\u001b[0m\u001b[1;36m2\u001b[0m\u001b[1;33m+\u001b[0m\u001b[1;36m1\u001b[0m\u001b[1;33m)\u001b[0m\u001b[1;33m)\u001b[0m\u001b[1;33m:\u001b[0m\u001b[1;33m\u001b[0m\u001b[1;33m\u001b[0m\u001b[0m\n\u001b[0m\u001b[0;32m      8\u001b[0m \u001b[1;33m\u001b[0m\u001b[0m\n\u001b[0;32m      9\u001b[0m         \u001b[1;31m# If num is divisible by any number between\u001b[0m\u001b[1;33m\u001b[0m\u001b[1;33m\u001b[0m\u001b[1;33m\u001b[0m\u001b[0m\n",
      "\u001b[1;31mNameError\u001b[0m: name 'n' is not defined"
     ]
    }
   ],
   "source": [
    "num=int(input(\"enter the number\"))\n",
    " \n",
    "# If given number is greater than 1\n",
    "if num > 1:\n",
    " \n",
    "    # Iterate from 2 to n / 2\n",
    "    for i in range(2,int(n/2+1)):\n",
    " \n",
    "        # If num is divisible by any number between\n",
    "        # 2 and n / 2, it is not prime\n",
    "        if (num % i) == 0:\n",
    "            print(num, \"is not a prime number\")\n",
    "            break\n",
    "    else:\n",
    "        print(num, \"is a prime number\")\n",
    "else:\n",
    "      print(num, \"is not a prime number\")"
   ]
  },
  {
   "cell_type": "code",
   "execution_count": 10,
   "metadata": {},
   "outputs": [
    {
     "name": "stdout",
     "output_type": "stream",
     "text": [
      "enter the number9\n",
      "9 is not a prime number\n"
     ]
    }
   ],
   "source": [
    "num=int(input(\"enter the number\"))\n",
    " \n",
    "if num > 1:\n",
    " \n",
    "    for i in range(2,num):\n",
    " \n",
    "        if (num % i) == 0:\n",
    "            print(num, \"is not a prime number\")\n",
    "            break\n",
    "    else:\n",
    "        print(num, \"is a prime number\")\n",
    " \n",
    "else:\n",
    "    print(num, \"is not a prime number\")"
   ]
  },
  {
   "cell_type": "code",
   "execution_count": 86,
   "metadata": {},
   "outputs": [
    {
     "name": "stdout",
     "output_type": "stream",
     "text": [
      "Enter a number: 4325\n",
      "4325 is not an Armstrong number\n"
     ]
    }
   ],
   "source": [
    "num = int(input(\"Enter a number: \"))\n",
    "sum = 0\n",
    "temp = num\n",
    "while temp > 0:\n",
    "   digit = temp % 10\n",
    "   sum += digit ** 3\n",
    "   temp //= 10\n",
    "if num == sum:\n",
    "   print(num,\"is an Armstrong number\")\n",
    "else:\n",
    "   print(num,\"is not an Armstrong number\")"
   ]
  },
  {
   "cell_type": "code",
   "execution_count": 89,
   "metadata": {},
   "outputs": [
    {
     "name": "stdout",
     "output_type": "stream",
     "text": [
      "Enter Year: 2016\n",
      "2016 is a Leap Year\n"
     ]
    }
   ],
   "source": [
    "year = int(input(\"Enter Year: \"))\n",
    "if year % 4 == 0 and year % 100 != 0:\n",
    "    print(year, \"is a Leap Year\")\n",
    "elif year % 100 == 0:\n",
    "    print(year, \"is not a Leap Year\")\n",
    "elif year % 400 ==0:\n",
    "    print(year, \"is a Leap Year\")\n",
    "else:\n",
    "    print(year, \"is not a Leap Year\")"
   ]
  },
  {
   "cell_type": "code",
   "execution_count": 3,
   "metadata": {},
   "outputs": [
    {
     "name": "stdout",
     "output_type": "stream",
     "text": [
      "1 \n",
      "1 2 \n",
      "1 2 3 \n",
      "1 2 3 4 \n",
      "1 2 3 4 5 \n"
     ]
    }
   ],
   "source": [
    "rows = 6\n",
    "for i in range(1,6):\n",
    "    for j in range(1,i+1):\n",
    "        print(j, end=' ')\n",
    "    print('')"
   ]
  },
  {
   "cell_type": "code",
   "execution_count": 12,
   "metadata": {},
   "outputs": [
    {
     "name": "stdout",
     "output_type": "stream",
     "text": [
      "1\n"
     ]
    }
   ],
   "source": [
    "if 0 : \n",
    "    print(\"its 0\")\n",
    "else:\n",
    "    print(\"1\")"
   ]
  },
  {
   "cell_type": "code",
   "execution_count": 4,
   "metadata": {},
   "outputs": [
    {
     "name": "stdout",
     "output_type": "stream",
     "text": [
      "Enter a number: 10\n",
      "55\n"
     ]
    }
   ],
   "source": [
    "num = int(input(\"Enter a number: \"))\n",
    "a=0\n",
    "for i in range(1,num+1):\n",
    "    a=a+i\n",
    "print(a)\n"
   ]
  },
  {
   "cell_type": "code",
   "execution_count": null,
   "metadata": {},
   "outputs": [],
   "source": []
  }
 ],
 "metadata": {
  "kernelspec": {
   "display_name": "Python 3",
   "language": "python",
   "name": "python3"
  },
  "language_info": {
   "codemirror_mode": {
    "name": "ipython",
    "version": 3
   },
   "file_extension": ".py",
   "mimetype": "text/x-python",
   "name": "python",
   "nbconvert_exporter": "python",
   "pygments_lexer": "ipython3",
   "version": "3.8.5"
  }
 },
 "nbformat": 4,
 "nbformat_minor": 4
}
