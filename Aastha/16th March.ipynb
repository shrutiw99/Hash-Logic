{
 "cells": [
  {
   "cell_type": "code",
   "execution_count": 1,
   "metadata": {},
   "outputs": [
    {
     "name": "stdout",
     "output_type": "stream",
     "text": [
      "0 Mary\n",
      "1 had\n",
      "2 a\n",
      "3 little\n",
      "4 lamb\n"
     ]
    }
   ],
   "source": [
    "# RANGE FUNCTION\n",
    "a = ['Mary','had','a','little','lamb']\n",
    "for i in range(len(a)):\n",
    "    print(i,a[i])"
   ]
  },
  {
   "cell_type": "code",
   "execution_count": 13,
   "metadata": {},
   "outputs": [
    {
     "name": "stdout",
     "output_type": "stream",
     "text": [
      "Enter a number: 78945\n",
      "sum of the digits are 33\n"
     ]
    }
   ],
   "source": [
    "# SUM OF DIGITS OF A NUMBER\n",
    "a = input(\"Enter a number: \")\n",
    "a = int(a)\n",
    "sum = 0\n",
    "while(a > 0):\n",
    "    digit = a % 10\n",
    "    sum = sum + digit\n",
    "    a = a // 10\n",
    "print(\"sum of the digits are\",sum)"
   ]
  },
  {
   "cell_type": "code",
   "execution_count": 15,
   "metadata": {},
   "outputs": [
    {
     "name": "stdout",
     "output_type": "stream",
     "text": [
      "Enter a number: 13\n",
      "13\n",
      "26\n",
      "39\n",
      "52\n",
      "65\n",
      "78\n",
      "91\n",
      "104\n",
      "117\n",
      "130\n"
     ]
    }
   ],
   "source": [
    "# TABLE OF A NUMBER USING WHILE LOOP\n",
    "a= int(input(\"Enter a number: \"))\n",
    "count = 1\n",
    "while count > 0 and count <= 10:\n",
    "    x = a * count\n",
    "    print(x)\n",
    "    count = count + 1\n",
    "    "
   ]
  },
  {
   "cell_type": "code",
   "execution_count": 16,
   "metadata": {},
   "outputs": [
    {
     "name": "stdout",
     "output_type": "stream",
     "text": [
      "Enter a number: 13\n",
      "13\n",
      "26\n",
      "39\n",
      "52\n",
      "65\n",
      "78\n",
      "91\n",
      "104\n",
      "117\n",
      "130\n"
     ]
    }
   ],
   "source": [
    "# TABLE OF A NUMBER USING FOR LOOP\n",
    "a = int(input(\"Enter a number: \"))\n",
    "for i in range(1,11):\n",
    "    x = a * i\n",
    "    print(x)\n"
   ]
  },
  {
   "cell_type": "code",
   "execution_count": 17,
   "metadata": {},
   "outputs": [
    {
     "name": "stdout",
     "output_type": "stream",
     "text": [
      "1\n",
      "3\n",
      "5\n",
      "7\n",
      "9\n"
     ]
    }
   ],
   "source": [
    "# USE OF CONTINUE STATEMENT\n",
    "for x in range(10):\n",
    "    if x%2 == 0:\n",
    "        continue\n",
    "    print(x)    "
   ]
  },
  {
   "cell_type": "code",
   "execution_count": 18,
   "metadata": {},
   "outputs": [
    {
     "name": "stdout",
     "output_type": "stream",
     "text": [
      "0\n",
      "1\n",
      "2\n",
      "3\n",
      "4\n"
     ]
    }
   ],
   "source": [
    "# USE OF BREAK STATEMENT\n",
    "count = 0\n",
    "while True:\n",
    "    print(count)\n",
    "    count += 1\n",
    "    if count >= 5:\n",
    "        break"
   ]
  },
  {
   "cell_type": "code",
   "execution_count": 22,
   "metadata": {},
   "outputs": [
    {
     "name": "stdout",
     "output_type": "stream",
     "text": [
      "Enter the year: 2021\n",
      "2021 is not a leap year\n"
     ]
    }
   ],
   "source": [
    "# LEAP YEAR\n",
    "year = int(input(\"Enter the year: \"))\n",
    "if year % 4 == 0:\n",
    "    print(year,\"is a leap year\")\n",
    "else:\n",
    "    print(year,\"is not a leap year\")"
   ]
  },
  {
   "cell_type": "code",
   "execution_count": 2,
   "metadata": {},
   "outputs": [
    {
     "name": "stdout",
     "output_type": "stream",
     "text": [
      "Enter the number: 15\n",
      "15 is not a prime number\n"
     ]
    }
   ],
   "source": [
    "# PRIME NUMBER (1st METHOD)\n",
    "num = int(input(\"Enter the number: \"))\n",
    "if num == 1:\n",
    "    print(\"1 is a unique number\")\n",
    "elif num < 1:\n",
    "    print(\"Enter a positive number\")\n",
    "elif num == 2:\n",
    "    print(num,\"is a prime number\")\n",
    "else:\n",
    "    for i in range(2,num):\n",
    "        if num % i == 0:\n",
    "            print(num,\"is not a prime number\")\n",
    "            break\n",
    "    else:     \n",
    "        print(num,\"is a prime number\")\n",
    "        \n",
    " \n",
    "    "
   ]
  },
  {
   "cell_type": "code",
   "execution_count": 110,
   "metadata": {},
   "outputs": [
    {
     "name": "stdout",
     "output_type": "stream",
     "text": [
      "Enter a number: 8\n",
      "Factorial of 8 is 40320\n"
     ]
    }
   ],
   "source": [
    "# FACTORIAL of A NUMBER (1ST METHOD)\n",
    "num = int(input(\"Enter a number: \"))\n",
    "count = 1\n",
    "y = num\n",
    "while count < num:\n",
    "    pro = y * count\n",
    "    y = pro\n",
    "    count = count + 1\n",
    "print(\"Factorial of\",num,\"is\",y)    "
   ]
  }
 ],
 "metadata": {
  "kernelspec": {
   "display_name": "Python 3",
   "language": "python",
   "name": "python3"
  },
  "language_info": {
   "codemirror_mode": {
    "name": "ipython",
    "version": 3
   },
   "file_extension": ".py",
   "mimetype": "text/x-python",
   "name": "python",
   "nbconvert_exporter": "python",
   "pygments_lexer": "ipython3",
   "version": "3.8.5"
  }
 },
 "nbformat": 4,
 "nbformat_minor": 4
}
