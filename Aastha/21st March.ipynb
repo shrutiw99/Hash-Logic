{
 "cells": [
  {
   "cell_type": "code",
   "execution_count": 5,
   "metadata": {},
   "outputs": [
    {
     "name": "stdout",
     "output_type": "stream",
     "text": [
      "Enter your full name: William Bradley Pitt\n",
      "W. B. Pitt\n"
     ]
    }
   ],
   "source": [
    "# ENTER FULL NAME AND DISPLAY THE INITIALS OF FULL AND MIDDLE NAME EXCEPT LAST NAME\n",
    "name = input(\"Enter your full name: \")\n",
    "name = name.split()\n",
    "print(name[0][0] + \". \" + name[1][0] + \". \" + name[2])"
   ]
  },
  {
   "cell_type": "code",
   "execution_count": 6,
   "metadata": {},
   "outputs": [
    {
     "name": "stdout",
     "output_type": "stream",
     "text": [
      "True\n"
     ]
    }
   ],
   "source": [
    "# CHECK OCCURENCE OF LETTER \"E\" AND WORD \"IS\" IN THE SENTENCE \"THIS IS UMBRELLA\" (1ST METHOD) \n",
    "sentence = \"This is umbrella\"\n",
    "print(\"e\" and \"is\" in sentence)"
   ]
  },
  {
   "cell_type": "code",
   "execution_count": 11,
   "metadata": {},
   "outputs": [
    {
     "name": "stdout",
     "output_type": "stream",
     "text": [
      "It is present\n"
     ]
    }
   ],
   "source": [
    "# CHECK OCCURENCE OF LETTER \"E\" AND WORD \"IS\" IN THE SENTENCE \"THIS IS UMBRELLA\" (2ND METHOD) \n",
    "sentence = \"This is umbrella\"\n",
    "if \"e\" and \"is\" in sentence:\n",
    "    print(\"It is present\")\n",
    "else:\n",
    "    print(\"It is not present\")"
   ]
  },
  {
   "cell_type": "code",
   "execution_count": 15,
   "metadata": {},
   "outputs": [
    {
     "name": "stdout",
     "output_type": "stream",
     "text": [
      "Good\n",
      "Morning\".World\n"
     ]
    }
   ],
   "source": [
    "# PRINT STRING AFTER 1ST AND LAST OCCURENCE OF \",\"\n",
    "string = 'Hello,Good,Morning\".World' \n",
    "string = string.split(\",\")\n",
    "print(string[1])\n",
    "print(string[2])"
   ]
  },
  {
   "cell_type": "code",
   "execution_count": 30,
   "metadata": {},
   "outputs": [
    {
     "name": "stdout",
     "output_type": "stream",
     "text": [
      "This is lion in cage\n"
     ]
    }
   ],
   "source": [
    "# PROGRAM TO MAKE A NEW STRING AFTER DELETING \"THE\" WORD IN THE STRING\n",
    "string = \"This is the lion in the cage\"\n",
    "string = string.split()\n",
    "print(string[0],string[1],string[3],string[4],string[6])"
   ]
  },
  {
   "cell_type": "code",
   "execution_count": 38,
   "metadata": {},
   "outputs": [
    {
     "name": "stdout",
     "output_type": "stream",
     "text": [
      "Enter the string: ababa\n",
      "It is a palindrome\n"
     ]
    }
   ],
   "source": [
    "# TO CHECK THE GIVEN STRING IS PALINDROME OR NOT\n",
    "string = input(\"Enter the string: \")\n",
    "a = string[:]\n",
    "b = string[-1::-1]\n",
    "if a == b:\n",
    "    print(\"It is a palindrome\")\n",
    "else:\n",
    "    print(\"It is not a palindrome\")\n",
    "    "
   ]
  },
  {
   "cell_type": "code",
   "execution_count": 42,
   "metadata": {},
   "outputs": [
    {
     "name": "stdout",
     "output_type": "stream",
     "text": [
      "Enter the number: 12345\n",
      "Reversed number is 54321\n"
     ]
    }
   ],
   "source": [
    "# TO FIND REVERSE OF A NUMBER (WITHOUT MAKING IT INTEGER)\n",
    "number = input(\"Enter the number: \")\n",
    "num = number[-1::-1]\n",
    "print(\"Reversed number is \" + num)"
   ]
  },
  {
   "cell_type": "code",
   "execution_count": 54,
   "metadata": {},
   "outputs": [
    {
     "name": "stdout",
     "output_type": "stream",
     "text": [
      "Enter the number: 686026\n",
      "Reversed number is 620686\n"
     ]
    }
   ],
   "source": [
    "# TO FIND REVERSE OF A NUMBER (BY MAKING IT INT)\n",
    "number = int(input(\"Enter the number: \"))\n",
    "rev = 0\n",
    "while number > 0:\n",
    "    rem = number % 10\n",
    "    rev = rev * 10 + rem\n",
    "    number = number // 10\n",
    "print(\"Reversed number is\",rev)    "
   ]
  },
  {
   "cell_type": "code",
   "execution_count": 56,
   "metadata": {},
   "outputs": [
    {
     "name": "stdout",
     "output_type": "stream",
     "text": [
      "> ajay\n",
      "ajay\n",
      "> #\n",
      "> done\n",
      "Done!\n"
     ]
    }
   ],
   "source": [
    "while True:\n",
    "    line = input(\"> \")\n",
    "    if line[0] == \"#\":\n",
    "        continue\n",
    "    if line == \"done\":\n",
    "        break\n",
    "    print(line)\n",
    "print(\"Done!\")    \n",
    "    "
   ]
  },
  {
   "cell_type": "code",
   "execution_count": 62,
   "metadata": {},
   "outputs": [
    {
     "name": "stdout",
     "output_type": "stream",
     "text": [
      "Largest word is umbrella\n",
      "Smallest word is an\n"
     ]
    }
   ],
   "source": [
    "# FIND SMALLEST AND LARGEST WORD IN THE STRING\n",
    "string = \"This is an umbrella\"\n",
    "string = string.split()\n",
    "x = \"\"\n",
    "y = \"\" \n",
    "for i in string:\n",
    "    if len(i) >= len(x):\n",
    "        x = i\n",
    "    else:\n",
    "        y = i\n",
    "print(\"Largest word is\",x)\n",
    "print(\"Smallest word is\",y)"
   ]
  },
  {
   "cell_type": "code",
   "execution_count": 72,
   "metadata": {},
   "outputs": [
    {
     "name": "stdout",
     "output_type": "stream",
     "text": [
      "Largest number is 76\n",
      "Smallest number is 18\n"
     ]
    }
   ],
   "source": [
    "# TO FIND THE SMALLEST AND LARGEST NUMBER IN THE LIST\n",
    "list = [34,56,23,76,35,18,68]\n",
    "largest = None\n",
    "smallest = None\n",
    "for i in list:\n",
    "    if largest is None or i > largest:\n",
    "        largest = i\n",
    "    if smallest is None or i < smallest:\n",
    "        smallest = i\n",
    "print(\"Largest number is\",largest)\n",
    "print(\"Smallest number is\",smallest)"
   ]
  },
  {
   "cell_type": "code",
   "execution_count": 1,
   "metadata": {},
   "outputs": [
    {
     "name": "stdout",
     "output_type": "stream",
     "text": [
      "Jello World\n"
     ]
    }
   ],
   "source": [
    "greeting = \"Hello World\"\n",
    "new_greeting = \"J\" + greeting[1:]\n",
    "print(new_greeting)"
   ]
  },
  {
   "cell_type": "code",
   "execution_count": 5,
   "metadata": {},
   "outputs": [
    {
     "name": "stdout",
     "output_type": "stream",
     "text": [
      "Enter the string: Cristiano Ronaldo\n",
      "Enter the letter you want to count: i\n",
      "2\n"
     ]
    }
   ],
   "source": [
    "# COUNT NUMBER OF LETTER IN A STRING USING FUNCTION\n",
    "def count(string,letter):\n",
    "    count = 0\n",
    "    for i in string:\n",
    "        if i == letter:\n",
    "            count = count + 1\n",
    "    print(count)\n",
    "string = input(\"Enter the string: \")\n",
    "letter = input(\"Enter the letter you want to count: \")\n",
    "count(string,letter)\n",
    "        "
   ]
  },
  {
   "cell_type": "code",
   "execution_count": null,
   "metadata": {},
   "outputs": [],
   "source": []
  }
 ],
 "metadata": {
  "kernelspec": {
   "display_name": "Python 3",
   "language": "python",
   "name": "python3"
  },
  "language_info": {
   "codemirror_mode": {
    "name": "ipython",
    "version": 3
   },
   "file_extension": ".py",
   "mimetype": "text/x-python",
   "name": "python",
   "nbconvert_exporter": "python",
   "pygments_lexer": "ipython3",
   "version": "3.8.5"
  }
 },
 "nbformat": 4,
 "nbformat_minor": 4
}
