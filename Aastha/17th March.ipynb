{
 "cells": [
  {
   "cell_type": "code",
   "execution_count": 3,
   "metadata": {},
   "outputs": [
    {
     "name": "stdout",
     "output_type": "stream",
     "text": [
      "Enter a number: 7\n",
      "Factorial of 7 is 5040\n"
     ]
    }
   ],
   "source": [
    "# FACTORIAL OF A NUMBER (2nd METHOD)\n",
    "num = int(input(\"Enter a number: \"))\n",
    "fact = 1\n",
    "for i in range(1,num + 1):\n",
    "    fact = fact * i\n",
    "print(\"Factorial of\",num,\"is\",fact)    "
   ]
  },
  {
   "cell_type": "code",
   "execution_count": 11,
   "metadata": {},
   "outputs": [
    {
     "name": "stdout",
     "output_type": "stream",
     "text": [
      "Enter a number: 29\n",
      "29 is a prime number\n"
     ]
    }
   ],
   "source": [
    "# PRIME NUMBER (2nd METHOD)\n",
    "num = int(input(\"Enter a number: \"))\n",
    "if num < 0:\n",
    "    print(\"Enter a positive number\")\n",
    "elif num == 1:\n",
    "    print(\"1 is a unique number\")\n",
    "else:\n",
    "    flag = True\n",
    "    for i in range(2,num):\n",
    "        if num % i == 0:\n",
    "            flag = False\n",
    "            break\n",
    "    if flag:\n",
    "        print(num,\"is a prime number\")\n",
    "    else:\n",
    "        print(num,\"is not a prime number\")"
   ]
  },
  {
   "cell_type": "code",
   "execution_count": 14,
   "metadata": {},
   "outputs": [
    {
     "name": "stdout",
     "output_type": "stream",
     "text": [
      "Enter the number: 6\n",
      "sum is 21\n"
     ]
    }
   ],
   "source": [
    "# SUM FROM 1 TO UPTO THE GIVEN NUMBER\n",
    "num = int(input(\"Enter the number: \"))\n",
    "sum = 0\n",
    "for i in range(1,num + 1):\n",
    "    sum = sum + i\n",
    "print(\"sum is\",sum)    "
   ]
  },
  {
   "cell_type": "code",
   "execution_count": 21,
   "metadata": {},
   "outputs": [
    {
     "name": "stdout",
     "output_type": "stream",
     "text": [
      "1 \n",
      "1 2 \n",
      "1 2 3 \n",
      "1 2 3 4 \n",
      "1 2 3 4 5 \n"
     ]
    }
   ],
   "source": [
    "# PRINT THE NUMBER PATTERN\n",
    "for i in range(1,6):\n",
    "    for j in range(1,i + 1):\n",
    "        print(j,end=' ')\n",
    "    print(\"\")    "
   ]
  },
  {
   "cell_type": "code",
   "execution_count": 23,
   "metadata": {},
   "outputs": [
    {
     "name": "stdout",
     "output_type": "stream",
     "text": [
      "1\n",
      "2\n",
      "3\n",
      "4\n",
      "5\n",
      "6\n",
      "7\n",
      "8\n",
      "9\n",
      "10\n"
     ]
    }
   ],
   "source": [
    "# PRINT FIRST 10 NATURAL NUMBERS USING WHILE LOOP\n",
    "sum = 1\n",
    "while sum <= 10:\n",
    "    print(sum)\n",
    "    sum += 1"
   ]
  },
  {
   "cell_type": "code",
   "execution_count": 30,
   "metadata": {},
   "outputs": [
    {
     "name": "stdout",
     "output_type": "stream",
     "text": [
      "Enter a number: 5\n",
      "5\n",
      "10\n",
      "15\n",
      "20\n",
      "25\n",
      "30\n",
      "35\n",
      "40\n",
      "45\n",
      "50\n"
     ]
    }
   ],
   "source": [
    "# TABLE OF A NUMBER\n",
    "num = int(input(\"Enter a number: \"))\n",
    "pro = 1\n",
    "while pro <= 10:\n",
    "    ans = pro * num\n",
    "    print(ans)\n",
    "    pro += 1"
   ]
  },
  {
   "cell_type": "code",
   "execution_count": 39,
   "metadata": {},
   "outputs": [
    {
     "name": "stdout",
     "output_type": "stream",
     "text": [
      "15\n",
      "55\n",
      "75\n",
      "150\n"
     ]
    }
   ],
   "source": [
    "# FROM THE LIST,PRINT THOSE NUMBERS WHICH ARE DIVISBLE BY 5 AND LESS THAN OR EQUAL TO 150,IF NUMBER IS GREATER THAN 150,BREAK THE LOOP\n",
    "list = [12, 15, 32, 42, 55, 75, 122, 132, 150, 180, 200]\n",
    "for i in range(len(list)):\n",
    "    if list[i] % 5 == 0 and list[i] <= 150:\n",
    "        print(list[i])\n",
    "    elif list[i] > 150:\n",
    "        break\n",
    "        "
   ]
  },
  {
   "cell_type": "code",
   "execution_count": 44,
   "metadata": {},
   "outputs": [
    {
     "name": "stdout",
     "output_type": "stream",
     "text": [
      "Enter the number: 4538710\n",
      "Number of digits of 4538710 are 7\n"
     ]
    }
   ],
   "source": [
    "# COUNT THE NUMBER OF DIGITS OF A NUMBER\n",
    "num = int(input(\"Enter the number: \"))\n",
    "count = 0\n",
    "a = num\n",
    "while a > 0:\n",
    "    digit = num % 10\n",
    "    a = a // 10\n",
    "    count += 1\n",
    "print(\"Number of digits of\",num,\"are\",count)    \n",
    "    "
   ]
  },
  {
   "cell_type": "code",
   "execution_count": 47,
   "metadata": {},
   "outputs": [
    {
     "name": "stdout",
     "output_type": "stream",
     "text": [
      "5 4 3 2 1 \n",
      "4 3 2 1 \n",
      "3 2 1 \n",
      "2 1 \n",
      "1 \n"
     ]
    }
   ],
   "source": [
    "# PRINT THE REVERSE PATTERN\n",
    "for i in range(5,0,-1):\n",
    "    for j in range(i,0,-1):\n",
    "        print(j,end=\" \")\n",
    "    print(\"\")    "
   ]
  },
  {
   "cell_type": "code",
   "execution_count": 50,
   "metadata": {},
   "outputs": [
    {
     "name": "stdout",
     "output_type": "stream",
     "text": [
      "50\n",
      "40\n",
      "30\n",
      "20\n",
      "10\n"
     ]
    }
   ],
   "source": [
    "# PRINT THE ITEMS OF THE LIST IN REVERSE ORDER\n",
    "list = [10, 20, 30, 40, 50]\n",
    "for i in range(len(list)-1,-1,-1):\n",
    "    print(list[i])"
   ]
  },
  {
   "cell_type": "code",
   "execution_count": 53,
   "metadata": {},
   "outputs": [
    {
     "name": "stdout",
     "output_type": "stream",
     "text": [
      "-10\n",
      "-9\n",
      "-8\n",
      "-7\n",
      "-6\n",
      "-5\n",
      "-4\n",
      "-3\n",
      "-2\n",
      "-1\n"
     ]
    }
   ],
   "source": [
    "# DISPLAY NUMBERS FROM -10 TO -1 USING FOR LOOP\n",
    "for i in range(-10,0):\n",
    "    print(i)"
   ]
  },
  {
   "cell_type": "code",
   "execution_count": 54,
   "metadata": {},
   "outputs": [
    {
     "name": "stdout",
     "output_type": "stream",
     "text": [
      "0\n",
      "1\n",
      "2\n",
      "3\n",
      "4\n",
      "Done!\n"
     ]
    }
   ],
   "source": [
    "# DISPLAY MESSAGE 'DONE!' AFTER SUCCESSFUL EXECUTION OF FOOR LOOP\n",
    "for i in range(5):\n",
    "    print(i)\n",
    "print(\"Done!\")    "
   ]
  },
  {
   "cell_type": "code",
   "execution_count": null,
   "metadata": {},
   "outputs": [],
   "source": [
    "# DISPLAY PRIME NUMBERS BETWEEN 2 NUMBERS\n",
    "num1,num2 = input(\"Enter 2 numbers: \").split(\",\")\n",
    "num1 = int(num1)\n",
    "num2 = int(num2)\n",
    "if "
   ]
  },
  {
   "cell_type": "code",
   "execution_count": 65,
   "metadata": {},
   "outputs": [],
   "source": [
    "# DISPLAY FIBONACCI SERIES UPTO 10 TERMS\n",
    "count = 0\n",
    "for i in range(10):\n",
    "    count = count + i\n",
    "    "
   ]
  },
  {
   "cell_type": "code",
   "execution_count": 66,
   "metadata": {},
   "outputs": [
    {
     "name": "stdout",
     "output_type": "stream",
     "text": [
      "Enter your age: 25\n",
      "You can play this game\n"
     ]
    }
   ],
   "source": [
    "age = int(input(\"Enter your age: \"))\n",
    "if age < 14:\n",
    "    print(\"You can't play this game\")\n",
    "else:\n",
    "    print(\"You can play this game\")"
   ]
  },
  {
   "cell_type": "code",
   "execution_count": 69,
   "metadata": {},
   "outputs": [
    {
     "name": "stdout",
     "output_type": "stream",
     "text": [
      "Enter the number: 33\n",
      "Your guess is low\n"
     ]
    }
   ],
   "source": [
    "win_num = 34\n",
    "num = int(input(\"Enter the number: \"))\n",
    "if num == win_num:\n",
    "    print(\"You guessed it right\")\n",
    "elif num >= win_num:\n",
    "    print(\"Your guess is high\")\n",
    "else:\n",
    "    print(\"Your guess is low\")"
   ]
  },
  {
   "cell_type": "code",
   "execution_count": 72,
   "metadata": {},
   "outputs": [
    {
     "name": "stdout",
     "output_type": "stream",
     "text": [
      "Enter your name: Ronaldo\n",
      "Enter your age: 36\n",
      "Sorry Ronaldo you can't watch this movie\n"
     ]
    }
   ],
   "source": [
    "name = input(\"Enter your name: \")\n",
    "age = int(input(\"Enter your age: \"))\n",
    "if name[0] == \"a\" or name[0] == \"A\" and age > 10:\n",
    "    print(\"You can watch this movie\")\n",
    "else:\n",
    "    print(f\"Sorry {name} you can't watch this movie\")"
   ]
  },
  {
   "cell_type": "code",
   "execution_count": 77,
   "metadata": {},
   "outputs": [
    {
     "name": "stdout",
     "output_type": "stream",
     "text": [
      "Enter your age: 25\n",
      "Price of the ticket is Rs. 250\n"
     ]
    }
   ],
   "source": [
    "age = int(input(\"Enter your age: \"))\n",
    "if age > 0 and age <= 3:\n",
    "    print(\"Ticket is free\")\n",
    "elif age > 3 and age <= 10:\n",
    "    print(\"Price of the ticket is Rs. 150\")\n",
    "elif age > 10 and age <= 60:\n",
    "    print(\"Price of the ticket is Rs. 250\")\n",
    "elif age > 60:\n",
    "    print(\"Price of the ticket is Rs. 200\")"
   ]
  },
  {
   "cell_type": "code",
   "execution_count": 79,
   "metadata": {},
   "outputs": [
    {
     "name": "stdout",
     "output_type": "stream",
     "text": [
      "Enter the price: 1500\n",
      "Your payable amount is Rs. 1350.0\n"
     ]
    }
   ],
   "source": [
    "price = int(input(\"Enter the price: \"))\n",
    "if price < 1000:\n",
    "    amount = 95 * price / 100\n",
    "    print(\"Your payable amount is Rs.\",amount)\n",
    "else:\n",
    "    amount = 90 * price / 100\n",
    "    print(\"Your payable amount is Rs.\",amount)"
   ]
  },
  {
   "cell_type": "code",
   "execution_count": 84,
   "metadata": {},
   "outputs": [
    {
     "name": "stdout",
     "output_type": "stream",
     "text": [
      "Enter the number: 7\n",
      "7 is not divisible by 2 and 3\n"
     ]
    }
   ],
   "source": [
    "num = int(input(\"Enter the number: \"))\n",
    "if num % 2 == 0 and num % 3 == 0:\n",
    "    print(num,\"is divisible by both 2 and 3\")\n",
    "elif num % 2 == 0 and num % 3 != 0:\n",
    "    print(num,\"is divisible by 2 but not with 3\")\n",
    "elif num % 3 == 0 and num % 2 != 0:\n",
    "    print(num,\"is divisible by 3 but not with 2\")\n",
    "else:\n",
    "    print(num,\"is not divisible by 2 and 3\")"
   ]
  },
  {
   "cell_type": "code",
   "execution_count": 90,
   "metadata": {},
   "outputs": [
    {
     "name": "stdout",
     "output_type": "stream",
     "text": [
      "Enter the name: Bhatia\n",
      "I is present in Bhatia\n"
     ]
    }
   ],
   "source": [
    "name = input(\"Enter the name: \")\n",
    "if \"i\" in name or \"I\" in name:\n",
    "    print(f\"I is present in {name}\")\n",
    "else:\n",
    "    print(\"I is not present\")"
   ]
  },
  {
   "cell_type": "code",
   "execution_count": 92,
   "metadata": {},
   "outputs": [
    {
     "name": "stdout",
     "output_type": "stream",
     "text": [
      "Enter the name: \n",
      "Empty\n"
     ]
    }
   ],
   "source": [
    "name = input(\"Enter the name: \")\n",
    "if name:\n",
    "    print(\"Not empty\")\n",
    "else:\n",
    "    print(\"Empty\")"
   ]
  }
 ],
 "metadata": {
  "kernelspec": {
   "display_name": "Python 3",
   "language": "python",
   "name": "python3"
  },
  "language_info": {
   "codemirror_mode": {
    "name": "ipython",
    "version": 3
   },
   "file_extension": ".py",
   "mimetype": "text/x-python",
   "name": "python",
   "nbconvert_exporter": "python",
   "pygments_lexer": "ipython3",
   "version": "3.8.5"
  }
 },
 "nbformat": 4,
 "nbformat_minor": 4
}
