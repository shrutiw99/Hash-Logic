{
 "cells": [
  {
   "cell_type": "code",
   "execution_count": 1,
   "metadata": {},
   "outputs": [
    {
     "name": "stdout",
     "output_type": "stream",
     "text": [
      "Enter the 1st Number: 20\n",
      "Enter the 2nd Number: 20\n",
      "Enter the 3rd Number: 20\n",
      "All 3 numbers are equal\n"
     ]
    }
   ],
   "source": [
    "# COMPARISON OF THREE NUMBERS\n",
    "num1 = int(input(\"Enter the 1st Number: \"))\n",
    "num2 = int(input(\"Enter the 2nd Number: \"))\n",
    "num3 = int(input(\"Enter the 3rd Number: \"))\n",
    "if num1 == num2 == num3:\n",
    "    print(\"All 3 numbers are equal\")\n",
    "elif num1 > num2 :\n",
    "    if num1 == num3:\n",
    "        print(\"1st and 3rd number are greater\")\n",
    "    elif num1 > num3:\n",
    "        print(\"1st number is greatest\")\n",
    "    else:\n",
    "        print(\"3rd number is greatest\")\n",
    "elif num2 > num1:\n",
    "    if num2 == num3:\n",
    "        print(\"2nd and 3rd number are greater \")\n",
    "    elif num2 > num3:\n",
    "        print(\"2nd number is greatest\")\n",
    "    else:\n",
    "        print(\"3rd number is greatest\")\n",
    "elif num3 > num1:\n",
    "    if num3 == num2:\n",
    "        print(\"2nd and 3rd number is greatest\")\n",
    "    elif num3 > num2:\n",
    "        print(\"3rd number is greatest\")\n",
    "    else:\n",
    "        print(\"2nd number is greatest\")\n",
    "else:\n",
    "    print(\"1st and 2nd number are greater\")"
   ]
  },
  {
   "cell_type": "code",
   "execution_count": 47,
   "metadata": {},
   "outputs": [
    {
     "name": "stdout",
     "output_type": "stream",
     "text": [
      "Enter the character: Z\n",
      "It is a consonant\n"
     ]
    }
   ],
   "source": [
    "# TO CHECK THE ALPHABET IS VOWEL OR CONSONANT\n",
    "char = input(\"Enter the Alphabet: \")\n",
    "if char == \"a\" or char == \"e\" or char == \"i\" or char == \"o\" or char == \"u\" or char == \"A\" or char == \"E\" or char == \"I\" or char == \"O\" or char == \"U\" :\n",
    "    print(\"It is a vowel\")\n",
    "else :\n",
    "    print(\"It is a consonant\")"
   ]
  },
  {
   "cell_type": "code",
   "execution_count": 68,
   "metadata": {},
   "outputs": [
    {
     "name": "stdout",
     "output_type": "stream",
     "text": [
      "Enter the number: 25\n",
      "Guess is greater than number\n",
      "Enter the number again: 21\n",
      "Guess is greater than number\n",
      "Enter the number for the last time: 20\n",
      "You Win\n"
     ]
    }
   ],
   "source": [
    "# GUESSING GAME\n",
    "win = 20\n",
    "num = int(input(\"Enter the number: \"))\n",
    "\n",
    "if num > 20 :\n",
    "    print(\"Guess is greater than number\")\n",
    "    num = int(input(\"Enter the number again: \"))\n",
    "    if num > 20:\n",
    "        print(\"Guess is greater than number\")\n",
    "        num = int(input(\"Enter the number for the last time: \"))\n",
    "        if num > 20 or num < 20:\n",
    "            print(\"You Lose\")\n",
    "        else :\n",
    "            print(\"You Win\")\n",
    "    elif num < 20:\n",
    "        print(\"Guess is less than number\")\n",
    "        num = int(input(\"Enter the number for the last time: \"))\n",
    "        if num > 20 or num < 20:\n",
    "            print(\"You Lose\")\n",
    "        else :\n",
    "            print(\"You Win\")\n",
    "        \n",
    "elif num < 20:\n",
    "    print(\"Guess is smaller than number\")\n",
    "    num = int(input(\"Enter the number again: \"))\n",
    "    if num > 20:\n",
    "        print(\"Guess is greater than number\")\n",
    "        num = int(input(\"Enter the number for the last time: \"))\n",
    "        if num > 20 or num < 20:\n",
    "            print(\"You Lose\")\n",
    "        else :\n",
    "            print(\"You Win\")\n",
    "    elif num < 20:\n",
    "        print(\"Guess is less than number\")\n",
    "        num = int(input(\"Enter the number for the last time: \"))\n",
    "        if num > 20 or num < 20:\n",
    "            print(\"You Lose\")\n",
    "        else :\n",
    "            print(\"You Win\")\n",
    "else:\n",
    "    print(\"You Win\")"
   ]
  },
  {
   "cell_type": "code",
   "execution_count": 72,
   "metadata": {},
   "outputs": [
    {
     "name": "stdout",
     "output_type": "stream",
     "text": [
      "Enter the character: A\n",
      "The ASCII value of A is 65\n"
     ]
    }
   ],
   "source": [
    "# TO PRINT THE ASCII VALUE OF A CHARACTER\n",
    "char = input(\"Enter the character: \")\n",
    "c = ord(char)\n",
    "print(\"The ASCII value of \"+ char + \" is\",c)"
   ]
  },
  {
   "cell_type": "code",
   "execution_count": null,
   "metadata": {},
   "outputs": [],
   "source": []
  }
 ],
 "metadata": {
  "kernelspec": {
   "display_name": "Python 3",
   "language": "python",
   "name": "python3"
  },
  "language_info": {
   "codemirror_mode": {
    "name": "ipython",
    "version": 3
   },
   "file_extension": ".py",
   "mimetype": "text/x-python",
   "name": "python",
   "nbconvert_exporter": "python",
   "pygments_lexer": "ipython3",
   "version": "3.8.5"
  }
 },
 "nbformat": 4,
 "nbformat_minor": 4
}
